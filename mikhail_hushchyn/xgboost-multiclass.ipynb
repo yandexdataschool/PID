{
 "cells": [
  {
   "cell_type": "markdown",
   "metadata": {},
   "source": [
    "# About\n",
    "\n",
    "These is a base solution of PID."
   ]
  },
  {
   "cell_type": "code",
   "execution_count": 1,
   "metadata": {
    "collapsed": true
   },
   "outputs": [],
   "source": [
    "%matplotlib inline\n",
    "import random\n",
    "import pandas\n",
    "import numpy\n",
    "import cPickle as pickle\n",
    "import matplotlib.pyplot as plt\n",
    "\n",
    "import root_numpy\n",
    "from sklearn.metrics import roc_auc_score, roc_curve\n",
    "\n",
    "from rep.estimators import TMVAClassifier, XGBoostClassifier"
   ]
  },
  {
   "cell_type": "markdown",
   "metadata": {},
   "source": [
    "# Directories"
   ]
  },
  {
   "cell_type": "code",
   "execution_count": 8,
   "metadata": {
    "collapsed": true
   },
   "outputs": [],
   "source": [
    "track = 'Long'\n",
    "particle = 'Electron'\n",
    "\n",
    "data_path = \"../../../data/MC2015Sim09Dev03/TrainMixture/TrainPhysTks-EvalPhysTks-NoReweight/\\\n",
    "GhostAccFrac1.0/TMVA-Run2-NoTkLikCD/Long\"\n",
    "\n",
    "work_path = \"baseline/MC2015Sim09Dev03/TrainMixture/TrainPhysTks-EvalPhysTks-NoReweight/GhostAccFrac1.0/\" + \\\n",
    "\"multiclass/Long/XGBoost\"\n",
    "\n",
    "netconfig_path = \"../../../data/configs/networks/TMVA-Run2-NoTkLikCDVelodEdx/\" + \"GlobalPID_\" \\\n",
    "+ particle + \"_Long_ANN.txt\""
   ]
  },
  {
   "cell_type": "markdown",
   "metadata": {},
   "source": [
    "# Read data"
   ]
  },
  {
   "cell_type": "code",
   "execution_count": 9,
   "metadata": {
    "collapsed": false
   },
   "outputs": [],
   "source": [
    "particle_pdg_codes = {\"all\": 999999,\n",
    "                    \"Ghost\": 0,\n",
    "                    \"Electron\": 11,\n",
    "                    \"Muon\": 13,\n",
    "                    \"Pion\": 211,\n",
    "                    \"Kaon\": 321,\n",
    "                    \"Proton\": 2212}\n",
    "\n",
    "particles = [\"Ghost\", \"Electron\", \"Muon\", \"Pion\", \"Kaon\", \"Proton\"]\n",
    "labs = [0, 1, 2, 3, 4, 5]"
   ]
  },
  {
   "cell_type": "code",
   "execution_count": 10,
   "metadata": {
    "collapsed": false
   },
   "outputs": [],
   "source": [
    "data = pandas.read_csv(data_path + \"/data_train.csv\")"
   ]
  },
  {
   "cell_type": "markdown",
   "metadata": {},
   "source": [
    "# Features"
   ]
  },
  {
   "cell_type": "code",
   "execution_count": 11,
   "metadata": {
    "collapsed": true
   },
   "outputs": [],
   "source": [
    "def get_features(netconfig_path):\n",
    "    \n",
    "    netconfig = numpy.loadtxt(netconfig_path, dtype='S', delimiter='\\n', comments='!')\n",
    "    features = []\n",
    "    spectator_features = []\n",
    "\n",
    "    for var in netconfig[5:]:\n",
    "\n",
    "        if var.find('#') == -1:\n",
    "            features.append(var)\n",
    "        else:\n",
    "            spectator_features.append(var[1:])\n",
    "            \n",
    "    return features"
   ]
  },
  {
   "cell_type": "code",
   "execution_count": 12,
   "metadata": {
    "collapsed": false
   },
   "outputs": [],
   "source": [
    "features_all = []\n",
    "\n",
    "for one_particle in particles:\n",
    "    \n",
    "    netconfig_path = \"../../../data/configs/networks/TMVA-Run2-NoTkLikCDVelodEdx/\" + \"GlobalPID_\" \\\n",
    "    + one_particle + \"_Long_ANN.txt\"\n",
    "\n",
    "    features_all += get_features(netconfig_path)"
   ]
  },
  {
   "cell_type": "code",
   "execution_count": 13,
   "metadata": {
    "collapsed": false
   },
   "outputs": [
    {
     "data": {
      "text/plain": [
       "array(['BremPIDe', 'CaloPrsE', 'EcalPIDe', 'EcalPIDmu', 'HcalPIDe',\n",
       "       'HcalPIDmu', 'InAccBrem', 'InAccEcal', 'InAccHcal', 'InAccMuon',\n",
       "       'InAccPrs', 'MuonBkgLL', 'MuonIsLooseMuon', 'MuonIsMuon',\n",
       "       'MuonMuLL', 'MuonNShared', 'PrsPIDe', 'RichAboveKaThres',\n",
       "       'RichAboveMuThres', 'RichAbovePiThres', 'RichAbovePrThres',\n",
       "       'RichDLLbt', 'RichDLLe', 'RichDLLk', 'RichDLLmu', 'RichDLLp',\n",
       "       'RichUsedR1Gas', 'RichUsedR2Gas', 'TrackChi2PerDof',\n",
       "       'TrackFitMatchChi2', 'TrackFitTChi2', 'TrackFitTNDoF',\n",
       "       'TrackFitVeloChi2', 'TrackFitVeloNDoF', 'TrackGhostProbability',\n",
       "       'TrackNumDof', 'TrackP', 'TrackPt'], \n",
       "      dtype='|S21')"
      ]
     },
     "execution_count": 13,
     "metadata": {},
     "output_type": "execute_result"
    }
   ],
   "source": [
    "features = numpy.unique(features_all)\n",
    "features"
   ]
  },
  {
   "cell_type": "markdown",
   "metadata": {},
   "source": [
    "# Train XGBoost"
   ]
  },
  {
   "cell_type": "code",
   "execution_count": 28,
   "metadata": {
    "collapsed": false
   },
   "outputs": [
    {
     "data": {
      "text/plain": [
       "array([ 0.,  1.,  2.,  3.,  4.,  5.])"
      ]
     },
     "execution_count": 28,
     "metadata": {},
     "output_type": "execute_result"
    }
   ],
   "source": [
    "mc_p_type = numpy.abs(data.MCParticleType.values)\n",
    "labels = numpy.zeros(len(mc_p_type))\n",
    "\n",
    "for one_particle, one_lab in zip(particles, labs):\n",
    "    \n",
    "    pdg = particle_pdg_codes[one_particle]\n",
    "    labels += one_lab * (mc_p_type == pdg)\n",
    "    \n",
    "numpy.unique(labels)"
   ]
  },
  {
   "cell_type": "code",
   "execution_count": 29,
   "metadata": {
    "collapsed": false
   },
   "outputs": [
    {
     "data": {
      "text/plain": [
       "array([ 0.01549947,  0.07053886,  0.08679237,  0.14642896,  0.40215825,\n",
       "        2.13903743])"
      ]
     },
     "execution_count": 29,
     "metadata": {},
     "output_type": "execute_result"
    }
   ],
   "source": [
    "weights = numpy.zeros(len(labels))\n",
    "\n",
    "for one_lab in labs:\n",
    "    \n",
    "    weights += 0.01 * (labels == one_lab) * len(labels) / ((labels == one_lab).sum())\n",
    "    \n",
    "numpy.unique(weights)"
   ]
  },
  {
   "cell_type": "code",
   "execution_count": 30,
   "metadata": {
    "collapsed": true
   },
   "outputs": [],
   "source": [
    "from sklearn.cross_validation import train_test_split\n",
    "\n",
    "train_inds, test_inds, labels_train, labels_test, weights_train, weights_test = train_test_split(data.index, \n",
    "                                                                                                 labels, \n",
    "                                                                                                 weights, \n",
    "                                                                                                 test_size=0.25, \n",
    "                                                                                                 random_state=42)"
   ]
  },
  {
   "cell_type": "code",
   "execution_count": 31,
   "metadata": {
    "collapsed": false
   },
   "outputs": [
    {
     "name": "stdout",
     "output_type": "stream",
     "text": [
      "CPU times: user 15h 45min 42s, sys: 28.7 s, total: 15h 46min 11s\n",
      "Wall time: 4h 21min 43s\n"
     ]
    }
   ],
   "source": [
    "%%time\n",
    "clf = XGBoostClassifier(n_estimators=1000, \n",
    "                        colsample=0.7, \n",
    "                        eta=0.01, \n",
    "                        nthreads=4, \n",
    "                        subsample=0.5, \n",
    "                        max_depth=8,\n",
    "                        min_child_weight = 100,\n",
    "                        features=features)\n",
    "\n",
    "clf.fit(data.loc[train_inds], labels_train, sample_weight=weights_train)"
   ]
  },
  {
   "cell_type": "markdown",
   "metadata": {},
   "source": [
    "# Save the classifier"
   ]
  },
  {
   "cell_type": "code",
   "execution_count": 32,
   "metadata": {
    "collapsed": false
   },
   "outputs": [],
   "source": [
    "params = clf.get_params()\n",
    "params_str = \"\"\n",
    "for key, val in zip(params.keys(), params.values()):\n",
    "    if key != \"features\":\n",
    "        params_str += key + \"=\" + str(val) + \";\""
   ]
  },
  {
   "cell_type": "code",
   "execution_count": 33,
   "metadata": {
    "collapsed": false
   },
   "outputs": [
    {
     "data": {
      "text/plain": [
       "'baseline/MC2015Sim09Dev03/TrainMixture/TrainPhysTks-EvalPhysTks-NoReweight/GhostAccFrac1.0/multiclass/Long/XGBoost/verbose=0;missing=-999.0;scale_pos_weight=1.0;random_state=0;num_feature=None;base_score=0.5;n_estimators=1000;subsample=0.5;eta=0.01;min_child_weight=100;colsample=0.7;max_depth=8;gamma=None;nthreads=4;'"
      ]
     },
     "execution_count": 33,
     "metadata": {},
     "output_type": "execute_result"
    }
   ],
   "source": [
    "new_work_path = work_path + \"/\" + params_str\n",
    "new_work_path"
   ]
  },
  {
   "cell_type": "code",
   "execution_count": 34,
   "metadata": {
    "collapsed": true
   },
   "outputs": [],
   "source": [
    "# Save classifier\n",
    "import os\n",
    "if not os.path.exists(new_work_path):\n",
    "    os.makedirs(new_work_path)\n",
    "\n",
    "# clf_pickle = open(new_work_path + '/classifier.pkl', 'wb')\n",
    "# pickle.dump(clf, clf_pickle)\n",
    "# clf_pickle.close()"
   ]
  },
  {
   "cell_type": "code",
   "execution_count": 7,
   "metadata": {
    "collapsed": true
   },
   "outputs": [],
   "source": [
    "#new_work_path = \"baseline/MC2015Sim09Dev03/TrainMixture/TrainPhysTks-EvalPhysTks-NoReweight/GhostAccFrac1.0/multiclass/Long/XGBoost/verbose=0;missing=-999.0;scale_pos_weight=1.0;random_state=0;num_feature=None;base_score=0.5;n_estimators=1000;subsample=0.5;eta=0.01;min_child_weight=1.0;colsample=0.7;max_depth=8;gamma=None;nthreads=3;\""
   ]
  },
  {
   "cell_type": "code",
   "execution_count": 8,
   "metadata": {
    "collapsed": false
   },
   "outputs": [],
   "source": [
    "# Read classifier\n",
    "clf_pickle2 = open(new_work_path + '/classifier.pkl', 'rb')\n",
    "clf2 = pickle.load(clf_pickle2)\n",
    "clf_pickle2.close()"
   ]
  },
  {
   "cell_type": "markdown",
   "metadata": {},
   "source": [
    "# Test the classifier"
   ]
  },
  {
   "cell_type": "code",
   "execution_count": 35,
   "metadata": {
    "collapsed": false
   },
   "outputs": [],
   "source": [
    "probas = clf.predict_proba(data.loc[test_inds])"
   ]
  },
  {
   "cell_type": "code",
   "execution_count": 36,
   "metadata": {
    "collapsed": false
   },
   "outputs": [
    {
     "data": {
      "text/plain": [
       "array([[  2.62566842e-02,   4.47872007e-04,   2.60399329e-03,\n",
       "          9.67501879e-01,   1.68709003e-03,   1.50248350e-03],\n",
       "       [  1.12255448e-02,   1.26310950e-03,   3.27402051e-03,\n",
       "          5.59824519e-02,   5.03178120e-01,   4.25076783e-01],\n",
       "       [  1.55307893e-02,   2.91220873e-04,   1.88203680e-03,\n",
       "          9.80515599e-01,   1.00090436e-03,   7.79409951e-04],\n",
       "       [  6.60598427e-02,   8.00022364e-01,   2.03780960e-02,\n",
       "          7.42517039e-02,   2.40580644e-02,   1.52299656e-02],\n",
       "       [  3.98175120e-01,   2.89928704e-03,   5.89793809e-02,\n",
       "          5.29470563e-01,   5.28867496e-03,   5.18696615e-03]], dtype=float32)"
      ]
     },
     "execution_count": 36,
     "metadata": {},
     "output_type": "execute_result"
    }
   ],
   "source": [
    "probas[:5, :]"
   ]
  },
  {
   "cell_type": "code",
   "execution_count": 37,
   "metadata": {
    "collapsed": true
   },
   "outputs": [],
   "source": [
    "particles = [\"Ghost\", \"Electron\", \"Muon\", \"Pion\", \"Kaon\", \"Proton\"]\n",
    "colors = ['k', 'r', 'g', 'b', 'gold', 'm']\n",
    "\n",
    "def get_roc_curves(probas, labels, particles, colors, labs):\n",
    "\n",
    "    plt.figure(figsize=(10,7))\n",
    "\n",
    "    for num in range(0, len(particles)):\n",
    "        \n",
    "        one_particle = particles[num]\n",
    "        one_color = colors[num]\n",
    "        one_lab = labs[num]\n",
    "\n",
    "        one_labels = (labels == one_lab)*1\n",
    "        one_probas = probas[:, num]\n",
    "        roc_auc = roc_auc_score(one_labels, one_probas)\n",
    "        fpr, tpr, _ = roc_curve(one_labels, one_probas)\n",
    "        plt.plot(fpr, tpr, label=one_particle + ', %.2f' % roc_auc, color=one_color, linewidth=2)\n",
    "\n",
    "    plt.title(\"ROC AUC\", size=15)\n",
    "    plt.xlabel(\"FPR\", size=15)\n",
    "    plt.ylabel(\"TPR\", size=15)\n",
    "    plt.legend(loc='best',prop={'size':15})\n",
    "    plt.xticks(numpy.arange(0, 1.01, 0.1), size=15)\n",
    "    plt.yticks(numpy.arange(0, 1.01, 0.1), size=15)\n",
    "    plt.show()"
   ]
  },
  {
   "cell_type": "code",
   "execution_count": 38,
   "metadata": {
    "collapsed": false
   },
   "outputs": [
    {
     "data": {
      "image/png": "[encoded data removed]",
      "text/plain": [
       "<matplotlib.figure.Figure at 0x7f92a4414890>"
      ]
     },
     "metadata": {},
     "output_type": "display_data"
    }
   ],
   "source": [
    "get_roc_curves(probas, labels_test, particles, colors, labs)"
   ]
  },
  {
   "cell_type": "markdown",
   "metadata": {
    "collapsed": true
   },
   "source": [
    "# Evaluation"
   ]
  },
  {
   "cell_type": "code",
   "execution_count": 9,
   "metadata": {
    "collapsed": true
   },
   "outputs": [],
   "source": [
    "data_eval = pandas.read_csv(data_path + \"/data_eval.csv\")"
   ]
  },
  {
   "cell_type": "code",
   "execution_count": 10,
   "metadata": {
    "collapsed": false
   },
   "outputs": [
    {
     "data": {
      "text/plain": [
       "array([ 0.,  1.,  2.,  3.,  4.,  5.])"
      ]
     },
     "execution_count": 10,
     "metadata": {},
     "output_type": "execute_result"
    }
   ],
   "source": [
    "mc_p_type_eval = numpy.abs(data_eval.MCParticleType.values)\n",
    "labels_eval = numpy.zeros(len(mc_p_type_eval))\n",
    "\n",
    "for one_particle, one_lab in zip(particles, labs):\n",
    "    \n",
    "    pdg = particle_pdg_codes[one_particle]\n",
    "    labels_eval += one_lab * (mc_p_type_eval == pdg)\n",
    "    \n",
    "numpy.unique(labels_eval)"
   ]
  },
  {
   "cell_type": "code",
   "execution_count": 11,
   "metadata": {
    "collapsed": true
   },
   "outputs": [],
   "source": [
    "import os, sys\n",
    "sys.path.append('src')\n",
    "\n",
    "from get_figures import all_figures"
   ]
  },
  {
   "cell_type": "code",
   "execution_count": 12,
   "metadata": {
    "collapsed": true
   },
   "outputs": [],
   "source": [
    "proba_eval = clf2.predict_proba(data_eval)"
   ]
  },
  {
   "cell_type": "code",
   "execution_count": 15,
   "metadata": {
    "collapsed": true
   },
   "outputs": [],
   "source": [
    "#numpy.savetxt('xgboost_proba_eval.csv', proba_eval)"
   ]
  },
  {
   "cell_type": "code",
   "execution_count": 20,
   "metadata": {
    "collapsed": true
   },
   "outputs": [],
   "source": [
    "#proba_eval = numpy.loadtxt('xgboost_proba_eval.csv')"
   ]
  },
  {
   "cell_type": "code",
   "execution_count": 18,
   "metadata": {
    "collapsed": false
   },
   "outputs": [
    {
     "data": {
      "text/plain": [
       "array([[  5.92528377e-03,   7.38939270e-04,   2.78883167e-02,\n",
       "          8.46206099e-02,   1.73899308e-01,   7.06927538e-01],\n",
       "       [  6.75568264e-03,   6.61364931e-04,   2.43331473e-02,\n",
       "          2.67903134e-03,   7.43510723e-01,   2.22060055e-01],\n",
       "       [  8.95921979e-03,   6.22549735e-04,   3.21224965e-02,\n",
       "          9.51440692e-01,   4.69715241e-03,   2.15787929e-03],\n",
       "       [  8.55420679e-02,   4.13950579e-03,   1.51069671e-01,\n",
       "          7.19965935e-01,   2.71851737e-02,   1.20976679e-02],\n",
       "       [  3.72011936e-03,   3.64876061e-04,   2.27756221e-02,\n",
       "          9.72052276e-01,   7.01095734e-04,   3.86001513e-04]], dtype=float32)"
      ]
     },
     "execution_count": 18,
     "metadata": {},
     "output_type": "execute_result"
    }
   ],
   "source": [
    "proba_eval[:5, :]"
   ]
  },
  {
   "cell_type": "code",
   "execution_count": 19,
   "metadata": {
    "collapsed": false
   },
   "outputs": [],
   "source": [
    "for num in range(0, len(particles)):\n",
    "        \n",
    "    one_particle = particles[num]\n",
    "    one_lab = labs[num]\n",
    "\n",
    "    one_labels = (labels_eval == one_lab)*1\n",
    "    one_probas = numpy.concatenate((1.-proba_eval[:, num].reshape(-1,1), proba_eval[:, num].reshape(-1,1)),axis=1)\n",
    "    \n",
    "    params = {}\n",
    "    params['PARTICLE'] = one_particle\n",
    "    params['TRACK'] = 'Long'\n",
    "    \n",
    "    all_figures(params, data_eval, one_probas, one_labels, features, path= new_work_path + \"/\"+ one_particle +\"/pic\")"
   ]
  },
  {
   "cell_type": "code",
   "execution_count": null,
   "metadata": {
    "collapsed": true
   },
   "outputs": [],
   "source": []
  }
 ],
 "metadata": {
  "kernelspec": {
   "display_name": "Python 2",
   "language": "python",
   "name": "python2"
  },
  "language_info": {
   "codemirror_mode": {
    "name": "ipython",
    "version": 2
   },
   "file_extension": ".py",
   "mimetype": "text/x-python",
   "name": "python",
   "nbconvert_exporter": "python",
   "pygments_lexer": "ipython2",
   "version": "2.7.10"
  }
 },
 "nbformat": 4,
 "nbformat_minor": 0
}
