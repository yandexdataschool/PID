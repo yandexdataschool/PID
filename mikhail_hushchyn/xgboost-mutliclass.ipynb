{
 "cells": [
  {
   "cell_type": "markdown",
   "metadata": {},
   "source": [
    "# About\n",
    "\n",
    "These is a base solution of PID."
   ]
  },
  {
   "cell_type": "code",
   "execution_count": 1,
   "metadata": {
    "collapsed": true
   },
   "outputs": [],
   "source": [
    "%matplotlib inline\n",
    "import random\n",
    "import pandas\n",
    "import numpy\n",
    "import cPickle as pickle\n",
    "import matplotlib.pyplot as plt\n",
    "\n",
    "import root_numpy\n",
    "from sklearn.metrics import roc_auc_score, roc_curve\n",
    "\n",
    "from rep.estimators import TMVAClassifier, XGBoostClassifier"
   ]
  },
  {
   "cell_type": "markdown",
   "metadata": {},
   "source": [
    "# Directories"
   ]
  },
  {
   "cell_type": "code",
   "execution_count": 24,
   "metadata": {
    "collapsed": true
   },
   "outputs": [],
   "source": [
    "track = 'Long'\n",
    "particle = 'Electron'\n",
    "\n",
    "data_path = \"/notebooks/data/MC2015Sim09Dev03/TrainMixture/TrainPhysTks-EvalPhysTks-NoReweight/\\\n",
    "GhostAccFrac1.0/TMVA-Run2-NoTkLikCD/Long\"\n",
    "\n",
    "work_path = \"/notebooks/mikhail91/PID/mikhail_hushchyn/baseline/MC2015Sim09Dev03/TrainMixture/TrainPhysTks-EvalPhysTks-NoReweight/GhostAccFrac1.0/\" + \\\n",
    "\"multiclass/Long/XGBoost\"\n",
    "\n",
    "netconfig_path = \"/notebooks/data/configs/networks/TMVA-Run2-NoTkLikCDVelodEdx/\" + \"GlobalPID_\" \\\n",
    "+ particle + \"_Long_ANN.txt\""
   ]
  },
  {
   "cell_type": "markdown",
   "metadata": {},
   "source": [
    "# Read data"
   ]
  },
  {
   "cell_type": "code",
   "execution_count": 3,
   "metadata": {
    "collapsed": false
   },
   "outputs": [],
   "source": [
    "particle_pdg_codes = {\"all\": 999999,\n",
    "                    \"Ghost\": 0,\n",
    "                    \"Electron\": 11,\n",
    "                    \"Muon\": 13,\n",
    "                    \"Pion\": 211,\n",
    "                    \"Kaon\": 321,\n",
    "                    \"Proton\": 2212}\n",
    "\n",
    "particles = [\"Ghost\", \"Electron\", \"Muon\", \"Pion\", \"Kaon\", \"Proton\"]\n",
    "labs = [0, 1, 2, 3, 4, 5]"
   ]
  },
  {
   "cell_type": "code",
   "execution_count": 4,
   "metadata": {
    "collapsed": false
   },
   "outputs": [],
   "source": [
    "data = pandas.read_csv(data_path + \"/data_train.csv\")"
   ]
  },
  {
   "cell_type": "markdown",
   "metadata": {},
   "source": [
    "# Features"
   ]
  },
  {
   "cell_type": "code",
   "execution_count": 5,
   "metadata": {
    "collapsed": true
   },
   "outputs": [],
   "source": [
    "def get_features(netconfig_path):\n",
    "    \n",
    "    netconfig = numpy.loadtxt(netconfig_path, dtype='S', delimiter='\\n', comments='!')\n",
    "    features = []\n",
    "    spectator_features = []\n",
    "\n",
    "    for var in netconfig[5:]:\n",
    "\n",
    "        if var.find('#') == -1:\n",
    "            features.append(var)\n",
    "        else:\n",
    "            spectator_features.append(var[1:])\n",
    "            \n",
    "    return features"
   ]
  },
  {
   "cell_type": "code",
   "execution_count": 6,
   "metadata": {
    "collapsed": true
   },
   "outputs": [],
   "source": [
    "features_all = []\n",
    "\n",
    "for one_particle in particles:\n",
    "    \n",
    "    netconfig_path = \"/notebooks/data/configs/networks/TMVA-Run2-NoTkLikCDVelodEdx/\" + \"GlobalPID_\" \\\n",
    "    + one_particle + \"_Long_ANN.txt\"\n",
    "\n",
    "    features_all += get_features(netconfig_path)"
   ]
  },
  {
   "cell_type": "code",
   "execution_count": 7,
   "metadata": {
    "collapsed": false
   },
   "outputs": [
    {
     "data": {
      "text/plain": [
       "array(['BremPIDe', 'CaloPrsE', 'EcalPIDe', 'EcalPIDmu', 'HcalPIDe',\n",
       "       'HcalPIDmu', 'InAccBrem', 'InAccEcal', 'InAccHcal', 'InAccMuon',\n",
       "       'InAccPrs', 'MuonBkgLL', 'MuonIsLooseMuon', 'MuonIsMuon',\n",
       "       'MuonMuLL', 'MuonNShared', 'PrsPIDe', 'RichAboveKaThres',\n",
       "       'RichAboveMuThres', 'RichAbovePiThres', 'RichAbovePrThres',\n",
       "       'RichDLLbt', 'RichDLLe', 'RichDLLk', 'RichDLLmu', 'RichDLLp',\n",
       "       'RichUsedR1Gas', 'RichUsedR2Gas', 'TrackChi2PerDof',\n",
       "       'TrackFitMatchChi2', 'TrackFitTChi2', 'TrackFitTNDoF',\n",
       "       'TrackFitVeloChi2', 'TrackFitVeloNDoF', 'TrackGhostProbability',\n",
       "       'TrackNumDof', 'TrackP', 'TrackPt'], \n",
       "      dtype='|S21')"
      ]
     },
     "execution_count": 7,
     "metadata": {},
     "output_type": "execute_result"
    }
   ],
   "source": [
    "features = numpy.unique(features_all)\n",
    "features"
   ]
  },
  {
   "cell_type": "markdown",
   "metadata": {},
   "source": [
    "# Train XGBoost"
   ]
  },
  {
   "cell_type": "code",
   "execution_count": 8,
   "metadata": {
    "collapsed": false
   },
   "outputs": [
    {
     "data": {
      "text/plain": [
       "array([ 0.,  1.,  2.,  3.,  4.,  5.])"
      ]
     },
     "execution_count": 8,
     "metadata": {},
     "output_type": "execute_result"
    }
   ],
   "source": [
    "mc_p_type = numpy.abs(data.MCParticleType.values)\n",
    "labels = numpy.zeros(len(mc_p_type))\n",
    "\n",
    "for one_particle, one_lab in zip(particles, labs):\n",
    "    \n",
    "    pdg = particle_pdg_codes[one_particle]\n",
    "    labels += one_lab * (mc_p_type == pdg)\n",
    "    \n",
    "numpy.unique(labels)"
   ]
  },
  {
   "cell_type": "code",
   "execution_count": 9,
   "metadata": {
    "collapsed": true
   },
   "outputs": [],
   "source": [
    "from sklearn.cross_validation import train_test_split\n",
    "\n",
    "train_inds, test_inds, labels_train, labels_test = train_test_split(data.index, labels, test_size=0.25, random_state=42)"
   ]
  },
  {
   "cell_type": "code",
   "execution_count": null,
   "metadata": {
    "collapsed": false
   },
   "outputs": [],
   "source": [
    "%%time\n",
    "clf = XGBoostClassifier(n_estimators=1000, \n",
    "                        colsample=0.7, \n",
    "                        eta=0.01, \n",
    "                        nthreads=3, \n",
    "                        subsample=0.5, \n",
    "                        max_depth=8, \n",
    "                        features=features)\n",
    "\n",
    "clf.fit(data.loc[train_inds], labels_train)"
   ]
  },
  {
   "cell_type": "markdown",
   "metadata": {},
   "source": [
    "# Save the classifier"
   ]
  },
  {
   "cell_type": "code",
   "execution_count": 12,
   "metadata": {
    "collapsed": false
   },
   "outputs": [],
   "source": [
    "params = clf.get_params()\n",
    "params_str = \"\"\n",
    "for key, val in zip(params.keys(), params.values()):\n",
    "    if key != \"features\":\n",
    "        params_str += key + \"=\" + str(val) + \";\""
   ]
  },
  {
   "cell_type": "code",
   "execution_count": 25,
   "metadata": {
    "collapsed": false
   },
   "outputs": [
    {
     "data": {
      "text/plain": [
       "'/notebooks/mikhail91/PID/mikhail_hushchyn/baseline/MC2015Sim09Dev03/TrainMixture/TrainPhysTks-EvalPhysTks-NoReweight/GhostAccFrac1.0/multiclass/Long/XGBoost/verbose=0;missing=-999.0;scale_pos_weight=1.0;random_state=0;num_feature=None;base_score=0.5;n_estimators=1000;subsample=0.5;eta=0.01;min_child_weight=1.0;colsample=0.7;max_depth=8;gamma=None;nthreads=3;'"
      ]
     },
     "execution_count": 25,
     "metadata": {},
     "output_type": "execute_result"
    }
   ],
   "source": [
    "new_work_path = work_path + \"/\" + params_str\n",
    "new_work_path"
   ]
  },
  {
   "cell_type": "code",
   "execution_count": 26,
   "metadata": {
    "collapsed": true
   },
   "outputs": [],
   "source": [
    "# Save classifier\n",
    "import os\n",
    "if not os.path.exists(new_work_path):\n",
    "    os.makedirs(new_work_path)\n",
    "\n",
    "# clf_pickle = open(new_work_path + '/classifier.pkl', 'wb')\n",
    "# pickle.dump(clf, clf_pickle)\n",
    "# clf_pickle.close()"
   ]
  },
  {
   "cell_type": "code",
   "execution_count": 27,
   "metadata": {
    "collapsed": true
   },
   "outputs": [],
   "source": [
    "# Read classifier\n",
    "clf_pickle2 = open(new_work_path + '/classifier.pkl', 'rb')\n",
    "clf2 = pickle.load(clf_pickle2)\n",
    "clf_pickle2.close()"
   ]
  },
  {
   "cell_type": "markdown",
   "metadata": {},
   "source": [
    "# Test the classifier"
   ]
  },
  {
   "cell_type": "code",
   "execution_count": 15,
   "metadata": {
    "collapsed": false
   },
   "outputs": [],
   "source": [
    "probas = clf.predict_proba(data.loc[test_inds])"
   ]
  },
  {
   "cell_type": "code",
   "execution_count": 36,
   "metadata": {
    "collapsed": false
   },
   "outputs": [
    {
     "data": {
      "text/plain": [
       "array([[  6.19318662e-03,   1.60048177e-04,   3.44873726e-04,\n",
       "          9.92691457e-01,   3.74219642e-04,   2.36278851e-04],\n",
       "       [  1.32561633e-02,   9.47231718e-04,   1.57549873e-03,\n",
       "          2.68549293e-01,   4.79173183e-01,   2.36498609e-01],\n",
       "       [  3.76844476e-03,   1.27728839e-04,   2.22746894e-04,\n",
       "          9.95522022e-01,   2.03908334e-04,   1.55136528e-04],\n",
       "       [  1.12106368e-01,   6.31025881e-02,   8.73949286e-03,\n",
       "          7.73357451e-01,   2.93278433e-02,   1.33662922e-02],\n",
       "       [  2.11505860e-01,   9.60966863e-04,   6.67705107e-03,\n",
       "          7.75573850e-01,   3.03174858e-03,   2.25054449e-03]], dtype=float32)"
      ]
     },
     "execution_count": 36,
     "metadata": {},
     "output_type": "execute_result"
    }
   ],
   "source": [
    "probas[:5, :]"
   ]
  },
  {
   "cell_type": "code",
   "execution_count": 31,
   "metadata": {
    "collapsed": true
   },
   "outputs": [],
   "source": [
    "particles = [\"Ghost\", \"Electron\", \"Muon\", \"Pion\", \"Kaon\", \"Proton\"]\n",
    "colors = ['k', 'r', 'g', 'b', 'gold', 'm']\n",
    "\n",
    "def get_roc_curves(probas, labels, particles, colors, labs):\n",
    "\n",
    "    plt.figure(figsize=(10,7))\n",
    "\n",
    "    for num in range(0, len(particles)):\n",
    "        \n",
    "        one_particle = particles[num]\n",
    "        one_color = colors[num]\n",
    "        one_lab = labs[num]\n",
    "\n",
    "        one_labels = (labels == one_lab)*1\n",
    "        one_probas = probas[:, num]\n",
    "        roc_auc = roc_auc_score(one_labels, one_probas)\n",
    "        fpr, tpr, _ = roc_curve(one_labels, one_probas)\n",
    "        plt.plot(fpr, tpr, label=one_particle + ', %.2f' % roc_auc, color=one_color, linewidth=2)\n",
    "\n",
    "    plt.title(\"ROC AUC\", size=15)\n",
    "    plt.xlabel(\"FPR\", size=15)\n",
    "    plt.ylabel(\"TPR\", size=15)\n",
    "    plt.legend(loc='best',prop={'size':15})\n",
    "    plt.xticks(numpy.arange(0, 1.01, 0.1), size=15)\n",
    "    plt.yticks(numpy.arange(0, 1.01, 0.1), size=15)\n",
    "    plt.show()"
   ]
  },
  {
   "cell_type": "code",
   "execution_count": 38,
   "metadata": {
    "collapsed": false
   },
   "outputs": [
    {
     "data": {
      "image/png": "[encoded data removed]",
      "text/plain": [
       "<matplotlib.figure.Figure at 0x7fd7944ad8d0>"
      ]
     },
     "metadata": {},
     "output_type": "display_data"
    }
   ],
   "source": [
    "get_roc_curves(probas, labels_test, particles, colors, labs)"
   ]
  },
  {
   "cell_type": "code",
   "execution_count": null,
   "metadata": {
    "collapsed": true
   },
   "outputs": [],
   "source": []
  }
 ],
 "metadata": {
  "kernelspec": {
   "display_name": "Python 2",
   "language": "python",
   "name": "python2"
  },
  "language_info": {
   "codemirror_mode": {
    "name": "ipython",
    "version": 2
   },
   "file_extension": ".py",
   "mimetype": "text/x-python",
   "name": "python",
   "nbconvert_exporter": "python",
   "pygments_lexer": "ipython2",
   "version": "2.7.10"
  }
 },
 "nbformat": 4,
 "nbformat_minor": 0
}
