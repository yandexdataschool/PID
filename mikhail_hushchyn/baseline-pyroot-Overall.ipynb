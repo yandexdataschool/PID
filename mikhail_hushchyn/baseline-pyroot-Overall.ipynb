{
 "cells": [
  {
   "cell_type": "markdown",
   "metadata": {},
   "source": [
    "# About\n",
    "\n",
    "These is a base solution of PID."
   ]
  },
  {
   "cell_type": "code",
   "execution_count": 1,
   "metadata": {
    "collapsed": true
   },
   "outputs": [],
   "source": [
    "%matplotlib inline\n",
    "import random\n",
    "import pandas\n",
    "import numpy\n",
    "import cPickle as pickle\n",
    "import matplotlib.pyplot as plt\n",
    "\n",
    "import root_numpy\n",
    "from sklearn.metrics import roc_auc_score, roc_curve\n",
    "\n",
    "from rep.estimators import TMVAClassifier"
   ]
  },
  {
   "cell_type": "markdown",
   "metadata": {},
   "source": [
    "# Directories"
   ]
  },
  {
   "cell_type": "code",
   "execution_count": 2,
   "metadata": {
    "collapsed": true
   },
   "outputs": [],
   "source": [
    "track = 'Long'\n",
    "\n",
    "data_path = \"data/MC2015Sim09Dev03/TrainMixture/TrainPhysTks-EvalPhysTks-NoReweight/\\\n",
    "GhostAccFrac1.0/TMVA-Run2-NoTkLikCD/\" + track\n",
    "\n",
    "particle = 'Electron'\n",
    "work_path_electron = \"baseline/MC2015Sim09Dev03/TrainMixture/TrainPhysTks-EvalPhysTks-NoReweight/GhostAccFrac1.0/\" + \\\n",
    "particle + \"/\" + track + \"/PyROOT_TMVA/kMLP\"\n",
    "netconfig_path_electron = \"data/configs/networks/TMVA-Run2-NoTkLikCDVelodEdx/\" + \"GlobalPID_\" \\\n",
    "+ particle + \"_\" + track + \"_ANN.txt\"\n",
    "\n",
    "particle = 'Proton'\n",
    "work_path_proton = \"baseline/MC2015Sim09Dev03/TrainMixture/TrainPhysTks-EvalPhysTks-NoReweight/GhostAccFrac1.0/\" + \\\n",
    "particle + \"/\" + track + \"/PyROOT_TMVA/kMLP\"\n",
    "netconfig_path_proton = \"data/configs/networks/TMVA-Run2-NoTkLikCDVelodEdx/\" + \"GlobalPID_\" \\\n",
    "+ particle + \"_\" + track + \"_ANN.txt\"\n",
    "\n",
    "particle = 'Pion'\n",
    "work_path_pion = \"baseline/MC2015Sim09Dev03/TrainMixture/TrainPhysTks-EvalPhysTks-NoReweight/GhostAccFrac1.0/\" + \\\n",
    "particle + \"/\" + track + \"/PyROOT_TMVA/kMLP\"\n",
    "netconfig_path_pion = \"data/configs/networks/TMVA-Run2-NoTkLikCDVelodEdx/\" + \"GlobalPID_\" \\\n",
    "+ particle + \"_\" + track + \"_ANN.txt\"\n",
    "\n",
    "particle = 'Muon'\n",
    "work_path_muon = \"baseline/MC2015Sim09Dev03/TrainMixture/TrainPhysTks-EvalPhysTks-NoReweight/GhostAccFrac1.0/\" + \\\n",
    "particle + \"/\" + track + \"/PyROOT_TMVA/kMLP\"\n",
    "netconfig_path_muon = \"data/configs/networks/TMVA-Run2-NoTkLikCDVelodEdx/\" + \"GlobalPID_\" \\\n",
    "+ particle + \"_\" + track + \"_ANN.txt\"\n",
    "\n",
    "particle = 'Kaon'\n",
    "work_path_kaon = \"baseline/MC2015Sim09Dev03/TrainMixture/TrainPhysTks-EvalPhysTks-NoReweight/GhostAccFrac1.0/\" + \\\n",
    "particle + \"/\" + track + \"/PyROOT_TMVA/kMLP\"\n",
    "netconfig_path_kaon = \"data/configs/networks/TMVA-Run2-NoTkLikCDVelodEdx/\" + \"GlobalPID_\" \\\n",
    "+ particle + \"_\" + track + \"_ANN.txt\"\n",
    "\n",
    "particle = 'Ghost'\n",
    "work_path_ghost = \"baseline/MC2015Sim09Dev03/TrainMixture/TrainPhysTks-EvalPhysTks-NoReweight/GhostAccFrac1.0/\" + \\\n",
    "particle + \"/\" + track + \"/PyROOT_TMVA/kMLP\"\n",
    "netconfig_path_ghost = \"data/configs/networks/TMVA-Run2-NoTkLikCDVelodEdx/\" + \"GlobalPID_\" \\\n",
    "+ particle + \"_\" + track + \"_ANN.txt\""
   ]
  },
  {
   "cell_type": "markdown",
   "metadata": {},
   "source": [
    "# Features"
   ]
  },
  {
   "cell_type": "code",
   "execution_count": 7,
   "metadata": {
    "collapsed": false
   },
   "outputs": [],
   "source": [
    "def features(netconfig_path):\n",
    "    netconfig = numpy.loadtxt(netconfig_path, dtype='S', delimiter='\\n', comments='!')\n",
    "    features = []\n",
    "    spectator_features = []\n",
    "\n",
    "    for var in netconfig[5:]:\n",
    "\n",
    "        if var.find('#') == -1:\n",
    "            features.append(var)\n",
    "        else:\n",
    "            spectator_features.append(var[1:])\n",
    "            \n",
    "    return features"
   ]
  },
  {
   "cell_type": "code",
   "execution_count": 8,
   "metadata": {
    "collapsed": true
   },
   "outputs": [],
   "source": [
    "features_electron = features(netconfig_path_electron)\n",
    "\n",
    "features_proton = features(netconfig_path_proton)\n",
    "\n",
    "features_pion = features(netconfig_path_pion)\n",
    "\n",
    "features_kaon = features(netconfig_path_kaon)\n",
    "\n",
    "features_muon = features(netconfig_path_muon)\n",
    "\n",
    "features_ghost = features(netconfig_path_ghost)"
   ]
  },
  {
   "cell_type": "markdown",
   "metadata": {},
   "source": [
    "# Classifiers"
   ]
  },
  {
   "cell_type": "code",
   "execution_count": 11,
   "metadata": {
    "collapsed": false
   },
   "outputs": [],
   "source": [
    "import ROOT\n",
    "import array\n",
    "\n",
    "def reader(work_path, features):\n",
    "    \n",
    "    reader = ROOT.TMVA.Reader()\n",
    "    L = []\n",
    "\n",
    "    for i in range(0, len(features)):\n",
    "        var = array.array('f',[0])\n",
    "        reader.AddVariable(features[i],var)\n",
    "        L.append(var)\n",
    "\n",
    "\n",
    "    reader.BookMVA(\"MLP\",work_path + \"/weights/TMVAClassification_MLP.weights.xml\")\n",
    "    \n",
    "    return reader, L"
   ]
  },
  {
   "cell_type": "code",
   "execution_count": 12,
   "metadata": {
    "collapsed": false
   },
   "outputs": [],
   "source": [
    "# Read classifier\n",
    "reader_electron, L_electron = reader(work_path_electron, features_electron)\n",
    "\n",
    "reader_proton, L_proton = reader(work_path_proton, features_proton)\n",
    "\n",
    "reader_pion, L_pion = reader(work_path_pion, features_pion)\n",
    "\n",
    "reader_kaon, L_kaon = reader(work_path_kaon, features_kaon)\n",
    "\n",
    "reader_muon, L_muon = reader(work_path_muon, features_muon)\n",
    "\n",
    "reader_ghost, L_ghost = reader(work_path_ghost, features_ghost)"
   ]
  },
  {
   "cell_type": "markdown",
   "metadata": {},
   "source": [
    "# Read eval data"
   ]
  },
  {
   "cell_type": "code",
   "execution_count": 13,
   "metadata": {
    "collapsed": true
   },
   "outputs": [],
   "source": [
    "filename = data_path + \"/data_eval.csv\"\n",
    "\n",
    "data_eval = pandas.read_csv(filename)"
   ]
  },
  {
   "cell_type": "markdown",
   "metadata": {},
   "source": [
    "# Labels"
   ]
  },
  {
   "cell_type": "code",
   "execution_count": 14,
   "metadata": {
    "collapsed": true
   },
   "outputs": [],
   "source": [
    "particle_pdg_codes = {\"all\": 999999,\n",
    "                    \"Ghost\": 0,\n",
    "                    \"Electron\": 11,\n",
    "                    \"Muon\": 13,\n",
    "                    \"Pion\": 211,\n",
    "                    \"Kaon\": 321,\n",
    "                    \"Proton\": 2212}\n",
    "\n",
    "\n",
    "pdg = particle_pdg_codes['Electron']\n",
    "labels_electron = (numpy.abs(data_eval.MCParticleType.values) == pdg) * 1.\n",
    "\n",
    "pdg = particle_pdg_codes['Proton']\n",
    "labels_proton = (numpy.abs(data_eval.MCParticleType.values) == pdg) * 1.\n",
    "\n",
    "pdg = particle_pdg_codes['Pion']\n",
    "labels_pion = (numpy.abs(data_eval.MCParticleType.values) == pdg) * 1.\n",
    "\n",
    "pdg = particle_pdg_codes['Muon']\n",
    "labels_muon = (numpy.abs(data_eval.MCParticleType.values) == pdg) * 1.\n",
    "\n",
    "pdg = particle_pdg_codes['Kaon']\n",
    "labels_kaon = (numpy.abs(data_eval.MCParticleType.values) == pdg) * 1.\n",
    "\n",
    "pdg = particle_pdg_codes['Ghost']\n",
    "labels_ghost = (numpy.abs(data_eval.MCParticleType.values) == pdg) * 1."
   ]
  },
  {
   "cell_type": "markdown",
   "metadata": {
    "collapsed": true
   },
   "source": [
    "# Probabilities"
   ]
  },
  {
   "cell_type": "code",
   "execution_count": 17,
   "metadata": {
    "collapsed": true
   },
   "outputs": [],
   "source": [
    "def predict_proba(data_eval, features, reader, L):\n",
    "\n",
    "    test = numpy.array(data_eval[features+['MCParticleType']].values.tolist())\n",
    "\n",
    "    probas = []\n",
    "    for i in range(0, len(test)):\n",
    "        for k in range(0, len(L)):\n",
    "            L[k][0] = test[i,:][k]\n",
    "        probas.append(reader.EvaluateMVA(\"MLP\"))\n",
    "    \n",
    "    probas = numpy.array(probas)\n",
    "    eval_proba = numpy.concatenate(((1 - probas).reshape(-1, 1), probas.reshape(-1, 1)), axis=1)\n",
    "\n",
    "    return eval_proba"
   ]
  },
  {
   "cell_type": "code",
   "execution_count": 18,
   "metadata": {
    "collapsed": false
   },
   "outputs": [],
   "source": [
    "proba_electron = predict_proba(data_eval, features_electron, reader_electron, L_electron)\n",
    "\n",
    "proba_proton = predict_proba(data_eval, features_proton, reader_proton, L_proton)\n",
    "\n",
    "proba_pion = predict_proba(data_eval, features_pion, reader_pion, L_pion)\n",
    "\n",
    "proba_muon = predict_proba(data_eval, features_muon, reader_muon, L_muon)\n",
    "\n",
    "proba_kaon = predict_proba(data_eval, features_kaon, reader_kaon, L_kaon)\n",
    "\n",
    "proba_ghost = predict_proba(data_eval, features_ghost, reader_ghost, L_ghost)"
   ]
  },
  {
   "cell_type": "code",
   "execution_count": 19,
   "metadata": {
    "collapsed": false
   },
   "outputs": [],
   "source": [
    "probas_all = (proba_electron[:, [1]], \n",
    "              proba_proton[:, [1]], \n",
    "              proba_pion[:, [1]], \n",
    "              proba_muon[:, [1]], \n",
    "              proba_kaon[:, [1]], \n",
    "              proba_ghost[:, [1]])\n",
    "\n",
    "proba_overall = numpy.concatenate(probas_all, axis=1)\n",
    "proba_overall = proba_overall/proba_overall.sum(axis=1, keepdims=True)"
   ]
  },
  {
   "cell_type": "markdown",
   "metadata": {},
   "source": [
    "# Roc aucs"
   ]
  },
  {
   "cell_type": "code",
   "execution_count": 20,
   "metadata": {
    "collapsed": false
   },
   "outputs": [],
   "source": [
    "roc_auc_electron = roc_auc_score(labels_electron, proba_electron[:, 1])\n",
    "fpr_electron, tpr_electron, _ = roc_curve(labels_electron, proba_electron[:, 1])\n",
    "\n",
    "roc_auc_proton = roc_auc_score(labels_proton, proba_proton[:, 1])\n",
    "fpr_proton, tpr_proton, _ = roc_curve(labels_proton, proba_proton[:, 1])\n",
    "\n",
    "roc_auc_pion = roc_auc_score(labels_pion, proba_pion[:, 1])\n",
    "fpr_pion, tpr_pion, _ = roc_curve(labels_pion, proba_pion[:, 1])\n",
    "\n",
    "roc_auc_muon = roc_auc_score(labels_muon, proba_muon[:, 1])\n",
    "fpr_muon, tpr_muon, _ = roc_curve(labels_muon, proba_muon[:, 1])\n",
    "\n",
    "roc_auc_kaon = roc_auc_score(labels_kaon, proba_kaon[:, 1])\n",
    "fpr_kaon, tpr_kaon, _ = roc_curve(labels_kaon, proba_kaon[:, 1])\n",
    "\n",
    "roc_auc_ghost = roc_auc_score(labels_ghost, proba_ghost[:, 1])\n",
    "fpr_ghost, tpr_ghost, _ = roc_curve(labels_ghost, proba_ghost[:, 1])"
   ]
  },
  {
   "cell_type": "code",
   "execution_count": 24,
   "metadata": {
    "collapsed": false
   },
   "outputs": [
    {
     "data": {
      "image/png": "[encoded data removed]",
      "text/plain": [
       "<matplotlib.figure.Figure at 0x1128a6250>"
      ]
     },
     "metadata": {},
     "output_type": "display_data"
    }
   ],
   "source": [
    "particles = [\"Ghost\", \"Electron\", \"Muon\", \"Pion\", \"Kaon\", \"Proton\"]\n",
    "colors = ['k', 'r', 'g', 'b', 'gold', 'm']\n",
    "\n",
    "plt.figure(figsize=(10,7))\n",
    "plt.plot(tpr_electron, 1.-fpr_electron, label='Electron, %.2f' % roc_auc_electron, color='r', linewidth=2)\n",
    "plt.plot(tpr_proton, 1.-fpr_proton, label='Proton, %.2f' % roc_auc_proton, color='m', linewidth=2)\n",
    "plt.plot(tpr_pion, 1.-fpr_pion, label='Pion, %.2f' % roc_auc_pion, color='b', linewidth=2)\n",
    "plt.plot(tpr_muon, 1.-fpr_muon, label='Muon, %.2f' % roc_auc_muon, color='g', linewidth=2)\n",
    "plt.plot(tpr_kaon, 1.-fpr_kaon, label='Kaon, %.2f' % roc_auc_kaon, color='gold', linewidth=2)\n",
    "plt.plot(tpr_ghost, 1.-fpr_ghost, label='Ghost, %.2f' % roc_auc_ghost, color='k', linewidth=2)\n",
    "plt.title(\"ROC Curves\", size=15)\n",
    "plt.xlabel(\"Signal efficiency\", size=15)\n",
    "plt.ylabel(\"Background rejection\", size=15)\n",
    "plt.legend(loc='best',prop={'size':15})\n",
    "plt.xticks(numpy.arange(0, 1.01, 0.1), size=15)\n",
    "plt.yticks(numpy.arange(0, 1.01, 0.1), size=15)\n",
    "\n",
    "\n",
    "plt.savefig(work_path_electron + \"/overall_roc_auc.png\")\n",
    "plt.savefig(work_path_proton + \"/overall_roc_auc.png\")\n",
    "plt.savefig(work_path_pion + \"/overall_roc_auc.png\")\n",
    "plt.savefig(work_path_muon + \"/overall_roc_auc.png\")\n",
    "plt.savefig(work_path_kaon + \"/overall_roc_auc.png\")\n",
    "plt.savefig(work_path_ghost + \"/overall_roc_auc.png\")\n",
    "\n",
    "plt.show()"
   ]
  },
  {
   "cell_type": "markdown",
   "metadata": {},
   "source": [
    "# Roc matrix"
   ]
  },
  {
   "cell_type": "code",
   "execution_count": 22,
   "metadata": {
    "collapsed": false
   },
   "outputs": [],
   "source": [
    "roc_auc_electron = roc_auc_score(labels_electron, proba_electron[:, 1])\n",
    "\n",
    "probas_list = [proba_electron, proba_proton, proba_pion, proba_muon, proba_kaon, proba_ghost]\n",
    "labels_list = [labels_electron, labels_proton, labels_pion, labels_muon, labels_kaon, labels_ghost]\n",
    "\n",
    "roc_matrics = numpy.ones((6,6))\n",
    "\n",
    "for i in range(0, 6):\n",
    "    for j in range(0, 6):\n",
    "        if i==j:\n",
    "            continue\n",
    "        sel = ((labels_list[i] != 0) + (labels_list[j] != 0)) * 1.\n",
    "        roc_auc = roc_auc_score(labels_list[i], proba_overall[:, i]/proba_overall[:, j], sample_weight=sel)\n",
    "        roc_matrics[i,j] = roc_auc"
   ]
  },
  {
   "cell_type": "code",
   "execution_count": 64,
   "metadata": {
    "collapsed": false
   },
   "outputs": [
    {
     "data": {
      "text/html": [
       "<div>\n",
       "<table border=\"1\" class=\"dataframe\">\n",
       "  <thead>\n",
       "    <tr style=\"text-align: right;\">\n",
       "      <th></th>\n",
       "      <th>Particle</th>\n",
       "      <th>Electron</th>\n",
       "      <th>Proton</th>\n",
       "      <th>Pion</th>\n",
       "      <th>Muon</th>\n",
       "      <th>Kaon</th>\n",
       "      <th>Ghost</th>\n",
       "    </tr>\n",
       "  </thead>\n",
       "  <tbody>\n",
       "    <tr>\n",
       "      <th>0</th>\n",
       "      <td>Electron</td>\n",
       "      <td>1.000000</td>\n",
       "      <td>0.985355</td>\n",
       "      <td>0.977771</td>\n",
       "      <td>0.996391</td>\n",
       "      <td>0.984852</td>\n",
       "      <td>0.953952</td>\n",
       "    </tr>\n",
       "    <tr>\n",
       "      <th>1</th>\n",
       "      <td>Proton</td>\n",
       "      <td>0.985350</td>\n",
       "      <td>1.000000</td>\n",
       "      <td>0.954159</td>\n",
       "      <td>0.994473</td>\n",
       "      <td>0.787170</td>\n",
       "      <td>0.975513</td>\n",
       "    </tr>\n",
       "    <tr>\n",
       "      <th>2</th>\n",
       "      <td>Pion</td>\n",
       "      <td>0.977451</td>\n",
       "      <td>0.954160</td>\n",
       "      <td>1.000000</td>\n",
       "      <td>0.987573</td>\n",
       "      <td>0.954936</td>\n",
       "      <td>0.961073</td>\n",
       "    </tr>\n",
       "    <tr>\n",
       "      <th>3</th>\n",
       "      <td>Muon</td>\n",
       "      <td>0.996388</td>\n",
       "      <td>0.994473</td>\n",
       "      <td>0.987599</td>\n",
       "      <td>1.000000</td>\n",
       "      <td>0.993378</td>\n",
       "      <td>0.992115</td>\n",
       "    </tr>\n",
       "    <tr>\n",
       "      <th>4</th>\n",
       "      <td>Kaon</td>\n",
       "      <td>0.984885</td>\n",
       "      <td>0.787170</td>\n",
       "      <td>0.954936</td>\n",
       "      <td>0.993378</td>\n",
       "      <td>1.000000</td>\n",
       "      <td>0.977715</td>\n",
       "    </tr>\n",
       "    <tr>\n",
       "      <th>5</th>\n",
       "      <td>Ghost</td>\n",
       "      <td>0.953951</td>\n",
       "      <td>0.975513</td>\n",
       "      <td>0.961073</td>\n",
       "      <td>0.992115</td>\n",
       "      <td>0.977715</td>\n",
       "      <td>1.000000</td>\n",
       "    </tr>\n",
       "  </tbody>\n",
       "</table>\n",
       "</div>"
      ],
      "text/plain": [
       "   Particle  Electron    Proton      Pion      Muon      Kaon     Ghost\n",
       "0  Electron  1.000000  0.985355  0.977771  0.996391  0.984852  0.953952\n",
       "1    Proton  0.985350  1.000000  0.954159  0.994473  0.787170  0.975513\n",
       "2      Pion  0.977451  0.954160  1.000000  0.987573  0.954936  0.961073\n",
       "3      Muon  0.996388  0.994473  0.987599  1.000000  0.993378  0.992115\n",
       "4      Kaon  0.984885  0.787170  0.954936  0.993378  1.000000  0.977715\n",
       "5     Ghost  0.953951  0.975513  0.961073  0.992115  0.977715  1.000000"
      ]
     },
     "execution_count": 64,
     "metadata": {},
     "output_type": "execute_result"
    }
   ],
   "source": [
    "particles = ['Electron', 'Proton', 'Pion', 'Muon', 'Kaon', 'Ghost']\n",
    "\n",
    "matrix = pandas.DataFrame(columns=['Particle'] + particles)\n",
    "matrix['Particle'] = particles\n",
    "matrix['Electron'] = roc_matrics[0, :]\n",
    "matrix['Proton'] = roc_matrics[1, :]\n",
    "matrix['Pion'] = roc_matrics[2, :]\n",
    "matrix['Muon'] = roc_matrics[3, :]\n",
    "matrix['Kaon'] = roc_matrics[4, :]\n",
    "matrix['Ghost'] = roc_matrics[5, :]\n",
    "\n",
    "matrix.to_csv(work_path_electron + \"/class_vs_class_roc_auc_matrix.csv\")\n",
    "matrix.to_csv(work_path_proton + \"/class_vs_class_roc_auc_matrix.csv\")\n",
    "matrix.to_csv(work_path_pion + \"/class_vs_class_roc_auc_matrix.csv\")\n",
    "matrix.to_csv(work_path_muon + \"/class_vs_class_roc_auc_matrix.csv\")\n",
    "matrix.to_csv(work_path_kaon + \"/class_vs_class_roc_auc_matrix.csv\")\n",
    "matrix.to_csv(work_path_ghost + \"/class_vs_class_roc_auc_matrix.csv\")\n",
    "\n",
    "matrix"
   ]
  },
  {
   "cell_type": "code",
   "execution_count": 65,
   "metadata": {
    "collapsed": false
   },
   "outputs": [
    {
     "data": {
      "image/png": "[encoded data removed]",
      "text/plain": [
       "<matplotlib.figure.Figure at 0x130a522d0>"
      ]
     },
     "metadata": {},
     "output_type": "display_data"
    }
   ],
   "source": [
    "\n",
    "\n",
    "plt.figure(figsize=(10,7))\n",
    "plt.imshow(roc_matrics, interpolation='nearest')\n",
    "tick_marks = numpy.arange(len(particles))\n",
    "plt.xticks(tick_marks, particles, rotation=45, size=15)\n",
    "plt.yticks(tick_marks, particles, size=15)\n",
    "plt.clim([0.8,1])\n",
    "plt.colorbar()\n",
    "plt.tight_layout()\n",
    "plt.title('Particle vs particle roc aucs', size=15)\n",
    "\n",
    "\n",
    "plt.savefig(work_path_electron + \"/class_vs_class_roc_auc_matrix.png\")\n",
    "plt.savefig(work_path_proton + \"/class_vs_class_roc_auc_matrix.png\")\n",
    "plt.savefig(work_path_pion + \"/class_vs_class_roc_auc_matrix.png\")\n",
    "plt.savefig(work_path_muon + \"/class_vs_class_roc_auc_matrix.png\")\n",
    "plt.savefig(work_path_kaon + \"/class_vs_class_roc_auc_matrix.png\")\n",
    "plt.savefig(work_path_ghost + \"/class_vs_class_roc_auc_matrix.png\")\n",
    "plt.show()"
   ]
  },
  {
   "cell_type": "code",
   "execution_count": null,
   "metadata": {
    "collapsed": true
   },
   "outputs": [],
   "source": []
  }
 ],
 "metadata": {
  "kernelspec": {
   "display_name": "Python 2",
   "language": "python",
   "name": "python2"
  },
  "language_info": {
   "codemirror_mode": {
    "name": "ipython",
    "version": 2
   },
   "file_extension": ".py",
   "mimetype": "text/x-python",
   "name": "python",
   "nbconvert_exporter": "python",
   "pygments_lexer": "ipython2",
   "version": "2.7.11"
  }
 },
 "nbformat": 4,
 "nbformat_minor": 0
}
