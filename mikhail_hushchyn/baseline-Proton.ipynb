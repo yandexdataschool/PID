{
 "cells": [
  {
   "cell_type": "markdown",
   "metadata": {},
   "source": [
    "# About\n",
    "\n",
    "These is a base solution of PID."
   ]
  },
  {
   "cell_type": "code",
   "execution_count": 1,
   "metadata": {
    "collapsed": true
   },
   "outputs": [],
   "source": [
    "%matplotlib inline\n",
    "import random\n",
    "import pandas\n",
    "import numpy\n",
    "import cPickle as pickle\n",
    "import matplotlib.pyplot as plt\n",
    "\n",
    "import root_numpy\n",
    "from sklearn.metrics import roc_auc_score, roc_curve\n",
    "\n",
    "from rep.estimators import TMVAClassifier"
   ]
  },
  {
   "cell_type": "markdown",
   "metadata": {},
   "source": [
    "# Directories"
   ]
  },
  {
   "cell_type": "code",
   "execution_count": 2,
   "metadata": {
    "collapsed": true
   },
   "outputs": [],
   "source": [
    "track = 'Long'\n",
    "particle = 'Proton'\n",
    "\n",
    "data_path = \"/notebooks/data/MC2015Sim09Dev03/TrainMixture/TrainPhysTks-EvalPhysTks-NoReweight/\\\n",
    "GhostAccFrac1.0/TMVA-Run2-NoTkLikCD/\" + track\n",
    "\n",
    "work_path = \"/notebooks/mikhail91/PID/mikhail_hushchyn/baseline/MC2015Sim09Dev03/TrainMixture/TrainPhysTks-EvalPhysTks-NoReweight/GhostAccFrac1.0/\" + \\\n",
    "particle + \"/\" + track + \"/TMVA/kMLP\"\n",
    "\n",
    "netconfig_path = \"/notebooks/data/configs/networks/TMVA-Run2-NoTkLikCDVelodEdx/\" + \"GlobalPID_\" \\\n",
    "+ particle + \"_\" + track + \"_ANN.txt\""
   ]
  },
  {
   "cell_type": "markdown",
   "metadata": {},
   "source": [
    "# Read data"
   ]
  },
  {
   "cell_type": "code",
   "execution_count": 3,
   "metadata": {
    "collapsed": false
   },
   "outputs": [],
   "source": [
    "particle_pdg_codes = {\"all\": 999999,\n",
    "                    \"Ghost\": 0,\n",
    "                    \"Electron\": 11,\n",
    "                    \"Muon\": 13,\n",
    "                    \"Pion\": 211,\n",
    "                    \"Kaon\": 321,\n",
    "                    \"Proton\": 2212}\n",
    "\n",
    "pdg = particle_pdg_codes[particle]"
   ]
  },
  {
   "cell_type": "code",
   "execution_count": null,
   "metadata": {
    "collapsed": true
   },
   "outputs": [],
   "source": [
    "filename = data_path + \"/data_train.csv\"\n",
    "\n",
    "n = sum(1 for line in open(filename)) - 1\n",
    "s = n//10\n",
    "skip = sorted(random.sample(xrange(1,n+1),n-s))\n",
    "\n",
    "data = pandas.read_csv(filename, skiprows=skip)\n",
    "data['TrackCloneDist'] *= 1 + 0.00001 * numpy.random.rand(len(data))\n",
    "\n",
    "labels = (numpy.abs(data.MCParticleType.values) == pdg) * 1."
   ]
  },
  {
   "cell_type": "code",
   "execution_count": null,
   "metadata": {
    "collapsed": true
   },
   "outputs": [],
   "source": [
    "from sklearn.cross_validation import train_test_split\n",
    "\n",
    "data_train, data_test, labels_train, labels_test = train_test_split(data, labels, test_size=0.3, random_state=42)"
   ]
  },
  {
   "cell_type": "code",
   "execution_count": 4,
   "metadata": {
    "collapsed": false
   },
   "outputs": [],
   "source": [
    "netconfig = numpy.loadtxt(netconfig_path, dtype='S', delimiter='\\n', comments='!')\n",
    "features = []\n",
    "spectator_features = []\n",
    "\n",
    "for var in netconfig[5:]:\n",
    "    \n",
    "    if var.find('#') == -1:\n",
    "        features.append(var)\n",
    "    else:\n",
    "        spectator_features.append(var[1:])"
   ]
  },
  {
   "cell_type": "code",
   "execution_count": null,
   "metadata": {
    "collapsed": false
   },
   "outputs": [],
   "source": [
    "data.shape"
   ]
  },
  {
   "cell_type": "markdown",
   "metadata": {},
   "source": [
    "# Train TMVA MLP"
   ]
  },
  {
   "cell_type": "code",
   "execution_count": null,
   "metadata": {
    "collapsed": false
   },
   "outputs": [],
   "source": [
    "%%time\n",
    "# Train classifier\n",
    "tmva_mlp = TMVAClassifier(method='kMLP',\n",
    "                      features=features,\n",
    "                      factory_options=\"V:!Silent:!Color:!DrawProgressBar\",\n",
    "                      H='true',\n",
    "                      V='true',\n",
    "                      EpochMonitoring='true',\n",
    "                      HiddenLayers=int(1.2*len(features)),\n",
    "                      UseRegulator='true',\n",
    "                      ConvergenceImprove = \"1e-16\",\n",
    "                      ConvergenceTests = \"15\",\n",
    "                      VarTransform = \"Norm\",\n",
    "                      NCycles = 750,\n",
    "                      NeuronType = \"sigmoid\",\n",
    "                      TrainingMethod = \"BP\",\n",
    "                      EstimatorType = \"CE\")\n",
    "\n",
    "\n",
    "tmva_mlp.fit(data_train, labels_train)"
   ]
  },
  {
   "cell_type": "code",
   "execution_count": null,
   "metadata": {
    "collapsed": false
   },
   "outputs": [],
   "source": [
    "# Save classifier\n",
    "import os\n",
    "if not os.path.exists(work_path):\n",
    "    os.makedirs(work_path)\n",
    "\n",
    "# clf_pickle = open(work_path + '/classifier.pkl', 'wb')\n",
    "# pickle.dump(tmva_mlp, clf_pickle)\n",
    "# clf_pickle.close()"
   ]
  },
  {
   "cell_type": "code",
   "execution_count": 5,
   "metadata": {
    "collapsed": true
   },
   "outputs": [],
   "source": [
    "# Read classifier\n",
    "clf_pickle2 = open(work_path + '/classifier.pkl', 'rb')\n",
    "tmva_mlp = pickle.load(clf_pickle2)\n",
    "clf_pickle2.close()"
   ]
  },
  {
   "cell_type": "code",
   "execution_count": 13,
   "metadata": {
    "collapsed": false
   },
   "outputs": [
    {
     "data": {
      "image/png": "[encoded data removed]",
      "text/plain": [
       "<matplotlib.figure.Figure at 0x7fc9176e7ed0>"
      ]
     },
     "metadata": {},
     "output_type": "display_data"
    }
   ],
   "source": [
    "prob_mlp = tmva_mlp.predict_proba(data_test)\n",
    "\n",
    "roc_auc = roc_auc_score(labels_test, prob_mlp[:, 1])\n",
    "fpr, tpr, _ = roc_curve(labels_test, prob_mlp[:, 1])\n",
    "\n",
    "plt.plot(fpr, tpr)\n",
    "plt.title(\"ROC AUC = %.2f\" % roc_auc)\n",
    "plt.xlabel(\"FPR\")\n",
    "plt.ylabel(\"TPR\")\n",
    "plt.savefig(work_path + \"/roc_auc.pdf\")\n",
    "plt.show()"
   ]
  },
  {
   "cell_type": "code",
   "execution_count": 14,
   "metadata": {
    "collapsed": false
   },
   "outputs": [
    {
     "data": {
      "image/png": "[encoded data removed]",
      "text/plain": [
       "<matplotlib.figure.Figure at 0x7fc915b9c4d0>"
      ]
     },
     "metadata": {},
     "output_type": "display_data"
    }
   ],
   "source": [
    "plt.hist(prob_mlp[labels_test==0, 1], color='r', normed=True, alpha=0.5)\n",
    "plt.hist(prob_mlp[labels_test==1, 1], color='b', normed=True, alpha=0.5)\n",
    "plt.show()"
   ]
  },
  {
   "cell_type": "markdown",
   "metadata": {},
   "source": [
    "# Read eval data"
   ]
  },
  {
   "cell_type": "code",
   "execution_count": 6,
   "metadata": {
    "collapsed": true
   },
   "outputs": [],
   "source": [
    "filename = data_path + \"/data_eval.csv\"\n",
    "\n",
    "n = sum(1 for line in open(filename)) - 1\n",
    "s = n//10\n",
    "skip = sorted(random.sample(xrange(1,n+1),n-s))\n",
    "\n",
    "data_eval = pandas.read_csv(filename, skiprows=skip)\n",
    "\n",
    "labels_eval = (numpy.abs(data_eval.MCParticleType.values) == pdg) * 1."
   ]
  },
  {
   "cell_type": "markdown",
   "metadata": {
    "collapsed": true
   },
   "source": [
    "# Evaluation"
   ]
  },
  {
   "cell_type": "code",
   "execution_count": 7,
   "metadata": {
    "collapsed": true
   },
   "outputs": [],
   "source": [
    "import os, sys\n",
    "sys.path.append('src')\n",
    "\n",
    "from get_figures import all_figures"
   ]
  },
  {
   "cell_type": "code",
   "execution_count": 8,
   "metadata": {
    "collapsed": true
   },
   "outputs": [],
   "source": [
    "params = {}\n",
    "params['PARTICLE'] = particle\n",
    "params['TRACK'] = track\n",
    "\n",
    "proba_eval = tmva_mlp.predict_proba(data_eval)"
   ]
  },
  {
   "cell_type": "code",
   "execution_count": 10,
   "metadata": {
    "collapsed": false
   },
   "outputs": [
    {
     "name": "stdout",
     "output_type": "stream",
     "text": [
      "CPU times: user 0 ns, sys: 0 ns, total: 0 ns\n",
      "Wall time: 37.9 µs\n"
     ]
    }
   ],
   "source": [
    "%%time\n",
    "all_figures(params, data_eval, proba_eval, labels_eval, features, path= work_path + \"/pic\")"
   ]
  },
  {
   "cell_type": "code",
   "execution_count": null,
   "metadata": {
    "collapsed": true
   },
   "outputs": [],
   "source": []
  }
 ],
 "metadata": {
  "kernelspec": {
   "display_name": "Python 2",
   "language": "python",
   "name": "python2"
  },
  "language_info": {
   "codemirror_mode": {
    "name": "ipython",
    "version": 2
   },
   "file_extension": ".py",
   "mimetype": "text/x-python",
   "name": "python",
   "nbconvert_exporter": "python",
   "pygments_lexer": "ipython2",
   "version": "2.7.10"
  }
 },
 "nbformat": 4,
 "nbformat_minor": 0
}
