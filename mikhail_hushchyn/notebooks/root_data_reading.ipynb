{
 "cells": [
  {
   "cell_type": "markdown",
   "metadata": {},
   "source": [
    "# About\n",
    "\n",
    "These is a base solution of PID."
   ]
  },
  {
   "cell_type": "code",
   "execution_count": 1,
   "metadata": {
    "collapsed": true
   },
   "outputs": [],
   "source": [
    "%matplotlib inline\n",
    "import pandas\n",
    "import numpy\n",
    "import matplotlib.pyplot as plt"
   ]
  },
  {
   "cell_type": "markdown",
   "metadata": {},
   "source": [
    "# Data"
   ]
  },
  {
   "cell_type": "code",
   "execution_count": 10,
   "metadata": {
    "collapsed": false
   },
   "outputs": [
    {
     "data": {
      "text/plain": [
       "'( 0.00108528 +( -1.0822e-05  * NumRich2Hits        ) +( 3.51537e-08  * pow(NumRich2Hits,2) ) +( -4.6664e-11  * pow(NumRich2Hits,3) ) +( 3.16421e-14  * pow(NumRich2Hits,4) ) +( -8.69538e-18 * pow(NumRich2Hits,5) ) +( 1.14595e-21  * pow(NumRich2Hits,6) ) ) > rndm'"
      ]
     },
     "execution_count": 10,
     "metadata": {},
     "output_type": "execute_result"
    }
   ],
   "source": [
    "a = \"( 0.00108528 +\" +\\\n",
    "\"( -1.0822e-05  * NumRich2Hits        ) +\" +\\\n",
    "\"( 3.51537e-08  * pow(NumRich2Hits,2) ) +\" +\\\n",
    "\"( -4.6664e-11  * pow(NumRich2Hits,3) ) +\"+\\\n",
    "\"( 3.16421e-14  * pow(NumRich2Hits,4) ) +\"+\\\n",
    "\"( -8.69538e-18 * pow(NumRich2Hits,5) ) +\"+\\\n",
    "\"( 1.14595e-21  * pow(NumRich2Hits,6) ) )\"+\\\n",
    "\" > rndm\"\n",
    "\n",
    "a"
   ]
  },
  {
   "cell_type": "code",
   "execution_count": 11,
   "metadata": {
    "collapsed": false
   },
   "outputs": [
    {
     "name": "stdout",
     "output_type": "stream",
     "text": [
      "CPU times: user 1min 36s, sys: 7.21 s, total: 1min 43s\n",
      "Wall time: 1min 46s\n"
     ]
    }
   ],
   "source": [
    "%%time\n",
    "\n",
    "import root_numpy\n",
    "\n",
    "\n",
    "branches = root_numpy.list_branches('data/pr/ANNPID.37.root', \n",
    "                                    treename='ANNPID/DecayTree')\n",
    "branches = numpy.array(branches)\n",
    "\n",
    "\n",
    "root_data = root_numpy.root2array('data/pr/ANNPID.37.root', \n",
    "                                  treename='ANNPID/DecayTree', \n",
    "                                  branches=branches[branches != 'piplus_OWNPV_COV_'],\n",
    "                                 selection = 'piplus_IPCHI2_OWNPV < 4 || abs(TrackType-5) < 0.1 ||' + a)\n",
    "\n",
    "\n",
    "pr_data = pandas.DataFrame(data=root_data, \n",
    "                        columns=branches[branches != 'piplus_OWNPV_COV_'])"
   ]
  },
  {
   "cell_type": "code",
   "execution_count": 12,
   "metadata": {
    "collapsed": false
   },
   "outputs": [
    {
     "name": "stdout",
     "output_type": "stream",
     "text": [
      "(3563794, 107)\n"
     ]
    },
    {
     "data": {
      "text/html": [
       "<div style=\"max-height:1000px;max-width:1500px;overflow:auto;\">\n",
       "<table border=\"1\" class=\"dataframe\">\n",
       "  <thead>\n",
       "    <tr style=\"text-align: right;\">\n",
       "      <th></th>\n",
       "      <th>BremPIDe</th>\n",
       "      <th>CaloBremChi2</th>\n",
       "      <th>CaloBremMatch</th>\n",
       "      <th>CaloChargedEcal</th>\n",
       "      <th>CaloChargedPrs</th>\n",
       "      <th>CaloChargedSpd</th>\n",
       "      <th>CaloClusChi2</th>\n",
       "      <th>CaloEcalChi2</th>\n",
       "      <th>CaloEcalE</th>\n",
       "      <th>CaloElectronMatch</th>\n",
       "      <th>...</th>\n",
       "      <th>piplus_OWNPV_XERR</th>\n",
       "      <th>piplus_OWNPV_YERR</th>\n",
       "      <th>piplus_OWNPV_ZERR</th>\n",
       "      <th>piplus_OWNPV_CHI2</th>\n",
       "      <th>piplus_OWNPV_NDOF</th>\n",
       "      <th>piplus_IP_OWNPV</th>\n",
       "      <th>piplus_IPCHI2_OWNPV</th>\n",
       "      <th>nCandidate</th>\n",
       "      <th>totCandidates</th>\n",
       "      <th>EventInSequence</th>\n",
       "    </tr>\n",
       "  </thead>\n",
       "  <tbody>\n",
       "    <tr>\n",
       "      <th>0</th>\n",
       "      <td>  -0.520672</td>\n",
       "      <td> 7564.847168</td>\n",
       "      <td> 2023.847412</td>\n",
       "      <td>  -999.000000</td>\n",
       "      <td>-999.000000</td>\n",
       "      <td>-999</td>\n",
       "      <td>  0.102166</td>\n",
       "      <td> -999.000000</td>\n",
       "      <td>  5058.941895</td>\n",
       "      <td> -999.000000</td>\n",
       "      <td>...</td>\n",
       "      <td> 0.0075</td>\n",
       "      <td> 0.0074</td>\n",
       "      <td> 0.0516</td>\n",
       "      <td> 37.570442</td>\n",
       "      <td> 99</td>\n",
       "      <td> 0.017427</td>\n",
       "      <td> 0.978000</td>\n",
       "      <td> 1</td>\n",
       "      <td> 37</td>\n",
       "      <td> 1</td>\n",
       "    </tr>\n",
       "    <tr>\n",
       "      <th>1</th>\n",
       "      <td>  -0.607507</td>\n",
       "      <td> 3564.574707</td>\n",
       "      <td> 1911.942993</td>\n",
       "      <td>  3917.395996</td>\n",
       "      <td>  32.089794</td>\n",
       "      <td>   1</td>\n",
       "      <td> 30.240688</td>\n",
       "      <td> 1584.167480</td>\n",
       "      <td>     0.000000</td>\n",
       "      <td> 1584.167480</td>\n",
       "      <td>...</td>\n",
       "      <td> 0.0075</td>\n",
       "      <td> 0.0074</td>\n",
       "      <td> 0.0516</td>\n",
       "      <td> 37.570442</td>\n",
       "      <td> 99</td>\n",
       "      <td> 0.068750</td>\n",
       "      <td> 2.682488</td>\n",
       "      <td> 2</td>\n",
       "      <td> 37</td>\n",
       "      <td> 1</td>\n",
       "    </tr>\n",
       "    <tr>\n",
       "      <th>2</th>\n",
       "      <td>  -0.553589</td>\n",
       "      <td> 2857.849121</td>\n",
       "      <td>  251.214142</td>\n",
       "      <td>  -999.000000</td>\n",
       "      <td>-999.000000</td>\n",
       "      <td>-999</td>\n",
       "      <td>  3.270927</td>\n",
       "      <td> -999.000000</td>\n",
       "      <td>   233.042007</td>\n",
       "      <td> -999.000000</td>\n",
       "      <td>...</td>\n",
       "      <td> 0.0075</td>\n",
       "      <td> 0.0074</td>\n",
       "      <td> 0.0516</td>\n",
       "      <td> 37.570442</td>\n",
       "      <td> 99</td>\n",
       "      <td> 0.131384</td>\n",
       "      <td> 1.215773</td>\n",
       "      <td> 3</td>\n",
       "      <td> 37</td>\n",
       "      <td> 1</td>\n",
       "    </tr>\n",
       "    <tr>\n",
       "      <th>3</th>\n",
       "      <td>  -0.553589</td>\n",
       "      <td> -999.000000</td>\n",
       "      <td> -999.000000</td>\n",
       "      <td> 12997.260742</td>\n",
       "      <td>  36.478142</td>\n",
       "      <td>   1</td>\n",
       "      <td>  2.508381</td>\n",
       "      <td> 3197.543945</td>\n",
       "      <td>   611.250000</td>\n",
       "      <td> 3197.543945</td>\n",
       "      <td>...</td>\n",
       "      <td> 0.0075</td>\n",
       "      <td> 0.0074</td>\n",
       "      <td> 0.0516</td>\n",
       "      <td> 37.570442</td>\n",
       "      <td> 99</td>\n",
       "      <td> 0.018682</td>\n",
       "      <td> 0.401047</td>\n",
       "      <td> 4</td>\n",
       "      <td> 37</td>\n",
       "      <td> 1</td>\n",
       "    </tr>\n",
       "    <tr>\n",
       "      <th>4</th>\n",
       "      <td>-999.000000</td>\n",
       "      <td> -999.000000</td>\n",
       "      <td> -999.000000</td>\n",
       "      <td> 24563.410156</td>\n",
       "      <td> 112.725693</td>\n",
       "      <td>   1</td>\n",
       "      <td>  0.204970</td>\n",
       "      <td>  153.652817</td>\n",
       "      <td> 14226.196289</td>\n",
       "      <td>  153.652817</td>\n",
       "      <td>...</td>\n",
       "      <td> 0.0075</td>\n",
       "      <td> 0.0074</td>\n",
       "      <td> 0.0516</td>\n",
       "      <td> 37.570442</td>\n",
       "      <td> 99</td>\n",
       "      <td> 0.102094</td>\n",
       "      <td> 3.266828</td>\n",
       "      <td> 6</td>\n",
       "      <td> 37</td>\n",
       "      <td> 1</td>\n",
       "    </tr>\n",
       "  </tbody>\n",
       "</table>\n",
       "<p>5 rows × 107 columns</p>\n",
       "</div>"
      ],
      "text/plain": [
       "     BremPIDe  CaloBremChi2  CaloBremMatch  CaloChargedEcal  CaloChargedPrs  \\\n",
       "0   -0.520672   7564.847168    2023.847412      -999.000000     -999.000000   \n",
       "1   -0.607507   3564.574707    1911.942993      3917.395996       32.089794   \n",
       "2   -0.553589   2857.849121     251.214142      -999.000000     -999.000000   \n",
       "3   -0.553589   -999.000000    -999.000000     12997.260742       36.478142   \n",
       "4 -999.000000   -999.000000    -999.000000     24563.410156      112.725693   \n",
       "\n",
       "   CaloChargedSpd  CaloClusChi2  CaloEcalChi2     CaloEcalE  \\\n",
       "0            -999      0.102166   -999.000000   5058.941895   \n",
       "1               1     30.240688   1584.167480      0.000000   \n",
       "2            -999      3.270927   -999.000000    233.042007   \n",
       "3               1      2.508381   3197.543945    611.250000   \n",
       "4               1      0.204970    153.652817  14226.196289   \n",
       "\n",
       "   CaloElectronMatch        ...          piplus_OWNPV_XERR  piplus_OWNPV_YERR  \\\n",
       "0        -999.000000        ...                     0.0075             0.0074   \n",
       "1        1584.167480        ...                     0.0075             0.0074   \n",
       "2        -999.000000        ...                     0.0075             0.0074   \n",
       "3        3197.543945        ...                     0.0075             0.0074   \n",
       "4         153.652817        ...                     0.0075             0.0074   \n",
       "\n",
       "   piplus_OWNPV_ZERR  piplus_OWNPV_CHI2  piplus_OWNPV_NDOF  piplus_IP_OWNPV  \\\n",
       "0             0.0516          37.570442                 99         0.017427   \n",
       "1             0.0516          37.570442                 99         0.068750   \n",
       "2             0.0516          37.570442                 99         0.131384   \n",
       "3             0.0516          37.570442                 99         0.018682   \n",
       "4             0.0516          37.570442                 99         0.102094   \n",
       "\n",
       "   piplus_IPCHI2_OWNPV  nCandidate  totCandidates  EventInSequence  \n",
       "0             0.978000           1             37                1  \n",
       "1             2.682488           2             37                1  \n",
       "2             1.215773           3             37                1  \n",
       "3             0.401047           4             37                1  \n",
       "4             3.266828           6             37                1  \n",
       "\n",
       "[5 rows x 107 columns]"
      ]
     },
     "execution_count": 12,
     "metadata": {},
     "output_type": "execute_result"
    }
   ],
   "source": [
    "print pr_data.shape\n",
    "pr_data.head()"
   ]
  },
  {
   "cell_type": "code",
   "execution_count": 5,
   "metadata": {
    "collapsed": false
   },
   "outputs": [
    {
     "data": {
      "text/plain": [
       "Index([u'BremPIDe', u'CaloBremChi2', u'CaloBremMatch', u'CaloChargedEcal', u'CaloChargedPrs', u'CaloChargedSpd', u'CaloClusChi2', u'CaloEcalChi2', u'CaloEcalE', u'CaloElectronMatch', u'CaloHcalE', u'CaloNeutralEcal', u'CaloNeutralPrs', u'CaloNeutralSpd', u'CaloPrsE', u'CaloSpdE', u'CaloTrMatch', u'CaloTrajectoryL', u'CombDLLe', u'CombDLLk', u'CombDLLmu', u'CombDLLp', u'CombDLLpi', u'EcalPIDe', u'EcalPIDmu', u'HcalPIDe', u'HcalPIDmu', u'InAccBrem', u'InAccEcal', u'InAccHcal', u'InAccMuon', u'InAccPrs', u'InAccSpd', u'MuonBkgLL', u'MuonIsLooseMuon', u'MuonIsMuon', u'MuonMuLL', u'MuonNShared', u'NumCaloHypos', u'NumDownstreamTracks', u'NumLongTracks', u'NumMuonTracks', u'NumPVs', u'NumProtoParticles', u'NumRich1Hits', u'NumRich2Hits', u'NumSPDHits', u'NumTTracks', u'NumUpstreamTracks', u'NumVeloTracks', u'PrsPIDe', u'RichAboveElThres', u'RichAboveKaThres', u'RichAboveMuThres', u'RichAbovePiThres', u'RichAbovePrThres', u'RichDLLbt', u'RichDLLe', u'RichDLLk', u'RichDLLmu', u'RichDLLp', u'RichDLLpi', u'RichUsedAero', u'RichUsedR1Gas', u'RichUsedR2Gas', u'TrackChi2PerDof', u'TrackCloneDist', u'TrackDOCA', u'TrackFitMatchChi2', u'TrackFitTChi2', u'TrackFitTNDoF', u'TrackFitVeloChi2', u'TrackFitVeloNDoF', u'TrackGhostProbability', u'TrackHistory', u'TrackLikelihood', u'TrackMatchChi2', u'TrackNumDof', u'TrackP', u'TrackPt', u'TrackType', u'VeloCharge', u'RecoPIDcode', u'HasMC', u'MCParticleType', u'MCParticleP', u'MCParticlePt', u'MCVirtualMass', u'MCFromB', u'MCFromD', u'MCVertexType', u'MCVertexX', u'MCVertexY', u'MCVertexZ', u'piplus_OWNPV_X', u'piplus_OWNPV_Y', u'piplus_OWNPV_Z', u'piplus_OWNPV_XERR', u'piplus_OWNPV_YERR', u'piplus_OWNPV_ZERR', ...], dtype='object')"
      ]
     },
     "execution_count": 5,
     "metadata": {},
     "output_type": "execute_result"
    }
   ],
   "source": [
    "pr_data.columns"
   ]
  },
  {
   "cell_type": "code",
   "execution_count": 6,
   "metadata": {
    "collapsed": false
   },
   "outputs": [
    {
     "data": {
      "text/plain": [
       "0     3\n",
       "1     3\n",
       "2     3\n",
       "3     3\n",
       "4     3\n",
       "5     3\n",
       "6     3\n",
       "7     3\n",
       "8     3\n",
       "9     3\n",
       "10    3\n",
       "11    3\n",
       "12    3\n",
       "13    3\n",
       "14    3\n",
       "...\n",
       "4850842    5\n",
       "4850843    5\n",
       "4850844    5\n",
       "4850845    5\n",
       "4850846    5\n",
       "4850847    5\n",
       "4850848    5\n",
       "4850849    5\n",
       "4850850    4\n",
       "4850851    4\n",
       "4850852    4\n",
       "4850853    4\n",
       "4850854    4\n",
       "4850855    4\n",
       "4850856    4\n",
       "Name: TrackType, Length: 4850857, dtype: float32"
      ]
     },
     "execution_count": 6,
     "metadata": {},
     "output_type": "execute_result"
    }
   ],
   "source": [
    "pr_data.TrackType"
   ]
  },
  {
   "cell_type": "code",
   "execution_count": 2,
   "metadata": {
    "collapsed": false
   },
   "outputs": [
    {
     "data": {
      "text/plain": [
       "False"
      ]
     },
     "execution_count": 2,
     "metadata": {},
     "output_type": "execute_result"
    }
   ],
   "source": [
    "1 != 1"
   ]
  },
  {
   "cell_type": "code",
   "execution_count": null,
   "metadata": {
    "collapsed": true
   },
   "outputs": [],
   "source": []
  }
 ],
 "metadata": {
  "kernelspec": {
   "display_name": "Python 2",
   "language": "python",
   "name": "python2"
  },
  "language_info": {
   "codemirror_mode": {
    "name": "ipython",
    "version": 2
   },
   "file_extension": ".py",
   "mimetype": "text/x-python",
   "name": "python",
   "nbconvert_exporter": "python",
   "pygments_lexer": "ipython2",
   "version": "2.7.10"
  }
 },
 "nbformat": 4,
 "nbformat_minor": 0
}
