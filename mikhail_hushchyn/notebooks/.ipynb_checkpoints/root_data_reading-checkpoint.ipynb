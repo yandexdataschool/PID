{
 "cells": [
  {
   "cell_type": "markdown",
   "metadata": {},
   "source": [
    "# About\n",
    "\n",
    "These is a base solution of PID."
   ]
  },
  {
   "cell_type": "code",
   "execution_count": 1,
   "metadata": {
    "collapsed": true
   },
   "outputs": [],
   "source": [
    "%matplotlib inline\n",
    "import pandas\n",
    "import numpy\n",
    "import matplotlib.pyplot as plt"
   ]
  },
  {
   "cell_type": "markdown",
   "metadata": {},
   "source": [
    "# Data"
   ]
  },
  {
   "cell_type": "code",
   "execution_count": 2,
   "metadata": {
    "collapsed": false
   },
   "outputs": [
    {
     "name": "stdout",
     "output_type": "stream",
     "text": [
      "CPU times: user 1min 28s, sys: 4.1 s, total: 1min 32s\n",
      "Wall time: 1min 35s\n"
     ]
    }
   ],
   "source": [
    "%%time\n",
    "\n",
    "import root_numpy\n",
    "\n",
    "\n",
    "branches = root_numpy.list_branches('data/ANNPID.37.root', \n",
    "                                    treename='ANNPID/DecayTree')\n",
    "branches = numpy.array(branches)\n",
    "\n",
    "\n",
    "root_data = root_numpy.root2array('data/ANNPID.37.root', \n",
    "                                  treename='ANNPID/DecayTree', \n",
    "                                  branches=branches[branches != 'piplus_OWNPV_COV_'])\n",
    "\n",
    "\n",
    "pr_data = pandas.DataFrame(data=root_data, \n",
    "                        columns=branches[branches != 'piplus_OWNPV_COV_'])"
   ]
  },
  {
   "cell_type": "code",
   "execution_count": 3,
   "metadata": {
    "collapsed": false
   },
   "outputs": [
    {
     "name": "stdout",
     "output_type": "stream",
     "text": [
      "(4850857, 107)\n"
     ]
    },
    {
     "data": {
      "text/html": [
       "<div style=\"max-height:1000px;max-width:1500px;overflow:auto;\">\n",
       "<table border=\"1\" class=\"dataframe\">\n",
       "  <thead>\n",
       "    <tr style=\"text-align: right;\">\n",
       "      <th></th>\n",
       "      <th>BremPIDe</th>\n",
       "      <th>CaloBremChi2</th>\n",
       "      <th>CaloBremMatch</th>\n",
       "      <th>CaloChargedEcal</th>\n",
       "      <th>CaloChargedPrs</th>\n",
       "      <th>CaloChargedSpd</th>\n",
       "      <th>CaloClusChi2</th>\n",
       "      <th>CaloEcalChi2</th>\n",
       "      <th>CaloEcalE</th>\n",
       "      <th>CaloElectronMatch</th>\n",
       "      <th>...</th>\n",
       "      <th>piplus_OWNPV_XERR</th>\n",
       "      <th>piplus_OWNPV_YERR</th>\n",
       "      <th>piplus_OWNPV_ZERR</th>\n",
       "      <th>piplus_OWNPV_CHI2</th>\n",
       "      <th>piplus_OWNPV_NDOF</th>\n",
       "      <th>piplus_IP_OWNPV</th>\n",
       "      <th>piplus_IPCHI2_OWNPV</th>\n",
       "      <th>nCandidate</th>\n",
       "      <th>totCandidates</th>\n",
       "      <th>EventInSequence</th>\n",
       "    </tr>\n",
       "  </thead>\n",
       "  <tbody>\n",
       "    <tr>\n",
       "      <th>0</th>\n",
       "      <td>-0.625066</td>\n",
       "      <td> 5869.173340</td>\n",
       "      <td> 4877.974609</td>\n",
       "      <td>  -999.000000</td>\n",
       "      <td>-999.000000</td>\n",
       "      <td>-999</td>\n",
       "      <td> 211.867294</td>\n",
       "      <td> -999.000000</td>\n",
       "      <td>    0.000000</td>\n",
       "      <td> -999.000000</td>\n",
       "      <td>...</td>\n",
       "      <td> 0.0075</td>\n",
       "      <td> 0.0074</td>\n",
       "      <td> 0.0516</td>\n",
       "      <td> 37.570442</td>\n",
       "      <td> 99</td>\n",
       "      <td> 0.097602</td>\n",
       "      <td> 6.942336</td>\n",
       "      <td> 0</td>\n",
       "      <td> 37</td>\n",
       "      <td> 1</td>\n",
       "    </tr>\n",
       "    <tr>\n",
       "      <th>1</th>\n",
       "      <td>-0.520672</td>\n",
       "      <td> 7564.847168</td>\n",
       "      <td> 2023.847412</td>\n",
       "      <td>  -999.000000</td>\n",
       "      <td>-999.000000</td>\n",
       "      <td>-999</td>\n",
       "      <td>   0.102166</td>\n",
       "      <td> -999.000000</td>\n",
       "      <td> 5058.941895</td>\n",
       "      <td> -999.000000</td>\n",
       "      <td>...</td>\n",
       "      <td> 0.0075</td>\n",
       "      <td> 0.0074</td>\n",
       "      <td> 0.0516</td>\n",
       "      <td> 37.570442</td>\n",
       "      <td> 99</td>\n",
       "      <td> 0.017427</td>\n",
       "      <td> 0.978000</td>\n",
       "      <td> 1</td>\n",
       "      <td> 37</td>\n",
       "      <td> 1</td>\n",
       "    </tr>\n",
       "    <tr>\n",
       "      <th>2</th>\n",
       "      <td>-0.607507</td>\n",
       "      <td> 3564.574707</td>\n",
       "      <td> 1911.942993</td>\n",
       "      <td>  3917.395996</td>\n",
       "      <td>  32.089794</td>\n",
       "      <td>   1</td>\n",
       "      <td>  30.240688</td>\n",
       "      <td> 1584.167480</td>\n",
       "      <td>    0.000000</td>\n",
       "      <td> 1584.167480</td>\n",
       "      <td>...</td>\n",
       "      <td> 0.0075</td>\n",
       "      <td> 0.0074</td>\n",
       "      <td> 0.0516</td>\n",
       "      <td> 37.570442</td>\n",
       "      <td> 99</td>\n",
       "      <td> 0.068750</td>\n",
       "      <td> 2.682488</td>\n",
       "      <td> 2</td>\n",
       "      <td> 37</td>\n",
       "      <td> 1</td>\n",
       "    </tr>\n",
       "    <tr>\n",
       "      <th>3</th>\n",
       "      <td>-0.553589</td>\n",
       "      <td> 2857.849121</td>\n",
       "      <td>  251.214142</td>\n",
       "      <td>  -999.000000</td>\n",
       "      <td>-999.000000</td>\n",
       "      <td>-999</td>\n",
       "      <td>   3.270927</td>\n",
       "      <td> -999.000000</td>\n",
       "      <td>  233.042007</td>\n",
       "      <td> -999.000000</td>\n",
       "      <td>...</td>\n",
       "      <td> 0.0075</td>\n",
       "      <td> 0.0074</td>\n",
       "      <td> 0.0516</td>\n",
       "      <td> 37.570442</td>\n",
       "      <td> 99</td>\n",
       "      <td> 0.131384</td>\n",
       "      <td> 1.215773</td>\n",
       "      <td> 3</td>\n",
       "      <td> 37</td>\n",
       "      <td> 1</td>\n",
       "    </tr>\n",
       "    <tr>\n",
       "      <th>4</th>\n",
       "      <td>-0.553589</td>\n",
       "      <td> -999.000000</td>\n",
       "      <td> -999.000000</td>\n",
       "      <td> 12997.260742</td>\n",
       "      <td>  36.478142</td>\n",
       "      <td>   1</td>\n",
       "      <td>   2.508381</td>\n",
       "      <td> 3197.543945</td>\n",
       "      <td>  611.250000</td>\n",
       "      <td> 3197.543945</td>\n",
       "      <td>...</td>\n",
       "      <td> 0.0075</td>\n",
       "      <td> 0.0074</td>\n",
       "      <td> 0.0516</td>\n",
       "      <td> 37.570442</td>\n",
       "      <td> 99</td>\n",
       "      <td> 0.018682</td>\n",
       "      <td> 0.401047</td>\n",
       "      <td> 4</td>\n",
       "      <td> 37</td>\n",
       "      <td> 1</td>\n",
       "    </tr>\n",
       "  </tbody>\n",
       "</table>\n",
       "<p>5 rows × 107 columns</p>\n",
       "</div>"
      ],
      "text/plain": [
       "   BremPIDe  CaloBremChi2  CaloBremMatch  CaloChargedEcal  CaloChargedPrs  \\\n",
       "0 -0.625066   5869.173340    4877.974609      -999.000000     -999.000000   \n",
       "1 -0.520672   7564.847168    2023.847412      -999.000000     -999.000000   \n",
       "2 -0.607507   3564.574707    1911.942993      3917.395996       32.089794   \n",
       "3 -0.553589   2857.849121     251.214142      -999.000000     -999.000000   \n",
       "4 -0.553589   -999.000000    -999.000000     12997.260742       36.478142   \n",
       "\n",
       "   CaloChargedSpd  CaloClusChi2  CaloEcalChi2    CaloEcalE  CaloElectronMatch  \\\n",
       "0            -999    211.867294   -999.000000     0.000000        -999.000000   \n",
       "1            -999      0.102166   -999.000000  5058.941895        -999.000000   \n",
       "2               1     30.240688   1584.167480     0.000000        1584.167480   \n",
       "3            -999      3.270927   -999.000000   233.042007        -999.000000   \n",
       "4               1      2.508381   3197.543945   611.250000        3197.543945   \n",
       "\n",
       "         ...          piplus_OWNPV_XERR  piplus_OWNPV_YERR  piplus_OWNPV_ZERR  \\\n",
       "0        ...                     0.0075             0.0074             0.0516   \n",
       "1        ...                     0.0075             0.0074             0.0516   \n",
       "2        ...                     0.0075             0.0074             0.0516   \n",
       "3        ...                     0.0075             0.0074             0.0516   \n",
       "4        ...                     0.0075             0.0074             0.0516   \n",
       "\n",
       "   piplus_OWNPV_CHI2  piplus_OWNPV_NDOF  piplus_IP_OWNPV  piplus_IPCHI2_OWNPV  \\\n",
       "0          37.570442                 99         0.097602             6.942336   \n",
       "1          37.570442                 99         0.017427             0.978000   \n",
       "2          37.570442                 99         0.068750             2.682488   \n",
       "3          37.570442                 99         0.131384             1.215773   \n",
       "4          37.570442                 99         0.018682             0.401047   \n",
       "\n",
       "   nCandidate  totCandidates  EventInSequence  \n",
       "0           0             37                1  \n",
       "1           1             37                1  \n",
       "2           2             37                1  \n",
       "3           3             37                1  \n",
       "4           4             37                1  \n",
       "\n",
       "[5 rows x 107 columns]"
      ]
     },
     "execution_count": 3,
     "metadata": {},
     "output_type": "execute_result"
    }
   ],
   "source": [
    "print pr_data.shape\n",
    "pr_data.head()"
   ]
  },
  {
   "cell_type": "markdown",
   "metadata": {
    "collapsed": true
   },
   "source": [
    "# Preselection"
   ]
  },
  {
   "cell_type": "code",
   "execution_count": 8,
   "metadata": {
    "collapsed": true
   },
   "outputs": [],
   "source": [
    "pr_data.to_csv('data.csv')"
   ]
  },
  {
   "cell_type": "code",
   "execution_count": 5,
   "metadata": {
    "collapsed": false
   },
   "outputs": [
    {
     "data": {
      "image/png": "[encoded data removed]",
      "text/plain": [
       "<matplotlib.figure.Figure at 0x1007daa90>"
      ]
     },
     "metadata": {},
     "output_type": "display_data"
    }
   ],
   "source": [
    "a = pr_data.MCParticleType.values\n",
    "plt.hist(a)\n",
    "plt.show()"
   ]
  },
  {
   "cell_type": "code",
   "execution_count": 6,
   "metadata": {
    "collapsed": false
   },
   "outputs": [],
   "source": [
    "b, c = numpy.unique(a, return_counts=True)"
   ]
  },
  {
   "cell_type": "code",
   "execution_count": 7,
   "metadata": {
    "collapsed": false
   },
   "outputs": [
    {
     "name": "stdout",
     "output_type": "stream",
     "text": [
      "-3312 79\n",
      "-3222 392\n",
      "-3112 259\n",
      "-2212 137622\n",
      "-521 1\n",
      "-411 2\n",
      "-321 183174\n",
      "-211 1231120\n",
      "-13 14027\n",
      "-11 115219\n",
      "0 1450854\n",
      "11 120742\n",
      "13 14171\n",
      "15 1\n",
      "211 1222058\n",
      "321 192073\n",
      "411 1\n",
      "2212 168258\n",
      "3112 230\n",
      "3222 462\n",
      "3312 95\n",
      "3334 1\n",
      "1000010020 6\n",
      "1000010030 7\n",
      "1000020030 2\n",
      "1000020040 1\n"
     ]
    }
   ],
   "source": [
    "for pdg, count in zip(b,c):\n",
    "    print pdg, count"
   ]
  },
  {
   "cell_type": "code",
   "execution_count": null,
   "metadata": {
    "collapsed": true
   },
   "outputs": [],
   "source": []
  }
 ],
 "metadata": {
  "kernelspec": {
   "display_name": "Python 2",
   "language": "python",
   "name": "python2"
  },
  "language_info": {
   "codemirror_mode": {
    "name": "ipython",
    "version": 2
   },
   "file_extension": ".py",
   "mimetype": "text/x-python",
   "name": "python",
   "nbconvert_exporter": "python",
   "pygments_lexer": "ipython2",
   "version": "2.7.10"
  }
 },
 "nbformat": 4,
 "nbformat_minor": 0
}
