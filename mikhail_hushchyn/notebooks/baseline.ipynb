{
 "cells": [
  {
   "cell_type": "markdown",
   "metadata": {},
   "source": [
    "# About\n",
    "\n",
    "These is a base solution of PID."
   ]
  },
  {
   "cell_type": "code",
   "execution_count": 1,
   "metadata": {
    "collapsed": true
   },
   "outputs": [],
   "source": [
    "%matplotlib inline\n",
    "import pandas\n",
    "import numpy\n",
    "import matplotlib.pyplot as plt\n",
    "\n",
    "import root_numpy\n",
    "from sklearn.metrics import roc_auc_score, roc_curve\n",
    "\n",
    "from rep.estimators import TMVAClassifier"
   ]
  },
  {
   "cell_type": "markdown",
   "metadata": {
    "collapsed": true
   },
   "source": [
    "#RUN"
   ]
  },
  {
   "cell_type": "code",
   "execution_count": 2,
   "metadata": {
    "collapsed": false
   },
   "outputs": [],
   "source": [
    "params = {}\n",
    "\n",
    "# Nets to track\n",
    "params['TRACK'] = \"Downstream\" # \"Long Downstream Upstream\"\n",
    "params['PARTICLE'] = \"Electron\" # \"Electron Muon Pion Kaon Proton Ghost\"\n",
    "\n",
    "params['MVATYPE'] = \"TMVA\"\n",
    "\n",
    "\n",
    "# General parameters\n",
    "params['GHOSTACPTFRAC'] = 1.0\n",
    "params['REUSETRAININGFILES'] = 0\n",
    "\n",
    "\n",
    "# Overall root dir\n",
    "params['MAINROOT'] = \"\"\n",
    "# Config directory\n",
    "params['CONFIGDIR'] = params['MAINROOT'] + \"configs\"\n",
    "\n",
    "\n",
    "# Network config\n",
    "params['CONFIGNAME'] = \"NoPreSels-NumSPDR1R2\"\n",
    "params['NNCONFIGNAME'] = params['MVATYPE'] + \"-\" + params['CONFIGNAME']\n",
    "params['NNCONFIGDIR'] = params['CONFIGDIR'] + \"/networks/\" + params['NNCONFIGNAME']\n",
    "params['NETCONFIG'] = params['NNCONFIGDIR'] + \"/\" + \\\n",
    "                      \"GlobalPID_\" + params['PARTICLE'] + \"_\" + params['TRACK'] + \"_ANN.txt\"\n",
    "    \n",
    "# Training config\n",
    "params['TRAINCONFIGNAME'] = \"test-EqualSigBck\"\n",
    "params['TRAINCONFIGDIR'] = params['CONFIGDIR'] + \"/training/\"\n",
    "params['TRAINCONFIG'] = params['TRAINCONFIGDIR'] + \\\n",
    "                        params['MVATYPE'] + \"-\" + params['TRAINCONFIGNAME'] + \".txt\"\n",
    "\n",
    "# Preselection configs\n",
    "params['TRACKSELCONFIGDIR'] = params['CONFIGDIR'] + \"/TrackSelection/\"\n",
    "\n",
    "\n",
    "# Training data\n",
    "params['DATAFILES'] = \"MC12\"\n",
    "params['TRAININGDATA'] = \"Mixture\"\n",
    "params['TRAINFILES'] = params['TRAINCONFIGDIR'] + \"/\" + params['DATAFILES'] + \"-TrainingFiles-\" + \\\n",
    "                       params['TRAININGDATA'] + \"-Cambridge.txt\"\n",
    "    \n",
    "    \n",
    "# Eval data\n",
    "params['EVALDATA'] = \"Mixture\"\n",
    "params['EVALFILES'] = params['TRAINCONFIGDIR'] + \"/\" + params['DATAFILES'] + \"-TrainingFiles-\" + \\\n",
    "                      params['EVALDATA'] + \"-Cambridge.txt\"\n",
    "\n",
    "\n",
    "# Main training directory\n",
    "params['TRAINLOC']=params['DATAFILES'] + \"/Train\" + params['TRAININGDATA'] + \"/\" + params['TRAINCONFIGNAME'] + \\\n",
    "                   \"/GhostAccFrac\" + str(params['GHOSTACPTFRAC']) + \"/\" + params['NNCONFIGNAME']\n",
    "\n",
    "params['TRAINDIR'] = params['MAINROOT'] + \"results/\" + params['TRAINLOC']\n",
    "params['TRAINDIR'] = params['TRAINDIR'] + \"/\" + params['PARTICLE'] + \"/\" + params['TRACK']\n"
   ]
  },
  {
   "cell_type": "markdown",
   "metadata": {},
   "source": [
    "# Get train data"
   ]
  },
  {
   "cell_type": "code",
   "execution_count": 4,
   "metadata": {
    "collapsed": false
   },
   "outputs": [
    {
     "name": "stdout",
     "output_type": "stream",
     "text": [
      "Folder with results was created:results/MC12/TrainMixture/test-EqualSigBck/GhostAccFrac1.0/TMVA-NoPreSels-NumSPDR1R2/Electron/Downstream\n",
      "Names of train features were saved.\n",
      "Initialisation is completed.\n",
      "Start reading files.\n",
      "\n",
      "File http://www.hep.phy.cam.ac.uk/~jonesc/lhcb/PID/ProtoParticlePIDtuples/MC/Sim08x/Digi13/Reco14a/Ka-BdKKPi0/ANNPID.75.root is readed.\n",
      "\n",
      "Data is written.\n",
      "Reading train data is completed.\n",
      "\n",
      "Writing train data is completed.\n",
      "\n"
     ]
    }
   ],
   "source": [
    "import os, sys\n",
    "sys.path.append('src')\n",
    "\n",
    "from get_train_data import get_train_data\n",
    "\n",
    "data_signal, data_bkg, features = get_train_data(params, location='http')"
   ]
  },
  {
   "cell_type": "markdown",
   "metadata": {},
   "source": [
    "# Prepare data"
   ]
  },
  {
   "cell_type": "code",
   "execution_count": 5,
   "metadata": {
    "collapsed": false
   },
   "outputs": [],
   "source": [
    "from sklearn.cross_validation import train_test_split\n",
    "\n",
    "data_train_signal, data_test_signal = train_test_split(data_signal, test_size=0.3, random_state=42)\n",
    "data_train_bkg, data_test_bkg = train_test_split(data_bkg, test_size=0.3, random_state=42)\n",
    "\n",
    "\n",
    "train_data = pandas.concat([data_train_signal, data_train_bkg], axis=0)\n",
    "train_labels = numpy.concatenate((numpy.ones(len(data_train_signal)), numpy.zeros(len(data_train_bkg))), axis=0)\n",
    "\n",
    "test_data = pandas.concat([data_test_signal, data_test_bkg], axis=0)\n",
    "test_labels = numpy.concatenate((numpy.ones(len(data_test_signal)), numpy.zeros(len(data_test_bkg))), axis=0)\n",
    "\n",
    "\n",
    "training_mix = numpy.loadtxt(params['TRAINCONFIG'], dtype='S', delimiter='\\n', comments='#')[5]\n",
    "if \"EqualSigBck\" == training_mix:\n",
    "    k = 1. * len(data_train_signal)/len(data_train_bkg)\n",
    "else:\n",
    "    k = 1.\n",
    "\n",
    "    \n",
    "sample_weight = numpy.concatenate((numpy.ones(len(data_train_signal)),\n",
    "                                   k * numpy.ones(len(data_train_bkg))), axis=0)"
   ]
  },
  {
   "cell_type": "markdown",
   "metadata": {},
   "source": [
    "# Train TMVA MLP"
   ]
  },
  {
   "cell_type": "code",
   "execution_count": 15,
   "metadata": {
    "collapsed": false
   },
   "outputs": [
    {
     "data": {
      "text/plain": [
       "TMVAClassifier(ConvergenceImprove='1e-16', ConvergenceTests='15',\n",
       "        EpochMonitoring='true', EstimatorType='CE', H='true',\n",
       "        HiddenLayers=49.0, NCycles=50, NeuronType='sigmoid',\n",
       "        TrainingMethod='BP', UseRegulator='true', V='true',\n",
       "        VarTransform='Norm',\n",
       "        factory_options='V:!Silent:!Color:!DrawProgressBar:AnalysisType=Classification',\n",
       "        features=['NumSPDHits', 'NumRich1Hits', 'NumRich2Hits', 'TrackP', 'TrackPt', 'TrackChi2PerDof', 'TrackNumDof', 'TrackLikelihood', 'TrackGhostProbability', 'TrackCloneDist', 'TrackFitTChi2', 'TrackFitTNDoF', 'RichUsedAero', 'RichUsedR1Gas', 'RichUsedR2Gas', 'RichAboveMuThres', 'RichAboveKaThres', 'Ri...MuonNShared', 'InAccEcal', 'EcalPIDe', 'EcalPIDmu', 'InAccHcal', 'HcalPIDe', 'HcalPIDmu', 'PrsPIDe'],\n",
       "        method='kMLP')"
      ]
     },
     "execution_count": 15,
     "metadata": {},
     "output_type": "execute_result"
    }
   ],
   "source": [
    "tmva_mlp = TMVAClassifier(method='kMLP',\n",
    "                      features=features,\n",
    "                      factory_options=\"V:!Silent:!Color:!DrawProgressBar\",\n",
    "                      H='true',\n",
    "                      V='true',\n",
    "                      EpochMonitoring='true',\n",
    "                      HiddenLayers=1.4*len(features),\n",
    "                      UseRegulator='true',\n",
    "                      ConvergenceImprove = \"1e-16\",\n",
    "                      ConvergenceTests = \"15\",\n",
    "                      VarTransform = \"Norm\",\n",
    "                      NCycles = 50,\n",
    "                      NeuronType = \"sigmoid\",\n",
    "                      TrainingMethod = \"BP\",\n",
    "                      EstimatorType = \"CE\")\n",
    "\n",
    "\n",
    "tmva_mlp.fit(train_data, train_labels, sample_weight=sample_weight)"
   ]
  },
  {
   "cell_type": "code",
   "execution_count": 16,
   "metadata": {
    "collapsed": false
   },
   "outputs": [
    {
     "data": {
      "image/png": "[encoded data removed]",
      "text/plain": [
       "<matplotlib.figure.Figure at 0x103066a90>"
      ]
     },
     "metadata": {},
     "output_type": "display_data"
    }
   ],
   "source": [
    "prob_mlp = tmva_mlp.predict_proba(test_data)\n",
    "\n",
    "roc_auc = roc_auc_score(test_labels, prob_mlp[:, 1])\n",
    "fpr, tpr, _ = roc_curve(test_labels, prob_mlp[:, 1])\n",
    "\n",
    "plt.plot(fpr, tpr)\n",
    "plt.title(\"ROC AUC = %.2f\" % roc_auc)\n",
    "plt.xlabel(\"FPR\")\n",
    "plt.ylabel(\"TPR\")\n",
    "plt.show()"
   ]
  },
  {
   "cell_type": "markdown",
   "metadata": {},
   "source": [
    "# Train TMVA BDT"
   ]
  },
  {
   "cell_type": "code",
   "execution_count": 6,
   "metadata": {
    "collapsed": false
   },
   "outputs": [
    {
     "data": {
      "text/plain": [
       "TMVAClassifier(BoostType='AdaBoost', H='false', MaxDepth=3, NTrees=800,\n",
       "        PruneMethod='CostComplexity', PruneStrength=-1,\n",
       "        PruningValFraction=0.3, V='true', VarTransform='Norm',\n",
       "        factory_options='V:!Silent:!Color:!DrawProgressBar:AnalysisType=Classification',\n",
       "        features=['NumSPDHits', 'NumRich1Hits', 'NumRich2Hits', 'TrackP', 'TrackPt', 'TrackChi2PerDof', 'TrackNumDof', 'TrackLikelihood', 'TrackGhostProbability', 'TrackCloneDist', 'TrackFitTChi2', 'TrackFitTNDoF', 'RichUsedAero', 'RichUsedR1Gas', 'RichUsedR2Gas', 'RichAboveMuThres', 'RichAboveKaThres', 'Ri...MuonNShared', 'InAccEcal', 'EcalPIDe', 'EcalPIDmu', 'InAccHcal', 'HcalPIDe', 'HcalPIDmu', 'PrsPIDe'],\n",
       "        method='kBDT')"
      ]
     },
     "execution_count": 6,
     "metadata": {},
     "output_type": "execute_result"
    }
   ],
   "source": [
    "tmva_bdt = TMVAClassifier(method='kBDT',\n",
    "                      features=features,\n",
    "                      factory_options=\"V:!Silent:!Color:!DrawProgressBar\",\n",
    "                      H='false',\n",
    "                      V='true',\n",
    "                      NTrees=800,\n",
    "                      VarTransform = \"Norm\",\n",
    "                      BoostType = \"AdaBoost\",\n",
    "                      PruneMethod = \"CostComplexity\",\n",
    "                      PruneStrength = -1,\n",
    "                      MaxDepth = 3,\n",
    "                      PruningValFraction = 0.3)\n",
    "\n",
    "tmva_bdt.fit(train_data, train_labels, sample_weight=sample_weight)"
   ]
  },
  {
   "cell_type": "code",
   "execution_count": 7,
   "metadata": {
    "collapsed": false
   },
   "outputs": [
    {
     "data": {
      "image/png": "[encoded data removed]",
      "text/plain": [
       "<matplotlib.figure.Figure at 0x110ad5bd0>"
      ]
     },
     "metadata": {},
     "output_type": "display_data"
    }
   ],
   "source": [
    "prob_bdt = tmva_bdt.predict_proba(test_data)\n",
    "\n",
    "roc_auc = roc_auc_score(test_labels, prob_bdt[:, 1])\n",
    "fpr, tpr, _ = roc_curve(test_labels, prob_bdt[:, 1])\n",
    "\n",
    "plt.plot(fpr, tpr)\n",
    "plt.title(\"ROC AUC = %.2f\" % roc_auc)\n",
    "plt.xlabel(\"FPR\")\n",
    "plt.ylabel(\"TPR\")\n",
    "plt.show()"
   ]
  },
  {
   "cell_type": "code",
   "execution_count": null,
   "metadata": {
    "collapsed": true
   },
   "outputs": [],
   "source": []
  }
 ],
 "metadata": {
  "kernelspec": {
   "display_name": "Python 2",
   "language": "python",
   "name": "python2"
  },
  "language_info": {
   "codemirror_mode": {
    "name": "ipython",
    "version": 2
   },
   "file_extension": ".py",
   "mimetype": "text/x-python",
   "name": "python",
   "nbconvert_exporter": "python",
   "pygments_lexer": "ipython2",
   "version": "2.7.10"
  }
 },
 "nbformat": 4,
 "nbformat_minor": 0
}
