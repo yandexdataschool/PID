{
 "cells": [
  {
   "cell_type": "markdown",
   "metadata": {},
   "source": [
    "# About\n",
    "\n",
    "These is a base solution of PID."
   ]
  },
  {
   "cell_type": "code",
   "execution_count": 1,
   "metadata": {
    "collapsed": true
   },
   "outputs": [],
   "source": [
    "%matplotlib inline\n",
    "import pandas\n",
    "import numpy\n",
    "import matplotlib.pyplot as plt\n",
    "from sklearn.metrics import roc_auc_score, roc_curve\n",
    "import os"
   ]
  },
  {
   "cell_type": "markdown",
   "metadata": {},
   "source": [
    "# Init params"
   ]
  },
  {
   "cell_type": "code",
   "execution_count": 2,
   "metadata": {
    "collapsed": false
   },
   "outputs": [],
   "source": [
    "track = 'Long'\n",
    "particle = 'Proton'\n",
    "\n",
    "data_path = \"data/MC2015Sim09Dev03/TrainMixture/TrainPhysTks-EvalPhysTks-NoReweight/\\\n",
    "GhostAccFrac1.0/TMVA-Run2-NoTkLikCD/\" + track\n",
    "\n",
    "work_path = \"baseline/MC2015Sim09Dev03/TrainMixture/TrainPhysTks-EvalPhysTks-NoReweight/GhostAccFrac1.0/\" + \\\n",
    "particle + \"/\" + track + \"/PyROOT_TMVA/kMLP\"\n",
    "\n",
    "netconfig_path = \"data/configs/networks/TMVA-Run2-NoTkLikCDVelodEdx/\" + \"GlobalPID_\" \\\n",
    "+ particle + \"_\" + track + \"_ANN.txt\"\n",
    "\n",
    "# if not os.path.exists(work_path):\n",
    "#     os.makedirs(work_path)\n",
    "# os.chdir(work_path)"
   ]
  },
  {
   "cell_type": "code",
   "execution_count": 3,
   "metadata": {
    "collapsed": false
   },
   "outputs": [
    {
     "data": {
      "text/plain": [
       "u'/Users/mikhail91/Documents/Github/PID/mikhail_hushchyn'"
      ]
     },
     "execution_count": 3,
     "metadata": {},
     "output_type": "execute_result"
    }
   ],
   "source": [
    "pwd"
   ]
  },
  {
   "cell_type": "code",
   "execution_count": 4,
   "metadata": {
    "collapsed": true
   },
   "outputs": [],
   "source": [
    "particle_pdg_codes = {\"all\": 999999,\n",
    "                    \"Ghost\": 0,\n",
    "                    \"Electron\": 11,\n",
    "                    \"Muon\": 13,\n",
    "                    \"Pion\": 211,\n",
    "                    \"Kaon\": 321,\n",
    "                    \"Proton\": 2212}\n",
    "\n",
    "pdg = particle_pdg_codes[particle]"
   ]
  },
  {
   "cell_type": "code",
   "execution_count": 5,
   "metadata": {
    "collapsed": true
   },
   "outputs": [],
   "source": [
    "netconfig = numpy.loadtxt(netconfig_path, dtype='S', delimiter='\\n', comments='!')\n",
    "features = []\n",
    "spectator_features = []\n",
    "\n",
    "for var in netconfig[5:]:\n",
    "    \n",
    "    if var.find('#') == -1:\n",
    "        features.append(var)\n",
    "    else:\n",
    "        spectator_features.append(var[1:])"
   ]
  },
  {
   "cell_type": "code",
   "execution_count": 6,
   "metadata": {
    "collapsed": false
   },
   "outputs": [
    {
     "name": "stdout",
     "output_type": "stream",
     "text": [
      "dfwefwefwef = 2212\n"
     ]
    }
   ],
   "source": [
    "print \"dfwefwefwef = %d\" % pdg"
   ]
  },
  {
   "cell_type": "markdown",
   "metadata": {},
   "source": [
    "# Read data"
   ]
  },
  {
   "cell_type": "code",
   "execution_count": 7,
   "metadata": {
    "collapsed": false
   },
   "outputs": [],
   "source": [
    "import ROOT\n",
    "f = ROOT.TFile(data_path +'/data_train.root')\n",
    "ntuple = f.Get('tree')"
   ]
  },
  {
   "cell_type": "code",
   "execution_count": 8,
   "metadata": {
    "collapsed": false
   },
   "outputs": [
    {
     "name": "stdout",
     "output_type": "stream",
     "text": [
      "24585 335414\n"
     ]
    }
   ],
   "source": [
    "import root_numpy\n",
    "p_type = root_numpy.root2array(data_path +'/data_train.root', treename='tree', branches=['MCParticleType'])\n",
    "p_type = numpy.asarray(p_type, dtype=float)\n",
    "p_type = numpy.abs(p_type)\n",
    "\n",
    "nTest_Signal = int(0.3 * (p_type == pdg).sum())\n",
    "nTest_Bkg = int(0.3 * (p_type != pdg).sum())\n",
    "\n",
    "print nTest_Signal, nTest_Bkg"
   ]
  },
  {
   "cell_type": "markdown",
   "metadata": {},
   "source": [
    "# Train TMVA MLP"
   ]
  },
  {
   "cell_type": "code",
   "execution_count": 9,
   "metadata": {
    "collapsed": false
   },
   "outputs": [],
   "source": [
    "import ROOT\n",
    "ROOT.TMVA.Tools.Instance()\n",
    "fout = ROOT.TFile(work_path + \"/test.root\",\"RECREATE\")\n",
    "\n",
    "factory = ROOT.TMVA.Factory(\"TMVAClassification\", fout,\n",
    "                            \":\".join([\n",
    "                                \"!V\",\n",
    "                                \"!Silent\",\n",
    "                                \"Color\",\n",
    "                                \"DrawProgressBar\",\n",
    "                                \"Transformations=I\",#;D;P;G,D\n",
    "                                \"AnalysisType=Classification\"]\n",
    "                                     ))\n",
    "\n",
    "for i in range(0, len(features)):\n",
    "    factory.AddVariable(features[i],\"F\")\n",
    "#factory.AddVariable(\"TrackPt\",\"F\")\n",
    "\n",
    "\n",
    "\n",
    "factory.AddSignalTree(ntuple)\n",
    "factory.AddBackgroundTree(ntuple)\n",
    " \n",
    "# cuts defining the signal and background sample\n",
    "sigCut = ROOT.TCut(\"abs(MCParticleType) == %d\" % pdg)\n",
    "bgCut = ROOT.TCut(\"abs(MCParticleType) != %d\" % pdg)\n",
    " \n",
    "factory.PrepareTrainingAndTestTree(sigCut,   # signal events\n",
    "                                   bgCut,    # background events\n",
    "                                   \":\".join([\n",
    "                                        \"nTrain_Signal=0\",\n",
    "                                        \"nTrain_Background=0\",\n",
    "                                        \"nTest_Signal=%d\" % nTest_Signal,\n",
    "                                        \"nTest_Background=%d\" % nTest_Bkg,\n",
    "                                        \"SplitMode=Random\",\n",
    "                                        \"NormMode=None\",\n",
    "                                        \"SplitSeed=42\"\n",
    "                                        \"!V\"\n",
    "                                       ]))"
   ]
  },
  {
   "cell_type": "code",
   "execution_count": 10,
   "metadata": {
    "collapsed": false
   },
   "outputs": [
    {
     "name": "stdout",
     "output_type": "stream",
     "text": [
      "adwedwe 47\n"
     ]
    }
   ],
   "source": [
    "N = int(1.4 * len(features))\n",
    "print \"adwedwe %d\" % N"
   ]
  },
  {
   "cell_type": "code",
   "execution_count": null,
   "metadata": {
    "collapsed": false
   },
   "outputs": [],
   "source": [
    "%%time\n",
    "\n",
    "method = factory.BookMethod(ROOT.TMVA.Types.kMLP, \"MLP\",\n",
    "                   \":\".join([\n",
    "                       \"H\",\n",
    "                       \"V\",\n",
    "                       \"NCycles=750\",\n",
    "                       \"HiddenLayers=%d\" % N,\n",
    "                       \"EpochMonitoring=true\",\n",
    "                       \"UseRegulator=true\",\n",
    "                       \"ConvergenceImprove=1e-16\",\n",
    "                       \"ConvergenceTests=15\",\n",
    "                       \"VarTransform=Norm\",\n",
    "                       \"NeuronType=sigmoid\",\n",
    "                        \"TrainingMethod=BP\",\n",
    "                        \"EstimatorType=CE\"\n",
    "                       ]))\n",
    " \n",
    "factory.TrainAllMethods()\n",
    "factory.TestAllMethods()\n",
    "factory.EvaluateAllMethods()"
   ]
  },
  {
   "cell_type": "markdown",
   "metadata": {},
   "source": [
    "# Evaluation"
   ]
  },
  {
   "cell_type": "code",
   "execution_count": 7,
   "metadata": {
    "collapsed": false
   },
   "outputs": [],
   "source": [
    "import ROOT\n",
    "reader = ROOT.TMVA.Reader()\n",
    "import array\n",
    "\n",
    "L = []\n",
    "\n",
    "for i in range(0, len(features)):\n",
    "    var = array.array('f',[0])\n",
    "    reader.AddVariable(features[i],var)\n",
    "    L.append(var)\n",
    "\n",
    "reader.BookMVA(\"MLP\",work_path + \"/weights/TMVAClassification_MLP.weights.xml\")\n",
    "\n",
    "\n",
    "\n",
    "\n",
    "filename = data_path + \"/data_eval.csv\"\n",
    "data_eval = pandas.read_csv(filename)\n",
    "\n",
    "labels_eval = (numpy.abs(data_eval.MCParticleType.values) == pdg) * 1.\n",
    "\n",
    "\n",
    "test = numpy.array(data_eval[features+['MCParticleType']].values.tolist())"
   ]
  },
  {
   "cell_type": "code",
   "execution_count": 8,
   "metadata": {
    "collapsed": false
   },
   "outputs": [],
   "source": [
    "probas = []\n",
    "for i in range(0, len(test)):\n",
    "    for k in range(0, len(L)):\n",
    "        L[k][0] = test[i,:][k]\n",
    "    probas.append(reader.EvaluateMVA(\"MLP\"))\n"
   ]
  },
  {
   "cell_type": "code",
   "execution_count": 9,
   "metadata": {
    "collapsed": false
   },
   "outputs": [
    {
     "data": {
      "image/png": "[encoded data removed]",
      "text/plain": [
       "<matplotlib.figure.Figure at 0x10b142f90>"
      ]
     },
     "metadata": {},
     "output_type": "display_data"
    }
   ],
   "source": [
    "probas = numpy.array(probas)\n",
    "plt.hist(probas[labels_eval==1], color='b', alpha=0.5, label='1', normed=True)\n",
    "plt.hist(probas[labels_eval==0], color='r', alpha=0.5, label='0', normed=True)\n",
    "plt.legend(loc='best')\n",
    "plt.show()"
   ]
  },
  {
   "cell_type": "code",
   "execution_count": 10,
   "metadata": {
    "collapsed": false
   },
   "outputs": [
    {
     "name": "stdout",
     "output_type": "stream",
     "text": [
      "0.922970866558\n"
     ]
    }
   ],
   "source": [
    "roc_auc = roc_auc_score(labels_eval, probas)\n",
    "print roc_auc"
   ]
  },
  {
   "cell_type": "code",
   "execution_count": 11,
   "metadata": {
    "collapsed": false
   },
   "outputs": [
    {
     "data": {
      "text/plain": [
       "array([[  3.67406660e-01,   6.32593340e-01],\n",
       "       [  6.43076354e-01,   3.56923646e-01],\n",
       "       [  9.99391905e-01,   6.08094780e-04],\n",
       "       ..., \n",
       "       [  9.84070877e-01,   1.59291227e-02],\n",
       "       [  7.46300337e-01,   2.53699663e-01],\n",
       "       [  6.36120334e-01,   3.63879666e-01]])"
      ]
     },
     "execution_count": 11,
     "metadata": {},
     "output_type": "execute_result"
    }
   ],
   "source": [
    "import os, sys\n",
    "sys.path.append('src')\n",
    "\n",
    "from get_figures import all_figures\n",
    "\n",
    "params = {}\n",
    "params['PARTICLE'] = particle\n",
    "params['TRACK'] = track\n",
    "\n",
    "eval_proba = numpy.concatenate(((1 - probas).reshape(-1, 1), probas.reshape(-1, 1)), axis=1)\n",
    "eval_proba"
   ]
  },
  {
   "cell_type": "code",
   "execution_count": 12,
   "metadata": {
    "collapsed": false
   },
   "outputs": [
    {
     "name": "stdout",
     "output_type": "stream",
     "text": [
      "CPU times: user 11min 1s, sys: 2min 11s, total: 13min 13s\n",
      "Wall time: 13min 42s\n"
     ]
    },
    {
     "data": {
      "text/plain": [
       "1"
      ]
     },
     "execution_count": 12,
     "metadata": {},
     "output_type": "execute_result"
    }
   ],
   "source": [
    "%%time\n",
    "all_figures(params, data_eval, eval_proba, labels_eval, features, path= work_path + \"/pic\")"
   ]
  },
  {
   "cell_type": "code",
   "execution_count": null,
   "metadata": {
    "collapsed": true
   },
   "outputs": [],
   "source": []
  }
 ],
 "metadata": {
  "kernelspec": {
   "display_name": "Python 2",
   "language": "python",
   "name": "python2"
  },
  "language_info": {
   "codemirror_mode": {
    "name": "ipython",
    "version": 2
   },
   "file_extension": ".py",
   "mimetype": "text/x-python",
   "name": "python",
   "nbconvert_exporter": "python",
   "pygments_lexer": "ipython2",
   "version": "2.7.11"
  }
 },
 "nbformat": 4,
 "nbformat_minor": 0
}
