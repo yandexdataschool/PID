{
 "cells": [
  {
   "cell_type": "markdown",
   "metadata": {},
   "source": [
    "# About\n",
    "\n",
    "These is a base solution of PID."
   ]
  },
  {
   "cell_type": "code",
   "execution_count": 1,
   "metadata": {
    "collapsed": true
   },
   "outputs": [],
   "source": [
    "import ROOT"
   ]
  },
  {
   "cell_type": "code",
   "execution_count": 2,
   "metadata": {
    "collapsed": false
   },
   "outputs": [],
   "source": [
    "%matplotlib inline\n",
    "import pandas\n",
    "import numpy\n",
    "import matplotlib.pyplot as plt\n",
    "\n",
    "import root_numpy\n",
    "from sklearn.metrics import roc_auc_score, roc_curve\n",
    "\n",
    "from rep.estimators import TMVAClassifier\n",
    "\n",
    "import os, sys\n",
    "sys.path.append('src/')\n",
    "\n",
    "from get_eval_data import get_eval_data\n",
    "from get_train_data import get_train_data"
   ]
  },
  {
   "cell_type": "markdown",
   "metadata": {
    "collapsed": true
   },
   "source": [
    "# RUN"
   ]
  },
  {
   "cell_type": "code",
   "execution_count": 3,
   "metadata": {
    "collapsed": false,
    "scrolled": false
   },
   "outputs": [
    {
     "name": "stdout",
     "output_type": "stream",
     "text": [
      "Datapath:  /notebooks/data/MC2015Sim09Dev03/TrainMixture/TrainPhysTks-EvalPhysTks-NoReweight-EqualMix/GhostAccFrac1.0/XGBoost-Run2-NoTkLikCD/Long\n",
      "The directory exist.\n",
      "Initialisation is completed.\n",
      "Start reading files.\n"
     ]
    },
    {
     "name": "stderr",
     "output_type": "stream",
     "text": [
      "src/get_eval_data.py:375: FutureWarning: irow(i) is deprecated. Please use .iloc[i]\n",
      "  data_row = eval_tree.irow([irow])\n",
      "src/get_eval_data.py:398: FutureWarning: irow(i) is deprecated. Please use .iloc[i]\n",
      "  data_eval = eval_tree.irow(rows_eval)\n"
     ]
    },
    {
     "name": "stdout",
     "output_type": "stream",
     "text": [
      "\n",
      "File http://www.hep.phy.cam.ac.uk/~jonesc/lhcb/PID/ProtoParticlePIDtuples/MC/Sim09Devx/Reco15x/Dev03/ANNPID.8.root is readed.\n",
      "\n",
      "Data is written.\n",
      "File http://www.hep.phy.cam.ac.uk/~jonesc/lhcb/PID/ProtoParticlePIDtuples/MC/Sim09Devx/Reco15x/Dev03/ANNPID.9.root is readed.\n",
      "\n",
      "Data is written.\n",
      "File http://www.hep.phy.cam.ac.uk/~jonesc/lhcb/PID/ProtoParticlePIDtuples/MC/Sim09Devx/Reco15x/Dev03/ANNPID.10.root is readed.\n",
      "\n",
      "Data is written.\n",
      "File http://www.hep.phy.cam.ac.uk/~jonesc/lhcb/PID/ProtoParticlePIDtuples/MC/Sim09Devx/Reco15x/Dev03/ANNPID.11.root is readed.\n",
      "\n",
      "Data is written.\n",
      "Reading train data is completed.\n",
      "\n",
      "Writing train data is completed.\n",
      "\n",
      "/notebooks/data/MC2015Sim09Dev03/TrainMixture/TrainPhysTks-EvalPhysTks-NoReweight-EqualMix/GhostAccFrac1.0/XGBoost-Run2-NoTkLikCD/Long\n"
     ]
    }
   ],
   "source": [
    "params = {}\n",
    "\n",
    "# Nets to track\n",
    "for params['TRACK'] in [\"Long\"] : # \"Long Downstream Upstream\"\n",
    "\n",
    "    for params['PARTICLE'] in [\"Electron\"]: # \"Electron Muon Pion Kaon Proton Ghost\"\n",
    "\n",
    "        params['MVATYPE'] = \"XGBoost\"\n",
    "\n",
    "\n",
    "        # General parameters\n",
    "        for params['GHOSTACPTFRAC'] in [1.0]:\n",
    "            params['REUSETRAININGFILES'] = 0\n",
    "\n",
    "\n",
    "            # Overall root dir\n",
    "            params['MAINROOT'] = \"/notebooks/data/\"\n",
    "            # Config directory\n",
    "            params['CONFIGDIR'] = params['MAINROOT'] + \"configs\"\n",
    "\n",
    "\n",
    "            # Network config\n",
    "            for params['CONFIGNAME'] in [\"Run2-NoTkLikCD\"]:\n",
    "\n",
    "                params['NNCONFIGNAME'] = params['MVATYPE'] + \"-\" + params['CONFIGNAME']\n",
    "                params['NNCONFIGDIR'] = params['CONFIGDIR'] + \"/networks/\" + params['NNCONFIGNAME']\n",
    "                params['NETCONFIG'] = params['NNCONFIGDIR'] + \"/\" + \\\n",
    "                                      \"GlobalPID_\" + params['PARTICLE'] + \"_\" + params['TRACK'] + \"_ANN.txt\"\n",
    "\n",
    "                # Training config\n",
    "                for params['TRAINCONFIGNAME'] in [\"TrainPhysTks-EvalPhysTks-NoReweight-EqualMix\"]:# \"TrainAllTks-EvalAllTks-NoReweight\"\n",
    "\n",
    "                    params['TRAINCONFIGDIR'] = params['CONFIGDIR'] + \"/training/\"\n",
    "                    params['TRAINCONFIG'] = params['TRAINCONFIGDIR'] + \\\n",
    "                                            params['MVATYPE'] + \"-\" + params['TRAINCONFIGNAME'] + \".txt\"\n",
    "\n",
    "                    # Preselection configs\n",
    "                    params['TRACKSELCONFIGDIR'] = params['CONFIGDIR'] + \"/TrackSelection/\"\n",
    "\n",
    "\n",
    "                    # Training data\n",
    "                    params['DATAFILES'] = \"MC2015Sim09Dev03\"\n",
    "                    params['TRAININGDATA'] = \"Mixture\"\n",
    "                    params['TRAINFILES'] = params['TRAINCONFIGDIR'] + \"/\" + params['DATAFILES'] + \"-TrainingFiles-\" + \\\n",
    "                                           params['TRAININGDATA'] + \"-Cambridge.txt\"\n",
    "\n",
    "\n",
    "                    # Eval data\n",
    "                    params['EVALDATA'] = \"Mixture\"\n",
    "                    params['EVALFILES'] = params['TRAINCONFIGDIR'] + \"/\" + params['DATAFILES'] + \"-TrainingFiles-\" + \\\n",
    "                                          params['EVALDATA'] + \"-Cambridge.txt\"\n",
    "\n",
    "\n",
    "                    # Main training directory\n",
    "                    params['TRAINLOC']=params['DATAFILES'] + \"/Train\" + params['TRAININGDATA'] + \"/\" + params['TRAINCONFIGNAME'] + \\\n",
    "                                       \"/GhostAccFrac\" + str(params['GHOSTACPTFRAC']) + \"/\" + params['NNCONFIGNAME']\n",
    "\n",
    "                    params['TRAINDIR'] = params['MAINROOT'] + params['TRAINLOC']\n",
    "                    params['TRAINDIR'] = params['TRAINDIR'] + \"/\" + params['TRACK']\n",
    "\n",
    "                    print \"Datapath: \", params['TRAINDIR']\n",
    "                    \n",
    "                    workpath = get_train_data(params, location='http', file_name='data_train.csv')\n",
    "                    print workpath\n",
    "                    \n",
    "                    workpath = get_eval_data(params, location='http')\n",
    "                    print workpath"
   ]
  },
  {
   "cell_type": "code",
   "execution_count": null,
   "metadata": {
    "collapsed": true
   },
   "outputs": [],
   "source": []
  },
  {
   "cell_type": "code",
   "execution_count": null,
   "metadata": {
    "collapsed": true
   },
   "outputs": [],
   "source": []
  }
 ],
 "metadata": {
  "kernelspec": {
   "display_name": "Python 2",
   "language": "python",
   "name": "python2"
  },
  "language_info": {
   "codemirror_mode": {
    "name": "ipython",
    "version": 2
   },
   "file_extension": ".py",
   "mimetype": "text/x-python",
   "name": "python",
   "nbconvert_exporter": "python",
   "pygments_lexer": "ipython2",
   "version": "2.7.10"
  }
 },
 "nbformat": 4,
 "nbformat_minor": 0
}
