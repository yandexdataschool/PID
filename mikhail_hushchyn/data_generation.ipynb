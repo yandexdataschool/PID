{
 "cells": [
  {
   "cell_type": "markdown",
   "metadata": {},
   "source": [
    "# About\n",
    "\n",
    "These is a base solution of PID."
   ]
  },
  {
   "cell_type": "code",
   "execution_count": 1,
   "metadata": {
    "collapsed": false
   },
   "outputs": [],
   "source": [
    "%matplotlib inline\n",
    "import pandas\n",
    "import numpy\n",
    "import matplotlib.pyplot as plt\n",
    "import root_numpy\n",
    "import os"
   ]
  },
  {
   "cell_type": "markdown",
   "metadata": {},
   "source": [
    "# Get files https"
   ]
  },
  {
   "cell_type": "code",
   "execution_count": 2,
   "metadata": {
    "collapsed": false
   },
   "outputs": [],
   "source": [
    "def get_files_https(files):\n",
    "\n",
    "    files_http = []\n",
    "\n",
    "    for one_file in files:\n",
    "\n",
    "        one_file_path, one_file_tree_name = one_file.split(':')\n",
    "\n",
    "        one_file_http = one_file_path.replace(\"/r02/lhcb/jonesc/ANNPID/\", \"http://www.hep.phy.cam.ac.uk/~jonesc/lhcb/PID/\")\n",
    "\n",
    "        files_http.append((one_file_http, one_file_tree_name))\n",
    "\n",
    "    return files_http"
   ]
  },
  {
   "cell_type": "code",
   "execution_count": 3,
   "metadata": {
    "collapsed": false
   },
   "outputs": [
    {
     "name": "stdout",
     "output_type": "stream",
     "text": [
      "552\n"
     ]
    },
    {
     "data": {
      "text/plain": [
       "[('http://www.hep.phy.cam.ac.uk/~jonesc/lhcb/PID/ProtoParticlePIDtuples/MC/Sim09Devx/Reco15x/Dev03/ANNPID.1.root',\n",
       "  'ANNPID/DecayTree'),\n",
       " ('http://www.hep.phy.cam.ac.uk/~jonesc/lhcb/PID/ProtoParticlePIDtuples/MC/Sim09Devx/Reco15x/Dev03/ANNPID.2.root',\n",
       "  'ANNPID/DecayTree'),\n",
       " ('http://www.hep.phy.cam.ac.uk/~jonesc/lhcb/PID/ProtoParticlePIDtuples/MC/Sim09Devx/Reco15x/Dev03/ANNPID.3.root',\n",
       "  'ANNPID/DecayTree'),\n",
       " ('http://www.hep.phy.cam.ac.uk/~jonesc/lhcb/PID/ProtoParticlePIDtuples/MC/Sim09Devx/Reco15x/Dev03/ANNPID.4.root',\n",
       "  'ANNPID/DecayTree'),\n",
       " ('http://www.hep.phy.cam.ac.uk/~jonesc/lhcb/PID/ProtoParticlePIDtuples/MC/Sim09Devx/Reco15x/Dev03/ANNPID.5.root',\n",
       "  'ANNPID/DecayTree')]"
      ]
     },
     "execution_count": 3,
     "metadata": {},
     "output_type": "execute_result"
    }
   ],
   "source": [
    "path_files_txt = '../../../data/configs/training/MC2015Sim09Dev03-TrainingFiles-Mixture-Cambridge.txt'\n",
    "files = numpy.loadtxt(path_files_txt, dtype='S', delimiter='\\n', comments='#')\n",
    "\n",
    "files_http = get_files_https(files)\n",
    "\n",
    "print len(files_http)\n",
    "files_http[:5]"
   ]
  },
  {
   "cell_type": "markdown",
   "metadata": {},
   "source": [
    "# Get numpers of particles"
   ]
  },
  {
   "cell_type": "code",
   "execution_count": 4,
   "metadata": {
    "collapsed": false
   },
   "outputs": [],
   "source": [
    "def get_number_particles(files_http, particles_pdg, selection, log_file_name='get_number_particles.log'):\n",
    "    \n",
    "    numbers_particles = numpy.zeros((len(files_http), len(particles_pdg)))\n",
    "    \n",
    "    LOG = open(log_file_name, 'w')\n",
    "    LOG.write('Particles pdgs: ' + str(particles_pdg) + '\\n')\n",
    "    LOG.write('Selection: ' + selection + '\\n')\n",
    "    LOG.flush()\n",
    "\n",
    "    for num, (one_file_https, one_file_tree) in enumerate(files_http):\n",
    "        \n",
    "        success = 0    \n",
    "        while success != 1:\n",
    "            try:\n",
    "                mc_particle_type = root_numpy.root2array(filenames=one_file_https, \n",
    "                                                         treename=one_file_tree, \n",
    "                                                         branches='MCParticleType',\n",
    "                                                         selection=selection)\n",
    "\n",
    "                for num_pdg, one_pdg in enumerate(particles_pdg):\n",
    "\n",
    "                    numbers_particles[num, num_pdg] = (numpy.abs(mc_particle_type) == one_pdg).sum()\n",
    "\n",
    "                LOG.write(str(num) + '. ' + one_file_https + '\\n')\n",
    "                LOG.write('Numbers of particles: ' + str(numbers_particles[num, :]) + '\\n')\n",
    "                LOG.flush()\n",
    "                success = 1\n",
    "\n",
    "            except:\n",
    "                LOG.write(one_file_https + ' is not readed.' + '\\n')\n",
    "                LOG.flush()\n",
    "\n",
    "    numbers_particles_df = pandas.DataFrame(data=numbers_particles, columns=[str(i) for i in particles_pdg])\n",
    "    numbers_particles_df['http'] = numpy.array(files_http)[:, 0]\n",
    "    numbers_particles_df['tree_name'] = numpy.array(files_http)[:, 1]\n",
    "    \n",
    "    return numbers_particles_df"
   ]
  },
  {
   "cell_type": "code",
   "execution_count": 5,
   "metadata": {
    "collapsed": true
   },
   "outputs": [],
   "source": [
    "selection = '(!HasMC || MCVertexType==1 || MCVertexType==2) && \\\n",
    "             (TrackLikelihood > -100.0) && \\\n",
    "             (TrackP > 0) && \\\n",
    "             (TrackPt > 0) && (abs(TrackType-3) < 0.1)'\n",
    "\n",
    "dir_path = '../../../data/MC2015Sim09Dev03/Generation1/Long'\n",
    "particles_pdg = [11,13,211,321,2212,0]"
   ]
  },
  {
   "cell_type": "code",
   "execution_count": 6,
   "metadata": {
    "collapsed": false
   },
   "outputs": [],
   "source": [
    "# log_file_name = dir_path + '/get_number_particles.log'\n",
    "# numbers_particles_df = get_number_particles(files_http, \n",
    "#                                             particles_pdg, \n",
    "#                                             selection, \n",
    "#                                             log_file_name=log_file_name)\n",
    "\n",
    "# numbers_particles_df.head()"
   ]
  },
  {
   "cell_type": "code",
   "execution_count": 7,
   "metadata": {
    "collapsed": false
   },
   "outputs": [
    {
     "data": {
      "text/html": [
       "<div>\n",
       "<table border=\"1\" class=\"dataframe\">\n",
       "  <thead>\n",
       "    <tr style=\"text-align: right;\">\n",
       "      <th></th>\n",
       "      <th>11</th>\n",
       "      <th>13</th>\n",
       "      <th>211</th>\n",
       "      <th>321</th>\n",
       "      <th>2212</th>\n",
       "      <th>0</th>\n",
       "      <th>http</th>\n",
       "      <th>tree_name</th>\n",
       "    </tr>\n",
       "  </thead>\n",
       "  <tbody>\n",
       "    <tr>\n",
       "      <th>0</th>\n",
       "      <td>1419</td>\n",
       "      <td>23390</td>\n",
       "      <td>285801</td>\n",
       "      <td>42435</td>\n",
       "      <td>32373</td>\n",
       "      <td>60454</td>\n",
       "      <td>http://www.hep.phy.cam.ac.uk/~jonesc/lhcb/PID/...</td>\n",
       "      <td>ANNPID/DecayTree</td>\n",
       "    </tr>\n",
       "    <tr>\n",
       "      <th>1</th>\n",
       "      <td>2476</td>\n",
       "      <td>3928</td>\n",
       "      <td>317760</td>\n",
       "      <td>69607</td>\n",
       "      <td>31487</td>\n",
       "      <td>70250</td>\n",
       "      <td>http://www.hep.phy.cam.ac.uk/~jonesc/lhcb/PID/...</td>\n",
       "      <td>ANNPID/DecayTree</td>\n",
       "    </tr>\n",
       "    <tr>\n",
       "      <th>2</th>\n",
       "      <td>15424</td>\n",
       "      <td>23188</td>\n",
       "      <td>1584021</td>\n",
       "      <td>241895</td>\n",
       "      <td>166204</td>\n",
       "      <td>359059</td>\n",
       "      <td>http://www.hep.phy.cam.ac.uk/~jonesc/lhcb/PID/...</td>\n",
       "      <td>ANNPID/DecayTree</td>\n",
       "    </tr>\n",
       "    <tr>\n",
       "      <th>3</th>\n",
       "      <td>11810</td>\n",
       "      <td>123150</td>\n",
       "      <td>1494633</td>\n",
       "      <td>266713</td>\n",
       "      <td>158086</td>\n",
       "      <td>337539</td>\n",
       "      <td>http://www.hep.phy.cam.ac.uk/~jonesc/lhcb/PID/...</td>\n",
       "      <td>ANNPID/DecayTree</td>\n",
       "    </tr>\n",
       "    <tr>\n",
       "      <th>4</th>\n",
       "      <td>12206</td>\n",
       "      <td>128919</td>\n",
       "      <td>1509125</td>\n",
       "      <td>255125</td>\n",
       "      <td>153070</td>\n",
       "      <td>330710</td>\n",
       "      <td>http://www.hep.phy.cam.ac.uk/~jonesc/lhcb/PID/...</td>\n",
       "      <td>ANNPID/DecayTree</td>\n",
       "    </tr>\n",
       "  </tbody>\n",
       "</table>\n",
       "</div>"
      ],
      "text/plain": [
       "      11      13      211     321    2212       0  \\\n",
       "0   1419   23390   285801   42435   32373   60454   \n",
       "1   2476    3928   317760   69607   31487   70250   \n",
       "2  15424   23188  1584021  241895  166204  359059   \n",
       "3  11810  123150  1494633  266713  158086  337539   \n",
       "4  12206  128919  1509125  255125  153070  330710   \n",
       "\n",
       "                                                http         tree_name  \n",
       "0  http://www.hep.phy.cam.ac.uk/~jonesc/lhcb/PID/...  ANNPID/DecayTree  \n",
       "1  http://www.hep.phy.cam.ac.uk/~jonesc/lhcb/PID/...  ANNPID/DecayTree  \n",
       "2  http://www.hep.phy.cam.ac.uk/~jonesc/lhcb/PID/...  ANNPID/DecayTree  \n",
       "3  http://www.hep.phy.cam.ac.uk/~jonesc/lhcb/PID/...  ANNPID/DecayTree  \n",
       "4  http://www.hep.phy.cam.ac.uk/~jonesc/lhcb/PID/...  ANNPID/DecayTree  "
      ]
     },
     "execution_count": 7,
     "metadata": {},
     "output_type": "execute_result"
    }
   ],
   "source": [
    "numbers_particles_df = pandas.read_csv(dir_path + '/number_particles.csv', index_col=0)\n",
    "#numbers_particles_df.to_csv(dir_path + '/number_particles.csv')\n",
    "numbers_particles_df.head()"
   ]
  },
  {
   "cell_type": "markdown",
   "metadata": {},
   "source": [
    "# Train generation"
   ]
  },
  {
   "cell_type": "code",
   "execution_count": 8,
   "metadata": {
    "collapsed": true
   },
   "outputs": [],
   "source": [
    "from sklearn.cross_validation import train_test_split\n",
    "import gc\n",
    "import sys\n",
    "\n",
    "def get_sample(numbers_particles, n_tracks, selection, file_path, log_path, readed_files_txt):\n",
    "    \n",
    "    # Estimate how many track of the each particle from the each file should be taken\n",
    "    particles = numbers_particles.columns.drop(['http', 'tree_name'])\n",
    "    part = 1. * n_tracks / numbers_particles[particles].sum()\n",
    "    \n",
    "    \n",
    "    # Try to create or open LOG file\n",
    "    if not os.path.exists(log_path):\n",
    "    \n",
    "        LOG = open(log_path, 'w')\n",
    "        LOG.write('Particles pdgs: ' + str(particles) + '\\n')\n",
    "        LOG.write('Selection: ' + selection + '\\n')\n",
    "        LOG.write('Number of tracks: ' + str(n_tracks) + '\\n')\n",
    "        LOG.flush()\n",
    "        \n",
    "    else:\n",
    "        \n",
    "        LOG = open(log_path, 'a')\n",
    "        \n",
    "        \n",
    "        \n",
    "    # Try create or open file with the READED data files.\n",
    "    if not os.path.exists(readed_files_txt):\n",
    "        \n",
    "        READED = open(readed_files_txt, 'w')\n",
    "        READED.write(\"\")\n",
    "        READED.close()\n",
    "        READED = list(numpy.loadtxt(readed_files_txt, dtype='S', delimiter='\\n', comments='#', ndmin=1))\n",
    "        \n",
    "    else:\n",
    "        \n",
    "        READED = list(numpy.loadtxt(readed_files_txt, dtype='S', delimiter='\\n', comments='#', ndmin=1))\n",
    "        \n",
    "        \n",
    "    # Count how many track have been taken\n",
    "    try:\n",
    "        data = pandas.read_csv(file_path, usecols=['MCParticleType'])\n",
    "\n",
    "        numbers_per_particle = {}\n",
    "        for pdg in particles:\n",
    "            numbers_per_particle[pdg] = len(data[numpy.abs(data.MCParticleType.values) == int(pdg)])\n",
    "\n",
    "        data = pandas.DataFrame()\n",
    "\n",
    "    except:\n",
    "\n",
    "        data = pandas.DataFrame()\n",
    "        \n",
    "        numbers_per_particle = {}\n",
    "        for i in particles:\n",
    "            numbers_per_particle[i] = 0\n",
    "      \n",
    "    \n",
    "    for index in numbers_particles.index:\n",
    "        \n",
    "        success = 0    \n",
    "        while success != 1:\n",
    "            try:\n",
    "                file_http = numbers_particles.loc[index]['http']\n",
    "                tree_name = numbers_particles.loc[index]['tree_name']\n",
    "\n",
    "                # A file was readed before?\n",
    "                if file_http in READED:\n",
    "                    success = 1\n",
    "                    continue\n",
    "\n",
    "                branches = root_numpy.list_branches(file_http, treename=tree_name)\n",
    "                branches = numpy.array(branches)\n",
    "\n",
    "                data_array = root_numpy.root2array(filenames=file_http, \n",
    "                                                   treename=tree_name, \n",
    "                                                   branches=branches[branches != 'piplus_OWNPV_COV_'],\n",
    "                                                   selection=selection)\n",
    "\n",
    "                data = pandas.DataFrame(data=data_array, columns=branches[branches != 'piplus_OWNPV_COV_'])\n",
    "\n",
    "                LOG.write(file_http + '\\n')\n",
    "                LOG.flush()\n",
    "\n",
    "                data_iter = pandas.DataFrame(columns=branches[branches != 'piplus_OWNPV_COV_'])\n",
    "                data_iter_index = []\n",
    "\n",
    "                for one_particle in particles:\n",
    "\n",
    "                    p_type = numpy.abs(data['MCParticleType'].values)\n",
    "                    data_particle = data[p_type == int(one_particle)]\n",
    "\n",
    "                    number = numbers_particles.loc[index][one_particle]\n",
    "                    number_take = int(round(part[one_particle] * number))\n",
    "\n",
    "                    data_particle_take_index, _ = train_test_split(data_particle.index, \n",
    "                                                                   train_size=number_take, \n",
    "                                                                   random_state=42)\n",
    "\n",
    "                    data_iter_index += list(data_particle_take_index)\n",
    "                    numbers_per_particle[one_particle] += number_take\n",
    "\n",
    "\n",
    "                data_iter = data.loc[data_iter_index]\n",
    "\n",
    "                if os.path.exists(file_path):\n",
    "                    data_iter.to_csv(file_path, mode='a', header=False)\n",
    "                else:\n",
    "                    data_iter.to_csv(file_path, mode='a', header=True)\n",
    "\n",
    "                del data_iter, data, data_array\n",
    "                gc.collect()\n",
    "\n",
    "\n",
    "                READED.append(file_http)\n",
    "                numpy.array(READED).tofile(readed_files_txt, sep=\"\\n\")\n",
    "\n",
    "                LOG.write('Tracks selected: ' + str(numbers_per_particle) + '\\n')\n",
    "                LOG.flush()\n",
    "\n",
    "                success = 1\n",
    "\n",
    "            except:\n",
    "                \n",
    "                LOG.write('Unexpected error \\n')\n",
    "                LOG.flush()\n",
    "                \n",
    "    return 1"
   ]
  },
  {
   "cell_type": "code",
   "execution_count": null,
   "metadata": {
    "collapsed": false
   },
   "outputs": [],
   "source": [
    "index_sel = numpy.array(numbers_particles_df.index) % 2 == 0\n",
    "numbers_particles_train = numbers_particles_df[index_sel]\n",
    "\n",
    "get_sample(numbers_particles_train, \n",
    "           1000000, \n",
    "           selection, \n",
    "           dir_path + '/data_train.csv', \n",
    "           dir_path + '/get_sample_train.log',\n",
    "           dir_path + '/readed_train.log')"
   ]
  },
  {
   "cell_type": "code",
   "execution_count": null,
   "metadata": {
    "collapsed": false
   },
   "outputs": [],
   "source": [
    "data_train = pandas.read_csv(dir_path + '/data_train.csv', index_col=0, usecols=['MCParticleType', 'TrackType'])\n",
    "len(data_train)"
   ]
  },
  {
   "cell_type": "markdown",
   "metadata": {},
   "source": [
    "# Eval generation"
   ]
  },
  {
   "cell_type": "code",
   "execution_count": null,
   "metadata": {
    "collapsed": true
   },
   "outputs": [],
   "source": [
    "index_sel = numpy.array(numbers_particles_df.index) % 2 == 1\n",
    "numbers_particles_eval = numbers_particles_df[index_sel]\n",
    "\n",
    "get_sample(numbers_particles_eval, \n",
    "           1000000, \n",
    "           selection, \n",
    "           dir_path + '/data_eval.csv', \n",
    "           dir_path + '/get_sample_eval.log',\n",
    "           dir_path + '/readed_eval.log')"
   ]
  },
  {
   "cell_type": "code",
   "execution_count": null,
   "metadata": {
    "collapsed": false
   },
   "outputs": [],
   "source": [
    "data_eval = pandas.read_csv(dir_path + '/data_eval.csv', index_col=0, usecols=['MCParticleType'])\n",
    "len(data_eval)"
   ]
  },
  {
   "cell_type": "code",
   "execution_count": null,
   "metadata": {
    "collapsed": true
   },
   "outputs": [],
   "source": []
  }
 ],
 "metadata": {
  "kernelspec": {
   "display_name": "Python 2",
   "language": "python",
   "name": "python2"
  },
  "language_info": {
   "codemirror_mode": {
    "name": "ipython",
    "version": 2
   },
   "file_extension": ".py",
   "mimetype": "text/x-python",
   "name": "python",
   "nbconvert_exporter": "python",
   "pygments_lexer": "ipython2",
   "version": "2.7.10"
  }
 },
 "nbformat": 4,
 "nbformat_minor": 0
}
