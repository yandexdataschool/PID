{
 "cells": [
  {
   "cell_type": "markdown",
   "metadata": {},
   "source": [
    "# About\n",
    "\n",
    "These is a base solution of PID."
   ]
  },
  {
   "cell_type": "code",
   "execution_count": 2,
   "metadata": {
    "collapsed": false
   },
   "outputs": [
    {
     "name": "stdout",
     "output_type": "stream",
     "text": [
      "Couldn't import dot_parser, loading of dot files will not be possible.\n"
     ]
    }
   ],
   "source": [
    "%matplotlib inline\n",
    "import pandas\n",
    "import numpy\n",
    "import matplotlib.pyplot as plt\n",
    "import root_numpy"
   ]
  },
  {
   "cell_type": "markdown",
   "metadata": {},
   "source": [
    "# Get files https"
   ]
  },
  {
   "cell_type": "code",
   "execution_count": 3,
   "metadata": {
    "collapsed": false
   },
   "outputs": [],
   "source": [
    "def get_files_https(files):\n",
    "\n",
    "    files_http = []\n",
    "\n",
    "    for one_file in files:\n",
    "\n",
    "        one_file_path, one_file_tree_name = one_file.split(':')\n",
    "\n",
    "        one_file_http = one_file_path.replace(\"/r02/lhcb/jonesc/ANNPID/\", \"http://www.hep.phy.cam.ac.uk/~jonesc/lhcb/PID/\")\n",
    "\n",
    "        files_http.append((one_file_http, one_file_tree_name))\n",
    "\n",
    "    return files_http"
   ]
  },
  {
   "cell_type": "code",
   "execution_count": 4,
   "metadata": {
    "collapsed": false
   },
   "outputs": [
    {
     "name": "stdout",
     "output_type": "stream",
     "text": [
      "552\n"
     ]
    },
    {
     "data": {
      "text/plain": [
       "[('http://www.hep.phy.cam.ac.uk/~jonesc/lhcb/PID/ProtoParticlePIDtuples/MC/Sim09Devx/Reco15x/Dev03/ANNPID.1.root',\n",
       "  'ANNPID/DecayTree'),\n",
       " ('http://www.hep.phy.cam.ac.uk/~jonesc/lhcb/PID/ProtoParticlePIDtuples/MC/Sim09Devx/Reco15x/Dev03/ANNPID.2.root',\n",
       "  'ANNPID/DecayTree'),\n",
       " ('http://www.hep.phy.cam.ac.uk/~jonesc/lhcb/PID/ProtoParticlePIDtuples/MC/Sim09Devx/Reco15x/Dev03/ANNPID.3.root',\n",
       "  'ANNPID/DecayTree'),\n",
       " ('http://www.hep.phy.cam.ac.uk/~jonesc/lhcb/PID/ProtoParticlePIDtuples/MC/Sim09Devx/Reco15x/Dev03/ANNPID.4.root',\n",
       "  'ANNPID/DecayTree'),\n",
       " ('http://www.hep.phy.cam.ac.uk/~jonesc/lhcb/PID/ProtoParticlePIDtuples/MC/Sim09Devx/Reco15x/Dev03/ANNPID.5.root',\n",
       "  'ANNPID/DecayTree')]"
      ]
     },
     "execution_count": 4,
     "metadata": {},
     "output_type": "execute_result"
    }
   ],
   "source": [
    "path_files_txt = '../../../data/configs/training/MC2015Sim09Dev03-TrainingFiles-Mixture-Cambridge.txt'\n",
    "files = numpy.loadtxt(path_files_txt, dtype='S', delimiter='\\n', comments='#')\n",
    "\n",
    "files_http = get_files_https(files)\n",
    "\n",
    "print len(files_http)\n",
    "files_http[:5]"
   ]
  },
  {
   "cell_type": "markdown",
   "metadata": {},
   "source": [
    "# Get numpers of particles"
   ]
  },
  {
   "cell_type": "code",
   "execution_count": 5,
   "metadata": {
    "collapsed": false
   },
   "outputs": [],
   "source": [
    "def get_number_particles(files_http, particles_pdg, selection, log_file_name='get_number_particles.log'):\n",
    "    \n",
    "    numbers_particles = numpy.zeros((len(files_http), len(particles_pdg)))\n",
    "    \n",
    "    LOG = open(log_file_name, 'w')\n",
    "    LOG.write('Particles pdgs: ' + str(particles_pdg) + '\\n')\n",
    "    LOG.write('Selection: ' + selection + '\\n')\n",
    "    LOG.flush()\n",
    "\n",
    "    for num, (one_file_https, one_file_tree) in enumerate(files_http):\n",
    "        \n",
    "        success = 0    \n",
    "        while success != 1:\n",
    "            try:\n",
    "                mc_particle_type = root_numpy.root2array(filenames=one_file_https, \n",
    "                                                         treename=one_file_tree, \n",
    "                                                         branches='MCParticleType',\n",
    "                                                         selection=selection)\n",
    "\n",
    "                for num_pdg, one_pdg in enumerate(particles_pdg):\n",
    "\n",
    "                    numbers_particles[num, num_pdg] = (numpy.abs(mc_particle_type) == one_pdg).sum()\n",
    "\n",
    "                LOG.write(str(num) + '. ' + one_file_https + '\\n')\n",
    "                LOG.write('Numbers of particles: ' + str(numbers_particles[num, :]) + '\\n')\n",
    "                LOG.flush()\n",
    "                success = 1\n",
    "\n",
    "            except:\n",
    "                LOG.write(one_file_https + ' is not readed.' + '\\n')\n",
    "                LOG.flush()\n",
    "\n",
    "    numbers_particles_df = pandas.DataFrame(data=numbers_particles, columns=[str(i) for i in particles_pdg])\n",
    "    numbers_particles_df['http'] = numpy.array(files_http)[:, 0]\n",
    "    numbers_particles_df['tree_name'] = numpy.array(files_http)[:, 1]\n",
    "    \n",
    "    return numbers_particles_df"
   ]
  },
  {
   "cell_type": "code",
   "execution_count": null,
   "metadata": {
    "collapsed": true
   },
   "outputs": [],
   "source": [
    "selection = '(!HasMC || MCVertexType==1 || MCVertexType==2) && \\\n",
    "             (TrackLikelihood > -100.0) && \\\n",
    "             (TrackP > 0) && \\\n",
    "             (TrackPt > 0)'\n",
    "\n",
    "dir_path = '../../../data/MC2015Sim09Dev03/Generation1'\n",
    "particles_pdg = [11,13,211,321,2212,0]"
   ]
  },
  {
   "cell_type": "code",
   "execution_count": null,
   "metadata": {
    "collapsed": false
   },
   "outputs": [],
   "source": [
    "log_file_name = dir_path + '/get_number_particles.log'\n",
    "numbers_particles_df, no_readed_files = get_number_particles(files_http, \n",
    "                                                             particles_pdg, \n",
    "                                                             selection, \n",
    "                                                             log_file_name=log_file_name)\n",
    "\n",
    "numbers_particles_df.head()"
   ]
  },
  {
   "cell_type": "code",
   "execution_count": 5,
   "metadata": {
    "collapsed": false
   },
   "outputs": [
    {
     "data": {
      "text/html": [
       "<div>\n",
       "<table border=\"1\" class=\"dataframe\">\n",
       "  <thead>\n",
       "    <tr style=\"text-align: right;\">\n",
       "      <th></th>\n",
       "      <th>11</th>\n",
       "      <th>13</th>\n",
       "      <th>211</th>\n",
       "      <th>321</th>\n",
       "      <th>2212</th>\n",
       "      <th>0</th>\n",
       "      <th>http</th>\n",
       "      <th>tree_name</th>\n",
       "    </tr>\n",
       "  </thead>\n",
       "  <tbody>\n",
       "    <tr>\n",
       "      <th>0</th>\n",
       "      <td>2349</td>\n",
       "      <td>27608</td>\n",
       "      <td>400802</td>\n",
       "      <td>58142</td>\n",
       "      <td>46742</td>\n",
       "      <td>162190</td>\n",
       "      <td>http://www.hep.phy.cam.ac.uk/~jonesc/lhcb/PID/...</td>\n",
       "      <td>ANNPID/DecayTree</td>\n",
       "    </tr>\n",
       "    <tr>\n",
       "      <th>1</th>\n",
       "      <td>3742</td>\n",
       "      <td>6361</td>\n",
       "      <td>442151</td>\n",
       "      <td>91543</td>\n",
       "      <td>45948</td>\n",
       "      <td>187565</td>\n",
       "      <td>http://www.hep.phy.cam.ac.uk/~jonesc/lhcb/PID/...</td>\n",
       "      <td>ANNPID/DecayTree</td>\n",
       "    </tr>\n",
       "    <tr>\n",
       "      <th>2</th>\n",
       "      <td>22990</td>\n",
       "      <td>35439</td>\n",
       "      <td>2227761</td>\n",
       "      <td>329622</td>\n",
       "      <td>241543</td>\n",
       "      <td>954511</td>\n",
       "      <td>http://www.hep.phy.cam.ac.uk/~jonesc/lhcb/PID/...</td>\n",
       "      <td>ANNPID/DecayTree</td>\n",
       "    </tr>\n",
       "    <tr>\n",
       "      <th>3</th>\n",
       "      <td>17845</td>\n",
       "      <td>145515</td>\n",
       "      <td>2098478</td>\n",
       "      <td>354946</td>\n",
       "      <td>229897</td>\n",
       "      <td>904141</td>\n",
       "      <td>http://www.hep.phy.cam.ac.uk/~jonesc/lhcb/PID/...</td>\n",
       "      <td>ANNPID/DecayTree</td>\n",
       "    </tr>\n",
       "    <tr>\n",
       "      <th>4</th>\n",
       "      <td>18436</td>\n",
       "      <td>152502</td>\n",
       "      <td>2102275</td>\n",
       "      <td>341318</td>\n",
       "      <td>221395</td>\n",
       "      <td>886444</td>\n",
       "      <td>http://www.hep.phy.cam.ac.uk/~jonesc/lhcb/PID/...</td>\n",
       "      <td>ANNPID/DecayTree</td>\n",
       "    </tr>\n",
       "  </tbody>\n",
       "</table>\n",
       "</div>"
      ],
      "text/plain": [
       "      11      13      211     321    2212       0  \\\n",
       "0   2349   27608   400802   58142   46742  162190   \n",
       "1   3742    6361   442151   91543   45948  187565   \n",
       "2  22990   35439  2227761  329622  241543  954511   \n",
       "3  17845  145515  2098478  354946  229897  904141   \n",
       "4  18436  152502  2102275  341318  221395  886444   \n",
       "\n",
       "                                                http         tree_name  \n",
       "0  http://www.hep.phy.cam.ac.uk/~jonesc/lhcb/PID/...  ANNPID/DecayTree  \n",
       "1  http://www.hep.phy.cam.ac.uk/~jonesc/lhcb/PID/...  ANNPID/DecayTree  \n",
       "2  http://www.hep.phy.cam.ac.uk/~jonesc/lhcb/PID/...  ANNPID/DecayTree  \n",
       "3  http://www.hep.phy.cam.ac.uk/~jonesc/lhcb/PID/...  ANNPID/DecayTree  \n",
       "4  http://www.hep.phy.cam.ac.uk/~jonesc/lhcb/PID/...  ANNPID/DecayTree  "
      ]
     },
     "execution_count": 5,
     "metadata": {},
     "output_type": "execute_result"
    }
   ],
   "source": [
    "numbers_particles_df = pandas.read_csv(dir_path + '/number_particles.csv', index_col=0)\n",
    "#numbers_particles_df.to_csv(dir_path + '/number_particles.csv')\n",
    "numbers_particles_df.head()"
   ]
  },
  {
   "cell_type": "markdown",
   "metadata": {},
   "source": [
    "# Train generation"
   ]
  },
  {
   "cell_type": "code",
   "execution_count": 33,
   "metadata": {
    "collapsed": true
   },
   "outputs": [],
   "source": [
    "from sklearn.cross_validation import train_test_split\n",
    "\n",
    "def get_sample(numbers_particles, n_tracks, selection, file_path, log_path):\n",
    "    \n",
    "    particles = numbers_particles.columns.drop(['http', 'tree_name'])\n",
    "    part = 1. * n_tracks / numbers_particles[particles].sum()\n",
    "    \n",
    "    LOG = open(log_path, 'w')\n",
    "    LOG.write('Particles pdgs: ' + str(particles) + '\\n')\n",
    "    LOG.write('Number of tracks: ' + str(n_tracks) + '\\n')\n",
    "    LOG.flush()\n",
    "    \n",
    "    numbers_per_particle = {}\n",
    "    for i in particles:\n",
    "        numbers_per_particle[i] = 0\n",
    "    \n",
    "    for index in numbers_particles.index:\n",
    "        \n",
    "        success = 0    \n",
    "        while success != 1:\n",
    "            try:\n",
    "                file_http = numbers_particles.loc[index]['http']\n",
    "                tree_name = numbers_particles.loc[index]['tree_name']\n",
    "\n",
    "                branches = root_numpy.list_branches(file_http, treename=tree_name)\n",
    "                branches = numpy.array(branches)\n",
    "\n",
    "                data_array = root_numpy.root2array(filenames=file_http, \n",
    "                                                   treename=tree_name, \n",
    "                                                   branches=branches[branches != 'piplus_OWNPV_COV_'],\n",
    "                                                   selection=selection)\n",
    "\n",
    "                data = pandas.DataFrame(data=data_array, columns=branches[branches != 'piplus_OWNPV_COV_'])\n",
    "\n",
    "                LOG.write(file_http + '\\n')\n",
    "                LOG.flush()\n",
    "\n",
    "                for one_particle in particles:\n",
    "\n",
    "                    p_type = numpy.abs(data['MCParticleType'].values)\n",
    "                    data_particle = data[p_type == int(one_particle)]\n",
    "\n",
    "                    number = numbers_particles.loc[index][one_particle]\n",
    "                    number_take = int(round(part[one_particle] * number))\n",
    "\n",
    "                    data_particle_take, _ = train_test_split(data_particle, train_size=number_take, random_state=42)\n",
    "\n",
    "                    if os.path.exists(file_path):\n",
    "                        data_particle_take.to_csv(file_path, mode='a', header=False)\n",
    "                    else:\n",
    "                        data_particle_take.to_csv(file_path, mode='a', header=True)\n",
    "\n",
    "                    numbers_per_particle[one_particle] += number_take\n",
    "\n",
    "                    LOG.write('Particle ' + str(one_particle) + ' : ' + str(number_take) + ' tracks was taken.\\n')\n",
    "                    LOG.flush()\n",
    "\n",
    "                LOG.write('Tracks selected: ' + str(numbers_per_particle) + '\\n')\n",
    "                LOG.flush()\n",
    "\n",
    "                success = 1\n",
    "\n",
    "            except:\n",
    "                pass\n",
    "                \n",
    "    return 1"
   ]
  },
  {
   "cell_type": "code",
   "execution_count": null,
   "metadata": {
    "collapsed": false
   },
   "outputs": [],
   "source": [
    "index_sel = numpy.array(numbers_particles_df.index) % 2 == 0\n",
    "numbers_particles_train = numbers_particles_df[index_sel]\n",
    "\n",
    "get_sample(numbers_particles_train, 1000000, selection, dir_path + '/data_train.csv', dir_path + '/get_sample_train.log')"
   ]
  },
  {
   "cell_type": "code",
   "execution_count": null,
   "metadata": {
    "collapsed": false
   },
   "outputs": [],
   "source": [
    "data_train = pandas.read_csv(dir_path + '/data_train.csv', index_col=0, usecols=['MCParticleType'])\n",
    "len(data_train)"
   ]
  },
  {
   "cell_type": "markdown",
   "metadata": {},
   "source": [
    "# Eval generation"
   ]
  },
  {
   "cell_type": "code",
   "execution_count": null,
   "metadata": {
    "collapsed": true
   },
   "outputs": [],
   "source": [
    "index_sel = numpy.array(numbers_particles_df.index) % 2 == 1\n",
    "numbers_particles_eval = numbers_particles_df[index_sel]\n",
    "\n",
    "get_sample(numbers_particles_eval, 1000000, selection, dir_path + '/data_eval.csv', dir_path + '/get_sample_eval.log')"
   ]
  },
  {
   "cell_type": "code",
   "execution_count": null,
   "metadata": {
    "collapsed": false
   },
   "outputs": [],
   "source": [
    "data_eval = pandas.read_csv(dir_path + '/data_eval.csv', index_col=0, usecols=['MCParticleType'])\n",
    "len(data_eval)"
   ]
  },
  {
   "cell_type": "code",
   "execution_count": null,
   "metadata": {
    "collapsed": true
   },
   "outputs": [],
   "source": []
  }
 ],
 "metadata": {
  "kernelspec": {
   "display_name": "Python 2",
   "language": "python",
   "name": "python2"
  },
  "language_info": {
   "codemirror_mode": {
    "name": "ipython",
    "version": 2
   },
   "file_extension": ".py",
   "mimetype": "text/x-python",
   "name": "python",
   "nbconvert_exporter": "python",
   "pygments_lexer": "ipython2",
   "version": "2.7.10"
  }
 },
 "nbformat": 4,
 "nbformat_minor": 0
}
