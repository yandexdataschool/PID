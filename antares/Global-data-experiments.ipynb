{
 "cells": [
  {
   "cell_type": "code",
   "execution_count": 1,
   "metadata": {
    "collapsed": false
   },
   "outputs": [
    {
     "name": "stdout",
     "output_type": "stream",
     "text": [
      "Populating the interactive namespace from numpy and matplotlib\n"
     ]
    }
   ],
   "source": [
    "%pylab inline"
   ]
  },
  {
   "cell_type": "code",
   "execution_count": 2,
   "metadata": {
    "collapsed": true
   },
   "outputs": [],
   "source": [
    "import pandas\n",
    "import numpy\n",
    "import root_numpy\n",
    "from hep_ml.nnet import MLPMultiClassifier\n",
    "from rep.metaml import FoldingClassifier\n",
    "from utils import shrink_floats"
   ]
  },
  {
   "cell_type": "markdown",
   "metadata": {},
   "source": [
    "## Read the data"
   ]
  },
  {
   "cell_type": "code",
   "execution_count": 3,
   "metadata": {
    "collapsed": false
   },
   "outputs": [],
   "source": [
    "data = pandas.DataFrame(root_numpy.root2array('../data/global_train.root', 'tree'))\n",
    "shrink_floats(data)"
   ]
  },
  {
   "cell_type": "code",
   "execution_count": 4,
   "metadata": {
    "collapsed": true
   },
   "outputs": [],
   "source": [
    "data_test = pandas.DataFrame(root_numpy.root2array('../data/global_test.root', 'tree'))\n",
    "shrink_floats(data_test)"
   ]
  },
  {
   "cell_type": "code",
   "execution_count": 5,
   "metadata": {
    "collapsed": false
   },
   "outputs": [
    {
     "data": {
      "text/plain": [
       "5999993"
      ]
     },
     "execution_count": 5,
     "metadata": {},
     "output_type": "execute_result"
    }
   ],
   "source": [
    "len(data)"
   ]
  },
  {
   "cell_type": "code",
   "execution_count": 6,
   "metadata": {
    "collapsed": false
   },
   "outputs": [
    {
     "data": {
      "text/html": [
       "<div>\n",
       "<table border=\"1\" class=\"dataframe\">\n",
       "  <thead>\n",
       "    <tr style=\"text-align: right;\">\n",
       "      <th></th>\n",
       "      <th>VeloCharge</th>\n",
       "      <th>BremPIDe</th>\n",
       "      <th>CaloNeutralPrs</th>\n",
       "      <th>CaloNeutralSpd</th>\n",
       "      <th>InAccBrem</th>\n",
       "      <th>InAccSpd</th>\n",
       "      <th>CaloPrsE</th>\n",
       "      <th>InAccPrs</th>\n",
       "      <th>HcalPIDe</th>\n",
       "      <th>CaloHcalE</th>\n",
       "      <th>...</th>\n",
       "      <th>piplus_OWNPV_XERR</th>\n",
       "      <th>piplus_OWNPV_YERR</th>\n",
       "      <th>piplus_OWNPV_ZERR</th>\n",
       "      <th>piplus_OWNPV_CHI2</th>\n",
       "      <th>piplus_OWNPV_NDOF</th>\n",
       "      <th>piplus_IP_OWNPV</th>\n",
       "      <th>piplus_IPCHI2_OWNPV</th>\n",
       "      <th>nCandidate</th>\n",
       "      <th>totCandidates</th>\n",
       "      <th>EventInSequence</th>\n",
       "    </tr>\n",
       "  </thead>\n",
       "  <tbody>\n",
       "    <tr>\n",
       "      <th>0</th>\n",
       "      <td>1.028090</td>\n",
       "      <td>-999</td>\n",
       "      <td>-999</td>\n",
       "      <td>-999</td>\n",
       "      <td>0</td>\n",
       "      <td>0</td>\n",
       "      <td>-999.000000</td>\n",
       "      <td>0</td>\n",
       "      <td>-999.000000</td>\n",
       "      <td>-999.000000</td>\n",
       "      <td>...</td>\n",
       "      <td>0.0096</td>\n",
       "      <td>0.0096</td>\n",
       "      <td>0.0532</td>\n",
       "      <td>33.816654</td>\n",
       "      <td>83</td>\n",
       "      <td>0.111340</td>\n",
       "      <td>15.622943</td>\n",
       "      <td>16</td>\n",
       "      <td>37</td>\n",
       "      <td>9099</td>\n",
       "    </tr>\n",
       "    <tr>\n",
       "      <th>1</th>\n",
       "      <td>1.044008</td>\n",
       "      <td>-999</td>\n",
       "      <td>-999</td>\n",
       "      <td>-999</td>\n",
       "      <td>0</td>\n",
       "      <td>0</td>\n",
       "      <td>-999.000000</td>\n",
       "      <td>0</td>\n",
       "      <td>-999.000000</td>\n",
       "      <td>-999.000000</td>\n",
       "      <td>...</td>\n",
       "      <td>0.0064</td>\n",
       "      <td>0.0063</td>\n",
       "      <td>0.0358</td>\n",
       "      <td>67.432457</td>\n",
       "      <td>187</td>\n",
       "      <td>0.025907</td>\n",
       "      <td>0.510528</td>\n",
       "      <td>38</td>\n",
       "      <td>106</td>\n",
       "      <td>12220</td>\n",
       "    </tr>\n",
       "    <tr>\n",
       "      <th>2</th>\n",
       "      <td>0.853933</td>\n",
       "      <td>-999</td>\n",
       "      <td>-999</td>\n",
       "      <td>-999</td>\n",
       "      <td>0</td>\n",
       "      <td>1</td>\n",
       "      <td>155.237808</td>\n",
       "      <td>1</td>\n",
       "      <td>-1.926180</td>\n",
       "      <td>27002.507812</td>\n",
       "      <td>...</td>\n",
       "      <td>0.0108</td>\n",
       "      <td>0.0108</td>\n",
       "      <td>0.0557</td>\n",
       "      <td>29.747982</td>\n",
       "      <td>67</td>\n",
       "      <td>0.136919</td>\n",
       "      <td>5.520920</td>\n",
       "      <td>14</td>\n",
       "      <td>76</td>\n",
       "      <td>8573</td>\n",
       "    </tr>\n",
       "    <tr>\n",
       "      <th>3</th>\n",
       "      <td>1.306180</td>\n",
       "      <td>-999</td>\n",
       "      <td>-999</td>\n",
       "      <td>-999</td>\n",
       "      <td>0</td>\n",
       "      <td>1</td>\n",
       "      <td>11.793685</td>\n",
       "      <td>1</td>\n",
       "      <td>0.434916</td>\n",
       "      <td>0.000000</td>\n",
       "      <td>...</td>\n",
       "      <td>0.0086</td>\n",
       "      <td>0.0084</td>\n",
       "      <td>0.0453</td>\n",
       "      <td>45.295311</td>\n",
       "      <td>97</td>\n",
       "      <td>0.572526</td>\n",
       "      <td>2.692502</td>\n",
       "      <td>25</td>\n",
       "      <td>50</td>\n",
       "      <td>13449</td>\n",
       "    </tr>\n",
       "    <tr>\n",
       "      <th>4</th>\n",
       "      <td>0.969101</td>\n",
       "      <td>-999</td>\n",
       "      <td>-999</td>\n",
       "      <td>-999</td>\n",
       "      <td>0</td>\n",
       "      <td>1</td>\n",
       "      <td>113.548508</td>\n",
       "      <td>1</td>\n",
       "      <td>1.788384</td>\n",
       "      <td>0.000000</td>\n",
       "      <td>...</td>\n",
       "      <td>0.0115</td>\n",
       "      <td>0.0110</td>\n",
       "      <td>0.0773</td>\n",
       "      <td>33.635342</td>\n",
       "      <td>71</td>\n",
       "      <td>0.101532</td>\n",
       "      <td>4.014179</td>\n",
       "      <td>24</td>\n",
       "      <td>86</td>\n",
       "      <td>1379</td>\n",
       "    </tr>\n",
       "  </tbody>\n",
       "</table>\n",
       "<p>5 rows × 107 columns</p>\n",
       "</div>"
      ],
      "text/plain": [
       "   VeloCharge  BremPIDe  CaloNeutralPrs  CaloNeutralSpd  InAccBrem  InAccSpd  \\\n",
       "0    1.028090      -999            -999            -999          0         0   \n",
       "1    1.044008      -999            -999            -999          0         0   \n",
       "2    0.853933      -999            -999            -999          0         1   \n",
       "3    1.306180      -999            -999            -999          0         1   \n",
       "4    0.969101      -999            -999            -999          0         1   \n",
       "\n",
       "     CaloPrsE  InAccPrs    HcalPIDe     CaloHcalE       ...         \\\n",
       "0 -999.000000         0 -999.000000   -999.000000       ...          \n",
       "1 -999.000000         0 -999.000000   -999.000000       ...          \n",
       "2  155.237808         1   -1.926180  27002.507812       ...          \n",
       "3   11.793685         1    0.434916      0.000000       ...          \n",
       "4  113.548508         1    1.788384      0.000000       ...          \n",
       "\n",
       "   piplus_OWNPV_XERR  piplus_OWNPV_YERR  piplus_OWNPV_ZERR  piplus_OWNPV_CHI2  \\\n",
       "0             0.0096             0.0096             0.0532          33.816654   \n",
       "1             0.0064             0.0063             0.0358          67.432457   \n",
       "2             0.0108             0.0108             0.0557          29.747982   \n",
       "3             0.0086             0.0084             0.0453          45.295311   \n",
       "4             0.0115             0.0110             0.0773          33.635342   \n",
       "\n",
       "   piplus_OWNPV_NDOF  piplus_IP_OWNPV  piplus_IPCHI2_OWNPV  nCandidate  \\\n",
       "0                 83         0.111340            15.622943          16   \n",
       "1                187         0.025907             0.510528          38   \n",
       "2                 67         0.136919             5.520920          14   \n",
       "3                 97         0.572526             2.692502          25   \n",
       "4                 71         0.101532             4.014179          24   \n",
       "\n",
       "   totCandidates  EventInSequence  \n",
       "0             37             9099  \n",
       "1            106            12220  \n",
       "2             76             8573  \n",
       "3             50            13449  \n",
       "4             86             1379  \n",
       "\n",
       "[5 rows x 107 columns]"
      ]
     },
     "execution_count": 6,
     "metadata": {},
     "output_type": "execute_result"
    }
   ],
   "source": [
    "data.head()"
   ]
  },
  {
   "cell_type": "markdown",
   "metadata": {},
   "source": [
    "#### add signal column (from 0 to 5 classes), weights (to balance data), charges (to check assymetry)"
   ]
  },
  {
   "cell_type": "code",
   "execution_count": 7,
   "metadata": {
    "collapsed": false
   },
   "outputs": [],
   "source": [
    "from utils import compute_labels_and_weights, compute_charges, names_labels_correspondence, labels_names_correspondence\n",
    "from utils import plot_hist_features, roc_auc_score_one_vs_all, compute_cum_sum, convert_DLL_to_LL\n",
    "from utils import roc_auc_score_one_vs_all_for_separate_algorithms"
   ]
  },
  {
   "cell_type": "code",
   "execution_count": 8,
   "metadata": {
    "collapsed": false
   },
   "outputs": [],
   "source": [
    "data['Signal'], data['Weight'] = compute_labels_and_weights(data.MCParticleType.values)\n",
    "data['Charge'] =  compute_charges(data.MCParticleType.values)"
   ]
  },
  {
   "cell_type": "code",
   "execution_count": 9,
   "metadata": {
    "collapsed": true
   },
   "outputs": [],
   "source": [
    "data_test['Signal'], data_test['Weight'] = compute_labels_and_weights(data_test.MCParticleType.values)\n",
    "data_test['Charge'] =  compute_charges(data_test.MCParticleType.values)"
   ]
  },
  {
   "cell_type": "markdown",
   "metadata": {},
   "source": [
    "#### check initial assymetry in data"
   ]
  },
  {
   "cell_type": "code",
   "execution_count": 10,
   "metadata": {
    "collapsed": false
   },
   "outputs": [
    {
     "name": "stdout",
     "output_type": "stream",
     "text": [
      "positive tracks\t0.421249824791\n",
      "negative tracks\t0.412084147432\n",
      "GHOST tracks\t0.166666027777\n"
     ]
    }
   ],
   "source": [
    "print \"positive tracks\\t\", numpy.mean(data.Charge > 0)\n",
    "print \"negative tracks\\t\", numpy.mean(data.Charge < 0)\n",
    "print \"GHOST tracks\\t\", numpy.mean(data.Charge == 0)"
   ]
  },
  {
   "cell_type": "code",
   "execution_count": 11,
   "metadata": {
    "collapsed": false
   },
   "outputs": [
    {
     "name": "stdout",
     "output_type": "stream",
     "text": [
      "positive tracks\t0.421374868958\n",
      "negative tracks\t0.411958519931\n",
      "GHOST tracks\t0.166666611111\n"
     ]
    }
   ],
   "source": [
    "print \"positive tracks\\t\", numpy.mean(data_test.Charge > 0)\n",
    "print \"negative tracks\\t\", numpy.mean(data_test.Charge < 0)\n",
    "print \"GHOST tracks\\t\", numpy.mean(data_test.Charge == 0)"
   ]
  },
  {
   "cell_type": "markdown",
   "metadata": {},
   "source": [
    "#### weights"
   ]
  },
  {
   "cell_type": "code",
   "execution_count": 12,
   "metadata": {
    "collapsed": false
   },
   "outputs": [
    {
     "data": {
      "text/plain": [
       "array([ 0.99989284,  0.99989484,  0.99989784,  0.99990384,  0.99990484,\n",
       "        0.99990584])"
      ]
     },
     "execution_count": 12,
     "metadata": {},
     "output_type": "execute_result"
    }
   ],
   "source": [
    "numpy.unique(data.Weight)"
   ]
  },
  {
   "cell_type": "markdown",
   "metadata": {},
   "source": [
    "#### number of tracks for each type"
   ]
  },
  {
   "cell_type": "code",
   "execution_count": 13,
   "metadata": {
    "collapsed": false
   },
   "outputs": [
    {
     "name": "stdout",
     "output_type": "stream",
     "text": [
      "Ghost      \t999995\n",
      "Electron   \t1000004\n",
      "Muon       \t1000001\n",
      "Pion       \t1000006\n",
      "Kaon       \t999993\n",
      "Proton     \t999994\n"
     ]
    }
   ],
   "source": [
    "for key, val in names_labels_correspondence.items():\n",
    "    print '{:10} \\t'.format(key), sum(data.Signal == val)"
   ]
  },
  {
   "cell_type": "markdown",
   "metadata": {},
   "source": [
    "# Train, test splitting"
   ]
  },
  {
   "cell_type": "code",
   "execution_count": 11,
   "metadata": {
    "collapsed": true
   },
   "outputs": [],
   "source": [
    "from sklearn.cross_validation import train_test_split\n",
    "train, test = train_test_split(data, train_size=0.51, random_state=19)"
   ]
  },
  {
   "cell_type": "markdown",
   "metadata": {},
   "source": [
    "# Read features"
   ]
  },
  {
   "cell_type": "code",
   "execution_count": 14,
   "metadata": {
    "collapsed": true
   },
   "outputs": [],
   "source": [
    "import json\n",
    "with open('./features.json', 'r') as f:\n",
    "    features = json.load(f)\n",
    "PV_features = features.pop('PV')"
   ]
  },
  {
   "cell_type": "markdown",
   "metadata": {},
   "source": [
    "# Acceptance features"
   ]
  },
  {
   "cell_type": "code",
   "execution_count": 13,
   "metadata": {
    "collapsed": false
   },
   "outputs": [
    {
     "name": "stdout",
     "output_type": "stream",
     "text": [
      "[[ 1.          0.97705683  0.10264026  0.87706855  0.73840696  0.72750569]\n",
      " [ 0.97705683  1.          0.10210573  0.87842376  0.73987679  0.72696906]\n",
      " [ 0.10264026  0.10210573  1.          0.15811423  0.08642432 -0.02202106]\n",
      " [ 0.87706855  0.87842376  0.15811423  1.          0.8152988   0.72163458]\n",
      " [ 0.73840696  0.73987679  0.08642432  0.8152988   1.          0.8042229 ]\n",
      " [ 0.72750569  0.72696906 -0.02202106  0.72163458  0.8042229   1.        ]]\n"
     ]
    }
   ],
   "source": [
    "correlation = numpy.corrcoef(data[features['acceptance']].values.T)\n",
    "print correlation"
   ]
  },
  {
   "cell_type": "code",
   "execution_count": 14,
   "metadata": {
    "collapsed": false
   },
   "outputs": [
    {
     "data": {
      "image/png": "[encoded data removed]",
      "text/plain": [
       "<matplotlib.figure.Figure at 0x7f4b3d8c2610>"
      ]
     },
     "metadata": {},
     "output_type": "display_data"
    }
   ],
   "source": [
    "figure(figsize=(22, 3))\n",
    "plot_hist_features(train, train.Signal, features['acceptance'])"
   ]
  },
  {
   "cell_type": "code",
   "execution_count": 15,
   "metadata": {
    "collapsed": false
   },
   "outputs": [
    {
     "data": {
      "text/html": [
       "<div>\n",
       "<table border=\"1\" class=\"dataframe\">\n",
       "  <thead>\n",
       "    <tr style=\"text-align: right;\">\n",
       "      <th></th>\n",
       "      <th>Ghost</th>\n",
       "      <th>Muon</th>\n",
       "      <th>Pion</th>\n",
       "      <th>Kaon</th>\n",
       "      <th>Proton</th>\n",
       "      <th>Electron</th>\n",
       "    </tr>\n",
       "  </thead>\n",
       "  <tbody>\n",
       "    <tr>\n",
       "      <th>InAccSpd</th>\n",
       "      <td>0.472598</td>\n",
       "      <td>0.514015</td>\n",
       "      <td>0.502434</td>\n",
       "      <td>0.513983</td>\n",
       "      <td>0.508670</td>\n",
       "      <td>0.488279</td>\n",
       "    </tr>\n",
       "    <tr>\n",
       "      <th>InAccPrs</th>\n",
       "      <td>0.472569</td>\n",
       "      <td>0.513843</td>\n",
       "      <td>0.502681</td>\n",
       "      <td>0.513956</td>\n",
       "      <td>0.508641</td>\n",
       "      <td>0.488290</td>\n",
       "    </tr>\n",
       "    <tr>\n",
       "      <th>InAccBrem</th>\n",
       "      <td>0.418980</td>\n",
       "      <td>0.547604</td>\n",
       "      <td>0.503779</td>\n",
       "      <td>0.505056</td>\n",
       "      <td>0.513728</td>\n",
       "      <td>0.510823</td>\n",
       "    </tr>\n",
       "    <tr>\n",
       "      <th>InAccEcal</th>\n",
       "      <td>0.476117</td>\n",
       "      <td>0.513016</td>\n",
       "      <td>0.503518</td>\n",
       "      <td>0.512305</td>\n",
       "      <td>0.505465</td>\n",
       "      <td>0.489558</td>\n",
       "    </tr>\n",
       "    <tr>\n",
       "      <th>InAccHcal</th>\n",
       "      <td>0.466945</td>\n",
       "      <td>0.512987</td>\n",
       "      <td>0.506027</td>\n",
       "      <td>0.519512</td>\n",
       "      <td>0.510554</td>\n",
       "      <td>0.483945</td>\n",
       "    </tr>\n",
       "    <tr>\n",
       "      <th>InAccMuon</th>\n",
       "      <td>0.439849</td>\n",
       "      <td>0.529775</td>\n",
       "      <td>0.499010</td>\n",
       "      <td>0.532587</td>\n",
       "      <td>0.526313</td>\n",
       "      <td>0.472435</td>\n",
       "    </tr>\n",
       "  </tbody>\n",
       "</table>\n",
       "</div>"
      ],
      "text/plain": [
       "              Ghost      Muon      Pion      Kaon    Proton  Electron\n",
       "InAccSpd   0.472598  0.514015  0.502434  0.513983  0.508670  0.488279\n",
       "InAccPrs   0.472569  0.513843  0.502681  0.513956  0.508641  0.488290\n",
       "InAccBrem  0.418980  0.547604  0.503779  0.505056  0.513728  0.510823\n",
       "InAccEcal  0.476117  0.513016  0.503518  0.512305  0.505465  0.489558\n",
       "InAccHcal  0.466945  0.512987  0.506027  0.519512  0.510554  0.483945\n",
       "InAccMuon  0.439849  0.529775  0.499010  0.532587  0.526313  0.472435"
      ]
     },
     "execution_count": 15,
     "metadata": {},
     "output_type": "execute_result"
    }
   ],
   "source": [
    "pd = pandas.concat([roc_auc_score_one_vs_all(train.Signal.values, train[f].values, train.Weight.values)\n",
    "                    for f in features['acceptance']])\n",
    "pd.index = features['acceptance']\n",
    "pd"
   ]
  },
  {
   "cell_type": "markdown",
   "metadata": {},
   "source": [
    "### Cumulate sum for acceptance features"
   ]
  },
  {
   "cell_type": "code",
   "execution_count": 16,
   "metadata": {
    "collapsed": false
   },
   "outputs": [],
   "source": [
    "acceptance_cum_features = pandas.concat([compute_cum_sum(train, features['acceptance'], 'acc_to_right_'),\n",
    "                                         compute_cum_sum(train, features['acceptance'][::-1], 'acc_to_left_')],\n",
    "                                        axis=1)"
   ]
  },
  {
   "cell_type": "code",
   "execution_count": 17,
   "metadata": {
    "collapsed": false
   },
   "outputs": [
    {
     "data": {
      "image/png": "[encoded data removed]",
      "text/plain": [
       "<matplotlib.figure.Figure at 0x7f4b3d8c2550>"
      ]
     },
     "metadata": {},
     "output_type": "display_data"
    }
   ],
   "source": [
    "figure(figsize=(22, 6))\n",
    "plot_hist_features(acceptance_cum_features, train.Signal, acceptance_cum_features.columns)"
   ]
  },
  {
   "cell_type": "code",
   "execution_count": 18,
   "metadata": {
    "collapsed": false
   },
   "outputs": [
    {
     "data": {
      "text/html": [
       "<div>\n",
       "<table border=\"1\" class=\"dataframe\">\n",
       "  <thead>\n",
       "    <tr style=\"text-align: right;\">\n",
       "      <th></th>\n",
       "      <th>Ghost</th>\n",
       "      <th>Muon</th>\n",
       "      <th>Pion</th>\n",
       "      <th>Kaon</th>\n",
       "      <th>Proton</th>\n",
       "      <th>Electron</th>\n",
       "    </tr>\n",
       "  </thead>\n",
       "  <tbody>\n",
       "    <tr>\n",
       "      <th>acc_to_right_0</th>\n",
       "      <td>0.472598</td>\n",
       "      <td>0.514015</td>\n",
       "      <td>0.502434</td>\n",
       "      <td>0.513983</td>\n",
       "      <td>0.508670</td>\n",
       "      <td>0.488279</td>\n",
       "    </tr>\n",
       "    <tr>\n",
       "      <th>acc_to_right_1</th>\n",
       "      <td>0.473020</td>\n",
       "      <td>0.513784</td>\n",
       "      <td>0.502663</td>\n",
       "      <td>0.513719</td>\n",
       "      <td>0.508308</td>\n",
       "      <td>0.488485</td>\n",
       "    </tr>\n",
       "    <tr>\n",
       "      <th>acc_to_right_2</th>\n",
       "      <td>0.404647</td>\n",
       "      <td>0.558380</td>\n",
       "      <td>0.500736</td>\n",
       "      <td>0.521801</td>\n",
       "      <td>0.524377</td>\n",
       "      <td>0.490015</td>\n",
       "    </tr>\n",
       "    <tr>\n",
       "      <th>acc_to_right_3</th>\n",
       "      <td>0.405854</td>\n",
       "      <td>0.558229</td>\n",
       "      <td>0.500665</td>\n",
       "      <td>0.522522</td>\n",
       "      <td>0.524023</td>\n",
       "      <td>0.488664</td>\n",
       "    </tr>\n",
       "    <tr>\n",
       "      <th>acc_to_right_4</th>\n",
       "      <td>0.403838</td>\n",
       "      <td>0.557857</td>\n",
       "      <td>0.501116</td>\n",
       "      <td>0.526505</td>\n",
       "      <td>0.525942</td>\n",
       "      <td>0.484696</td>\n",
       "    </tr>\n",
       "    <tr>\n",
       "      <th>acc_to_right_5</th>\n",
       "      <td>0.400426</td>\n",
       "      <td>0.559414</td>\n",
       "      <td>0.499991</td>\n",
       "      <td>0.529901</td>\n",
       "      <td>0.528630</td>\n",
       "      <td>0.481591</td>\n",
       "    </tr>\n",
       "    <tr>\n",
       "      <th>acc_to_left_0</th>\n",
       "      <td>0.439849</td>\n",
       "      <td>0.529775</td>\n",
       "      <td>0.499010</td>\n",
       "      <td>0.532587</td>\n",
       "      <td>0.526313</td>\n",
       "      <td>0.472435</td>\n",
       "    </tr>\n",
       "    <tr>\n",
       "      <th>acc_to_left_1</th>\n",
       "      <td>0.456951</td>\n",
       "      <td>0.518542</td>\n",
       "      <td>0.504359</td>\n",
       "      <td>0.524839</td>\n",
       "      <td>0.515692</td>\n",
       "      <td>0.479585</td>\n",
       "    </tr>\n",
       "    <tr>\n",
       "      <th>acc_to_left_2</th>\n",
       "      <td>0.460111</td>\n",
       "      <td>0.518409</td>\n",
       "      <td>0.504147</td>\n",
       "      <td>0.522464</td>\n",
       "      <td>0.513348</td>\n",
       "      <td>0.481491</td>\n",
       "    </tr>\n",
       "    <tr>\n",
       "      <th>acc_to_left_3</th>\n",
       "      <td>0.399361</td>\n",
       "      <td>0.559394</td>\n",
       "      <td>0.500484</td>\n",
       "      <td>0.530103</td>\n",
       "      <td>0.528741</td>\n",
       "      <td>0.481869</td>\n",
       "    </tr>\n",
       "    <tr>\n",
       "      <th>acc_to_left_4</th>\n",
       "      <td>0.400100</td>\n",
       "      <td>0.559428</td>\n",
       "      <td>0.500115</td>\n",
       "      <td>0.529985</td>\n",
       "      <td>0.528709</td>\n",
       "      <td>0.481617</td>\n",
       "    </tr>\n",
       "    <tr>\n",
       "      <th>acc_to_left_5</th>\n",
       "      <td>0.400426</td>\n",
       "      <td>0.559414</td>\n",
       "      <td>0.499991</td>\n",
       "      <td>0.529901</td>\n",
       "      <td>0.528630</td>\n",
       "      <td>0.481591</td>\n",
       "    </tr>\n",
       "  </tbody>\n",
       "</table>\n",
       "</div>"
      ],
      "text/plain": [
       "                   Ghost      Muon      Pion      Kaon    Proton  Electron\n",
       "acc_to_right_0  0.472598  0.514015  0.502434  0.513983  0.508670  0.488279\n",
       "acc_to_right_1  0.473020  0.513784  0.502663  0.513719  0.508308  0.488485\n",
       "acc_to_right_2  0.404647  0.558380  0.500736  0.521801  0.524377  0.490015\n",
       "acc_to_right_3  0.405854  0.558229  0.500665  0.522522  0.524023  0.488664\n",
       "acc_to_right_4  0.403838  0.557857  0.501116  0.526505  0.525942  0.484696\n",
       "acc_to_right_5  0.400426  0.559414  0.499991  0.529901  0.528630  0.481591\n",
       "acc_to_left_0   0.439849  0.529775  0.499010  0.532587  0.526313  0.472435\n",
       "acc_to_left_1   0.456951  0.518542  0.504359  0.524839  0.515692  0.479585\n",
       "acc_to_left_2   0.460111  0.518409  0.504147  0.522464  0.513348  0.481491\n",
       "acc_to_left_3   0.399361  0.559394  0.500484  0.530103  0.528741  0.481869\n",
       "acc_to_left_4   0.400100  0.559428  0.500115  0.529985  0.528709  0.481617\n",
       "acc_to_left_5   0.400426  0.559414  0.499991  0.529901  0.528630  0.481591"
      ]
     },
     "execution_count": 18,
     "metadata": {},
     "output_type": "execute_result"
    }
   ],
   "source": [
    "pd = pandas.concat([roc_auc_score_one_vs_all(train.Signal.values, acceptance_cum_features[f].values, \n",
    "                                             train.Weight.values) for f in acceptance_cum_features.columns])\n",
    "pd.index = acceptance_cum_features.columns\n",
    "pd"
   ]
  },
  {
   "cell_type": "code",
   "execution_count": 19,
   "metadata": {
    "collapsed": false
   },
   "outputs": [
    {
     "data": {
      "image/png": "[encoded data removed]",
      "text/plain": [
       "<matplotlib.figure.Figure at 0x7f4b33581290>"
      ]
     },
     "metadata": {},
     "output_type": "display_data"
    }
   ],
   "source": [
    "figure(figsize=(22, 3))\n",
    "for key, val in names_labels_correspondence.items():\n",
    "    subplot(1, 6, val+1)\n",
    "    hist2d(acceptance_cum_features.loc[train.Signal.values == val, 'acc_to_right_3'].values, \n",
    "           acceptance_cum_features.loc[train.Signal.values == val, 'acc_to_right_5'].values,\n",
    "           bins=(4, 6), normed=True, cmin=0, cmax=1,)\n",
    "    title(key)"
   ]
  },
  {
   "cell_type": "markdown",
   "metadata": {},
   "source": [
    "### use acceptance_to_right_3, acceptance_to_right_5"
   ]
  },
  {
   "cell_type": "markdown",
   "metadata": {},
   "source": [
    "## NN on Acceptance"
   ]
  },
  {
   "cell_type": "code",
   "execution_count": 40,
   "metadata": {
    "collapsed": false
   },
   "outputs": [
    {
     "name": "stdout",
     "output_type": "stream",
     "text": [
      "CPU times: user 1h 40min 42s, sys: 2h 2min 5s, total: 3h 42min 47s\n",
      "Wall time: 53min 4s\n"
     ]
    }
   ],
   "source": [
    "%%time\n",
    "nn_acceptance = FoldingClassifier(MLPMultiClassifier(layers=(30, 10), scaler='iron', epochs=700), \n",
    "                                  features=features_acceptance, random_state=11, n_folds=2)\n",
    "nn_acceptance.fit(train, train.Signal, train.Weight)"
   ]
  },
  {
   "cell_type": "code",
   "execution_count": 21,
   "metadata": {
    "collapsed": false
   },
   "outputs": [
    {
     "name": "stdout",
     "output_type": "stream",
     "text": [
      "KFold prediction using folds column\n"
     ]
    },
    {
     "data": {
      "text/html": [
       "<div>\n",
       "<table border=\"1\" class=\"dataframe\">\n",
       "  <thead>\n",
       "    <tr style=\"text-align: right;\">\n",
       "      <th></th>\n",
       "      <th>Ghost</th>\n",
       "      <th>Muon</th>\n",
       "      <th>Pion</th>\n",
       "      <th>Kaon</th>\n",
       "      <th>Proton</th>\n",
       "      <th>Electron</th>\n",
       "    </tr>\n",
       "  </thead>\n",
       "  <tbody>\n",
       "    <tr>\n",
       "      <th>0</th>\n",
       "      <td>0.649895</td>\n",
       "      <td>0.594466</td>\n",
       "      <td>0.528653</td>\n",
       "      <td>0.551533</td>\n",
       "      <td>0.555891</td>\n",
       "      <td>0.545181</td>\n",
       "    </tr>\n",
       "  </tbody>\n",
       "</table>\n",
       "</div>"
      ],
      "text/plain": [
       "      Ghost      Muon      Pion      Kaon    Proton  Electron\n",
       "0  0.649895  0.594466  0.528653  0.551533  0.555891  0.545181"
      ]
     },
     "execution_count": 21,
     "metadata": {},
     "output_type": "execute_result"
    }
   ],
   "source": [
    "roc_auc_score_one_vs_all(train.Signal.values, nn_acceptance.predict_proba(train), train.Weight.values)"
   ]
  },
  {
   "cell_type": "code",
   "execution_count": 54,
   "metadata": {
    "collapsed": false
   },
   "outputs": [
    {
     "name": "stdout",
     "output_type": "stream",
     "text": [
      "KFold prediction using random classifier (length of data passed not equal to length of train)\n"
     ]
    },
    {
     "data": {
      "text/html": [
       "<div>\n",
       "<table border=\"1\" class=\"dataframe\">\n",
       "  <thead>\n",
       "    <tr style=\"text-align: right;\">\n",
       "      <th></th>\n",
       "      <th>Ghost</th>\n",
       "      <th>Muon</th>\n",
       "      <th>Pion</th>\n",
       "      <th>Kaon</th>\n",
       "      <th>Proton</th>\n",
       "      <th>Electron</th>\n",
       "    </tr>\n",
       "  </thead>\n",
       "  <tbody>\n",
       "    <tr>\n",
       "      <th>0</th>\n",
       "      <td>0.650327</td>\n",
       "      <td>0.59419</td>\n",
       "      <td>0.52862</td>\n",
       "      <td>0.551242</td>\n",
       "      <td>0.557219</td>\n",
       "      <td>0.545242</td>\n",
       "    </tr>\n",
       "  </tbody>\n",
       "</table>\n",
       "</div>"
      ],
      "text/plain": [
       "      Ghost     Muon     Pion      Kaon    Proton  Electron\n",
       "0  0.650327  0.59419  0.52862  0.551242  0.557219  0.545242"
      ]
     },
     "execution_count": 54,
     "metadata": {},
     "output_type": "execute_result"
    }
   ],
   "source": [
    "roc_auc_score_one_vs_all(test.Signal.values, nn_acceptance.predict_proba(test), test.Weight.values)"
   ]
  },
  {
   "cell_type": "code",
   "execution_count": 42,
   "metadata": {
    "collapsed": false
   },
   "outputs": [],
   "source": [
    "import cPickle \n",
    "with open('models/nn_acceptance.pkl', 'w') as f:\n",
    "    cPickle.dump(nn_acceptance, f)"
   ]
  },
  {
   "cell_type": "code",
   "execution_count": 20,
   "metadata": {
    "collapsed": true
   },
   "outputs": [],
   "source": [
    "import cPickle \n",
    "with open('models/nn_acceptance.pkl', 'r') as f:\n",
    "    nn_acceptance = cPickle.load(f)"
   ]
  },
  {
   "cell_type": "markdown",
   "metadata": {},
   "source": [
    "# CALO features"
   ]
  },
  {
   "cell_type": "markdown",
   "metadata": {},
   "source": [
    "## PIDe"
   ]
  },
  {
   "cell_type": "code",
   "execution_count": 20,
   "metadata": {
    "collapsed": true
   },
   "outputs": [],
   "source": [
    "features_CALO_DLL_e = ['PrsPIDe', 'BremPIDe', 'EcalPIDe', 'HcalPIDe']"
   ]
  },
  {
   "cell_type": "code",
   "execution_count": 23,
   "metadata": {
    "collapsed": false
   },
   "outputs": [
    {
     "name": "stdout",
     "output_type": "stream",
     "text": [
      "[[ 1.          0.10211602  0.87830461  0.73946844]\n",
      " [ 0.10211602  1.          0.15775566  0.08703819]\n",
      " [ 0.87830461  0.15775566  1.          0.81508783]\n",
      " [ 0.73946844  0.08703819  0.81508783  1.        ]]\n"
     ]
    }
   ],
   "source": [
    "correlation = numpy.corrcoef(train[features_CALO_DLL_e].values.T)\n",
    "print correlation"
   ]
  },
  {
   "cell_type": "code",
   "execution_count": 24,
   "metadata": {
    "collapsed": false
   },
   "outputs": [
    {
     "data": {
      "image/png": "[encoded data removed]",
      "text/plain": [
       "<matplotlib.figure.Figure at 0x7f4b2de02a10>"
      ]
     },
     "metadata": {},
     "output_type": "display_data"
    }
   ],
   "source": [
    "figure(figsize=(22, 3))\n",
    "plot_hist_features(train, train.Signal, features_CALO_DLL_e)"
   ]
  },
  {
   "cell_type": "code",
   "execution_count": 25,
   "metadata": {
    "collapsed": false
   },
   "outputs": [
    {
     "data": {
      "text/html": [
       "<div>\n",
       "<table border=\"1\" class=\"dataframe\">\n",
       "  <thead>\n",
       "    <tr style=\"text-align: right;\">\n",
       "      <th></th>\n",
       "      <th>Ghost</th>\n",
       "      <th>Muon</th>\n",
       "      <th>Pion</th>\n",
       "      <th>Kaon</th>\n",
       "      <th>Proton</th>\n",
       "      <th>Electron</th>\n",
       "    </tr>\n",
       "  </thead>\n",
       "  <tbody>\n",
       "    <tr>\n",
       "      <th>PrsPIDe</th>\n",
       "      <td>0.515698</td>\n",
       "      <td>0.407160</td>\n",
       "      <td>0.432509</td>\n",
       "      <td>0.420075</td>\n",
       "      <td>0.423449</td>\n",
       "      <td>0.801444</td>\n",
       "    </tr>\n",
       "    <tr>\n",
       "      <th>BremPIDe</th>\n",
       "      <td>0.443925</td>\n",
       "      <td>0.535061</td>\n",
       "      <td>0.480225</td>\n",
       "      <td>0.471949</td>\n",
       "      <td>0.485052</td>\n",
       "      <td>0.583846</td>\n",
       "    </tr>\n",
       "    <tr>\n",
       "      <th>EcalPIDe</th>\n",
       "      <td>0.537650</td>\n",
       "      <td>0.354793</td>\n",
       "      <td>0.457327</td>\n",
       "      <td>0.443919</td>\n",
       "      <td>0.439514</td>\n",
       "      <td>0.767102</td>\n",
       "    </tr>\n",
       "    <tr>\n",
       "      <th>HcalPIDe</th>\n",
       "      <td>0.481156</td>\n",
       "      <td>0.462492</td>\n",
       "      <td>0.471708</td>\n",
       "      <td>0.478970</td>\n",
       "      <td>0.480667</td>\n",
       "      <td>0.625147</td>\n",
       "    </tr>\n",
       "  </tbody>\n",
       "</table>\n",
       "</div>"
      ],
      "text/plain": [
       "             Ghost      Muon      Pion      Kaon    Proton  Electron\n",
       "PrsPIDe   0.515698  0.407160  0.432509  0.420075  0.423449  0.801444\n",
       "BremPIDe  0.443925  0.535061  0.480225  0.471949  0.485052  0.583846\n",
       "EcalPIDe  0.537650  0.354793  0.457327  0.443919  0.439514  0.767102\n",
       "HcalPIDe  0.481156  0.462492  0.471708  0.478970  0.480667  0.625147"
      ]
     },
     "execution_count": 25,
     "metadata": {},
     "output_type": "execute_result"
    }
   ],
   "source": [
    "pd = pandas.concat([roc_auc_score_one_vs_all(train.Signal, train[f], train.Weight) \n",
    "                    for f in features_CALO_DLL_e])\n",
    "pd.index = features_CALO_DLL_e\n",
    "pd"
   ]
  },
  {
   "cell_type": "code",
   "execution_count": 26,
   "metadata": {
    "collapsed": false
   },
   "outputs": [],
   "source": [
    "CALO_LL_e_cum_features = compute_cum_sum(train, features_CALO_DLL_e, 'CALO_PID_e_to_right_')"
   ]
  },
  {
   "cell_type": "code",
   "execution_count": 27,
   "metadata": {
    "collapsed": false
   },
   "outputs": [
    {
     "data": {
      "image/png": "[encoded data removed]",
      "text/plain": [
       "<matplotlib.figure.Figure at 0x7f4b2de02290>"
      ]
     },
     "metadata": {},
     "output_type": "display_data"
    }
   ],
   "source": [
    "figure(figsize=(22, 3))\n",
    "plot_hist_features(CALO_LL_e_cum_features, train.Signal, CALO_LL_e_cum_features.columns)"
   ]
  },
  {
   "cell_type": "code",
   "execution_count": 28,
   "metadata": {
    "collapsed": false
   },
   "outputs": [
    {
     "data": {
      "text/html": [
       "<div>\n",
       "<table border=\"1\" class=\"dataframe\">\n",
       "  <thead>\n",
       "    <tr style=\"text-align: right;\">\n",
       "      <th></th>\n",
       "      <th>Ghost</th>\n",
       "      <th>Muon</th>\n",
       "      <th>Pion</th>\n",
       "      <th>Kaon</th>\n",
       "      <th>Proton</th>\n",
       "      <th>Electron</th>\n",
       "    </tr>\n",
       "  </thead>\n",
       "  <tbody>\n",
       "    <tr>\n",
       "      <th>CALO_PID_e_to_right_0</th>\n",
       "      <td>0.515698</td>\n",
       "      <td>0.407160</td>\n",
       "      <td>0.432509</td>\n",
       "      <td>0.420075</td>\n",
       "      <td>0.423449</td>\n",
       "      <td>0.801444</td>\n",
       "    </tr>\n",
       "    <tr>\n",
       "      <th>CALO_PID_e_to_right_1</th>\n",
       "      <td>0.418050</td>\n",
       "      <td>0.485787</td>\n",
       "      <td>0.449250</td>\n",
       "      <td>0.455653</td>\n",
       "      <td>0.466318</td>\n",
       "      <td>0.725161</td>\n",
       "    </tr>\n",
       "    <tr>\n",
       "      <th>CALO_PID_e_to_right_2</th>\n",
       "      <td>0.432739</td>\n",
       "      <td>0.448794</td>\n",
       "      <td>0.463806</td>\n",
       "      <td>0.469454</td>\n",
       "      <td>0.474895</td>\n",
       "      <td>0.710522</td>\n",
       "    </tr>\n",
       "    <tr>\n",
       "      <th>CALO_PID_e_to_right_3</th>\n",
       "      <td>0.430049</td>\n",
       "      <td>0.457872</td>\n",
       "      <td>0.468245</td>\n",
       "      <td>0.479801</td>\n",
       "      <td>0.484597</td>\n",
       "      <td>0.679616</td>\n",
       "    </tr>\n",
       "  </tbody>\n",
       "</table>\n",
       "</div>"
      ],
      "text/plain": [
       "                          Ghost      Muon      Pion      Kaon    Proton  \\\n",
       "CALO_PID_e_to_right_0  0.515698  0.407160  0.432509  0.420075  0.423449   \n",
       "CALO_PID_e_to_right_1  0.418050  0.485787  0.449250  0.455653  0.466318   \n",
       "CALO_PID_e_to_right_2  0.432739  0.448794  0.463806  0.469454  0.474895   \n",
       "CALO_PID_e_to_right_3  0.430049  0.457872  0.468245  0.479801  0.484597   \n",
       "\n",
       "                       Electron  \n",
       "CALO_PID_e_to_right_0  0.801444  \n",
       "CALO_PID_e_to_right_1  0.725161  \n",
       "CALO_PID_e_to_right_2  0.710522  \n",
       "CALO_PID_e_to_right_3  0.679616  "
      ]
     },
     "execution_count": 28,
     "metadata": {},
     "output_type": "execute_result"
    }
   ],
   "source": [
    "pd = pandas.concat([roc_auc_score_one_vs_all(train.Signal, CALO_LL_e_cum_features[f], train.Weight) \n",
    "                    for f in CALO_LL_e_cum_features.columns])\n",
    "pd.index = CALO_LL_e_cum_features.columns\n",
    "pd"
   ]
  },
  {
   "cell_type": "markdown",
   "metadata": {},
   "source": [
    "## PIDmu"
   ]
  },
  {
   "cell_type": "code",
   "execution_count": 21,
   "metadata": {
    "collapsed": true
   },
   "outputs": [],
   "source": [
    "features_CALO_DLL_mu  = ['EcalPIDmu', 'HcalPIDmu']"
   ]
  },
  {
   "cell_type": "code",
   "execution_count": 30,
   "metadata": {
    "collapsed": false
   },
   "outputs": [
    {
     "data": {
      "image/png": "[encoded data removed]",
      "text/plain": [
       "<matplotlib.figure.Figure at 0x7f4b38a67bd0>"
      ]
     },
     "metadata": {},
     "output_type": "display_data"
    }
   ],
   "source": [
    "figure(figsize=(22, 3))\n",
    "plot_hist_features(train, train.Signal, features_CALO_DLL_mu)"
   ]
  },
  {
   "cell_type": "code",
   "execution_count": 31,
   "metadata": {
    "collapsed": false
   },
   "outputs": [
    {
     "data": {
      "text/html": [
       "<div>\n",
       "<table border=\"1\" class=\"dataframe\">\n",
       "  <thead>\n",
       "    <tr style=\"text-align: right;\">\n",
       "      <th></th>\n",
       "      <th>Ghost</th>\n",
       "      <th>Muon</th>\n",
       "      <th>Pion</th>\n",
       "      <th>Kaon</th>\n",
       "      <th>Proton</th>\n",
       "      <th>Electron</th>\n",
       "    </tr>\n",
       "  </thead>\n",
       "  <tbody>\n",
       "    <tr>\n",
       "      <th>EcalPIDmu</th>\n",
       "      <td>0.469975</td>\n",
       "      <td>0.757859</td>\n",
       "      <td>0.505364</td>\n",
       "      <td>0.496789</td>\n",
       "      <td>0.488642</td>\n",
       "      <td>0.281069</td>\n",
       "    </tr>\n",
       "    <tr>\n",
       "      <th>HcalPIDmu</th>\n",
       "      <td>0.437649</td>\n",
       "      <td>0.717301</td>\n",
       "      <td>0.475388</td>\n",
       "      <td>0.478760</td>\n",
       "      <td>0.470862</td>\n",
       "      <td>0.419890</td>\n",
       "    </tr>\n",
       "  </tbody>\n",
       "</table>\n",
       "</div>"
      ],
      "text/plain": [
       "              Ghost      Muon      Pion      Kaon    Proton  Electron\n",
       "EcalPIDmu  0.469975  0.757859  0.505364  0.496789  0.488642  0.281069\n",
       "HcalPIDmu  0.437649  0.717301  0.475388  0.478760  0.470862  0.419890"
      ]
     },
     "execution_count": 31,
     "metadata": {},
     "output_type": "execute_result"
    }
   ],
   "source": [
    "pd = pandas.concat([roc_auc_score_one_vs_all(train.Signal, train[f], train.Weight) \n",
    "                    for f in features_CALO_DLL_mu])\n",
    "pd.index = features_CALO_DLL_mu\n",
    "pd"
   ]
  },
  {
   "cell_type": "code",
   "execution_count": 32,
   "metadata": {
    "collapsed": false
   },
   "outputs": [
    {
     "data": {
      "text/html": [
       "<div>\n",
       "<table border=\"1\" class=\"dataframe\">\n",
       "  <thead>\n",
       "    <tr style=\"text-align: right;\">\n",
       "      <th></th>\n",
       "      <th>Ghost</th>\n",
       "      <th>Muon</th>\n",
       "      <th>Pion</th>\n",
       "      <th>Kaon</th>\n",
       "      <th>Proton</th>\n",
       "      <th>Electron</th>\n",
       "    </tr>\n",
       "  </thead>\n",
       "  <tbody>\n",
       "    <tr>\n",
       "      <th>0</th>\n",
       "      <td>0.451969</td>\n",
       "      <td>0.767746</td>\n",
       "      <td>0.493877</td>\n",
       "      <td>0.491989</td>\n",
       "      <td>0.482565</td>\n",
       "      <td>0.311582</td>\n",
       "    </tr>\n",
       "  </tbody>\n",
       "</table>\n",
       "</div>"
      ],
      "text/plain": [
       "      Ghost      Muon      Pion      Kaon    Proton  Electron\n",
       "0  0.451969  0.767746  0.493877  0.491989  0.482565  0.311582"
      ]
     },
     "execution_count": 32,
     "metadata": {},
     "output_type": "execute_result"
    }
   ],
   "source": [
    "roc_auc_score_one_vs_all(train.Signal, train.EcalPIDmu + train.HcalPIDmu, train.Weight)"
   ]
  },
  {
   "cell_type": "markdown",
   "metadata": {},
   "source": [
    "### use EcalPIDmu, HcalPIDmu, EcalPIDmu + HcalPIDmu"
   ]
  },
  {
   "cell_type": "markdown",
   "metadata": {},
   "source": [
    "## energy"
   ]
  },
  {
   "cell_type": "code",
   "execution_count": 22,
   "metadata": {
    "collapsed": true
   },
   "outputs": [],
   "source": [
    "features_CALO_E = ['CaloSpdE', 'CaloPrsE', 'CaloEcalE', 'CaloHcalE']"
   ]
  },
  {
   "cell_type": "code",
   "execution_count": 34,
   "metadata": {
    "collapsed": false
   },
   "outputs": [
    {
     "name": "stdout",
     "output_type": "stream",
     "text": [
      "[[ 1.          0.97371292  0.24201339  0.19971322]\n",
      " [ 0.97371292  1.          0.28704762  0.19320449]\n",
      " [ 0.24201339  0.28704762  1.          0.09783265]\n",
      " [ 0.19971322  0.19320449  0.09783265  1.        ]]\n"
     ]
    }
   ],
   "source": [
    "correlation = numpy.corrcoef(train[features_CALO_E].values.T)\n",
    "print correlation"
   ]
  },
  {
   "cell_type": "code",
   "execution_count": 35,
   "metadata": {
    "collapsed": false
   },
   "outputs": [
    {
     "data": {
      "image/png": "[encoded data removed]",
      "text/plain": [
       "<matplotlib.figure.Figure at 0x7f4b2f3f2490>"
      ]
     },
     "metadata": {},
     "output_type": "display_data"
    }
   ],
   "source": [
    "figure(figsize=(22, 3))\n",
    "plot_hist_features(train, train.Signal, features_CALO_E)"
   ]
  },
  {
   "cell_type": "code",
   "execution_count": 36,
   "metadata": {
    "collapsed": false
   },
   "outputs": [
    {
     "data": {
      "text/html": [
       "<div>\n",
       "<table border=\"1\" class=\"dataframe\">\n",
       "  <thead>\n",
       "    <tr style=\"text-align: right;\">\n",
       "      <th></th>\n",
       "      <th>Ghost</th>\n",
       "      <th>Muon</th>\n",
       "      <th>Pion</th>\n",
       "      <th>Kaon</th>\n",
       "      <th>Proton</th>\n",
       "      <th>Electron</th>\n",
       "    </tr>\n",
       "  </thead>\n",
       "  <tbody>\n",
       "    <tr>\n",
       "      <th>CaloSpdE</th>\n",
       "      <td>0.397673</td>\n",
       "      <td>0.547093</td>\n",
       "      <td>0.510505</td>\n",
       "      <td>0.518342</td>\n",
       "      <td>0.511633</td>\n",
       "      <td>0.514711</td>\n",
       "    </tr>\n",
       "    <tr>\n",
       "      <th>CaloPrsE</th>\n",
       "      <td>0.447293</td>\n",
       "      <td>0.420720</td>\n",
       "      <td>0.439918</td>\n",
       "      <td>0.450463</td>\n",
       "      <td>0.447577</td>\n",
       "      <td>0.794339</td>\n",
       "    </tr>\n",
       "    <tr>\n",
       "      <th>CaloEcalE</th>\n",
       "      <td>0.462691</td>\n",
       "      <td>0.313630</td>\n",
       "      <td>0.485794</td>\n",
       "      <td>0.512176</td>\n",
       "      <td>0.510942</td>\n",
       "      <td>0.715033</td>\n",
       "    </tr>\n",
       "    <tr>\n",
       "      <th>CaloHcalE</th>\n",
       "      <td>0.433090</td>\n",
       "      <td>0.587895</td>\n",
       "      <td>0.531196</td>\n",
       "      <td>0.562532</td>\n",
       "      <td>0.543224</td>\n",
       "      <td>0.341865</td>\n",
       "    </tr>\n",
       "  </tbody>\n",
       "</table>\n",
       "</div>"
      ],
      "text/plain": [
       "              Ghost      Muon      Pion      Kaon    Proton  Electron\n",
       "CaloSpdE   0.397673  0.547093  0.510505  0.518342  0.511633  0.514711\n",
       "CaloPrsE   0.447293  0.420720  0.439918  0.450463  0.447577  0.794339\n",
       "CaloEcalE  0.462691  0.313630  0.485794  0.512176  0.510942  0.715033\n",
       "CaloHcalE  0.433090  0.587895  0.531196  0.562532  0.543224  0.341865"
      ]
     },
     "execution_count": 36,
     "metadata": {},
     "output_type": "execute_result"
    }
   ],
   "source": [
    "pd = pandas.concat([roc_auc_score_one_vs_all(train.Signal, train[f], train.Weight) \n",
    "                    for f in features_CALO_E])\n",
    "pd.index = features_CALO_E\n",
    "pd"
   ]
  },
  {
   "cell_type": "code",
   "execution_count": 37,
   "metadata": {
    "collapsed": false
   },
   "outputs": [
    {
     "data": {
      "text/html": [
       "<div>\n",
       "<table border=\"1\" class=\"dataframe\">\n",
       "  <thead>\n",
       "    <tr style=\"text-align: right;\">\n",
       "      <th></th>\n",
       "      <th>Ghost</th>\n",
       "      <th>Muon</th>\n",
       "      <th>Pion</th>\n",
       "      <th>Kaon</th>\n",
       "      <th>Proton</th>\n",
       "      <th>Electron</th>\n",
       "    </tr>\n",
       "  </thead>\n",
       "  <tbody>\n",
       "    <tr>\n",
       "      <th>0</th>\n",
       "      <td>0.436814</td>\n",
       "      <td>0.428465</td>\n",
       "      <td>0.44178</td>\n",
       "      <td>0.452663</td>\n",
       "      <td>0.449184</td>\n",
       "      <td>0.791395</td>\n",
       "    </tr>\n",
       "  </tbody>\n",
       "</table>\n",
       "</div>"
      ],
      "text/plain": [
       "      Ghost      Muon     Pion      Kaon    Proton  Electron\n",
       "0  0.436814  0.428465  0.44178  0.452663  0.449184  0.791395"
      ]
     },
     "execution_count": 37,
     "metadata": {},
     "output_type": "execute_result"
    }
   ],
   "source": [
    "roc_auc_score_one_vs_all(train.Signal, train.CaloSpdE + train.CaloPrsE, train.Weight)"
   ]
  },
  {
   "cell_type": "markdown",
   "metadata": {},
   "source": [
    "### use energy separate, HcalPIDmu, CaloSpdE + CaloPrsE"
   ]
  },
  {
   "cell_type": "markdown",
   "metadata": {},
   "source": [
    "## Neutral"
   ]
  },
  {
   "cell_type": "code",
   "execution_count": 23,
   "metadata": {
    "collapsed": true
   },
   "outputs": [],
   "source": [
    "features_CALO_neutral  = ['CaloNeutralSpd', 'CaloNeutralPrs', 'CaloNeutralEcal']"
   ]
  },
  {
   "cell_type": "code",
   "execution_count": 40,
   "metadata": {
    "collapsed": false
   },
   "outputs": [
    {
     "data": {
      "image/png": "[encoded data removed]",
      "text/plain": [
       "<matplotlib.figure.Figure at 0x7f4b2fc69390>"
      ]
     },
     "metadata": {},
     "output_type": "display_data"
    }
   ],
   "source": [
    "figure(figsize=(22, 3))\n",
    "plot_hist_features(train, train.Signal.values, features_CALO_neutral)"
   ]
  },
  {
   "cell_type": "code",
   "execution_count": 41,
   "metadata": {
    "collapsed": false
   },
   "outputs": [
    {
     "data": {
      "text/html": [
       "<div>\n",
       "<table border=\"1\" class=\"dataframe\">\n",
       "  <thead>\n",
       "    <tr style=\"text-align: right;\">\n",
       "      <th></th>\n",
       "      <th>Ghost</th>\n",
       "      <th>Muon</th>\n",
       "      <th>Pion</th>\n",
       "      <th>Kaon</th>\n",
       "      <th>Proton</th>\n",
       "      <th>Electron</th>\n",
       "    </tr>\n",
       "  </thead>\n",
       "  <tbody>\n",
       "    <tr>\n",
       "      <th>CaloNeutralSpd</th>\n",
       "      <td>0.439935</td>\n",
       "      <td>0.527173</td>\n",
       "      <td>0.499996</td>\n",
       "      <td>0.498185</td>\n",
       "      <td>0.507108</td>\n",
       "      <td>0.527602</td>\n",
       "    </tr>\n",
       "    <tr>\n",
       "      <th>CaloNeutralPrs</th>\n",
       "      <td>0.455727</td>\n",
       "      <td>0.506480</td>\n",
       "      <td>0.491394</td>\n",
       "      <td>0.484948</td>\n",
       "      <td>0.489148</td>\n",
       "      <td>0.572352</td>\n",
       "    </tr>\n",
       "    <tr>\n",
       "      <th>CaloNeutralEcal</th>\n",
       "      <td>0.476472</td>\n",
       "      <td>0.492683</td>\n",
       "      <td>0.492828</td>\n",
       "      <td>0.479788</td>\n",
       "      <td>0.483648</td>\n",
       "      <td>0.574637</td>\n",
       "    </tr>\n",
       "  </tbody>\n",
       "</table>\n",
       "</div>"
      ],
      "text/plain": [
       "                    Ghost      Muon      Pion      Kaon    Proton  Electron\n",
       "CaloNeutralSpd   0.439935  0.527173  0.499996  0.498185  0.507108  0.527602\n",
       "CaloNeutralPrs   0.455727  0.506480  0.491394  0.484948  0.489148  0.572352\n",
       "CaloNeutralEcal  0.476472  0.492683  0.492828  0.479788  0.483648  0.574637"
      ]
     },
     "execution_count": 41,
     "metadata": {},
     "output_type": "execute_result"
    }
   ],
   "source": [
    "pd = pandas.concat([roc_auc_score_one_vs_all(train.Signal, train[f], train.Weight) \n",
    "                    for f in features_CALO_neutral])\n",
    "pd.index = features_CALO_neutral\n",
    "pd"
   ]
  },
  {
   "cell_type": "code",
   "execution_count": 42,
   "metadata": {
    "collapsed": false
   },
   "outputs": [
    {
     "data": {
      "text/html": [
       "<div>\n",
       "<table border=\"1\" class=\"dataframe\">\n",
       "  <thead>\n",
       "    <tr style=\"text-align: right;\">\n",
       "      <th></th>\n",
       "      <th>Ghost</th>\n",
       "      <th>Muon</th>\n",
       "      <th>Pion</th>\n",
       "      <th>Kaon</th>\n",
       "      <th>Proton</th>\n",
       "      <th>Electron</th>\n",
       "    </tr>\n",
       "  </thead>\n",
       "  <tbody>\n",
       "    <tr>\n",
       "      <th>0</th>\n",
       "      <td>0.42053</td>\n",
       "      <td>0.540048</td>\n",
       "      <td>0.499497</td>\n",
       "      <td>0.50859</td>\n",
       "      <td>0.515232</td>\n",
       "      <td>0.516088</td>\n",
       "    </tr>\n",
       "  </tbody>\n",
       "</table>\n",
       "</div>"
      ],
      "text/plain": [
       "     Ghost      Muon      Pion     Kaon    Proton  Electron\n",
       "0  0.42053  0.540048  0.499497  0.50859  0.515232  0.516088"
      ]
     },
     "execution_count": 42,
     "metadata": {},
     "output_type": "execute_result"
    }
   ],
   "source": [
    "roc_auc_score_one_vs_all(train.Signal, train.CaloNeutralSpd + train.InAccSpd, train.Weight)"
   ]
  },
  {
   "cell_type": "markdown",
   "metadata": {},
   "source": [
    "### Use CaloNeutralSpd + InAccSpd for Ghost"
   ]
  },
  {
   "cell_type": "markdown",
   "metadata": {},
   "source": [
    "## Charged"
   ]
  },
  {
   "cell_type": "code",
   "execution_count": 24,
   "metadata": {
    "collapsed": true
   },
   "outputs": [],
   "source": [
    "features_CALO_charged = ['CaloChargedSpd', 'CaloChargedPrs' , 'CaloChargedEcal']"
   ]
  },
  {
   "cell_type": "code",
   "execution_count": 45,
   "metadata": {
    "collapsed": false
   },
   "outputs": [
    {
     "data": {
      "image/png": "[encoded data removed]",
      "text/plain": [
       "<matplotlib.figure.Figure at 0x7f4b2ff44ad0>"
      ]
     },
     "metadata": {},
     "output_type": "display_data"
    }
   ],
   "source": [
    "figure(figsize=(18, 3))\n",
    "plot_hist_features(train, train.Signal, features_CALO_charged)"
   ]
  },
  {
   "cell_type": "code",
   "execution_count": 46,
   "metadata": {
    "collapsed": false
   },
   "outputs": [
    {
     "data": {
      "text/html": [
       "<div>\n",
       "<table border=\"1\" class=\"dataframe\">\n",
       "  <thead>\n",
       "    <tr style=\"text-align: right;\">\n",
       "      <th></th>\n",
       "      <th>Ghost</th>\n",
       "      <th>Muon</th>\n",
       "      <th>Pion</th>\n",
       "      <th>Kaon</th>\n",
       "      <th>Proton</th>\n",
       "      <th>Electron</th>\n",
       "    </tr>\n",
       "  </thead>\n",
       "  <tbody>\n",
       "    <tr>\n",
       "      <th>CaloChargedSpd</th>\n",
       "      <td>0.524456</td>\n",
       "      <td>0.398802</td>\n",
       "      <td>0.512335</td>\n",
       "      <td>0.505977</td>\n",
       "      <td>0.501543</td>\n",
       "      <td>0.556963</td>\n",
       "    </tr>\n",
       "    <tr>\n",
       "      <th>CaloChargedPrs</th>\n",
       "      <td>0.525733</td>\n",
       "      <td>0.368351</td>\n",
       "      <td>0.472989</td>\n",
       "      <td>0.470389</td>\n",
       "      <td>0.465802</td>\n",
       "      <td>0.696972</td>\n",
       "    </tr>\n",
       "    <tr>\n",
       "      <th>CaloChargedEcal</th>\n",
       "      <td>0.513556</td>\n",
       "      <td>0.353654</td>\n",
       "      <td>0.478197</td>\n",
       "      <td>0.490189</td>\n",
       "      <td>0.485470</td>\n",
       "      <td>0.679164</td>\n",
       "    </tr>\n",
       "  </tbody>\n",
       "</table>\n",
       "</div>"
      ],
      "text/plain": [
       "                    Ghost      Muon      Pion      Kaon    Proton  Electron\n",
       "CaloChargedSpd   0.524456  0.398802  0.512335  0.505977  0.501543  0.556963\n",
       "CaloChargedPrs   0.525733  0.368351  0.472989  0.470389  0.465802  0.696972\n",
       "CaloChargedEcal  0.513556  0.353654  0.478197  0.490189  0.485470  0.679164"
      ]
     },
     "execution_count": 46,
     "metadata": {},
     "output_type": "execute_result"
    }
   ],
   "source": [
    "pd = pandas.concat([roc_auc_score_one_vs_all(train.Signal, train[f], train.Weight) \n",
    "                    for f in features_CALO_charged])\n",
    "pd.index = features_CALO_charged\n",
    "pd"
   ]
  },
  {
   "cell_type": "code",
   "execution_count": 47,
   "metadata": {
    "collapsed": false
   },
   "outputs": [
    {
     "data": {
      "text/html": [
       "<div>\n",
       "<table border=\"1\" class=\"dataframe\">\n",
       "  <thead>\n",
       "    <tr style=\"text-align: right;\">\n",
       "      <th></th>\n",
       "      <th>Ghost</th>\n",
       "      <th>Muon</th>\n",
       "      <th>Pion</th>\n",
       "      <th>Kaon</th>\n",
       "      <th>Proton</th>\n",
       "      <th>Electron</th>\n",
       "    </tr>\n",
       "  </thead>\n",
       "  <tbody>\n",
       "    <tr>\n",
       "      <th>0</th>\n",
       "      <td>0.467340</td>\n",
       "      <td>0.440286</td>\n",
       "      <td>0.508629</td>\n",
       "      <td>0.511389</td>\n",
       "      <td>0.513527</td>\n",
       "      <td>0.558887</td>\n",
       "    </tr>\n",
       "    <tr>\n",
       "      <th>0</th>\n",
       "      <td>0.471969</td>\n",
       "      <td>0.430706</td>\n",
       "      <td>0.509522</td>\n",
       "      <td>0.508528</td>\n",
       "      <td>0.511950</td>\n",
       "      <td>0.567393</td>\n",
       "    </tr>\n",
       "    <tr>\n",
       "      <th>0</th>\n",
       "      <td>0.512644</td>\n",
       "      <td>0.417851</td>\n",
       "      <td>0.511257</td>\n",
       "      <td>0.509297</td>\n",
       "      <td>0.503918</td>\n",
       "      <td>0.545091</td>\n",
       "    </tr>\n",
       "    <tr>\n",
       "      <th>0</th>\n",
       "      <td>0.420530</td>\n",
       "      <td>0.540048</td>\n",
       "      <td>0.499497</td>\n",
       "      <td>0.508590</td>\n",
       "      <td>0.515232</td>\n",
       "      <td>0.516088</td>\n",
       "    </tr>\n",
       "  </tbody>\n",
       "</table>\n",
       "</div>"
      ],
      "text/plain": [
       "      Ghost      Muon      Pion      Kaon    Proton  Electron\n",
       "0  0.467340  0.440286  0.508629  0.511389  0.513527  0.558887\n",
       "0  0.471969  0.430706  0.509522  0.508528  0.511950  0.567393\n",
       "0  0.512644  0.417851  0.511257  0.509297  0.503918  0.545091\n",
       "0  0.420530  0.540048  0.499497  0.508590  0.515232  0.516088"
      ]
     },
     "execution_count": 47,
     "metadata": {},
     "output_type": "execute_result"
    }
   ],
   "source": [
    "pd = pandas.concat([roc_auc_score_one_vs_all(train.Signal, \n",
    "                                             train.CaloChargedSpd + train.CaloNeutralSpd + train.InAccSpd, \n",
    "                                             train.Weight),\n",
    "                    roc_auc_score_one_vs_all(train.Signal, \n",
    "                                             train.CaloChargedSpd + train.CaloNeutralSpd, \n",
    "                                             train.Weight),\n",
    "                    roc_auc_score_one_vs_all(train.Signal, \n",
    "                                             train.CaloChargedSpd + train.InAccSpd, \n",
    "                                             train.Weight),\n",
    "                    roc_auc_score_one_vs_all(train.Signal, \n",
    "                                             train.CaloNeutralSpd + train.InAccSpd, \n",
    "                                             train.Weight)])\n",
    "pd"
   ]
  },
  {
   "cell_type": "markdown",
   "metadata": {},
   "source": [
    "### use CaloNeutralSpd + InAccSpd for Ghost\n",
    "### use CaloChargedSpd + InAccSpd for Muon\n",
    "### use CaloNeutralSpd + CaloChargedSpd for Electron"
   ]
  },
  {
   "cell_type": "markdown",
   "metadata": {},
   "source": [
    "## Others"
   ]
  },
  {
   "cell_type": "code",
   "execution_count": 25,
   "metadata": {
    "collapsed": true
   },
   "outputs": [],
   "source": [
    "features_CALO_others = ['CaloBremMatch', 'CaloElectronMatch', 'CaloTrMatch', 'CaloTrajectoryL']"
   ]
  },
  {
   "cell_type": "code",
   "execution_count": 50,
   "metadata": {
    "collapsed": false
   },
   "outputs": [
    {
     "data": {
      "image/png": "[encoded data removed]",
      "text/plain": [
       "<matplotlib.figure.Figure at 0x7f4b38a5d810>"
      ]
     },
     "metadata": {},
     "output_type": "display_data"
    }
   ],
   "source": [
    "figure(figsize=(22, 3))\n",
    "plot_hist_features(train, train.Signal, features_CALO_others)"
   ]
  },
  {
   "cell_type": "code",
   "execution_count": 51,
   "metadata": {
    "collapsed": false
   },
   "outputs": [
    {
     "data": {
      "text/html": [
       "<div>\n",
       "<table border=\"1\" class=\"dataframe\">\n",
       "  <thead>\n",
       "    <tr style=\"text-align: right;\">\n",
       "      <th></th>\n",
       "      <th>Ghost</th>\n",
       "      <th>Muon</th>\n",
       "      <th>Pion</th>\n",
       "      <th>Kaon</th>\n",
       "      <th>Proton</th>\n",
       "      <th>Electron</th>\n",
       "    </tr>\n",
       "  </thead>\n",
       "  <tbody>\n",
       "    <tr>\n",
       "      <th>CaloBremMatch</th>\n",
       "      <td>0.402371</td>\n",
       "      <td>0.583346</td>\n",
       "      <td>0.511549</td>\n",
       "      <td>0.509998</td>\n",
       "      <td>0.516975</td>\n",
       "      <td>0.475676</td>\n",
       "    </tr>\n",
       "    <tr>\n",
       "      <th>CaloElectronMatch</th>\n",
       "      <td>0.487406</td>\n",
       "      <td>0.497626</td>\n",
       "      <td>0.559397</td>\n",
       "      <td>0.566520</td>\n",
       "      <td>0.561941</td>\n",
       "      <td>0.326919</td>\n",
       "    </tr>\n",
       "    <tr>\n",
       "      <th>CaloTrMatch</th>\n",
       "      <td>0.483529</td>\n",
       "      <td>0.674394</td>\n",
       "      <td>0.534036</td>\n",
       "      <td>0.526034</td>\n",
       "      <td>0.511261</td>\n",
       "      <td>0.270442</td>\n",
       "    </tr>\n",
       "    <tr>\n",
       "      <th>CaloTrajectoryL</th>\n",
       "      <td>0.536359</td>\n",
       "      <td>0.387319</td>\n",
       "      <td>0.505539</td>\n",
       "      <td>0.494970</td>\n",
       "      <td>0.488344</td>\n",
       "      <td>0.587578</td>\n",
       "    </tr>\n",
       "  </tbody>\n",
       "</table>\n",
       "</div>"
      ],
      "text/plain": [
       "                      Ghost      Muon      Pion      Kaon    Proton  Electron\n",
       "CaloBremMatch      0.402371  0.583346  0.511549  0.509998  0.516975  0.475676\n",
       "CaloElectronMatch  0.487406  0.497626  0.559397  0.566520  0.561941  0.326919\n",
       "CaloTrMatch        0.483529  0.674394  0.534036  0.526034  0.511261  0.270442\n",
       "CaloTrajectoryL    0.536359  0.387319  0.505539  0.494970  0.488344  0.587578"
      ]
     },
     "execution_count": 51,
     "metadata": {},
     "output_type": "execute_result"
    }
   ],
   "source": [
    "pd = pandas.concat([roc_auc_score_one_vs_all(train.Signal, train[f], train.Weight) \n",
    "                    for f in features_CALO_others])\n",
    "pd.index = features_CALO_others\n",
    "pd"
   ]
  },
  {
   "cell_type": "markdown",
   "metadata": {},
   "source": [
    "## NN on CALO"
   ]
  },
  {
   "cell_type": "code",
   "execution_count": 52,
   "metadata": {
    "collapsed": false
   },
   "outputs": [
    {
     "name": "stdout",
     "output_type": "stream",
     "text": [
      "[u'CaloBremMatch', u'CaloElectronMatch', u'CaloTrMatch', u'CaloTrajectoryL', u'CaloChargedSpd', u'CaloChargedPrs', u'CaloChargedEcal', u'CaloNeutralSpd', u'CaloNeutralPrs', u'CaloNeutralEcal', u'CaloSpdE', u'CaloPrsE', u'CaloEcalE', u'CaloHcalE', u'EcalPIDmu', u'HcalPIDmu', u'PrsPIDe', u'BremPIDe', u'EcalPIDe', u'HcalPIDe']\n"
     ]
    }
   ],
   "source": [
    "print features['CALO']"
   ]
  },
  {
   "cell_type": "code",
   "execution_count": null,
   "metadata": {
    "collapsed": false
   },
   "outputs": [],
   "source": [
    "%%time\n",
    "nn_CALO = FoldingClassifier(MLPMultiClassifier(layers=(30, 10), scaler='iron', epochs=700), \n",
    "                            features=features['CALO'], random_state=13)\n",
    "nn_CALO.fit(train, train.Signal, train.Weight)"
   ]
  },
  {
   "cell_type": "code",
   "execution_count": 59,
   "metadata": {
    "collapsed": false
   },
   "outputs": [
    {
     "name": "stdout",
     "output_type": "stream",
     "text": [
      "KFold prediction using folds column\n"
     ]
    },
    {
     "data": {
      "text/html": [
       "<div>\n",
       "<table border=\"1\" class=\"dataframe\">\n",
       "  <thead>\n",
       "    <tr style=\"text-align: right;\">\n",
       "      <th></th>\n",
       "      <th>Ghost</th>\n",
       "      <th>Muon</th>\n",
       "      <th>Pion</th>\n",
       "      <th>Kaon</th>\n",
       "      <th>Proton</th>\n",
       "      <th>Electron</th>\n",
       "    </tr>\n",
       "  </thead>\n",
       "  <tbody>\n",
       "    <tr>\n",
       "      <th>0</th>\n",
       "      <td>0.782718</td>\n",
       "      <td>0.920485</td>\n",
       "      <td>0.711319</td>\n",
       "      <td>0.733464</td>\n",
       "      <td>0.737953</td>\n",
       "      <td>0.957749</td>\n",
       "    </tr>\n",
       "  </tbody>\n",
       "</table>\n",
       "</div>"
      ],
      "text/plain": [
       "      Ghost      Muon      Pion      Kaon    Proton  Electron\n",
       "0  0.782718  0.920485  0.711319  0.733464  0.737953  0.957749"
      ]
     },
     "execution_count": 59,
     "metadata": {},
     "output_type": "execute_result"
    }
   ],
   "source": [
    "roc_auc_score_one_vs_all(train.Signal.values, nn_CALO.predict_proba(train), train.Weight.values)"
   ]
  },
  {
   "cell_type": "code",
   "execution_count": 60,
   "metadata": {
    "collapsed": false
   },
   "outputs": [
    {
     "name": "stdout",
     "output_type": "stream",
     "text": [
      "KFold prediction using random classifier (length of data passed not equal to length of train)\n"
     ]
    },
    {
     "data": {
      "text/html": [
       "<div>\n",
       "<table border=\"1\" class=\"dataframe\">\n",
       "  <thead>\n",
       "    <tr style=\"text-align: right;\">\n",
       "      <th></th>\n",
       "      <th>Ghost</th>\n",
       "      <th>Muon</th>\n",
       "      <th>Pion</th>\n",
       "      <th>Kaon</th>\n",
       "      <th>Proton</th>\n",
       "      <th>Electron</th>\n",
       "    </tr>\n",
       "  </thead>\n",
       "  <tbody>\n",
       "    <tr>\n",
       "      <th>0</th>\n",
       "      <td>0.783383</td>\n",
       "      <td>0.920655</td>\n",
       "      <td>0.710956</td>\n",
       "      <td>0.733835</td>\n",
       "      <td>0.738793</td>\n",
       "      <td>0.957806</td>\n",
       "    </tr>\n",
       "  </tbody>\n",
       "</table>\n",
       "</div>"
      ],
      "text/plain": [
       "      Ghost      Muon      Pion      Kaon    Proton  Electron\n",
       "0  0.783383  0.920655  0.710956  0.733835  0.738793  0.957806"
      ]
     },
     "execution_count": 60,
     "metadata": {},
     "output_type": "execute_result"
    }
   ],
   "source": [
    "roc_auc_score_one_vs_all(test.Signal.values, nn_CALO.predict_proba(test), test.Weight.values)"
   ]
  },
  {
   "cell_type": "code",
   "execution_count": 61,
   "metadata": {
    "collapsed": true
   },
   "outputs": [],
   "source": [
    "import cPickle \n",
    "with open('models/nn_CALO.pkl', 'w') as f:\n",
    "    cPickle.dump(nn_CALO, f)"
   ]
  },
  {
   "cell_type": "code",
   "execution_count": 62,
   "metadata": {
    "collapsed": true
   },
   "outputs": [],
   "source": [
    "# import cPickle \n",
    "# with open('models/nn_CALO.pkl', 'r') as f:\n",
    "#     nn_CALO = cPickle.load(f)"
   ]
  },
  {
   "cell_type": "markdown",
   "metadata": {},
   "source": [
    "# RICH features"
   ]
  },
  {
   "cell_type": "markdown",
   "metadata": {},
   "source": [
    "## DLL"
   ]
  },
  {
   "cell_type": "code",
   "execution_count": 27,
   "metadata": {
    "collapsed": false
   },
   "outputs": [],
   "source": [
    "features_RICH_DLL = filter(lambda x: 'RichDLL' in x, train.columns)"
   ]
  },
  {
   "cell_type": "code",
   "execution_count": 64,
   "metadata": {
    "collapsed": false
   },
   "outputs": [
    {
     "data": {
      "text/plain": [
       "['RichDLLbt', 'RichDLLpi', 'RichDLLe', 'RichDLLp', 'RichDLLmu', 'RichDLLk']"
      ]
     },
     "execution_count": 64,
     "metadata": {},
     "output_type": "execute_result"
    }
   ],
   "source": [
    "features_RICH_DLL"
   ]
  },
  {
   "cell_type": "code",
   "execution_count": 65,
   "metadata": {
    "collapsed": false
   },
   "outputs": [
    {
     "data": {
      "image/png": "[encoded data removed]",
      "text/plain": [
       "<matplotlib.figure.Figure at 0x7f4b2f286e10>"
      ]
     },
     "metadata": {},
     "output_type": "display_data"
    }
   ],
   "source": [
    "figure(figsize=(22, 3))\n",
    "plot_hist_features(train, train.Signal, features_RICH_DLL)"
   ]
  },
  {
   "cell_type": "code",
   "execution_count": 66,
   "metadata": {
    "collapsed": false
   },
   "outputs": [],
   "source": [
    "RICH_LL_features = convert_DLL_to_LL(train, list(set(features_RICH_DLL) - {'RichDLLbt'}))"
   ]
  },
  {
   "cell_type": "code",
   "execution_count": 68,
   "metadata": {
    "collapsed": false
   },
   "outputs": [
    {
     "data": {
      "image/png": "[encoded data removed]",
      "text/plain": [
       "<matplotlib.figure.Figure at 0x7f4b38e7dad0>"
      ]
     },
     "metadata": {},
     "output_type": "display_data"
    }
   ],
   "source": [
    "figure(figsize=(22, 3))\n",
    "plot_hist_features(RICH_LL_features, train.Signal, RICH_LL_features.columns)"
   ]
  },
  {
   "cell_type": "code",
   "execution_count": 69,
   "metadata": {
    "collapsed": false
   },
   "outputs": [
    {
     "data": {
      "text/html": [
       "<div>\n",
       "<table border=\"1\" class=\"dataframe\">\n",
       "  <thead>\n",
       "    <tr style=\"text-align: right;\">\n",
       "      <th></th>\n",
       "      <th>Ghost</th>\n",
       "      <th>Muon</th>\n",
       "      <th>Pion</th>\n",
       "      <th>Kaon</th>\n",
       "      <th>Proton</th>\n",
       "      <th>Electron</th>\n",
       "    </tr>\n",
       "  </thead>\n",
       "  <tbody>\n",
       "    <tr>\n",
       "      <th>RichDLLbt</th>\n",
       "      <td>0.436394</td>\n",
       "      <td>0.244450</td>\n",
       "      <td>0.291215</td>\n",
       "      <td>0.762435</td>\n",
       "      <td>0.804872</td>\n",
       "      <td>0.461215</td>\n",
       "    </tr>\n",
       "    <tr>\n",
       "      <th>RichDLLpi</th>\n",
       "      <td>0.435293</td>\n",
       "      <td>0.520686</td>\n",
       "      <td>0.513707</td>\n",
       "      <td>0.519754</td>\n",
       "      <td>0.520301</td>\n",
       "      <td>0.490218</td>\n",
       "    </tr>\n",
       "    <tr>\n",
       "      <th>RichDLLe</th>\n",
       "      <td>0.423317</td>\n",
       "      <td>0.515585</td>\n",
       "      <td>0.239037</td>\n",
       "      <td>0.483031</td>\n",
       "      <td>0.491898</td>\n",
       "      <td>0.847782</td>\n",
       "    </tr>\n",
       "    <tr>\n",
       "      <th>RichDLLp</th>\n",
       "      <td>0.434866</td>\n",
       "      <td>0.239180</td>\n",
       "      <td>0.290739</td>\n",
       "      <td>0.752056</td>\n",
       "      <td>0.826160</td>\n",
       "      <td>0.457592</td>\n",
       "    </tr>\n",
       "    <tr>\n",
       "      <th>RichDLLmu</th>\n",
       "      <td>0.412700</td>\n",
       "      <td>0.704803</td>\n",
       "      <td>0.296376</td>\n",
       "      <td>0.461846</td>\n",
       "      <td>0.472952</td>\n",
       "      <td>0.651636</td>\n",
       "    </tr>\n",
       "    <tr>\n",
       "      <th>RichDLLk</th>\n",
       "      <td>0.426842</td>\n",
       "      <td>0.253148</td>\n",
       "      <td>0.277437</td>\n",
       "      <td>0.832366</td>\n",
       "      <td>0.759795</td>\n",
       "      <td>0.450974</td>\n",
       "    </tr>\n",
       "  </tbody>\n",
       "</table>\n",
       "</div>"
      ],
      "text/plain": [
       "              Ghost      Muon      Pion      Kaon    Proton  Electron\n",
       "RichDLLbt  0.436394  0.244450  0.291215  0.762435  0.804872  0.461215\n",
       "RichDLLpi  0.435293  0.520686  0.513707  0.519754  0.520301  0.490218\n",
       "RichDLLe   0.423317  0.515585  0.239037  0.483031  0.491898  0.847782\n",
       "RichDLLp   0.434866  0.239180  0.290739  0.752056  0.826160  0.457592\n",
       "RichDLLmu  0.412700  0.704803  0.296376  0.461846  0.472952  0.651636\n",
       "RichDLLk   0.426842  0.253148  0.277437  0.832366  0.759795  0.450974"
      ]
     },
     "execution_count": 69,
     "metadata": {},
     "output_type": "execute_result"
    }
   ],
   "source": [
    "pd = pandas.concat([roc_auc_score_one_vs_all(train.Signal, train[f], train.Weight) \n",
    "                    for f in features_RICH_DLL])\n",
    "pd.index = features_RICH_DLL\n",
    "pd"
   ]
  },
  {
   "cell_type": "code",
   "execution_count": 70,
   "metadata": {
    "collapsed": false
   },
   "outputs": [
    {
     "data": {
      "text/html": [
       "<div>\n",
       "<table border=\"1\" class=\"dataframe\">\n",
       "  <thead>\n",
       "    <tr style=\"text-align: right;\">\n",
       "      <th></th>\n",
       "      <th>Ghost</th>\n",
       "      <th>Muon</th>\n",
       "      <th>Pion</th>\n",
       "      <th>Kaon</th>\n",
       "      <th>Proton</th>\n",
       "      <th>Electron</th>\n",
       "    </tr>\n",
       "  </thead>\n",
       "  <tbody>\n",
       "    <tr>\n",
       "      <th>RichDLLpi_LL</th>\n",
       "      <td>0.600339</td>\n",
       "      <td>0.611164</td>\n",
       "      <td>0.864339</td>\n",
       "      <td>0.303276</td>\n",
       "      <td>0.306764</td>\n",
       "      <td>0.313256</td>\n",
       "    </tr>\n",
       "    <tr>\n",
       "      <th>RichDLLe_LL</th>\n",
       "      <td>0.587186</td>\n",
       "      <td>0.560561</td>\n",
       "      <td>0.363761</td>\n",
       "      <td>0.286134</td>\n",
       "      <td>0.288636</td>\n",
       "      <td>0.914122</td>\n",
       "    </tr>\n",
       "    <tr>\n",
       "      <th>RichDLLk_LL</th>\n",
       "      <td>0.565481</td>\n",
       "      <td>0.261342</td>\n",
       "      <td>0.385300</td>\n",
       "      <td>0.879307</td>\n",
       "      <td>0.643460</td>\n",
       "      <td>0.265322</td>\n",
       "    </tr>\n",
       "    <tr>\n",
       "      <th>RichDLLp_LL</th>\n",
       "      <td>0.576632</td>\n",
       "      <td>0.236128</td>\n",
       "      <td>0.397880</td>\n",
       "      <td>0.637899</td>\n",
       "      <td>0.877936</td>\n",
       "      <td>0.273871</td>\n",
       "    </tr>\n",
       "    <tr>\n",
       "      <th>RichDLLmu_LL</th>\n",
       "      <td>0.585285</td>\n",
       "      <td>0.857602</td>\n",
       "      <td>0.553441</td>\n",
       "      <td>0.293666</td>\n",
       "      <td>0.296155</td>\n",
       "      <td>0.413442</td>\n",
       "    </tr>\n",
       "  </tbody>\n",
       "</table>\n",
       "</div>"
      ],
      "text/plain": [
       "                 Ghost      Muon      Pion      Kaon    Proton  Electron\n",
       "RichDLLpi_LL  0.600339  0.611164  0.864339  0.303276  0.306764  0.313256\n",
       "RichDLLe_LL   0.587186  0.560561  0.363761  0.286134  0.288636  0.914122\n",
       "RichDLLk_LL   0.565481  0.261342  0.385300  0.879307  0.643460  0.265322\n",
       "RichDLLp_LL   0.576632  0.236128  0.397880  0.637899  0.877936  0.273871\n",
       "RichDLLmu_LL  0.585285  0.857602  0.553441  0.293666  0.296155  0.413442"
      ]
     },
     "execution_count": 70,
     "metadata": {},
     "output_type": "execute_result"
    }
   ],
   "source": [
    "pd = pandas.concat([roc_auc_score_one_vs_all(train.Signal, RICH_LL_features[f], train.Weight) \n",
    "                    for f in RICH_LL_features.columns])\n",
    "pd.index = RICH_LL_features.columns\n",
    "pd"
   ]
  },
  {
   "cell_type": "markdown",
   "metadata": {
    "collapsed": false
   },
   "source": [
    "### Use DLL and LL"
   ]
  },
  {
   "cell_type": "markdown",
   "metadata": {},
   "source": [
    "## Gas"
   ]
  },
  {
   "cell_type": "code",
   "execution_count": 28,
   "metadata": {
    "collapsed": true
   },
   "outputs": [],
   "source": [
    "features_RICH_gas = ['RichUsedR1Gas', 'RichUsedR2Gas']"
   ]
  },
  {
   "cell_type": "code",
   "execution_count": 73,
   "metadata": {
    "collapsed": false
   },
   "outputs": [
    {
     "data": {
      "image/png": "[encoded data removed]",
      "text/plain": [
       "<matplotlib.figure.Figure at 0x7f4b2ea2d5d0>"
      ]
     },
     "metadata": {},
     "output_type": "display_data"
    }
   ],
   "source": [
    "figure(figsize=(12, 3))\n",
    "plot_hist_features(train, train.Signal, features_RICH_gas)"
   ]
  },
  {
   "cell_type": "code",
   "execution_count": 74,
   "metadata": {
    "collapsed": false
   },
   "outputs": [
    {
     "data": {
      "text/html": [
       "<div>\n",
       "<table border=\"1\" class=\"dataframe\">\n",
       "  <thead>\n",
       "    <tr style=\"text-align: right;\">\n",
       "      <th></th>\n",
       "      <th>Ghost</th>\n",
       "      <th>Muon</th>\n",
       "      <th>Pion</th>\n",
       "      <th>Kaon</th>\n",
       "      <th>Proton</th>\n",
       "      <th>Electron</th>\n",
       "    </tr>\n",
       "  </thead>\n",
       "  <tbody>\n",
       "    <tr>\n",
       "      <th>RichUsedR1Gas</th>\n",
       "      <td>0.430440</td>\n",
       "      <td>0.546558</td>\n",
       "      <td>0.500557</td>\n",
       "      <td>0.502822</td>\n",
       "      <td>0.511228</td>\n",
       "      <td>0.508370</td>\n",
       "    </tr>\n",
       "    <tr>\n",
       "      <th>RichUsedR2Gas</th>\n",
       "      <td>0.391492</td>\n",
       "      <td>0.573644</td>\n",
       "      <td>0.479339</td>\n",
       "      <td>0.562783</td>\n",
       "      <td>0.556237</td>\n",
       "      <td>0.436464</td>\n",
       "    </tr>\n",
       "  </tbody>\n",
       "</table>\n",
       "</div>"
      ],
      "text/plain": [
       "                  Ghost      Muon      Pion      Kaon    Proton  Electron\n",
       "RichUsedR1Gas  0.430440  0.546558  0.500557  0.502822  0.511228  0.508370\n",
       "RichUsedR2Gas  0.391492  0.573644  0.479339  0.562783  0.556237  0.436464"
      ]
     },
     "execution_count": 74,
     "metadata": {},
     "output_type": "execute_result"
    }
   ],
   "source": [
    "pd = pandas.concat([roc_auc_score_one_vs_all(train.Signal, train[f], train.Weight) \n",
    "                    for f in features_RICH_gas])\n",
    "pd.index = features_RICH_gas\n",
    "pd"
   ]
  },
  {
   "cell_type": "code",
   "execution_count": 75,
   "metadata": {
    "collapsed": false
   },
   "outputs": [
    {
     "data": {
      "text/html": [
       "<div>\n",
       "<table border=\"1\" class=\"dataframe\">\n",
       "  <thead>\n",
       "    <tr style=\"text-align: right;\">\n",
       "      <th></th>\n",
       "      <th>Ghost</th>\n",
       "      <th>Muon</th>\n",
       "      <th>Pion</th>\n",
       "      <th>Kaon</th>\n",
       "      <th>Proton</th>\n",
       "      <th>Electron</th>\n",
       "    </tr>\n",
       "  </thead>\n",
       "  <tbody>\n",
       "    <tr>\n",
       "      <th>0</th>\n",
       "      <td>0.352224</td>\n",
       "      <td>0.607458</td>\n",
       "      <td>0.476277</td>\n",
       "      <td>0.555814</td>\n",
       "      <td>0.5574</td>\n",
       "      <td>0.450779</td>\n",
       "    </tr>\n",
       "  </tbody>\n",
       "</table>\n",
       "</div>"
      ],
      "text/plain": [
       "      Ghost      Muon      Pion      Kaon  Proton  Electron\n",
       "0  0.352224  0.607458  0.476277  0.555814  0.5574  0.450779"
      ]
     },
     "execution_count": 75,
     "metadata": {},
     "output_type": "execute_result"
    }
   ],
   "source": [
    "roc_auc_score_one_vs_all(train.Signal, train.RichUsedR1Gas + train.RichUsedR2Gas, train.Weight)"
   ]
  },
  {
   "cell_type": "markdown",
   "metadata": {},
   "source": [
    "### use RichUsedR1Gas, RichUsedR2Gas, RichUsedR1Gas + RichUsedR2Gas"
   ]
  },
  {
   "cell_type": "markdown",
   "metadata": {},
   "source": [
    "## Above"
   ]
  },
  {
   "cell_type": "code",
   "execution_count": 29,
   "metadata": {
    "collapsed": false
   },
   "outputs": [],
   "source": [
    "features_RICH_above = filter(lambda x: 'RichAbove' in x, train.columns)"
   ]
  },
  {
   "cell_type": "code",
   "execution_count": 77,
   "metadata": {
    "collapsed": false
   },
   "outputs": [
    {
     "name": "stdout",
     "output_type": "stream",
     "text": [
      "['RichAboveMuThres', 'RichAboveElThres', 'RichAbovePiThres', 'RichAboveKaThres', 'RichAbovePrThres']\n"
     ]
    }
   ],
   "source": [
    "print features_RICH_above"
   ]
  },
  {
   "cell_type": "code",
   "execution_count": 79,
   "metadata": {
    "collapsed": false
   },
   "outputs": [
    {
     "data": {
      "image/png": "[encoded data removed]",
      "text/plain": [
       "<matplotlib.figure.Figure at 0x7f4b2ef6ed50>"
      ]
     },
     "metadata": {},
     "output_type": "display_data"
    }
   ],
   "source": [
    "figure(figsize=(22, 3))\n",
    "plot_hist_features(train, train.Signal, features_RICH_above)"
   ]
  },
  {
   "cell_type": "code",
   "execution_count": 80,
   "metadata": {
    "collapsed": false
   },
   "outputs": [
    {
     "data": {
      "text/html": [
       "<div>\n",
       "<table border=\"1\" class=\"dataframe\">\n",
       "  <thead>\n",
       "    <tr style=\"text-align: right;\">\n",
       "      <th></th>\n",
       "      <th>Ghost</th>\n",
       "      <th>Muon</th>\n",
       "      <th>Pion</th>\n",
       "      <th>Kaon</th>\n",
       "      <th>Proton</th>\n",
       "      <th>Electron</th>\n",
       "    </tr>\n",
       "  </thead>\n",
       "  <tbody>\n",
       "    <tr>\n",
       "      <th>RichAboveMuThres</th>\n",
       "      <td>0.417862</td>\n",
       "      <td>0.525917</td>\n",
       "      <td>0.511579</td>\n",
       "      <td>0.531892</td>\n",
       "      <td>0.530073</td>\n",
       "      <td>0.482632</td>\n",
       "    </tr>\n",
       "    <tr>\n",
       "      <th>RichAboveElThres</th>\n",
       "      <td>0.435293</td>\n",
       "      <td>0.520686</td>\n",
       "      <td>0.513707</td>\n",
       "      <td>0.519754</td>\n",
       "      <td>0.520301</td>\n",
       "      <td>0.490218</td>\n",
       "    </tr>\n",
       "    <tr>\n",
       "      <th>RichAbovePiThres</th>\n",
       "      <td>0.383267</td>\n",
       "      <td>0.540818</td>\n",
       "      <td>0.509421</td>\n",
       "      <td>0.551447</td>\n",
       "      <td>0.547237</td>\n",
       "      <td>0.467753</td>\n",
       "    </tr>\n",
       "    <tr>\n",
       "      <th>RichAboveKaThres</th>\n",
       "      <td>0.357849</td>\n",
       "      <td>0.635367</td>\n",
       "      <td>0.451112</td>\n",
       "      <td>0.556771</td>\n",
       "      <td>0.560593</td>\n",
       "      <td>0.438283</td>\n",
       "    </tr>\n",
       "    <tr>\n",
       "      <th>RichAbovePrThres</th>\n",
       "      <td>0.410654</td>\n",
       "      <td>0.635965</td>\n",
       "      <td>0.447405</td>\n",
       "      <td>0.517854</td>\n",
       "      <td>0.527376</td>\n",
       "      <td>0.460735</td>\n",
       "    </tr>\n",
       "  </tbody>\n",
       "</table>\n",
       "</div>"
      ],
      "text/plain": [
       "                     Ghost      Muon      Pion      Kaon    Proton  Electron\n",
       "RichAboveMuThres  0.417862  0.525917  0.511579  0.531892  0.530073  0.482632\n",
       "RichAboveElThres  0.435293  0.520686  0.513707  0.519754  0.520301  0.490218\n",
       "RichAbovePiThres  0.383267  0.540818  0.509421  0.551447  0.547237  0.467753\n",
       "RichAboveKaThres  0.357849  0.635367  0.451112  0.556771  0.560593  0.438283\n",
       "RichAbovePrThres  0.410654  0.635965  0.447405  0.517854  0.527376  0.460735"
      ]
     },
     "execution_count": 80,
     "metadata": {},
     "output_type": "execute_result"
    }
   ],
   "source": [
    "pd = pandas.concat([roc_auc_score_one_vs_all(train.Signal, train[f], train.Weight) \n",
    "                    for f in features_RICH_above])\n",
    "pd.index = features_RICH_above\n",
    "pd"
   ]
  },
  {
   "cell_type": "code",
   "execution_count": 81,
   "metadata": {
    "collapsed": false
   },
   "outputs": [
    {
     "data": {
      "text/html": [
       "<div>\n",
       "<table border=\"1\" class=\"dataframe\">\n",
       "  <thead>\n",
       "    <tr style=\"text-align: right;\">\n",
       "      <th></th>\n",
       "      <th>Ghost</th>\n",
       "      <th>Muon</th>\n",
       "      <th>Pion</th>\n",
       "      <th>Kaon</th>\n",
       "      <th>Proton</th>\n",
       "      <th>Electron</th>\n",
       "    </tr>\n",
       "  </thead>\n",
       "  <tbody>\n",
       "    <tr>\n",
       "      <th>0</th>\n",
       "      <td>0.298957</td>\n",
       "      <td>0.668037</td>\n",
       "      <td>0.454049</td>\n",
       "      <td>0.574808</td>\n",
       "      <td>0.578938</td>\n",
       "      <td>0.425153</td>\n",
       "    </tr>\n",
       "  </tbody>\n",
       "</table>\n",
       "</div>"
      ],
      "text/plain": [
       "      Ghost      Muon      Pion      Kaon    Proton  Electron\n",
       "0  0.298957  0.668037  0.454049  0.574808  0.578938  0.425153"
      ]
     },
     "execution_count": 81,
     "metadata": {},
     "output_type": "execute_result"
    }
   ],
   "source": [
    "roc_auc_score_one_vs_all(train.Signal, train.RichAboveKaThres + train.RichAbovePrThres + \\\n",
    "                         train.RichAboveElThres + train.RichAbovePiThres, train.Weight)"
   ]
  },
  {
   "cell_type": "code",
   "execution_count": 83,
   "metadata": {
    "collapsed": false
   },
   "outputs": [
    {
     "data": {
      "text/html": [
       "<div>\n",
       "<table border=\"1\" class=\"dataframe\">\n",
       "  <thead>\n",
       "    <tr style=\"text-align: right;\">\n",
       "      <th></th>\n",
       "      <th>Ghost</th>\n",
       "      <th>Muon</th>\n",
       "      <th>Pion</th>\n",
       "      <th>Kaon</th>\n",
       "      <th>Proton</th>\n",
       "      <th>Electron</th>\n",
       "    </tr>\n",
       "  </thead>\n",
       "  <tbody>\n",
       "    <tr>\n",
       "      <th>0</th>\n",
       "      <td>0.30527</td>\n",
       "      <td>0.641232</td>\n",
       "      <td>0.465031</td>\n",
       "      <td>0.579664</td>\n",
       "      <td>0.580665</td>\n",
       "      <td>0.42808</td>\n",
       "    </tr>\n",
       "  </tbody>\n",
       "</table>\n",
       "</div>"
      ],
      "text/plain": [
       "     Ghost      Muon      Pion      Kaon    Proton  Electron\n",
       "0  0.30527  0.641232  0.465031  0.579664  0.580665   0.42808"
      ]
     },
     "execution_count": 83,
     "metadata": {},
     "output_type": "execute_result"
    }
   ],
   "source": [
    "roc_auc_score_one_vs_all(train.Signal, train.RichAbovePiThres + train.RichAboveKaThres + \\\n",
    "                         train.RichAboveElThres + train.RichAboveMuThres, train.Weight)"
   ]
  },
  {
   "cell_type": "code",
   "execution_count": 84,
   "metadata": {
    "collapsed": false
   },
   "outputs": [
    {
     "data": {
      "text/html": [
       "<div>\n",
       "<table border=\"1\" class=\"dataframe\">\n",
       "  <thead>\n",
       "    <tr style=\"text-align: right;\">\n",
       "      <th></th>\n",
       "      <th>Ghost</th>\n",
       "      <th>Muon</th>\n",
       "      <th>Pion</th>\n",
       "      <th>Kaon</th>\n",
       "      <th>Proton</th>\n",
       "      <th>Electron</th>\n",
       "    </tr>\n",
       "  </thead>\n",
       "  <tbody>\n",
       "    <tr>\n",
       "      <th>0</th>\n",
       "      <td>0.351616</td>\n",
       "      <td>0.662001</td>\n",
       "      <td>0.440072</td>\n",
       "      <td>0.552008</td>\n",
       "      <td>0.558894</td>\n",
       "      <td>0.435384</td>\n",
       "    </tr>\n",
       "  </tbody>\n",
       "</table>\n",
       "</div>"
      ],
      "text/plain": [
       "      Ghost      Muon      Pion      Kaon    Proton  Electron\n",
       "0  0.351616  0.662001  0.440072  0.552008  0.558894  0.435384"
      ]
     },
     "execution_count": 84,
     "metadata": {},
     "output_type": "execute_result"
    }
   ],
   "source": [
    "roc_auc_score_one_vs_all(train.Signal, train.RichAboveKaThres + train.RichAbovePrThres, train.Weight)"
   ]
  },
  {
   "cell_type": "markdown",
   "metadata": {},
   "source": [
    "### Use Above, Pion + Kaon + Electron + Muon, Kaon + Proton"
   ]
  },
  {
   "cell_type": "markdown",
   "metadata": {},
   "source": [
    "## NN on RICH features"
   ]
  },
  {
   "cell_type": "code",
   "execution_count": 85,
   "metadata": {
    "collapsed": false
   },
   "outputs": [
    {
     "name": "stdout",
     "output_type": "stream",
     "text": [
      "[u'RichAboveMuThres', u'RichAboveElThres', u'RichAbovePiThres', u'RichAboveKaThres', u'RichAbovePrThres', u'RichUsedR1Gas', u'RichUsedR2Gas', u'RichDLLbt', u'RichDLLpi', u'RichDLLe', u'RichDLLp', u'RichDLLmu', u'RichDLLk']\n"
     ]
    }
   ],
   "source": [
    "print features['RICH']"
   ]
  },
  {
   "cell_type": "code",
   "execution_count": 86,
   "metadata": {
    "collapsed": false
   },
   "outputs": [
    {
     "name": "stdout",
     "output_type": "stream",
     "text": [
      "CPU times: user 1h 54min 39s, sys: 1h 57min 31s, total: 3h 52min 11s\n",
      "Wall time: 56min 39s\n"
     ]
    }
   ],
   "source": [
    "%%time\n",
    "nn_RICH = FoldingClassifier(MLPMultiClassifier(layers=(30, 10), scaler='iron', epochs=700), \n",
    "                            features=features['RICH'], random_state=17)\n",
    "nn_RICH.fit(train, train.Signal, train.Weight)"
   ]
  },
  {
   "cell_type": "code",
   "execution_count": 87,
   "metadata": {
    "collapsed": false
   },
   "outputs": [
    {
     "name": "stdout",
     "output_type": "stream",
     "text": [
      "KFold prediction using folds column\n"
     ]
    },
    {
     "data": {
      "text/html": [
       "<div>\n",
       "<table border=\"1\" class=\"dataframe\">\n",
       "  <thead>\n",
       "    <tr style=\"text-align: right;\">\n",
       "      <th></th>\n",
       "      <th>Ghost</th>\n",
       "      <th>Muon</th>\n",
       "      <th>Pion</th>\n",
       "      <th>Kaon</th>\n",
       "      <th>Proton</th>\n",
       "      <th>Electron</th>\n",
       "    </tr>\n",
       "  </thead>\n",
       "  <tbody>\n",
       "    <tr>\n",
       "      <th>0</th>\n",
       "      <td>0.791677</td>\n",
       "      <td>0.908993</td>\n",
       "      <td>0.889137</td>\n",
       "      <td>0.890229</td>\n",
       "      <td>0.887869</td>\n",
       "      <td>0.922159</td>\n",
       "    </tr>\n",
       "  </tbody>\n",
       "</table>\n",
       "</div>"
      ],
      "text/plain": [
       "      Ghost      Muon      Pion      Kaon    Proton  Electron\n",
       "0  0.791677  0.908993  0.889137  0.890229  0.887869  0.922159"
      ]
     },
     "execution_count": 87,
     "metadata": {},
     "output_type": "execute_result"
    }
   ],
   "source": [
    "roc_auc_score_one_vs_all(train.Signal.values, nn_RICH.predict_proba(train), train.Weight.values)"
   ]
  },
  {
   "cell_type": "code",
   "execution_count": 88,
   "metadata": {
    "collapsed": false
   },
   "outputs": [
    {
     "name": "stdout",
     "output_type": "stream",
     "text": [
      "KFold prediction using random classifier (length of data passed not equal to length of train)\n"
     ]
    },
    {
     "data": {
      "text/html": [
       "<div>\n",
       "<table border=\"1\" class=\"dataframe\">\n",
       "  <thead>\n",
       "    <tr style=\"text-align: right;\">\n",
       "      <th></th>\n",
       "      <th>Ghost</th>\n",
       "      <th>Muon</th>\n",
       "      <th>Pion</th>\n",
       "      <th>Kaon</th>\n",
       "      <th>Proton</th>\n",
       "      <th>Electron</th>\n",
       "    </tr>\n",
       "  </thead>\n",
       "  <tbody>\n",
       "    <tr>\n",
       "      <th>0</th>\n",
       "      <td>0.791443</td>\n",
       "      <td>0.908899</td>\n",
       "      <td>0.888723</td>\n",
       "      <td>0.889439</td>\n",
       "      <td>0.887571</td>\n",
       "      <td>0.922008</td>\n",
       "    </tr>\n",
       "  </tbody>\n",
       "</table>\n",
       "</div>"
      ],
      "text/plain": [
       "      Ghost      Muon      Pion      Kaon    Proton  Electron\n",
       "0  0.791443  0.908899  0.888723  0.889439  0.887571  0.922008"
      ]
     },
     "execution_count": 88,
     "metadata": {},
     "output_type": "execute_result"
    }
   ],
   "source": [
    "roc_auc_score_one_vs_all(test.Signal.values, nn_RICH.predict_proba(test), test.Weight.values)"
   ]
  },
  {
   "cell_type": "code",
   "execution_count": 89,
   "metadata": {
    "collapsed": true
   },
   "outputs": [],
   "source": [
    "import cPickle \n",
    "with open('models/nn_RICH.pkl', 'w') as f:\n",
    "    cPickle.dump(nn_RICH, f)"
   ]
  },
  {
   "cell_type": "code",
   "execution_count": 28,
   "metadata": {
    "collapsed": true
   },
   "outputs": [],
   "source": [
    "# import cPickle \n",
    "# with open('models/nn_RICH.pkl', 'r') as f:\n",
    "#     nn_RICH = cPickle.load(f)"
   ]
  },
  {
   "cell_type": "markdown",
   "metadata": {},
   "source": [
    "# Comb DLL"
   ]
  },
  {
   "cell_type": "code",
   "execution_count": 93,
   "metadata": {
    "collapsed": false
   },
   "outputs": [
    {
     "data": {
      "image/png": "[encoded data removed]",
      "text/plain": [
       "<matplotlib.figure.Figure at 0x7f4b392d2d50>"
      ]
     },
     "metadata": {},
     "output_type": "display_data"
    }
   ],
   "source": [
    "figure(figsize=(22, 3))\n",
    "plot_hist_features(train, train.Signal, features['DLL'])"
   ]
  },
  {
   "cell_type": "code",
   "execution_count": 94,
   "metadata": {
    "collapsed": true
   },
   "outputs": [],
   "source": [
    "comb_LL_features = convert_DLL_to_LL(train, features['DLL'])"
   ]
  },
  {
   "cell_type": "code",
   "execution_count": 95,
   "metadata": {
    "collapsed": false
   },
   "outputs": [
    {
     "data": {
      "image/png": "[encoded data removed]",
      "text/plain": [
       "<matplotlib.figure.Figure at 0x7f4b39280210>"
      ]
     },
     "metadata": {},
     "output_type": "display_data"
    }
   ],
   "source": [
    "figure(figsize=(22, 3))\n",
    "plot_hist_features(comb_LL_features, train.Signal, comb_LL_features.columns)"
   ]
  },
  {
   "cell_type": "code",
   "execution_count": 96,
   "metadata": {
    "collapsed": false
   },
   "outputs": [
    {
     "data": {
      "text/html": [
       "<div>\n",
       "<table border=\"1\" class=\"dataframe\">\n",
       "  <thead>\n",
       "    <tr style=\"text-align: right;\">\n",
       "      <th></th>\n",
       "      <th>Ghost</th>\n",
       "      <th>Muon</th>\n",
       "      <th>Pion</th>\n",
       "      <th>Kaon</th>\n",
       "      <th>Proton</th>\n",
       "      <th>Electron</th>\n",
       "    </tr>\n",
       "  </thead>\n",
       "  <tbody>\n",
       "    <tr>\n",
       "      <th>CombDLLmu</th>\n",
       "      <td>0.450773</td>\n",
       "      <td>0.903131</td>\n",
       "      <td>0.287599</td>\n",
       "      <td>0.407823</td>\n",
       "      <td>0.413989</td>\n",
       "      <td>0.536812</td>\n",
       "    </tr>\n",
       "    <tr>\n",
       "      <th>CombDLLpi</th>\n",
       "      <td>0.488203</td>\n",
       "      <td>0.502843</td>\n",
       "      <td>0.503812</td>\n",
       "      <td>0.502393</td>\n",
       "      <td>0.502123</td>\n",
       "      <td>0.500618</td>\n",
       "    </tr>\n",
       "    <tr>\n",
       "      <th>CombDLLp</th>\n",
       "      <td>0.486451</td>\n",
       "      <td>0.207145</td>\n",
       "      <td>0.266926</td>\n",
       "      <td>0.748201</td>\n",
       "      <td>0.825075</td>\n",
       "      <td>0.466865</td>\n",
       "    </tr>\n",
       "    <tr>\n",
       "      <th>CombDLLe</th>\n",
       "      <td>0.559540</td>\n",
       "      <td>0.345298</td>\n",
       "      <td>0.299322</td>\n",
       "      <td>0.410885</td>\n",
       "      <td>0.421735</td>\n",
       "      <td>0.963927</td>\n",
       "    </tr>\n",
       "    <tr>\n",
       "      <th>CombDLLk</th>\n",
       "      <td>0.477358</td>\n",
       "      <td>0.221627</td>\n",
       "      <td>0.253222</td>\n",
       "      <td>0.832272</td>\n",
       "      <td>0.756548</td>\n",
       "      <td>0.459606</td>\n",
       "    </tr>\n",
       "  </tbody>\n",
       "</table>\n",
       "</div>"
      ],
      "text/plain": [
       "              Ghost      Muon      Pion      Kaon    Proton  Electron\n",
       "CombDLLmu  0.450773  0.903131  0.287599  0.407823  0.413989  0.536812\n",
       "CombDLLpi  0.488203  0.502843  0.503812  0.502393  0.502123  0.500618\n",
       "CombDLLp   0.486451  0.207145  0.266926  0.748201  0.825075  0.466865\n",
       "CombDLLe   0.559540  0.345298  0.299322  0.410885  0.421735  0.963927\n",
       "CombDLLk   0.477358  0.221627  0.253222  0.832272  0.756548  0.459606"
      ]
     },
     "execution_count": 96,
     "metadata": {},
     "output_type": "execute_result"
    }
   ],
   "source": [
    "pd = pandas.concat([roc_auc_score_one_vs_all(train.Signal, train[f], train.Weight) \n",
    "                    for f in features['DLL']])\n",
    "pd.index = features['DLL']\n",
    "pd"
   ]
  },
  {
   "cell_type": "code",
   "execution_count": 97,
   "metadata": {
    "collapsed": false
   },
   "outputs": [
    {
     "data": {
      "text/html": [
       "<div>\n",
       "<table border=\"1\" class=\"dataframe\">\n",
       "  <thead>\n",
       "    <tr style=\"text-align: right;\">\n",
       "      <th></th>\n",
       "      <th>Ghost</th>\n",
       "      <th>Muon</th>\n",
       "      <th>Pion</th>\n",
       "      <th>Kaon</th>\n",
       "      <th>Proton</th>\n",
       "      <th>Electron</th>\n",
       "    </tr>\n",
       "  </thead>\n",
       "  <tbody>\n",
       "    <tr>\n",
       "      <th>CombDLLmu_LL</th>\n",
       "      <td>0.575887</td>\n",
       "      <td>0.940830</td>\n",
       "      <td>0.579574</td>\n",
       "      <td>0.228199</td>\n",
       "      <td>0.228611</td>\n",
       "      <td>0.446395</td>\n",
       "    </tr>\n",
       "    <tr>\n",
       "      <th>CombDLLpi_LL</th>\n",
       "      <td>0.656667</td>\n",
       "      <td>0.485916</td>\n",
       "      <td>0.900296</td>\n",
       "      <td>0.262667</td>\n",
       "      <td>0.262794</td>\n",
       "      <td>0.430871</td>\n",
       "    </tr>\n",
       "    <tr>\n",
       "      <th>CombDLLp_LL</th>\n",
       "      <td>0.561777</td>\n",
       "      <td>0.197712</td>\n",
       "      <td>0.345302</td>\n",
       "      <td>0.605507</td>\n",
       "      <td>0.868822</td>\n",
       "      <td>0.421430</td>\n",
       "    </tr>\n",
       "    <tr>\n",
       "      <th>CombDLLe_LL</th>\n",
       "      <td>0.659885</td>\n",
       "      <td>0.379678</td>\n",
       "      <td>0.584466</td>\n",
       "      <td>0.228378</td>\n",
       "      <td>0.230034</td>\n",
       "      <td>0.917671</td>\n",
       "    </tr>\n",
       "    <tr>\n",
       "      <th>CombDLLk_LL</th>\n",
       "      <td>0.553149</td>\n",
       "      <td>0.212593</td>\n",
       "      <td>0.334615</td>\n",
       "      <td>0.872073</td>\n",
       "      <td>0.611043</td>\n",
       "      <td>0.416934</td>\n",
       "    </tr>\n",
       "  </tbody>\n",
       "</table>\n",
       "</div>"
      ],
      "text/plain": [
       "                 Ghost      Muon      Pion      Kaon    Proton  Electron\n",
       "CombDLLmu_LL  0.575887  0.940830  0.579574  0.228199  0.228611  0.446395\n",
       "CombDLLpi_LL  0.656667  0.485916  0.900296  0.262667  0.262794  0.430871\n",
       "CombDLLp_LL   0.561777  0.197712  0.345302  0.605507  0.868822  0.421430\n",
       "CombDLLe_LL   0.659885  0.379678  0.584466  0.228378  0.230034  0.917671\n",
       "CombDLLk_LL   0.553149  0.212593  0.334615  0.872073  0.611043  0.416934"
      ]
     },
     "execution_count": 97,
     "metadata": {},
     "output_type": "execute_result"
    }
   ],
   "source": [
    "pd = pandas.concat([roc_auc_score_one_vs_all(train.Signal, comb_LL_features[f], train.Weight) \n",
    "                    for f in comb_LL_features.columns])\n",
    "pd.index = comb_LL_features.columns\n",
    "pd"
   ]
  },
  {
   "cell_type": "markdown",
   "metadata": {},
   "source": [
    "## NN on COMB_DLL"
   ]
  },
  {
   "cell_type": "code",
   "execution_count": 98,
   "metadata": {
    "collapsed": false
   },
   "outputs": [
    {
     "name": "stdout",
     "output_type": "stream",
     "text": [
      "CPU times: user 1h 45min 12s, sys: 1h 58min 5s, total: 3h 43min 17s\n",
      "Wall time: 52min 55s\n"
     ]
    }
   ],
   "source": [
    "%%time\n",
    "nn_COMBO = FoldingClassifier(MLPMultiClassifier(layers=(30, 10), scaler='iron', epochs=700), \n",
    "                             features=features_Comb_DLL, random_state=19)\n",
    "nn_COMBO.fit(train, train.Signal, train.Weight)"
   ]
  },
  {
   "cell_type": "code",
   "execution_count": 99,
   "metadata": {
    "collapsed": false
   },
   "outputs": [
    {
     "name": "stdout",
     "output_type": "stream",
     "text": [
      "KFold prediction using folds column\n"
     ]
    },
    {
     "data": {
      "text/html": [
       "<div>\n",
       "<table border=\"1\" class=\"dataframe\">\n",
       "  <thead>\n",
       "    <tr style=\"text-align: right;\">\n",
       "      <th></th>\n",
       "      <th>Ghost</th>\n",
       "      <th>Muon</th>\n",
       "      <th>Pion</th>\n",
       "      <th>Kaon</th>\n",
       "      <th>Proton</th>\n",
       "      <th>Electron</th>\n",
       "    </tr>\n",
       "  </thead>\n",
       "  <tbody>\n",
       "    <tr>\n",
       "      <th>0</th>\n",
       "      <td>0.777172</td>\n",
       "      <td>0.960589</td>\n",
       "      <td>0.91529</td>\n",
       "      <td>0.897594</td>\n",
       "      <td>0.891551</td>\n",
       "      <td>0.97604</td>\n",
       "    </tr>\n",
       "  </tbody>\n",
       "</table>\n",
       "</div>"
      ],
      "text/plain": [
       "      Ghost      Muon     Pion      Kaon    Proton  Electron\n",
       "0  0.777172  0.960589  0.91529  0.897594  0.891551   0.97604"
      ]
     },
     "execution_count": 99,
     "metadata": {},
     "output_type": "execute_result"
    }
   ],
   "source": [
    "roc_auc_score_one_vs_all(train.Signal.values, nn_COMBO.predict_proba(train), train.Weight.values)"
   ]
  },
  {
   "cell_type": "code",
   "execution_count": 100,
   "metadata": {
    "collapsed": false
   },
   "outputs": [
    {
     "name": "stdout",
     "output_type": "stream",
     "text": [
      "KFold prediction using random classifier (length of data passed not equal to length of train)\n"
     ]
    },
    {
     "data": {
      "text/html": [
       "<div>\n",
       "<table border=\"1\" class=\"dataframe\">\n",
       "  <thead>\n",
       "    <tr style=\"text-align: right;\">\n",
       "      <th></th>\n",
       "      <th>Ghost</th>\n",
       "      <th>Muon</th>\n",
       "      <th>Pion</th>\n",
       "      <th>Kaon</th>\n",
       "      <th>Proton</th>\n",
       "      <th>Electron</th>\n",
       "    </tr>\n",
       "  </thead>\n",
       "  <tbody>\n",
       "    <tr>\n",
       "      <th>0</th>\n",
       "      <td>0.776957</td>\n",
       "      <td>0.960344</td>\n",
       "      <td>0.915085</td>\n",
       "      <td>0.896799</td>\n",
       "      <td>0.891316</td>\n",
       "      <td>0.975851</td>\n",
       "    </tr>\n",
       "  </tbody>\n",
       "</table>\n",
       "</div>"
      ],
      "text/plain": [
       "      Ghost      Muon      Pion      Kaon    Proton  Electron\n",
       "0  0.776957  0.960344  0.915085  0.896799  0.891316  0.975851"
      ]
     },
     "execution_count": 100,
     "metadata": {},
     "output_type": "execute_result"
    }
   ],
   "source": [
    "roc_auc_score_one_vs_all(test.Signal.values, nn_COMBO.predict_proba(test), test.Weight.values)"
   ]
  },
  {
   "cell_type": "code",
   "execution_count": 101,
   "metadata": {
    "collapsed": true
   },
   "outputs": [],
   "source": [
    "import cPickle \n",
    "with open('models/nn_COMBO.pkl', 'w') as f:\n",
    "    cPickle.dump(nn_COMBO, f)"
   ]
  },
  {
   "cell_type": "code",
   "execution_count": 30,
   "metadata": {
    "collapsed": true
   },
   "outputs": [],
   "source": [
    "# import cPickle \n",
    "# with open('models/nn_COMBO.pkl', 'r') as f:\n",
    "#     nn_COMBO = cPickle.load(f)"
   ]
  },
  {
   "cell_type": "markdown",
   "metadata": {},
   "source": [
    "## Track features"
   ]
  },
  {
   "cell_type": "code",
   "execution_count": 102,
   "metadata": {
    "collapsed": false
   },
   "outputs": [
    {
     "name": "stdout",
     "output_type": "stream",
     "text": [
      "[u'TrackFitVeloChi2', u'TrackFitVeloNDoF', u'TrackFitMatchChi2', u'TrackGhostProbability', u'TrackP', u'TrackChi2PerDof', u'TrackFitTChi2', u'TrackPt', u'TrackNumDof', u'TrackFitTNDoF', u'TrackDOCA']\n"
     ]
    }
   ],
   "source": [
    "print features['track']"
   ]
  },
  {
   "cell_type": "code",
   "execution_count": null,
   "metadata": {
    "collapsed": false
   },
   "outputs": [
    {
     "data": {
      "image/png": "[encoded data removed]",
      "text/plain": [
       "<matplotlib.figure.Figure at 0x7f4b3a4a0550>"
      ]
     },
     "metadata": {},
     "output_type": "display_data"
    }
   ],
   "source": [
    "figure(figsize=(22, 7))\n",
    "plot_hist_features(train, train.Signal, features['track'])"
   ]
  },
  {
   "cell_type": "code",
   "execution_count": 104,
   "metadata": {
    "collapsed": false
   },
   "outputs": [
    {
     "data": {
      "text/html": [
       "<div>\n",
       "<table border=\"1\" class=\"dataframe\">\n",
       "  <thead>\n",
       "    <tr style=\"text-align: right;\">\n",
       "      <th></th>\n",
       "      <th>Ghost</th>\n",
       "      <th>Muon</th>\n",
       "      <th>Pion</th>\n",
       "      <th>Kaon</th>\n",
       "      <th>Proton</th>\n",
       "      <th>Electron</th>\n",
       "    </tr>\n",
       "  </thead>\n",
       "  <tbody>\n",
       "    <tr>\n",
       "      <th>TrackFitVeloChi2</th>\n",
       "      <td>0.424208</td>\n",
       "      <td>0.524575</td>\n",
       "      <td>0.505828</td>\n",
       "      <td>0.526372</td>\n",
       "      <td>0.519255</td>\n",
       "      <td>0.499736</td>\n",
       "    </tr>\n",
       "    <tr>\n",
       "      <th>TrackFitVeloNDoF</th>\n",
       "      <td>0.374783</td>\n",
       "      <td>0.526722</td>\n",
       "      <td>0.524397</td>\n",
       "      <td>0.531786</td>\n",
       "      <td>0.516210</td>\n",
       "      <td>0.526051</td>\n",
       "    </tr>\n",
       "    <tr>\n",
       "      <th>TrackFitMatchChi2</th>\n",
       "      <td>0.813502</td>\n",
       "      <td>0.455804</td>\n",
       "      <td>0.411510</td>\n",
       "      <td>0.405706</td>\n",
       "      <td>0.415983</td>\n",
       "      <td>0.497678</td>\n",
       "    </tr>\n",
       "    <tr>\n",
       "      <th>TrackGhostProbability</th>\n",
       "      <td>0.931192</td>\n",
       "      <td>0.400108</td>\n",
       "      <td>0.409511</td>\n",
       "      <td>0.380910</td>\n",
       "      <td>0.397401</td>\n",
       "      <td>0.481092</td>\n",
       "    </tr>\n",
       "    <tr>\n",
       "      <th>TrackP</th>\n",
       "      <td>0.309878</td>\n",
       "      <td>0.667569</td>\n",
       "      <td>0.447196</td>\n",
       "      <td>0.582335</td>\n",
       "      <td>0.580835</td>\n",
       "      <td>0.412134</td>\n",
       "    </tr>\n",
       "    <tr>\n",
       "      <th>TrackChi2PerDof</th>\n",
       "      <td>0.824594</td>\n",
       "      <td>0.454934</td>\n",
       "      <td>0.405621</td>\n",
       "      <td>0.417230</td>\n",
       "      <td>0.439001</td>\n",
       "      <td>0.458799</td>\n",
       "    </tr>\n",
       "    <tr>\n",
       "      <th>TrackFitTChi2</th>\n",
       "      <td>0.548570</td>\n",
       "      <td>0.495915</td>\n",
       "      <td>0.479334</td>\n",
       "      <td>0.472946</td>\n",
       "      <td>0.491974</td>\n",
       "      <td>0.511310</td>\n",
       "    </tr>\n",
       "    <tr>\n",
       "      <th>TrackPt</th>\n",
       "      <td>0.206844</td>\n",
       "      <td>0.754960</td>\n",
       "      <td>0.428455</td>\n",
       "      <td>0.579304</td>\n",
       "      <td>0.603260</td>\n",
       "      <td>0.427116</td>\n",
       "    </tr>\n",
       "    <tr>\n",
       "      <th>TrackNumDof</th>\n",
       "      <td>0.337311</td>\n",
       "      <td>0.535696</td>\n",
       "      <td>0.536516</td>\n",
       "      <td>0.520279</td>\n",
       "      <td>0.509633</td>\n",
       "      <td>0.560505</td>\n",
       "    </tr>\n",
       "    <tr>\n",
       "      <th>TrackFitTNDoF</th>\n",
       "      <td>0.446766</td>\n",
       "      <td>0.510447</td>\n",
       "      <td>0.519609</td>\n",
       "      <td>0.483283</td>\n",
       "      <td>0.482237</td>\n",
       "      <td>0.557643</td>\n",
       "    </tr>\n",
       "    <tr>\n",
       "      <th>TrackDOCA</th>\n",
       "      <td>0.577314</td>\n",
       "      <td>0.500824</td>\n",
       "      <td>0.483862</td>\n",
       "      <td>0.468058</td>\n",
       "      <td>0.486998</td>\n",
       "      <td>0.482965</td>\n",
       "    </tr>\n",
       "  </tbody>\n",
       "</table>\n",
       "</div>"
      ],
      "text/plain": [
       "                          Ghost      Muon      Pion      Kaon    Proton  \\\n",
       "TrackFitVeloChi2       0.424208  0.524575  0.505828  0.526372  0.519255   \n",
       "TrackFitVeloNDoF       0.374783  0.526722  0.524397  0.531786  0.516210   \n",
       "TrackFitMatchChi2      0.813502  0.455804  0.411510  0.405706  0.415983   \n",
       "TrackGhostProbability  0.931192  0.400108  0.409511  0.380910  0.397401   \n",
       "TrackP                 0.309878  0.667569  0.447196  0.582335  0.580835   \n",
       "TrackChi2PerDof        0.824594  0.454934  0.405621  0.417230  0.439001   \n",
       "TrackFitTChi2          0.548570  0.495915  0.479334  0.472946  0.491974   \n",
       "TrackPt                0.206844  0.754960  0.428455  0.579304  0.603260   \n",
       "TrackNumDof            0.337311  0.535696  0.536516  0.520279  0.509633   \n",
       "TrackFitTNDoF          0.446766  0.510447  0.519609  0.483283  0.482237   \n",
       "TrackDOCA              0.577314  0.500824  0.483862  0.468058  0.486998   \n",
       "\n",
       "                       Electron  \n",
       "TrackFitVeloChi2       0.499736  \n",
       "TrackFitVeloNDoF       0.526051  \n",
       "TrackFitMatchChi2      0.497678  \n",
       "TrackGhostProbability  0.481092  \n",
       "TrackP                 0.412134  \n",
       "TrackChi2PerDof        0.458799  \n",
       "TrackFitTChi2          0.511310  \n",
       "TrackPt                0.427116  \n",
       "TrackNumDof            0.560505  \n",
       "TrackFitTNDoF          0.557643  \n",
       "TrackDOCA              0.482965  "
      ]
     },
     "execution_count": 104,
     "metadata": {},
     "output_type": "execute_result"
    }
   ],
   "source": [
    "pd = pandas.concat([roc_auc_score_one_vs_all(train.Signal, train[f], train.Weight) \n",
    "                    for f in features['track']])\n",
    "pd.index = features['track']\n",
    "pd"
   ]
  },
  {
   "cell_type": "code",
   "execution_count": null,
   "metadata": {
    "collapsed": false
   },
   "outputs": [],
   "source": [
    "%%time\n",
    "nn_track = FoldingClassifier(MLPMultiClassifier(layers=(30, 10), scaler='iron', epochs=700), \n",
    "                             features=features['track'], random_state=21)\n",
    "nn_track.fit(train, train.Signal, train.Weight)"
   ]
  },
  {
   "cell_type": "code",
   "execution_count": 110,
   "metadata": {
    "collapsed": false
   },
   "outputs": [
    {
     "name": "stdout",
     "output_type": "stream",
     "text": [
      "KFold prediction using folds column\n"
     ]
    },
    {
     "data": {
      "text/html": [
       "<div>\n",
       "<table border=\"1\" class=\"dataframe\">\n",
       "  <thead>\n",
       "    <tr style=\"text-align: right;\">\n",
       "      <th></th>\n",
       "      <th>Ghost</th>\n",
       "      <th>Muon</th>\n",
       "      <th>Pion</th>\n",
       "      <th>Kaon</th>\n",
       "      <th>Proton</th>\n",
       "      <th>Electron</th>\n",
       "    </tr>\n",
       "  </thead>\n",
       "  <tbody>\n",
       "    <tr>\n",
       "      <th>0</th>\n",
       "      <td>0.949269</td>\n",
       "      <td>0.794906</td>\n",
       "      <td>0.713765</td>\n",
       "      <td>0.692246</td>\n",
       "      <td>0.689498</td>\n",
       "      <td>0.674875</td>\n",
       "    </tr>\n",
       "  </tbody>\n",
       "</table>\n",
       "</div>"
      ],
      "text/plain": [
       "      Ghost      Muon      Pion      Kaon    Proton  Electron\n",
       "0  0.949269  0.794906  0.713765  0.692246  0.689498  0.674875"
      ]
     },
     "execution_count": 110,
     "metadata": {},
     "output_type": "execute_result"
    }
   ],
   "source": [
    "roc_auc_score_one_vs_all(train.Signal.values, nn_track.predict_proba(train), train.Weight.values)"
   ]
  },
  {
   "cell_type": "code",
   "execution_count": 111,
   "metadata": {
    "collapsed": false
   },
   "outputs": [
    {
     "name": "stdout",
     "output_type": "stream",
     "text": [
      "KFold prediction using random classifier (length of data passed not equal to length of train)\n"
     ]
    },
    {
     "data": {
      "text/html": [
       "<div>\n",
       "<table border=\"1\" class=\"dataframe\">\n",
       "  <thead>\n",
       "    <tr style=\"text-align: right;\">\n",
       "      <th></th>\n",
       "      <th>Ghost</th>\n",
       "      <th>Muon</th>\n",
       "      <th>Pion</th>\n",
       "      <th>Kaon</th>\n",
       "      <th>Proton</th>\n",
       "      <th>Electron</th>\n",
       "    </tr>\n",
       "  </thead>\n",
       "  <tbody>\n",
       "    <tr>\n",
       "      <th>0</th>\n",
       "      <td>0.949102</td>\n",
       "      <td>0.793697</td>\n",
       "      <td>0.713196</td>\n",
       "      <td>0.691628</td>\n",
       "      <td>0.6887</td>\n",
       "      <td>0.674521</td>\n",
       "    </tr>\n",
       "  </tbody>\n",
       "</table>\n",
       "</div>"
      ],
      "text/plain": [
       "      Ghost      Muon      Pion      Kaon  Proton  Electron\n",
       "0  0.949102  0.793697  0.713196  0.691628  0.6887  0.674521"
      ]
     },
     "execution_count": 111,
     "metadata": {},
     "output_type": "execute_result"
    }
   ],
   "source": [
    "roc_auc_score_one_vs_all(test.Signal.values, nn_track.predict_proba(test), test.Weight.values)"
   ]
  },
  {
   "cell_type": "code",
   "execution_count": 112,
   "metadata": {
    "collapsed": true
   },
   "outputs": [],
   "source": [
    "import cPickle \n",
    "with open('models/nn_track.pkl', 'w') as f:\n",
    "    cPickle.dump(nn_track, f)"
   ]
  },
  {
   "cell_type": "code",
   "execution_count": 113,
   "metadata": {
    "collapsed": true
   },
   "outputs": [],
   "source": [
    "# import cPickle \n",
    "# with open('models/nn_track.pkl', 'r') as f:\n",
    "#     nn_track = cPickle.load(f)"
   ]
  },
  {
   "cell_type": "markdown",
   "metadata": {},
   "source": [
    "# Muon features"
   ]
  },
  {
   "cell_type": "code",
   "execution_count": 114,
   "metadata": {
    "collapsed": false
   },
   "outputs": [
    {
     "data": {
      "image/png": "[encoded data removed]",
      "text/plain": [
       "<matplotlib.figure.Figure at 0x7f4aad361dd0>"
      ]
     },
     "metadata": {},
     "output_type": "display_data"
    }
   ],
   "source": [
    "figure(figsize=(22, 3))\n",
    "plot_hist_features(train, train.Signal, features['muon'])"
   ]
  },
  {
   "cell_type": "code",
   "execution_count": 115,
   "metadata": {
    "collapsed": false
   },
   "outputs": [
    {
     "data": {
      "text/html": [
       "<div>\n",
       "<table border=\"1\" class=\"dataframe\">\n",
       "  <thead>\n",
       "    <tr style=\"text-align: right;\">\n",
       "      <th></th>\n",
       "      <th>Ghost</th>\n",
       "      <th>Muon</th>\n",
       "      <th>Pion</th>\n",
       "      <th>Kaon</th>\n",
       "      <th>Proton</th>\n",
       "      <th>Electron</th>\n",
       "    </tr>\n",
       "  </thead>\n",
       "  <tbody>\n",
       "    <tr>\n",
       "      <th>MuonNShared</th>\n",
       "      <td>0.438636</td>\n",
       "      <td>0.870277</td>\n",
       "      <td>0.430001</td>\n",
       "      <td>0.427726</td>\n",
       "      <td>0.416977</td>\n",
       "      <td>0.416205</td>\n",
       "    </tr>\n",
       "    <tr>\n",
       "      <th>MuonIsLooseMuon</th>\n",
       "      <td>0.434131</td>\n",
       "      <td>0.883389</td>\n",
       "      <td>0.427430</td>\n",
       "      <td>0.425795</td>\n",
       "      <td>0.415090</td>\n",
       "      <td>0.413982</td>\n",
       "    </tr>\n",
       "    <tr>\n",
       "      <th>MuonIsMuon</th>\n",
       "      <td>0.429880</td>\n",
       "      <td>0.889591</td>\n",
       "      <td>0.425703</td>\n",
       "      <td>0.424398</td>\n",
       "      <td>0.415049</td>\n",
       "      <td>0.415194</td>\n",
       "    </tr>\n",
       "    <tr>\n",
       "      <th>MuonBkgLL</th>\n",
       "      <td>0.439854</td>\n",
       "      <td>0.860285</td>\n",
       "      <td>0.432357</td>\n",
       "      <td>0.430385</td>\n",
       "      <td>0.419042</td>\n",
       "      <td>0.417903</td>\n",
       "    </tr>\n",
       "    <tr>\n",
       "      <th>MuonMuLL</th>\n",
       "      <td>0.439190</td>\n",
       "      <td>0.863267</td>\n",
       "      <td>0.431482</td>\n",
       "      <td>0.429913</td>\n",
       "      <td>0.418544</td>\n",
       "      <td>0.417428</td>\n",
       "    </tr>\n",
       "  </tbody>\n",
       "</table>\n",
       "</div>"
      ],
      "text/plain": [
       "                    Ghost      Muon      Pion      Kaon    Proton  Electron\n",
       "MuonNShared      0.438636  0.870277  0.430001  0.427726  0.416977  0.416205\n",
       "MuonIsLooseMuon  0.434131  0.883389  0.427430  0.425795  0.415090  0.413982\n",
       "MuonIsMuon       0.429880  0.889591  0.425703  0.424398  0.415049  0.415194\n",
       "MuonBkgLL        0.439854  0.860285  0.432357  0.430385  0.419042  0.417903\n",
       "MuonMuLL         0.439190  0.863267  0.431482  0.429913  0.418544  0.417428"
      ]
     },
     "execution_count": 115,
     "metadata": {},
     "output_type": "execute_result"
    }
   ],
   "source": [
    "pd = pandas.concat([roc_auc_score_one_vs_all(train.Signal, train[f], train.Weight) \n",
    "                    for f in features['muon']])\n",
    "pd.index = features['muon']\n",
    "pd"
   ]
  },
  {
   "cell_type": "code",
   "execution_count": 117,
   "metadata": {
    "collapsed": false
   },
   "outputs": [
    {
     "name": "stdout",
     "output_type": "stream",
     "text": [
      "CPU times: user 1h 36min 13s, sys: 1h 55min 40s, total: 3h 31min 54s\n",
      "Wall time: 51min 49s\n"
     ]
    }
   ],
   "source": [
    "%%time\n",
    "nn_muon = FoldingClassifier(MLPMultiClassifier(layers=(30, 10), scaler='iron', epochs=700), \n",
    "                            features=features['muon'], random_state=29)\n",
    "nn_muon.fit(train, train.Signal, train.Weight)"
   ]
  },
  {
   "cell_type": "code",
   "execution_count": 118,
   "metadata": {
    "collapsed": false
   },
   "outputs": [
    {
     "name": "stdout",
     "output_type": "stream",
     "text": [
      "KFold prediction using folds column\n"
     ]
    },
    {
     "data": {
      "text/html": [
       "<div>\n",
       "<table border=\"1\" class=\"dataframe\">\n",
       "  <thead>\n",
       "    <tr style=\"text-align: right;\">\n",
       "      <th></th>\n",
       "      <th>Ghost</th>\n",
       "      <th>Muon</th>\n",
       "      <th>Pion</th>\n",
       "      <th>Kaon</th>\n",
       "      <th>Proton</th>\n",
       "      <th>Electron</th>\n",
       "    </tr>\n",
       "  </thead>\n",
       "  <tbody>\n",
       "    <tr>\n",
       "      <th>0</th>\n",
       "      <td>0.583654</td>\n",
       "      <td>0.908738</td>\n",
       "      <td>0.578513</td>\n",
       "      <td>0.580543</td>\n",
       "      <td>0.588797</td>\n",
       "      <td>0.589712</td>\n",
       "    </tr>\n",
       "  </tbody>\n",
       "</table>\n",
       "</div>"
      ],
      "text/plain": [
       "      Ghost      Muon      Pion      Kaon    Proton  Electron\n",
       "0  0.583654  0.908738  0.578513  0.580543  0.588797  0.589712"
      ]
     },
     "execution_count": 118,
     "metadata": {},
     "output_type": "execute_result"
    }
   ],
   "source": [
    "roc_auc_score_one_vs_all(train.Signal.values, nn_muon.predict_proba(train), train.Weight.values)"
   ]
  },
  {
   "cell_type": "code",
   "execution_count": 119,
   "metadata": {
    "collapsed": false
   },
   "outputs": [
    {
     "name": "stdout",
     "output_type": "stream",
     "text": [
      "KFold prediction using random classifier (length of data passed not equal to length of train)\n"
     ]
    },
    {
     "data": {
      "text/html": [
       "<div>\n",
       "<table border=\"1\" class=\"dataframe\">\n",
       "  <thead>\n",
       "    <tr style=\"text-align: right;\">\n",
       "      <th></th>\n",
       "      <th>Ghost</th>\n",
       "      <th>Muon</th>\n",
       "      <th>Pion</th>\n",
       "      <th>Kaon</th>\n",
       "      <th>Proton</th>\n",
       "      <th>Electron</th>\n",
       "    </tr>\n",
       "  </thead>\n",
       "  <tbody>\n",
       "    <tr>\n",
       "      <th>0</th>\n",
       "      <td>0.58367</td>\n",
       "      <td>0.908846</td>\n",
       "      <td>0.578334</td>\n",
       "      <td>0.581427</td>\n",
       "      <td>0.588845</td>\n",
       "      <td>0.589553</td>\n",
       "    </tr>\n",
       "  </tbody>\n",
       "</table>\n",
       "</div>"
      ],
      "text/plain": [
       "     Ghost      Muon      Pion      Kaon    Proton  Electron\n",
       "0  0.58367  0.908846  0.578334  0.581427  0.588845  0.589553"
      ]
     },
     "execution_count": 119,
     "metadata": {},
     "output_type": "execute_result"
    }
   ],
   "source": [
    "roc_auc_score_one_vs_all(test.Signal.values, nn_muon.predict_proba(test), test.Weight.values)"
   ]
  },
  {
   "cell_type": "code",
   "execution_count": 92,
   "metadata": {
    "collapsed": false
   },
   "outputs": [
    {
     "name": "stdout",
     "output_type": "stream",
     "text": [
      "KFold prediction using folds column\n"
     ]
    },
    {
     "data": {
      "text/html": [
       "<div>\n",
       "<table border=\"1\" class=\"dataframe\">\n",
       "  <thead>\n",
       "    <tr style=\"text-align: right;\">\n",
       "      <th></th>\n",
       "      <th>Ghost</th>\n",
       "      <th>Muon</th>\n",
       "      <th>Pion</th>\n",
       "      <th>Kaon</th>\n",
       "      <th>Proton</th>\n",
       "      <th>Electron</th>\n",
       "    </tr>\n",
       "  </thead>\n",
       "  <tbody>\n",
       "    <tr>\n",
       "      <th>0</th>\n",
       "      <td>0.581969</td>\n",
       "      <td>0.901451</td>\n",
       "      <td>0.576673</td>\n",
       "      <td>0.578904</td>\n",
       "      <td>0.588895</td>\n",
       "      <td>0.588532</td>\n",
       "    </tr>\n",
       "  </tbody>\n",
       "</table>\n",
       "</div>"
      ],
      "text/plain": [
       "      Ghost      Muon      Pion      Kaon    Proton  Electron\n",
       "0  0.581969  0.901451  0.576673  0.578904  0.588895  0.588532"
      ]
     },
     "execution_count": 92,
     "metadata": {},
     "output_type": "execute_result"
    }
   ],
   "source": [
    "roc_auc_score_one_vs_all(test.Signal.values, nn_muon.predict_proba(test), test.Weight.values)"
   ]
  },
  {
   "cell_type": "code",
   "execution_count": 120,
   "metadata": {
    "collapsed": true
   },
   "outputs": [],
   "source": [
    "import cPickle \n",
    "with open('models/nn_muon.pkl', 'w') as f:\n",
    "    cPickle.dump(nn_muon, f)"
   ]
  },
  {
   "cell_type": "code",
   "execution_count": null,
   "metadata": {
    "collapsed": true
   },
   "outputs": [],
   "source": [
    "# import cPickle \n",
    "# with open('models/nn_muon.pkl', 'r') as f:\n",
    "#     nn_muon = cPickle.load(f)"
   ]
  },
  {
   "cell_type": "markdown",
   "metadata": {},
   "source": [
    "# Prepare data from NN predictions"
   ]
  },
  {
   "cell_type": "code",
   "execution_count": 121,
   "metadata": {
    "collapsed": false
   },
   "outputs": [
    {
     "name": "stdout",
     "output_type": "stream",
     "text": [
      "KFold prediction using folds column\n",
      "KFold prediction using random classifier (length of data passed not equal to length of train)\n",
      "KFold prediction using folds column\n",
      "KFold prediction using random classifier (length of data passed not equal to length of train)\n",
      "KFold prediction using folds column\n",
      "KFold prediction using random classifier (length of data passed not equal to length of train)\n",
      "KFold prediction using folds column\n",
      "KFold prediction using random classifier (length of data passed not equal to length of train)\n",
      "KFold prediction using folds column\n",
      "KFold prediction using random classifier (length of data passed not equal to length of train)\n",
      "KFold prediction using folds column\n",
      "KFold prediction using random classifier (length of data passed not equal to length of train)\n"
     ]
    }
   ],
   "source": [
    "nn_outputs = []\n",
    "nn_outputs_test = []\n",
    "for nn, name in zip([nn_acceptance, nn_CALO, nn_RICH, nn_COMBO, nn_track, nn_muon], \n",
    "                    ['acceptance', 'calo', 'rich', 'combo', 'track', 'muon']):\n",
    "    nn_outputs.append(pandas.DataFrame(nn.predict_proba(train), columns=[name + '_' + str(i) for i in range(6)]))\n",
    "    nn_outputs_test.append(pandas.DataFrame(nn.predict_proba(test), columns=[name + '_' + str(i) for i in range(6)]))\n",
    "data_train_nn = pandas.concat(nn_outputs, axis=1)\n",
    "data_test_nn = pandas.concat(nn_outputs_test, axis=1)"
   ]
  },
  {
   "cell_type": "code",
   "execution_count": 149,
   "metadata": {
    "collapsed": false
   },
   "outputs": [
    {
     "name": "stdout",
     "output_type": "stream",
     "text": [
      "KFold prediction using random classifier (length of data passed not equal to length of train)\n",
      "KFold prediction using random classifier (length of data passed not equal to length of train)\n",
      "KFold prediction using random classifier (length of data passed not equal to length of train)\n",
      "KFold prediction using random classifier (length of data passed not equal to length of train)\n",
      "KFold prediction using random classifier (length of data passed not equal to length of train)\n",
      "KFold prediction using random classifier (length of data passed not equal to length of train)\n"
     ]
    }
   ],
   "source": [
    "nn_outputs_temp = []\n",
    "for nn, name in zip([nn_acceptance, nn_CALO, nn_RICH, nn_COMBO, nn_track, nn_muon], \n",
    "                    ['acceptance', 'calo', 'rich', 'combo', 'track', 'muon']):\n",
    "    nn_outputs_temp.append(pandas.DataFrame(nn.predict_proba(data_test), \n",
    "                                            columns=[name + '_' + str(i) for i in range(6)]))\n",
    "data_test_nn_all = pandas.concat(nn_outputs_temp, axis=1)"
   ]
  },
  {
   "cell_type": "markdown",
   "metadata": {},
   "source": [
    "# NN on NNs from subsystems"
   ]
  },
  {
   "cell_type": "code",
   "execution_count": 123,
   "metadata": {
    "collapsed": false
   },
   "outputs": [
    {
     "name": "stdout",
     "output_type": "stream",
     "text": [
      "CPU times: user 2h 36min 49s, sys: 1h 49min 15s, total: 4h 26min 4s\n",
      "Wall time: 58min 17s\n"
     ]
    }
   ],
   "source": [
    "%%time\n",
    "nn_subsystems = MLPMultiClassifier(layers=(30, 10), scaler='iron', epochs=700)\n",
    "nn_subsystems.fit(data_train_nn, train.Signal, train.Weight)"
   ]
  },
  {
   "cell_type": "code",
   "execution_count": 166,
   "metadata": {
    "collapsed": false
   },
   "outputs": [
    {
     "data": {
      "text/html": [
       "<div>\n",
       "<table border=\"1\" class=\"dataframe\">\n",
       "  <thead>\n",
       "    <tr style=\"text-align: right;\">\n",
       "      <th></th>\n",
       "      <th>Ghost</th>\n",
       "      <th>Electron</th>\n",
       "      <th>Muon</th>\n",
       "      <th>Pion</th>\n",
       "      <th>Kaon</th>\n",
       "      <th>Proton</th>\n",
       "    </tr>\n",
       "  </thead>\n",
       "  <tbody>\n",
       "    <tr>\n",
       "      <th>0</th>\n",
       "      <td>0.956819</td>\n",
       "      <td>0.988232</td>\n",
       "      <td>0.990364</td>\n",
       "      <td>0.951709</td>\n",
       "      <td>0.923852</td>\n",
       "      <td>0.922669</td>\n",
       "    </tr>\n",
       "  </tbody>\n",
       "</table>\n",
       "</div>"
      ],
      "text/plain": [
       "      Ghost  Electron      Muon      Pion      Kaon    Proton\n",
       "0  0.956819  0.988232  0.990364  0.951709  0.923852  0.922669"
      ]
     },
     "execution_count": 166,
     "metadata": {},
     "output_type": "execute_result"
    }
   ],
   "source": [
    "roc_auc_score_one_vs_all(test.Signal.values, nn_subsystems.predict_proba(data_test_nn), test.Weight.values)"
   ]
  },
  {
   "cell_type": "code",
   "execution_count": 167,
   "metadata": {
    "collapsed": false
   },
   "outputs": [
    {
     "data": {
      "text/html": [
       "<div>\n",
       "<table border=\"1\" class=\"dataframe\">\n",
       "  <thead>\n",
       "    <tr style=\"text-align: right;\">\n",
       "      <th></th>\n",
       "      <th>Ghost</th>\n",
       "      <th>Electron</th>\n",
       "      <th>Muon</th>\n",
       "      <th>Pion</th>\n",
       "      <th>Kaon</th>\n",
       "      <th>Proton</th>\n",
       "    </tr>\n",
       "  </thead>\n",
       "  <tbody>\n",
       "    <tr>\n",
       "      <th>0</th>\n",
       "      <td>0.956857</td>\n",
       "      <td>0.988102</td>\n",
       "      <td>0.989989</td>\n",
       "      <td>0.951694</td>\n",
       "      <td>0.924102</td>\n",
       "      <td>0.922618</td>\n",
       "    </tr>\n",
       "  </tbody>\n",
       "</table>\n",
       "</div>"
      ],
      "text/plain": [
       "      Ghost  Electron      Muon      Pion      Kaon    Proton\n",
       "0  0.956857  0.988102  0.989989  0.951694  0.924102  0.922618"
      ]
     },
     "execution_count": 167,
     "metadata": {},
     "output_type": "execute_result"
    }
   ],
   "source": [
    "roc_auc_score_one_vs_all(data_test.Signal.values, nn_subsystems.predict_proba(data_test_nn_all), data_test.Weight.values)"
   ]
  },
  {
   "cell_type": "code",
   "execution_count": 125,
   "metadata": {
    "collapsed": true
   },
   "outputs": [],
   "source": [
    "import cPickle \n",
    "with open('models/nn_subsystems.pkl', 'w') as f:\n",
    "    cPickle.dump(nn_subsystems, f)"
   ]
  },
  {
   "cell_type": "markdown",
   "metadata": {},
   "source": [
    "# NN on original features and subsystems features"
   ]
  },
  {
   "cell_type": "code",
   "execution_count": 126,
   "metadata": {
    "collapsed": false
   },
   "outputs": [],
   "source": [
    "features_all_and_subsystems = list(data_train_nn.columns) + list(numpy.concatenate(features.values()))"
   ]
  },
  {
   "cell_type": "code",
   "execution_count": 127,
   "metadata": {
    "collapsed": true
   },
   "outputs": [],
   "source": [
    "train.index = range(len(train))\n",
    "test.index = range(len(test))"
   ]
  },
  {
   "cell_type": "code",
   "execution_count": 253,
   "metadata": {
    "collapsed": false
   },
   "outputs": [],
   "source": [
    "data_train_extended = pandas.concat([train, data_train_nn], axis=1)\n",
    "data_test_extended = pandas.concat([test, data_test_nn], axis=1)"
   ]
  },
  {
   "cell_type": "code",
   "execution_count": 254,
   "metadata": {
    "collapsed": true
   },
   "outputs": [],
   "source": [
    "data_test_all_extended = pandas.concat([data_test, data_test_nn_all], axis=1)"
   ]
  },
  {
   "cell_type": "code",
   "execution_count": 129,
   "metadata": {
    "collapsed": false
   },
   "outputs": [
    {
     "name": "stdout",
     "output_type": "stream",
     "text": [
      "CPU times: user 6h 49min 12s, sys: 4h 9min 6s, total: 10h 58min 19s\n",
      "Wall time: 2h 16min 46s\n"
     ]
    }
   ],
   "source": [
    "%%time\n",
    "nn_add_subsystems = FoldingClassifier(MLPMultiClassifier(layers=(40, 20), scaler='iron', epochs=1000), \n",
    "                                      features=features_all_and_subsystems, random_state=31)\n",
    "nn_add_subsystems.fit(data_train_extended, data_train_extended.Signal, data_train_extended.Weight)"
   ]
  },
  {
   "cell_type": "code",
   "execution_count": 130,
   "metadata": {
    "collapsed": true
   },
   "outputs": [],
   "source": [
    "import cPickle \n",
    "with open('models/nn_add_subsystems.pkl', 'w') as f:\n",
    "    cPickle.dump(nn_add_subsystems, f)"
   ]
  },
  {
   "cell_type": "code",
   "execution_count": 168,
   "metadata": {
    "collapsed": false
   },
   "outputs": [
    {
     "name": "stdout",
     "output_type": "stream",
     "text": [
      "KFold prediction using random classifier (length of data passed not equal to length of train)\n"
     ]
    },
    {
     "data": {
      "text/html": [
       "<div>\n",
       "<table border=\"1\" class=\"dataframe\">\n",
       "  <thead>\n",
       "    <tr style=\"text-align: right;\">\n",
       "      <th></th>\n",
       "      <th>Ghost</th>\n",
       "      <th>Electron</th>\n",
       "      <th>Muon</th>\n",
       "      <th>Pion</th>\n",
       "      <th>Kaon</th>\n",
       "      <th>Proton</th>\n",
       "    </tr>\n",
       "  </thead>\n",
       "  <tbody>\n",
       "    <tr>\n",
       "      <th>0</th>\n",
       "      <td>0.959406</td>\n",
       "      <td>0.989826</td>\n",
       "      <td>0.991818</td>\n",
       "      <td>0.954768</td>\n",
       "      <td>0.927002</td>\n",
       "      <td>0.927121</td>\n",
       "    </tr>\n",
       "  </tbody>\n",
       "</table>\n",
       "</div>"
      ],
      "text/plain": [
       "      Ghost  Electron      Muon      Pion      Kaon    Proton\n",
       "0  0.959406  0.989826  0.991818  0.954768  0.927002  0.927121"
      ]
     },
     "execution_count": 168,
     "metadata": {},
     "output_type": "execute_result"
    }
   ],
   "source": [
    "roc_auc_score_one_vs_all(data_test_extended.Signal.values, nn_add_subsystems.predict_proba(data_test_extended), \n",
    "                         data_test_extended.Weight.values)"
   ]
  },
  {
   "cell_type": "code",
   "execution_count": 169,
   "metadata": {
    "collapsed": false
   },
   "outputs": [
    {
     "name": "stdout",
     "output_type": "stream",
     "text": [
      "KFold prediction using random classifier (length of data passed not equal to length of train)\n"
     ]
    },
    {
     "data": {
      "text/html": [
       "<div>\n",
       "<table border=\"1\" class=\"dataframe\">\n",
       "  <thead>\n",
       "    <tr style=\"text-align: right;\">\n",
       "      <th></th>\n",
       "      <th>Ghost</th>\n",
       "      <th>Electron</th>\n",
       "      <th>Muon</th>\n",
       "      <th>Pion</th>\n",
       "      <th>Kaon</th>\n",
       "      <th>Proton</th>\n",
       "    </tr>\n",
       "  </thead>\n",
       "  <tbody>\n",
       "    <tr>\n",
       "      <th>0</th>\n",
       "      <td>0.959411</td>\n",
       "      <td>0.989753</td>\n",
       "      <td>0.9915</td>\n",
       "      <td>0.954803</td>\n",
       "      <td>0.927248</td>\n",
       "      <td>0.927084</td>\n",
       "    </tr>\n",
       "  </tbody>\n",
       "</table>\n",
       "</div>"
      ],
      "text/plain": [
       "      Ghost  Electron    Muon      Pion      Kaon    Proton\n",
       "0  0.959411  0.989753  0.9915  0.954803  0.927248  0.927084"
      ]
     },
     "execution_count": 169,
     "metadata": {},
     "output_type": "execute_result"
    }
   ],
   "source": [
    "roc_auc_score_one_vs_all(data_test_all_extended.Signal.values, nn_add_subsystems.predict_proba(data_test_all_extended), \n",
    "                         data_test_all_extended.Weight.values)"
   ]
  },
  {
   "cell_type": "markdown",
   "metadata": {},
   "source": [
    "# DT on original features"
   ]
  },
  {
   "cell_type": "code",
   "execution_count": 15,
   "metadata": {
    "collapsed": true
   },
   "outputs": [],
   "source": [
    "features_original = concatenate(features.values())"
   ]
  },
  {
   "cell_type": "code",
   "execution_count": 16,
   "metadata": {
    "collapsed": false
   },
   "outputs": [
    {
     "data": {
      "text/plain": [
       "60"
      ]
     },
     "execution_count": 16,
     "metadata": {},
     "output_type": "execute_result"
    }
   ],
   "source": [
    "len(features_original)"
   ]
  },
  {
   "cell_type": "code",
   "execution_count": 17,
   "metadata": {
    "collapsed": true
   },
   "outputs": [],
   "source": [
    "from decisiontrain import DecisionTrainClassifier\n",
    "from rep.estimators import SklearnClassifier"
   ]
  },
  {
   "cell_type": "code",
   "execution_count": 138,
   "metadata": {
    "collapsed": true
   },
   "outputs": [],
   "source": [
    "with open('log', 'w') as f:\n",
    "    f.write(\"DT training starts\\n\")"
   ]
  },
  {
   "cell_type": "code",
   "execution_count": null,
   "metadata": {
    "collapsed": false
   },
   "outputs": [],
   "source": [
    "%%time\n",
    "dt_one_vs_all = dict()\n",
    "for label in names_labels_correspondence.values():\n",
    "    dt_temp = SklearnClassifier(DecisionTrainClassifier(n_estimators=40000, depth=7, learning_rate=0.1, n_threads=12), \n",
    "                                features=features_original)\n",
    "    dt_one_vs_all[label] = dt_temp.fit(train, train.Signal.values == label)\n",
    "    with open('models/dt.pkl', 'w') as f:\n",
    "        cPickle.dump(dt_one_vs_all, f)\n",
    "    with open('log', 'a') as f:\n",
    "        f.write(\"{} is trained\\n\".format(label))"
   ]
  },
  {
   "cell_type": "code",
   "execution_count": 143,
   "metadata": {
    "collapsed": false
   },
   "outputs": [
    {
     "name": "stdout",
     "output_type": "stream",
     "text": [
      "\n"
     ]
    }
   ],
   "source": [
    "from sklearn.metrics import roc_auc_score"
   ]
  },
  {
   "cell_type": "code",
   "execution_count": 174,
   "metadata": {
    "collapsed": false
   },
   "outputs": [
    {
     "data": {
      "text/html": [
       "<div>\n",
       "<table border=\"1\" class=\"dataframe\">\n",
       "  <thead>\n",
       "    <tr style=\"text-align: right;\">\n",
       "      <th></th>\n",
       "      <th>Ghost</th>\n",
       "      <th>Electron</th>\n",
       "      <th>Muon</th>\n",
       "      <th>Pion</th>\n",
       "      <th>Kaon</th>\n",
       "      <th>Proton</th>\n",
       "    </tr>\n",
       "  </thead>\n",
       "  <tbody>\n",
       "    <tr>\n",
       "      <th>0</th>\n",
       "      <td>0.962956</td>\n",
       "      <td>0.991086</td>\n",
       "      <td>0.992695</td>\n",
       "      <td>0.956789</td>\n",
       "      <td>0.928868</td>\n",
       "      <td>0.929149</td>\n",
       "    </tr>\n",
       "  </tbody>\n",
       "</table>\n",
       "</div>"
      ],
      "text/plain": [
       "      Ghost  Electron      Muon      Pion      Kaon    Proton\n",
       "0  0.962956  0.991086  0.992695  0.956789  0.928868  0.929149"
      ]
     },
     "execution_count": 174,
     "metadata": {},
     "output_type": "execute_result"
    }
   ],
   "source": [
    "preds = {}\n",
    "for label, cl in dt_one_vs_all.items():\n",
    "    preds[label] = cl.predict_proba(test)[:, 1]\n",
    "    \n",
    "roc_auc_score_one_vs_all_for_separate_algorithms(test.Signal.values, preds, sample_weight=test.Weight)"
   ]
  },
  {
   "cell_type": "code",
   "execution_count": 175,
   "metadata": {
    "collapsed": false
   },
   "outputs": [
    {
     "data": {
      "text/html": [
       "<div>\n",
       "<table border=\"1\" class=\"dataframe\">\n",
       "  <thead>\n",
       "    <tr style=\"text-align: right;\">\n",
       "      <th></th>\n",
       "      <th>Ghost</th>\n",
       "      <th>Electron</th>\n",
       "      <th>Muon</th>\n",
       "      <th>Pion</th>\n",
       "      <th>Kaon</th>\n",
       "      <th>Proton</th>\n",
       "    </tr>\n",
       "  </thead>\n",
       "  <tbody>\n",
       "    <tr>\n",
       "      <th>0</th>\n",
       "      <td>0.962971</td>\n",
       "      <td>0.991057</td>\n",
       "      <td>0.992419</td>\n",
       "      <td>0.956788</td>\n",
       "      <td>0.929119</td>\n",
       "      <td>0.929098</td>\n",
       "    </tr>\n",
       "  </tbody>\n",
       "</table>\n",
       "</div>"
      ],
      "text/plain": [
       "      Ghost  Electron      Muon      Pion      Kaon    Proton\n",
       "0  0.962971  0.991057  0.992419  0.956788  0.929119  0.929098"
      ]
     },
     "execution_count": 175,
     "metadata": {},
     "output_type": "execute_result"
    }
   ],
   "source": [
    "preds = {}\n",
    "for label, cl in dt_one_vs_all.items():\n",
    "    preds[label] = cl.predict_proba(data_test)[:, 1]\n",
    "    \n",
    "roc_auc_score_one_vs_all_for_separate_algorithms(data_test.Signal.values, preds, sample_weight=data_test.Weight)"
   ]
  },
  {
   "cell_type": "code",
   "execution_count": 145,
   "metadata": {
    "collapsed": true
   },
   "outputs": [],
   "source": [
    "from rep.report.metrics import RocAuc\n",
    "\n",
    "reports = dict()\n",
    "for label, cl in dt_one_vs_all.items():\n",
    "    reports[label] = cl.test_on(test, test.Signal.values == label, sample_weight=test.Weight)\n",
    "\n",
    "lcs = dict()\n",
    "for key, value in reports.items():\n",
    "    lcs[key] = value.learning_curve(RocAuc(), steps=20)"
   ]
  },
  {
   "cell_type": "code",
   "execution_count": 147,
   "metadata": {
    "collapsed": false
   },
   "outputs": [
    {
     "data": {
      "image/png": "[encoded data removed]",
      "text/plain": [
       "<matplotlib.figure.Figure at 0x7f4b38cadfd0>"
      ]
     },
     "metadata": {},
     "output_type": "display_data"
    }
   ],
   "source": [
    "figure(figsize=(22, 3))\n",
    "for key, value in lcs.items():\n",
    "    subplot(1, 6, key + 1)\n",
    "    value.plot()\n",
    "    legend([labels_names_correspondence[key]], loc='best')"
   ]
  },
  {
   "cell_type": "code",
   "execution_count": 210,
   "metadata": {
    "collapsed": false
   },
   "outputs": [
    {
     "name": "stderr",
     "output_type": "stream",
     "text": [
      "/mnt/mfs/miniconda/envs/ipython_py2/lib/python2.7/site-packages/ipykernel/__main__.py:2: FutureWarning: sort(columns=....) is deprecated, use sort_values(by=.....)\n",
      "  from ipykernel import kernelapp as app\n"
     ]
    },
    {
     "data": {
      "text/html": [
       "<div>\n",
       "<table border=\"1\" class=\"dataframe\">\n",
       "  <thead>\n",
       "    <tr style=\"text-align: right;\">\n",
       "      <th></th>\n",
       "      <th>effect</th>\n",
       "    </tr>\n",
       "  </thead>\n",
       "  <tbody>\n",
       "    <tr>\n",
       "      <th>TrackP</th>\n",
       "      <td>0.058500</td>\n",
       "    </tr>\n",
       "    <tr>\n",
       "      <th>CombDLLk</th>\n",
       "      <td>0.056500</td>\n",
       "    </tr>\n",
       "    <tr>\n",
       "      <th>CombDLLp</th>\n",
       "      <td>0.054925</td>\n",
       "    </tr>\n",
       "    <tr>\n",
       "      <th>TrackPt</th>\n",
       "      <td>0.052250</td>\n",
       "    </tr>\n",
       "    <tr>\n",
       "      <th>RichDLLe</th>\n",
       "      <td>0.051550</td>\n",
       "    </tr>\n",
       "    <tr>\n",
       "      <th>CombDLLe</th>\n",
       "      <td>0.043750</td>\n",
       "    </tr>\n",
       "    <tr>\n",
       "      <th>TrackGhostProbability</th>\n",
       "      <td>0.042875</td>\n",
       "    </tr>\n",
       "    <tr>\n",
       "      <th>RichDLLbt</th>\n",
       "      <td>0.035300</td>\n",
       "    </tr>\n",
       "    <tr>\n",
       "      <th>RichDLLmu</th>\n",
       "      <td>0.034150</td>\n",
       "    </tr>\n",
       "    <tr>\n",
       "      <th>CombDLLmu</th>\n",
       "      <td>0.031050</td>\n",
       "    </tr>\n",
       "    <tr>\n",
       "      <th>CaloTrajectoryL</th>\n",
       "      <td>0.026600</td>\n",
       "    </tr>\n",
       "    <tr>\n",
       "      <th>TrackDOCA</th>\n",
       "      <td>0.026125</td>\n",
       "    </tr>\n",
       "    <tr>\n",
       "      <th>TrackFitMatchChi2</th>\n",
       "      <td>0.025800</td>\n",
       "    </tr>\n",
       "    <tr>\n",
       "      <th>RichDLLp</th>\n",
       "      <td>0.023525</td>\n",
       "    </tr>\n",
       "    <tr>\n",
       "      <th>EcalPIDmu</th>\n",
       "      <td>0.023375</td>\n",
       "    </tr>\n",
       "  </tbody>\n",
       "</table>\n",
       "</div>"
      ],
      "text/plain": [
       "                         effect\n",
       "TrackP                 0.058500\n",
       "CombDLLk               0.056500\n",
       "CombDLLp               0.054925\n",
       "TrackPt                0.052250\n",
       "RichDLLe               0.051550\n",
       "CombDLLe               0.043750\n",
       "TrackGhostProbability  0.042875\n",
       "RichDLLbt              0.035300\n",
       "RichDLLmu              0.034150\n",
       "CombDLLmu              0.031050\n",
       "CaloTrajectoryL        0.026600\n",
       "TrackDOCA              0.026125\n",
       "TrackFitMatchChi2      0.025800\n",
       "RichDLLp               0.023525\n",
       "EcalPIDmu              0.023375"
      ]
     },
     "execution_count": 210,
     "metadata": {},
     "output_type": "execute_result"
    }
   ],
   "source": [
    "a=dt_one_vs_all[5].get_feature_importances()\n",
    "a.sort(columns='effect', ascending=False)[:15]"
   ]
  },
  {
   "cell_type": "markdown",
   "metadata": {},
   "source": [
    "---------------------------------------"
   ]
  },
  {
   "cell_type": "markdown",
   "metadata": {},
   "source": [
    "# DT on original features and NNs features from subsystems"
   ]
  },
  {
   "cell_type": "code",
   "execution_count": 177,
   "metadata": {
    "collapsed": true
   },
   "outputs": [],
   "source": [
    "with open('log', 'w') as f:\n",
    "    f.write(\"DT training starts \\n\")"
   ]
  },
  {
   "cell_type": "code",
   "execution_count": 178,
   "metadata": {
    "collapsed": false
   },
   "outputs": [
    {
     "name": "stdout",
     "output_type": "stream",
     "text": [
      "CPU times: user 1d 17h 48min 4s, sys: 2min 24s, total: 1d 17h 50min 28s\n",
      "Wall time: 4h 13min 38s\n"
     ]
    }
   ],
   "source": [
    "%%time\n",
    "dt_extended_one_vs_all = dict()\n",
    "for label in names_labels_correspondence.values():\n",
    "    dt_temp = SklearnClassifier(DecisionTrainClassifier(n_estimators=40000, depth=7, learning_rate=0.1, n_threads=12), \n",
    "                                features=features_all_and_subsystems)\n",
    "    dt_extended_one_vs_all[label] = dt_temp.fit(data_train_extended, data_train_extended.Signal.values == label)\n",
    "    with open('models/dt_add_subsystems.pkl', 'w') as f:\n",
    "        cPickle.dump(dt_extended_one_vs_all, f)\n",
    "    with open('log', 'a') as f:\n",
    "        f.write(\"{} is trained\\n\".format(label))"
   ]
  },
  {
   "cell_type": "code",
   "execution_count": 179,
   "metadata": {
    "collapsed": false
   },
   "outputs": [
    {
     "data": {
      "text/html": [
       "<div>\n",
       "<table border=\"1\" class=\"dataframe\">\n",
       "  <thead>\n",
       "    <tr style=\"text-align: right;\">\n",
       "      <th></th>\n",
       "      <th>Ghost</th>\n",
       "      <th>Electron</th>\n",
       "      <th>Muon</th>\n",
       "      <th>Pion</th>\n",
       "      <th>Kaon</th>\n",
       "      <th>Proton</th>\n",
       "    </tr>\n",
       "  </thead>\n",
       "  <tbody>\n",
       "    <tr>\n",
       "      <th>0</th>\n",
       "      <td>0.962626</td>\n",
       "      <td>0.991008</td>\n",
       "      <td>0.992709</td>\n",
       "      <td>0.956732</td>\n",
       "      <td>0.929129</td>\n",
       "      <td>0.929436</td>\n",
       "    </tr>\n",
       "  </tbody>\n",
       "</table>\n",
       "</div>"
      ],
      "text/plain": [
       "      Ghost  Electron      Muon      Pion      Kaon    Proton\n",
       "0  0.962626  0.991008  0.992709  0.956732  0.929129  0.929436"
      ]
     },
     "execution_count": 179,
     "metadata": {},
     "output_type": "execute_result"
    }
   ],
   "source": [
    "preds = {}\n",
    "for label, cl in dt_extended_one_vs_all.items():\n",
    "    preds[label] = cl.predict_proba(data_test_extended)[:, 1]\n",
    "    \n",
    "roc_auc_score_one_vs_all_for_separate_algorithms(data_test_extended.Signal.values, preds, \n",
    "                                                 sample_weight=data_test_extended.Weight)"
   ]
  },
  {
   "cell_type": "code",
   "execution_count": 182,
   "metadata": {
    "collapsed": false
   },
   "outputs": [
    {
     "data": {
      "text/html": [
       "<div>\n",
       "<table border=\"1\" class=\"dataframe\">\n",
       "  <thead>\n",
       "    <tr style=\"text-align: right;\">\n",
       "      <th></th>\n",
       "      <th>Ghost</th>\n",
       "      <th>Electron</th>\n",
       "      <th>Muon</th>\n",
       "      <th>Pion</th>\n",
       "      <th>Kaon</th>\n",
       "      <th>Proton</th>\n",
       "    </tr>\n",
       "  </thead>\n",
       "  <tbody>\n",
       "    <tr>\n",
       "      <th>0</th>\n",
       "      <td>0.962664</td>\n",
       "      <td>0.990968</td>\n",
       "      <td>0.992449</td>\n",
       "      <td>0.956737</td>\n",
       "      <td>0.929262</td>\n",
       "      <td>0.929271</td>\n",
       "    </tr>\n",
       "  </tbody>\n",
       "</table>\n",
       "</div>"
      ],
      "text/plain": [
       "      Ghost  Electron      Muon      Pion      Kaon    Proton\n",
       "0  0.962664  0.990968  0.992449  0.956737  0.929262  0.929271"
      ]
     },
     "execution_count": 182,
     "metadata": {},
     "output_type": "execute_result"
    }
   ],
   "source": [
    "preds = {}\n",
    "for label, cl in dt_extended_one_vs_all.items():\n",
    "    preds[label] = cl.predict_proba(data_test_all_extended)[:, 1]\n",
    "    \n",
    "roc_auc_score_one_vs_all_for_separate_algorithms(data_test_all_extended.Signal.values, preds, \n",
    "                                                 sample_weight=data_test_all_extended.Weight)"
   ]
  },
  {
   "cell_type": "code",
   "execution_count": 183,
   "metadata": {
    "collapsed": true
   },
   "outputs": [],
   "source": [
    "reports = dict()\n",
    "for label, cl in dt_one_vs_all.items():\n",
    "    reports[label] = cl.test_on(test, test.Signal.values == label, sample_weight=test.Weight)\n",
    "\n",
    "lcs = dict()\n",
    "for key, value in reports.items():\n",
    "    lcs[key] = value.learning_curve(RocAuc(), steps=20)"
   ]
  },
  {
   "cell_type": "code",
   "execution_count": 184,
   "metadata": {
    "collapsed": false
   },
   "outputs": [
    {
     "data": {
      "image/png": "[encoded data removed]",
      "text/plain": [
       "<matplotlib.figure.Figure at 0x7f4b2fb62250>"
      ]
     },
     "metadata": {},
     "output_type": "display_data"
    }
   ],
   "source": [
    "figure(figsize=(22, 3))\n",
    "for key, value in lcs.items():\n",
    "    subplot(1, 6, key + 1)\n",
    "    value.plot()\n",
    "    legend([labels_names_correspondence[key]], loc='best')"
   ]
  },
  {
   "cell_type": "code",
   "execution_count": 215,
   "metadata": {
    "collapsed": false
   },
   "outputs": [
    {
     "name": "stderr",
     "output_type": "stream",
     "text": [
      "/mnt/mfs/miniconda/envs/ipython_py2/lib/python2.7/site-packages/ipykernel/__main__.py:2: FutureWarning: sort(columns=....) is deprecated, use sort_values(by=.....)\n",
      "  from ipykernel import kernelapp as app\n"
     ]
    },
    {
     "data": {
      "text/html": [
       "<div>\n",
       "<table border=\"1\" class=\"dataframe\">\n",
       "  <thead>\n",
       "    <tr style=\"text-align: right;\">\n",
       "      <th></th>\n",
       "      <th>effect</th>\n",
       "    </tr>\n",
       "  </thead>\n",
       "  <tbody>\n",
       "    <tr>\n",
       "      <th>rich_5</th>\n",
       "      <td>0.067275</td>\n",
       "    </tr>\n",
       "    <tr>\n",
       "      <th>combo_5</th>\n",
       "      <td>0.063150</td>\n",
       "    </tr>\n",
       "    <tr>\n",
       "      <th>combo_4</th>\n",
       "      <td>0.044250</td>\n",
       "    </tr>\n",
       "    <tr>\n",
       "      <th>rich_4</th>\n",
       "      <td>0.041900</td>\n",
       "    </tr>\n",
       "    <tr>\n",
       "      <th>TrackP</th>\n",
       "      <td>0.041625</td>\n",
       "    </tr>\n",
       "    <tr>\n",
       "      <th>track_3</th>\n",
       "      <td>0.036250</td>\n",
       "    </tr>\n",
       "    <tr>\n",
       "      <th>calo_3</th>\n",
       "      <td>0.028350</td>\n",
       "    </tr>\n",
       "    <tr>\n",
       "      <th>rich_0</th>\n",
       "      <td>0.021500</td>\n",
       "    </tr>\n",
       "    <tr>\n",
       "      <th>TrackDOCA</th>\n",
       "      <td>0.019775</td>\n",
       "    </tr>\n",
       "    <tr>\n",
       "      <th>track_0</th>\n",
       "      <td>0.018925</td>\n",
       "    </tr>\n",
       "    <tr>\n",
       "      <th>RichDLLe</th>\n",
       "      <td>0.018850</td>\n",
       "    </tr>\n",
       "    <tr>\n",
       "      <th>track_5</th>\n",
       "      <td>0.018650</td>\n",
       "    </tr>\n",
       "    <tr>\n",
       "      <th>TrackPt</th>\n",
       "      <td>0.017875</td>\n",
       "    </tr>\n",
       "    <tr>\n",
       "      <th>RichDLLmu</th>\n",
       "      <td>0.017675</td>\n",
       "    </tr>\n",
       "    <tr>\n",
       "      <th>combo_0</th>\n",
       "      <td>0.016700</td>\n",
       "    </tr>\n",
       "  </tbody>\n",
       "</table>\n",
       "</div>"
      ],
      "text/plain": [
       "             effect\n",
       "rich_5     0.067275\n",
       "combo_5    0.063150\n",
       "combo_4    0.044250\n",
       "rich_4     0.041900\n",
       "TrackP     0.041625\n",
       "track_3    0.036250\n",
       "calo_3     0.028350\n",
       "rich_0     0.021500\n",
       "TrackDOCA  0.019775\n",
       "track_0    0.018925\n",
       "RichDLLe   0.018850\n",
       "track_5    0.018650\n",
       "TrackPt    0.017875\n",
       "RichDLLmu  0.017675\n",
       "combo_0    0.016700"
      ]
     },
     "execution_count": 215,
     "metadata": {},
     "output_type": "execute_result"
    }
   ],
   "source": [
    "a=dt_extended_one_vs_all[5].get_feature_importances()\n",
    "a.sort(columns='effect', ascending=False)[:15]"
   ]
  },
  {
   "cell_type": "markdown",
   "metadata": {},
   "source": [
    "# Add constructed features; DT on \n",
    "* original features +\n",
    "* constructed features"
   ]
  },
  {
   "cell_type": "code",
   "execution_count": 53,
   "metadata": {
    "collapsed": true
   },
   "outputs": [],
   "source": [
    "def add_constructed_features(data):\n",
    "    added_features = []\n",
    "    data_comb = convert_DLL_to_LL(data, features['DLL'])\n",
    "    data_rich = convert_DLL_to_LL(data, list(set(features_RICH_DLL) - {'RichDLLbt'}))\n",
    "    data_acceptance = compute_cum_sum(data, features['acceptance'], prefix_name='acc_cum_sum_')\n",
    "    added_features = list(data_comb.columns) + list(data_rich.columns) + ['acc_cum_sum_3', 'acc_cum_sum_5']\n",
    "    \n",
    "    data = pandas.concat([data, data_rich, data_comb, data_acceptance[added_features[-2:]]], axis=1)\n",
    "    \n",
    "    data['RichAboveSumPiKaElMuTHres'] = data.RichAbovePiThres + data.RichAboveKaThres + \\\n",
    "        data.RichAboveElThres + data.RichAboveMuThres\n",
    "    data['RichAboveSumKaPrTHres'] = data.RichAboveKaThres + data.RichAbovePrThres\n",
    "    data['RichUsedGas'] = data.RichUsedR1Gas + data.RichUsedR2Gas\n",
    "    data['SpdCaloNeutralAcc'] = data.CaloNeutralSpd + data.InAccSpd # for ghost\n",
    "    data['SpdCaloChargedAcc'] = data.CaloChargedSpd + data.InAccSpd # for muon\n",
    "    data['SpdCaloChargedNeutral'] = data.CaloChargedSpd + data.CaloNeutralSpd # for electron\n",
    "    data['CaloSumSpdPrsE'] = data.CaloSpdE + data.CaloPrsE \n",
    "    data['CaloSumPIDmu'] = data.EcalPIDmu + data.HcalPIDmu \n",
    "    added_features = added_features + ['RichAboveSumPiKaElMuTHres', 'RichAboveSumKaPrTHres', 'RichUsedGas', \n",
    "                                       'SpdCaloNeutralAcc', 'SpdCaloChargedAcc', 'SpdCaloChargedNeutral', \n",
    "                                       'CaloSumSpdPrsE', 'CaloSumPIDmu']\n",
    "    return data, added_features"
   ]
  },
  {
   "cell_type": "code",
   "execution_count": 260,
   "metadata": {
    "collapsed": false
   },
   "outputs": [],
   "source": [
    "data_train_extended, features_constructed = add_constructed_features(data_train_extended)\n",
    "data_test_extended, _ = add_constructed_features(data_test_extended)\n",
    "data_test_all_extended, _ = add_constructed_features(data_test_all_extended)"
   ]
  },
  {
   "cell_type": "code",
   "execution_count": 269,
   "metadata": {
    "collapsed": false
   },
   "outputs": [],
   "source": [
    "with open('log', 'w') as f:\n",
    "    f.write(\"DT training starts \\n\")\n",
    "dt_full_one_vs_all = dict()\n",
    "for label in names_labels_correspondence.values():\n",
    "    dt_temp = SklearnClassifier(DecisionTrainClassifier(n_estimators=40000, depth=7, learning_rate=0.1, n_threads=12), \n",
    "                                features=list(features_original) + features_constructed)\n",
    "    dt_full_one_vs_all[label] = dt_temp.fit(data_train_extended, data_train_extended.Signal.values == label)\n",
    "    with open('models/dt_constructed.pkl', 'w') as f:\n",
    "        cPickle.dump(dt_full_one_vs_all, f)\n",
    "    with open('log', 'a') as f:\n",
    "        f.write(\"{} is trained\\n\".format(label))"
   ]
  },
  {
   "cell_type": "code",
   "execution_count": 270,
   "metadata": {
    "collapsed": false
   },
   "outputs": [
    {
     "data": {
      "text/html": [
       "<div>\n",
       "<table border=\"1\" class=\"dataframe\">\n",
       "  <thead>\n",
       "    <tr style=\"text-align: right;\">\n",
       "      <th></th>\n",
       "      <th>Ghost</th>\n",
       "      <th>Electron</th>\n",
       "      <th>Muon</th>\n",
       "      <th>Pion</th>\n",
       "      <th>Kaon</th>\n",
       "      <th>Proton</th>\n",
       "    </tr>\n",
       "  </thead>\n",
       "  <tbody>\n",
       "    <tr>\n",
       "      <th>0</th>\n",
       "      <td>0.96299</td>\n",
       "      <td>0.991129</td>\n",
       "      <td>0.992785</td>\n",
       "      <td>0.956843</td>\n",
       "      <td>0.929649</td>\n",
       "      <td>0.929959</td>\n",
       "    </tr>\n",
       "  </tbody>\n",
       "</table>\n",
       "</div>"
      ],
      "text/plain": [
       "     Ghost  Electron      Muon      Pion      Kaon    Proton\n",
       "0  0.96299  0.991129  0.992785  0.956843  0.929649  0.929959"
      ]
     },
     "execution_count": 270,
     "metadata": {},
     "output_type": "execute_result"
    }
   ],
   "source": [
    "preds = {}\n",
    "for label, cl in dt_full_one_vs_all.items():\n",
    "    preds[label] = cl.predict_proba(data_test_extended)[:, 1]\n",
    "    \n",
    "roc_auc_score_one_vs_all_for_separate_algorithms(data_test_extended.Signal.values, preds, \n",
    "                                                 sample_weight=data_test_extended.Weight)"
   ]
  },
  {
   "cell_type": "code",
   "execution_count": 291,
   "metadata": {
    "collapsed": false
   },
   "outputs": [
    {
     "data": {
      "text/html": [
       "<div>\n",
       "<table border=\"1\" class=\"dataframe\">\n",
       "  <thead>\n",
       "    <tr style=\"text-align: right;\">\n",
       "      <th></th>\n",
       "      <th>Ghost</th>\n",
       "      <th>Electron</th>\n",
       "      <th>Muon</th>\n",
       "      <th>Pion</th>\n",
       "      <th>Kaon</th>\n",
       "      <th>Proton</th>\n",
       "    </tr>\n",
       "  </thead>\n",
       "  <tbody>\n",
       "    <tr>\n",
       "      <th>0</th>\n",
       "      <td>0.963012</td>\n",
       "      <td>0.991084</td>\n",
       "      <td>0.992521</td>\n",
       "      <td>0.956809</td>\n",
       "      <td>0.929811</td>\n",
       "      <td>0.929844</td>\n",
       "    </tr>\n",
       "  </tbody>\n",
       "</table>\n",
       "</div>"
      ],
      "text/plain": [
       "      Ghost  Electron      Muon      Pion      Kaon    Proton\n",
       "0  0.963012  0.991084  0.992521  0.956809  0.929811  0.929844"
      ]
     },
     "execution_count": 291,
     "metadata": {},
     "output_type": "execute_result"
    }
   ],
   "source": [
    "preds = {}\n",
    "for label, cl in dt_full_one_vs_all.items():\n",
    "    preds[label] = cl.predict_proba(data_test_all_extended)[:, 1]\n",
    "    \n",
    "roc_auc_score_one_vs_all_for_separate_algorithms(data_test_all_extended.Signal.values, preds, \n",
    "                                                 sample_weight=data_test_all_extended.Weight)"
   ]
  },
  {
   "cell_type": "code",
   "execution_count": 275,
   "metadata": {
    "collapsed": true
   },
   "outputs": [],
   "source": [
    "preds_norm = {}\n",
    "for label, cl in dt_full_one_vs_all.items():\n",
    "    preds_norm[label] = preds[label] / numpy.sum(preds.values(), axis=0)"
   ]
  },
  {
   "cell_type": "code",
   "execution_count": 277,
   "metadata": {
    "collapsed": false
   },
   "outputs": [
    {
     "data": {
      "text/html": [
       "<div>\n",
       "<table border=\"1\" class=\"dataframe\">\n",
       "  <thead>\n",
       "    <tr style=\"text-align: right;\">\n",
       "      <th></th>\n",
       "      <th>Ghost</th>\n",
       "      <th>Electron</th>\n",
       "      <th>Muon</th>\n",
       "      <th>Pion</th>\n",
       "      <th>Kaon</th>\n",
       "      <th>Proton</th>\n",
       "    </tr>\n",
       "  </thead>\n",
       "  <tbody>\n",
       "    <tr>\n",
       "      <th>0</th>\n",
       "      <td>0.961528</td>\n",
       "      <td>0.990651</td>\n",
       "      <td>0.9924</td>\n",
       "      <td>0.956599</td>\n",
       "      <td>0.929661</td>\n",
       "      <td>0.92938</td>\n",
       "    </tr>\n",
       "  </tbody>\n",
       "</table>\n",
       "</div>"
      ],
      "text/plain": [
       "      Ghost  Electron    Muon      Pion      Kaon   Proton\n",
       "0  0.961528  0.990651  0.9924  0.956599  0.929661  0.92938"
      ]
     },
     "execution_count": 277,
     "metadata": {},
     "output_type": "execute_result"
    }
   ],
   "source": [
    "roc_auc_score_one_vs_all_for_separate_algorithms(data_test_all_extended.Signal.values, preds_norm, \n",
    "                                                 sample_weight=data_test_all_extended.Weight)"
   ]
  },
  {
   "cell_type": "code",
   "execution_count": 294,
   "metadata": {
    "collapsed": false
   },
   "outputs": [
    {
     "name": "stdout",
     "output_type": "stream",
     "text": [
      "KFold prediction using random classifier (length of data passed not equal to length of train)\n"
     ]
    }
   ],
   "source": [
    "nn_pred = nn_add_subsystems.predict_proba(data_test_all_extended)\n",
    "for label, cl in dt_full_one_vs_all.items():\n",
    "    nn_pred[:, label] *= 0.2\n",
    "    nn_pred[:, label] += 0.8 * preds[label]"
   ]
  },
  {
   "cell_type": "code",
   "execution_count": 295,
   "metadata": {
    "collapsed": false
   },
   "outputs": [
    {
     "data": {
      "text/html": [
       "<div>\n",
       "<table border=\"1\" class=\"dataframe\">\n",
       "  <thead>\n",
       "    <tr style=\"text-align: right;\">\n",
       "      <th></th>\n",
       "      <th>Ghost</th>\n",
       "      <th>Electron</th>\n",
       "      <th>Muon</th>\n",
       "      <th>Pion</th>\n",
       "      <th>Kaon</th>\n",
       "      <th>Proton</th>\n",
       "    </tr>\n",
       "  </thead>\n",
       "  <tbody>\n",
       "    <tr>\n",
       "      <th>0</th>\n",
       "      <td>0.963028</td>\n",
       "      <td>0.991111</td>\n",
       "      <td>0.992536</td>\n",
       "      <td>0.957152</td>\n",
       "      <td>0.930404</td>\n",
       "      <td>0.930469</td>\n",
       "    </tr>\n",
       "  </tbody>\n",
       "</table>\n",
       "</div>"
      ],
      "text/plain": [
       "      Ghost  Electron      Muon      Pion      Kaon    Proton\n",
       "0  0.963028  0.991111  0.992536  0.957152  0.930404  0.930469"
      ]
     },
     "execution_count": 295,
     "metadata": {},
     "output_type": "execute_result"
    }
   ],
   "source": [
    "roc_auc_score_one_vs_all(data_test_all_extended.Signal.values, nn_pred, sample_weight=data_test_all_extended.Weight)"
   ]
  },
  {
   "cell_type": "code",
   "execution_count": 290,
   "metadata": {
    "collapsed": false
   },
   "outputs": [
    {
     "data": {
      "text/html": [
       "<div>\n",
       "<table border=\"1\" class=\"dataframe\">\n",
       "  <thead>\n",
       "    <tr style=\"text-align: right;\">\n",
       "      <th></th>\n",
       "      <th>Ghost</th>\n",
       "      <th>Electron</th>\n",
       "      <th>Muon</th>\n",
       "      <th>Pion</th>\n",
       "      <th>Kaon</th>\n",
       "      <th>Proton</th>\n",
       "    </tr>\n",
       "  </thead>\n",
       "  <tbody>\n",
       "    <tr>\n",
       "      <th>0</th>\n",
       "      <td>0.962041</td>\n",
       "      <td>0.990768</td>\n",
       "      <td>0.992371</td>\n",
       "      <td>0.957104</td>\n",
       "      <td>0.930143</td>\n",
       "      <td>0.930061</td>\n",
       "    </tr>\n",
       "  </tbody>\n",
       "</table>\n",
       "</div>"
      ],
      "text/plain": [
       "      Ghost  Electron      Muon      Pion      Kaon    Proton\n",
       "0  0.962041  0.990768  0.992371  0.957104  0.930143  0.930061"
      ]
     },
     "execution_count": 290,
     "metadata": {},
     "output_type": "execute_result"
    }
   ],
   "source": [
    "roc_auc_score_one_vs_all(data_test_all_extended.Signal.values, nn_pred, sample_weight=data_test_all_extended.Weight)"
   ]
  },
  {
   "cell_type": "code",
   "execution_count": 283,
   "metadata": {
    "collapsed": false
   },
   "outputs": [
    {
     "data": {
      "text/plain": [
       "array([ 0.21493807,  0.19017546,  0.19743884,  0.22092588,  0.22591452,\n",
       "        0.2249973 ])"
      ]
     },
     "execution_count": 283,
     "metadata": {},
     "output_type": "execute_result"
    }
   ],
   "source": [
    "numpy.mean(preds.values(), axis=1)"
   ]
  },
  {
   "cell_type": "markdown",
   "metadata": {},
   "source": [
    "# DT on the full train"
   ]
  },
  {
   "cell_type": "code",
   "execution_count": 297,
   "metadata": {
    "collapsed": true
   },
   "outputs": [],
   "source": [
    "data_extended = pandas.concat([data_train_extended, data_test_extended])"
   ]
  },
  {
   "cell_type": "code",
   "execution_count": null,
   "metadata": {
    "collapsed": true
   },
   "outputs": [],
   "source": [
    "with open('log', 'w') as f:\n",
    "    f.write(\"DT training starts \\n\")\n",
    "dt_global_one_vs_all = dict()\n",
    "for label in names_labels_correspondence.values():\n",
    "    dt_temp = SklearnClassifier(DecisionTrainClassifier(n_estimators=40000, depth=7, learning_rate=0.1, n_threads=12), \n",
    "                                features=list(features_original) + features_constructed)\n",
    "    dt_global_one_vs_all[label] = dt_temp.fit(data_extended, data_extended.Signal.values == label)\n",
    "    with open('models/dt_constructed_full.pkl', 'w') as f:\n",
    "        cPickle.dump(dt_global_one_vs_all, f)\n",
    "    with open('log', 'a') as f:\n",
    "        f.write(\"{} is trained\\n\".format(label))"
   ]
  },
  {
   "cell_type": "code",
   "execution_count": 34,
   "metadata": {
    "collapsed": true
   },
   "outputs": [],
   "source": [
    "import cPickle\n",
    "with open('models/dt_constructed_full.pkl', 'r') as f:\n",
    "    dt_global_one_vs_all = cPickle.load(f)"
   ]
  },
  {
   "cell_type": "code",
   "execution_count": 39,
   "metadata": {
    "collapsed": false
   },
   "outputs": [
    {
     "data": {
      "text/html": [
       "<div>\n",
       "<table border=\"1\" class=\"dataframe\">\n",
       "  <thead>\n",
       "    <tr style=\"text-align: right;\">\n",
       "      <th></th>\n",
       "      <th>Ghost</th>\n",
       "      <th>Electron</th>\n",
       "      <th>Muon</th>\n",
       "      <th>Pion</th>\n",
       "      <th>Kaon</th>\n",
       "      <th>Proton</th>\n",
       "    </tr>\n",
       "  </thead>\n",
       "  <tbody>\n",
       "    <tr>\n",
       "      <th>0</th>\n",
       "      <td>0.96366</td>\n",
       "      <td>0.991364</td>\n",
       "      <td>0.992683</td>\n",
       "      <td>0.957662</td>\n",
       "      <td>0.930922</td>\n",
       "      <td>0.931059</td>\n",
       "    </tr>\n",
       "  </tbody>\n",
       "</table>\n",
       "</div>"
      ],
      "text/plain": [
       "     Ghost  Electron      Muon      Pion      Kaon    Proton\n",
       "0  0.96366  0.991364  0.992683  0.957662  0.930922  0.931059"
      ]
     },
     "execution_count": 39,
     "metadata": {},
     "output_type": "execute_result"
    }
   ],
   "source": [
    "preds = {}\n",
    "for label, cl in dt_global_one_vs_all.items():\n",
    "    preds[label] = cl.predict_proba(data_test)[:, 1]\n",
    "    \n",
    "roc_auc_score_one_vs_all_for_separate_algorithms(data_test.Signal.values, preds, \n",
    "                                                 sample_weight=data_test.Weight)"
   ]
  },
  {
   "cell_type": "code",
   "execution_count": 40,
   "metadata": {
    "collapsed": true
   },
   "outputs": [],
   "source": [
    "with open('models/dt_probs.pkl', 'w') as f:\n",
    "    cPickle.dump(preds, f)"
   ]
  },
  {
   "cell_type": "code",
   "execution_count": 301,
   "metadata": {
    "collapsed": true
   },
   "outputs": [],
   "source": [
    "preds_norm = {}\n",
    "for label, cl in dt_global_one_vs_all.items():\n",
    "    preds_norm[label] = preds[label] / numpy.sum(preds.values(), axis=0)"
   ]
  },
  {
   "cell_type": "code",
   "execution_count": 302,
   "metadata": {
    "collapsed": false
   },
   "outputs": [
    {
     "data": {
      "text/html": [
       "<div>\n",
       "<table border=\"1\" class=\"dataframe\">\n",
       "  <thead>\n",
       "    <tr style=\"text-align: right;\">\n",
       "      <th></th>\n",
       "      <th>Ghost</th>\n",
       "      <th>Electron</th>\n",
       "      <th>Muon</th>\n",
       "      <th>Pion</th>\n",
       "      <th>Kaon</th>\n",
       "      <th>Proton</th>\n",
       "    </tr>\n",
       "  </thead>\n",
       "  <tbody>\n",
       "    <tr>\n",
       "      <th>0</th>\n",
       "      <td>0.962051</td>\n",
       "      <td>0.990879</td>\n",
       "      <td>0.992546</td>\n",
       "      <td>0.957271</td>\n",
       "      <td>0.930338</td>\n",
       "      <td>0.930165</td>\n",
       "    </tr>\n",
       "  </tbody>\n",
       "</table>\n",
       "</div>"
      ],
      "text/plain": [
       "      Ghost  Electron      Muon      Pion      Kaon    Proton\n",
       "0  0.962051  0.990879  0.992546  0.957271  0.930338  0.930165"
      ]
     },
     "execution_count": 302,
     "metadata": {},
     "output_type": "execute_result"
    }
   ],
   "source": [
    "roc_auc_score_one_vs_all_for_separate_algorithms(data_test_all_extended.Signal.values, preds_norm, \n",
    "                                                 sample_weight=data_test_all_extended.Weight)"
   ]
  },
  {
   "cell_type": "code",
   "execution_count": 82,
   "metadata": {
    "collapsed": false
   },
   "outputs": [],
   "source": [
    "# nn_pred = nn_add_subsystems.predict_proba(data_test_all_extended)"
   ]
  },
  {
   "cell_type": "code",
   "execution_count": 83,
   "metadata": {
    "collapsed": false
   },
   "outputs": [],
   "source": [
    "# pred_full = nn_pred.copy()\n",
    "# for label in dt_full_one_vs_all.keys():\n",
    "#     pred_full[:, label] *= 0.3\n",
    "#     pred_full[:, label] += 0.7 * preds[label]"
   ]
  },
  {
   "cell_type": "code",
   "execution_count": null,
   "metadata": {
    "collapsed": true
   },
   "outputs": [],
   "source": [
    "roc_auc_score_one_vs_all_for_separate_algorithms(data_test_all_extended.Signal.values, pred_full, \n",
    "                                                 sample_weight=data_test_all_extended.Weight)"
   ]
  },
  {
   "cell_type": "code",
   "execution_count": null,
   "metadata": {
    "collapsed": true
   },
   "outputs": [],
   "source": [
    "reports = dict()\n",
    "for label, cl in dt_global_one_vs_all.items():\n",
    "    reports[label] = cl.test_on(data_test_all_extended, \n",
    "                                data_test_all_extended.Signal.values == label,\n",
    "                                sample_weight=data_test_all_extended.Weight)\n",
    "\n",
    "lcs = dict()\n",
    "for key, value in reports.items():\n",
    "    lcs[key] = value.learning_curve(RocAuc(), steps=20)"
   ]
  },
  {
   "cell_type": "code",
   "execution_count": null,
   "metadata": {
    "collapsed": true
   },
   "outputs": [],
   "source": [
    "figure(figsize=(22, 3))\n",
    "for key, value in lcs.items():\n",
    "    subplot(1, 6, key + 1)\n",
    "    value.plot()\n",
    "    legend([labels_names_correspondence[key]], loc='best')"
   ]
  },
  {
   "cell_type": "markdown",
   "metadata": {},
   "source": [
    "# XGBoost"
   ]
  },
  {
   "cell_type": "code",
   "execution_count": 60,
   "metadata": {
    "collapsed": true
   },
   "outputs": [],
   "source": [
    "from sklearn.cross_validation import train_test_split\n",
    "train_xgb, _ = train_test_split(data, train_size=600000, random_state=19)"
   ]
  },
  {
   "cell_type": "code",
   "execution_count": 62,
   "metadata": {
    "collapsed": false
   },
   "outputs": [],
   "source": [
    "train_xgb.index = range(len(train_xgb))"
   ]
  },
  {
   "cell_type": "code",
   "execution_count": 63,
   "metadata": {
    "collapsed": true
   },
   "outputs": [],
   "source": [
    "train_xgb, features_constructed = add_constructed_features(train_xgb)"
   ]
  },
  {
   "cell_type": "code",
   "execution_count": 64,
   "metadata": {
    "collapsed": false
   },
   "outputs": [
    {
     "name": "stdout",
     "output_type": "stream",
     "text": [
      "Ghost      \t99838\n",
      "Electron   \t100214\n",
      "Muon       \t99978\n",
      "Pion       \t99904\n",
      "Kaon       \t99956\n",
      "Proton     \t100110\n"
     ]
    }
   ],
   "source": [
    "for key, val in names_labels_correspondence.items():\n",
    "    print '{:10} \\t'.format(key), sum(train_xgb.Signal == val)"
   ]
  },
  {
   "cell_type": "code",
   "execution_count": 65,
   "metadata": {
    "collapsed": true
   },
   "outputs": [],
   "source": [
    "from rep.estimators import XGBoostClassifier"
   ]
  },
  {
   "cell_type": "code",
   "execution_count": 78,
   "metadata": {
    "collapsed": false
   },
   "outputs": [],
   "source": [
    "xgb = XGBoostClassifier(nthreads=12, eta=0.05, n_estimators=1000, max_depth=7, subsample=0.5, min_child_weight=50, \n",
    "                        features=list(features_original) + list(features_constructed), colsample=0.7)"
   ]
  },
  {
   "cell_type": "code",
   "execution_count": 80,
   "metadata": {
    "collapsed": false
   },
   "outputs": [
    {
     "name": "stdout",
     "output_type": "stream",
     "text": [
      "CPU times: user 20h 14min 8s, sys: 43.9 s, total: 20h 14min 52s\n",
      "Wall time: 2h 15min 46s\n"
     ]
    },
    {
     "data": {
      "text/plain": [
       "XGBoostClassifier(base_score=0.5, colsample=0.7, eta=0.05,\n",
       "         features=[u'MuonNShared', u'MuonIsLooseMuon', u'MuonIsMuon', u'MuonBkgLL', u'MuonMuLL', u'TrackFitVeloChi2', u'TrackFitVeloNDoF', u'TrackFitMatchChi2', u'TrackGhostProbability', u'TrackP', u'TrackChi2PerDof', u'TrackFitTChi2', u'TrackPt', u'TrackNumDof', u'TrackFitTNDoF', u'TrackDOCA', u'InAccSpd', ...'SpdCaloNeutralAcc', 'SpdCaloChargedAcc', 'SpdCaloChargedNeutral', 'CaloSumSpdPrsE', 'CaloSumPIDmu'],\n",
       "         gamma=None, max_depth=7, min_child_weight=50, missing=-999.0,\n",
       "         n_estimators=1000, nthreads=12, num_feature=None, random_state=0,\n",
       "         scale_pos_weight=1.0, subsample=0.5, verbose=0)"
      ]
     },
     "execution_count": 80,
     "metadata": {},
     "output_type": "execute_result"
    }
   ],
   "source": [
    "%%time \n",
    "xgb.fit(train_xgb.astype('float64'), train_xgb.Signal.values)"
   ]
  },
  {
   "cell_type": "code",
   "execution_count": 81,
   "metadata": {
    "collapsed": true
   },
   "outputs": [],
   "source": [
    "with open('models/xgb.pkl', 'w') as f:\n",
    "    cPickle.dump(xgb, f)"
   ]
  },
  {
   "cell_type": "code",
   "execution_count": 85,
   "metadata": {
    "collapsed": false
   },
   "outputs": [],
   "source": [
    "preds_xgb = xgb.predict_proba(data_test.astype('float64'))"
   ]
  },
  {
   "cell_type": "code",
   "execution_count": 86,
   "metadata": {
    "collapsed": true
   },
   "outputs": [],
   "source": [
    "preds_xgb_dict = dict()\n",
    "\n",
    "for label in labels_names_correspondence.keys():\n",
    "    preds_xgb_dict[label] = preds_xgb[:, label]"
   ]
  },
  {
   "cell_type": "code",
   "execution_count": 87,
   "metadata": {
    "collapsed": true
   },
   "outputs": [],
   "source": [
    "with open('models/xgb_probs.pkl', 'w') as f:\n",
    "    cPickle.dump(preds_xgb_dict, f)"
   ]
  },
  {
   "cell_type": "code",
   "execution_count": 88,
   "metadata": {
    "collapsed": false
   },
   "outputs": [
    {
     "data": {
      "text/html": [
       "<div>\n",
       "<table border=\"1\" class=\"dataframe\">\n",
       "  <thead>\n",
       "    <tr style=\"text-align: right;\">\n",
       "      <th></th>\n",
       "      <th>Ghost</th>\n",
       "      <th>Electron</th>\n",
       "      <th>Muon</th>\n",
       "      <th>Pion</th>\n",
       "      <th>Kaon</th>\n",
       "      <th>Proton</th>\n",
       "    </tr>\n",
       "  </thead>\n",
       "  <tbody>\n",
       "    <tr>\n",
       "      <th>0</th>\n",
       "      <td>0.960901</td>\n",
       "      <td>0.990869</td>\n",
       "      <td>0.992283</td>\n",
       "      <td>0.956803</td>\n",
       "      <td>0.930359</td>\n",
       "      <td>0.930248</td>\n",
       "    </tr>\n",
       "  </tbody>\n",
       "</table>\n",
       "</div>"
      ],
      "text/plain": [
       "      Ghost  Electron      Muon      Pion      Kaon    Proton\n",
       "0  0.960901  0.990869  0.992283  0.956803  0.930359  0.930248"
      ]
     },
     "execution_count": 88,
     "metadata": {},
     "output_type": "execute_result"
    }
   ],
   "source": [
    "roc_auc_score_one_vs_all_for_separate_algorithms(data_test.Signal.values, preds_xgb_dict, \n",
    "                                                 sample_weight=data_test.Weight)"
   ]
  }
 ],
 "metadata": {
  "kernelspec": {
   "display_name": "Python 2",
   "language": "python",
   "name": "python2"
  },
  "language_info": {
   "codemirror_mode": {
    "name": "ipython",
    "version": 2
   },
   "file_extension": ".py",
   "mimetype": "text/x-python",
   "name": "python",
   "nbconvert_exporter": "python",
   "pygments_lexer": "ipython2",
   "version": "2.7.11"
  }
 },
 "nbformat": 4,
 "nbformat_minor": 0
}
