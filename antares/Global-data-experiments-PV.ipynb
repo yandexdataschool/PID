{
 "cells": [
  {
   "cell_type": "code",
   "execution_count": 8,
   "metadata": {
    "collapsed": false
   },
   "outputs": [
    {
     "name": "stdout",
     "output_type": "stream",
     "text": [
      "Populating the interactive namespace from numpy and matplotlib\n"
     ]
    }
   ],
   "source": [
    "%pylab inline"
   ]
  },
  {
   "cell_type": "code",
   "execution_count": 9,
   "metadata": {
    "collapsed": false
   },
   "outputs": [],
   "source": [
    "import pandas\n",
    "import numpy\n",
    "import root_numpy\n",
    "from rep.metaml import FoldingClassifier\n",
    "from utils import shrink_floats\n",
    "\n",
    "from utils import compute_labels_and_weights, compute_charges, names_labels_correspondence, labels_names_correspondence\n",
    "from utils import plot_hist_features, roc_auc_score_one_vs_all\n",
    "from utils import roc_auc_score_one_vs_all_for_separate_algorithms, compute_cvm_by_particle, plot_flatness_by_particle\n",
    "import cPickle"
   ]
  },
  {
   "cell_type": "markdown",
   "metadata": {},
   "source": [
    "## Read the data"
   ]
  },
  {
   "cell_type": "code",
   "execution_count": 10,
   "metadata": {
    "collapsed": false
   },
   "outputs": [],
   "source": [
    "data = pandas.DataFrame(root_numpy.root2array('../data/global_train.root', 'tree'))\n",
    "shrink_floats(data)"
   ]
  },
  {
   "cell_type": "code",
   "execution_count": 11,
   "metadata": {
    "collapsed": true
   },
   "outputs": [],
   "source": [
    "data_test = pandas.DataFrame(root_numpy.root2array('../data/global_test.root', 'tree'))\n",
    "shrink_floats(data_test)"
   ]
  },
  {
   "cell_type": "code",
   "execution_count": 12,
   "metadata": {
    "collapsed": false
   },
   "outputs": [
    {
     "data": {
      "text/plain": [
       "5999993"
      ]
     },
     "execution_count": 12,
     "metadata": {},
     "output_type": "execute_result"
    }
   ],
   "source": [
    "len(data)"
   ]
  },
  {
   "cell_type": "code",
   "execution_count": 13,
   "metadata": {
    "collapsed": false
   },
   "outputs": [
    {
     "data": {
      "text/html": [
       "<div>\n",
       "<table border=\"1\" class=\"dataframe\">\n",
       "  <thead>\n",
       "    <tr style=\"text-align: right;\">\n",
       "      <th></th>\n",
       "      <th>VeloCharge</th>\n",
       "      <th>BremPIDe</th>\n",
       "      <th>CaloNeutralPrs</th>\n",
       "      <th>CaloNeutralSpd</th>\n",
       "      <th>InAccBrem</th>\n",
       "      <th>InAccSpd</th>\n",
       "      <th>CaloPrsE</th>\n",
       "      <th>InAccPrs</th>\n",
       "      <th>HcalPIDe</th>\n",
       "      <th>CaloHcalE</th>\n",
       "      <th>...</th>\n",
       "      <th>piplus_OWNPV_XERR</th>\n",
       "      <th>piplus_OWNPV_YERR</th>\n",
       "      <th>piplus_OWNPV_ZERR</th>\n",
       "      <th>piplus_OWNPV_CHI2</th>\n",
       "      <th>piplus_OWNPV_NDOF</th>\n",
       "      <th>piplus_IP_OWNPV</th>\n",
       "      <th>piplus_IPCHI2_OWNPV</th>\n",
       "      <th>nCandidate</th>\n",
       "      <th>totCandidates</th>\n",
       "      <th>EventInSequence</th>\n",
       "    </tr>\n",
       "  </thead>\n",
       "  <tbody>\n",
       "    <tr>\n",
       "      <th>0</th>\n",
       "      <td>1.028090</td>\n",
       "      <td>-999</td>\n",
       "      <td>-999</td>\n",
       "      <td>-999</td>\n",
       "      <td>0</td>\n",
       "      <td>0</td>\n",
       "      <td>-999.000000</td>\n",
       "      <td>0</td>\n",
       "      <td>-999.000000</td>\n",
       "      <td>-999.000000</td>\n",
       "      <td>...</td>\n",
       "      <td>0.0096</td>\n",
       "      <td>0.0096</td>\n",
       "      <td>0.0532</td>\n",
       "      <td>33.816654</td>\n",
       "      <td>83</td>\n",
       "      <td>0.111340</td>\n",
       "      <td>15.622943</td>\n",
       "      <td>16</td>\n",
       "      <td>37</td>\n",
       "      <td>9099</td>\n",
       "    </tr>\n",
       "    <tr>\n",
       "      <th>1</th>\n",
       "      <td>1.044008</td>\n",
       "      <td>-999</td>\n",
       "      <td>-999</td>\n",
       "      <td>-999</td>\n",
       "      <td>0</td>\n",
       "      <td>0</td>\n",
       "      <td>-999.000000</td>\n",
       "      <td>0</td>\n",
       "      <td>-999.000000</td>\n",
       "      <td>-999.000000</td>\n",
       "      <td>...</td>\n",
       "      <td>0.0064</td>\n",
       "      <td>0.0063</td>\n",
       "      <td>0.0358</td>\n",
       "      <td>67.432457</td>\n",
       "      <td>187</td>\n",
       "      <td>0.025907</td>\n",
       "      <td>0.510528</td>\n",
       "      <td>38</td>\n",
       "      <td>106</td>\n",
       "      <td>12220</td>\n",
       "    </tr>\n",
       "    <tr>\n",
       "      <th>2</th>\n",
       "      <td>0.853933</td>\n",
       "      <td>-999</td>\n",
       "      <td>-999</td>\n",
       "      <td>-999</td>\n",
       "      <td>0</td>\n",
       "      <td>1</td>\n",
       "      <td>155.237808</td>\n",
       "      <td>1</td>\n",
       "      <td>-1.926180</td>\n",
       "      <td>27002.507812</td>\n",
       "      <td>...</td>\n",
       "      <td>0.0108</td>\n",
       "      <td>0.0108</td>\n",
       "      <td>0.0557</td>\n",
       "      <td>29.747982</td>\n",
       "      <td>67</td>\n",
       "      <td>0.136919</td>\n",
       "      <td>5.520920</td>\n",
       "      <td>14</td>\n",
       "      <td>76</td>\n",
       "      <td>8573</td>\n",
       "    </tr>\n",
       "    <tr>\n",
       "      <th>3</th>\n",
       "      <td>1.306180</td>\n",
       "      <td>-999</td>\n",
       "      <td>-999</td>\n",
       "      <td>-999</td>\n",
       "      <td>0</td>\n",
       "      <td>1</td>\n",
       "      <td>11.793685</td>\n",
       "      <td>1</td>\n",
       "      <td>0.434916</td>\n",
       "      <td>0.000000</td>\n",
       "      <td>...</td>\n",
       "      <td>0.0086</td>\n",
       "      <td>0.0084</td>\n",
       "      <td>0.0453</td>\n",
       "      <td>45.295311</td>\n",
       "      <td>97</td>\n",
       "      <td>0.572526</td>\n",
       "      <td>2.692502</td>\n",
       "      <td>25</td>\n",
       "      <td>50</td>\n",
       "      <td>13449</td>\n",
       "    </tr>\n",
       "    <tr>\n",
       "      <th>4</th>\n",
       "      <td>0.969101</td>\n",
       "      <td>-999</td>\n",
       "      <td>-999</td>\n",
       "      <td>-999</td>\n",
       "      <td>0</td>\n",
       "      <td>1</td>\n",
       "      <td>113.548508</td>\n",
       "      <td>1</td>\n",
       "      <td>1.788384</td>\n",
       "      <td>0.000000</td>\n",
       "      <td>...</td>\n",
       "      <td>0.0115</td>\n",
       "      <td>0.0110</td>\n",
       "      <td>0.0773</td>\n",
       "      <td>33.635342</td>\n",
       "      <td>71</td>\n",
       "      <td>0.101532</td>\n",
       "      <td>4.014179</td>\n",
       "      <td>24</td>\n",
       "      <td>86</td>\n",
       "      <td>1379</td>\n",
       "    </tr>\n",
       "  </tbody>\n",
       "</table>\n",
       "<p>5 rows × 107 columns</p>\n",
       "</div>"
      ],
      "text/plain": [
       "   VeloCharge  BremPIDe  CaloNeutralPrs  CaloNeutralSpd  InAccBrem  InAccSpd  \\\n",
       "0    1.028090      -999            -999            -999          0         0   \n",
       "1    1.044008      -999            -999            -999          0         0   \n",
       "2    0.853933      -999            -999            -999          0         1   \n",
       "3    1.306180      -999            -999            -999          0         1   \n",
       "4    0.969101      -999            -999            -999          0         1   \n",
       "\n",
       "     CaloPrsE  InAccPrs    HcalPIDe     CaloHcalE       ...         \\\n",
       "0 -999.000000         0 -999.000000   -999.000000       ...          \n",
       "1 -999.000000         0 -999.000000   -999.000000       ...          \n",
       "2  155.237808         1   -1.926180  27002.507812       ...          \n",
       "3   11.793685         1    0.434916      0.000000       ...          \n",
       "4  113.548508         1    1.788384      0.000000       ...          \n",
       "\n",
       "   piplus_OWNPV_XERR  piplus_OWNPV_YERR  piplus_OWNPV_ZERR  piplus_OWNPV_CHI2  \\\n",
       "0             0.0096             0.0096             0.0532          33.816654   \n",
       "1             0.0064             0.0063             0.0358          67.432457   \n",
       "2             0.0108             0.0108             0.0557          29.747982   \n",
       "3             0.0086             0.0084             0.0453          45.295311   \n",
       "4             0.0115             0.0110             0.0773          33.635342   \n",
       "\n",
       "   piplus_OWNPV_NDOF  piplus_IP_OWNPV  piplus_IPCHI2_OWNPV  nCandidate  \\\n",
       "0                 83         0.111340            15.622943          16   \n",
       "1                187         0.025907             0.510528          38   \n",
       "2                 67         0.136919             5.520920          14   \n",
       "3                 97         0.572526             2.692502          25   \n",
       "4                 71         0.101532             4.014179          24   \n",
       "\n",
       "   totCandidates  EventInSequence  \n",
       "0             37             9099  \n",
       "1            106            12220  \n",
       "2             76             8573  \n",
       "3             50            13449  \n",
       "4             86             1379  \n",
       "\n",
       "[5 rows x 107 columns]"
      ]
     },
     "execution_count": 13,
     "metadata": {},
     "output_type": "execute_result"
    }
   ],
   "source": [
    "data.head()"
   ]
  },
  {
   "cell_type": "markdown",
   "metadata": {},
   "source": [
    "#### add signal column (from 0 to 5 classes), weights (to balance data), charges (to check assymetry)"
   ]
  },
  {
   "cell_type": "code",
   "execution_count": 14,
   "metadata": {
    "collapsed": false
   },
   "outputs": [],
   "source": [
    "data['Signal'], data['Weight'] = compute_labels_and_weights(data.MCParticleType.values)\n",
    "data['Charge'] =  compute_charges(data.MCParticleType.values)"
   ]
  },
  {
   "cell_type": "code",
   "execution_count": 15,
   "metadata": {
    "collapsed": true
   },
   "outputs": [],
   "source": [
    "data_test['Signal'], data_test['Weight'] = compute_labels_and_weights(data_test.MCParticleType.values)\n",
    "data_test['Charge'] =  compute_charges(data_test.MCParticleType.values)"
   ]
  },
  {
   "cell_type": "markdown",
   "metadata": {},
   "source": [
    "#### check initial assymetry in data"
   ]
  },
  {
   "cell_type": "code",
   "execution_count": 16,
   "metadata": {
    "collapsed": false
   },
   "outputs": [
    {
     "name": "stdout",
     "output_type": "stream",
     "text": [
      "positive tracks\t0.421249824791\n",
      "negative tracks\t0.412084147432\n",
      "GHOST tracks\t0.166666027777\n"
     ]
    }
   ],
   "source": [
    "print \"positive tracks\\t\", numpy.mean(data.Charge > 0)\n",
    "print \"negative tracks\\t\", numpy.mean(data.Charge < 0)\n",
    "print \"GHOST tracks\\t\", numpy.mean(data.Charge == 0)"
   ]
  },
  {
   "cell_type": "code",
   "execution_count": 17,
   "metadata": {
    "collapsed": false
   },
   "outputs": [
    {
     "name": "stdout",
     "output_type": "stream",
     "text": [
      "positive tracks\t0.421374868958\n",
      "negative tracks\t0.411958519931\n",
      "GHOST tracks\t0.166666611111\n"
     ]
    }
   ],
   "source": [
    "print \"positive tracks\\t\", numpy.mean(data_test.Charge > 0)\n",
    "print \"negative tracks\\t\", numpy.mean(data_test.Charge < 0)\n",
    "print \"GHOST tracks\\t\", numpy.mean(data_test.Charge == 0)"
   ]
  },
  {
   "cell_type": "markdown",
   "metadata": {},
   "source": [
    "#### weights"
   ]
  },
  {
   "cell_type": "code",
   "execution_count": 18,
   "metadata": {
    "collapsed": false
   },
   "outputs": [
    {
     "data": {
      "text/plain": [
       "array([ 0.99989284,  0.99989484,  0.99989784,  0.99990384,  0.99990484,\n",
       "        0.99990584])"
      ]
     },
     "execution_count": 18,
     "metadata": {},
     "output_type": "execute_result"
    }
   ],
   "source": [
    "numpy.unique(data.Weight)"
   ]
  },
  {
   "cell_type": "markdown",
   "metadata": {},
   "source": [
    "#### number of tracks for each type"
   ]
  },
  {
   "cell_type": "code",
   "execution_count": 19,
   "metadata": {
    "collapsed": false
   },
   "outputs": [
    {
     "name": "stdout",
     "output_type": "stream",
     "text": [
      "Ghost      \t999995\n",
      "Electron   \t1000004\n",
      "Muon       \t1000001\n",
      "Pion       \t1000006\n",
      "Kaon       \t999993\n",
      "Proton     \t999994\n"
     ]
    }
   ],
   "source": [
    "for key, val in names_labels_correspondence.items():\n",
    "    print '{:10} \\t'.format(key), sum(data.Signal == val)"
   ]
  },
  {
   "cell_type": "markdown",
   "metadata": {},
   "source": [
    "# Read features"
   ]
  },
  {
   "cell_type": "code",
   "execution_count": 20,
   "metadata": {
    "collapsed": false
   },
   "outputs": [
    {
     "name": "stdout",
     "output_type": "stream",
     "text": [
      "70\n"
     ]
    }
   ],
   "source": [
    "import json\n",
    "with open('./features.json', 'r') as f:\n",
    "    features = json.load(f)\n",
    "features_original = concatenate(features.values())\n",
    "print len(features_original)"
   ]
  },
  {
   "cell_type": "markdown",
   "metadata": {},
   "source": [
    "# DLLs experiments"
   ]
  },
  {
   "cell_type": "code",
   "execution_count": 50,
   "metadata": {
    "collapsed": true
   },
   "outputs": [],
   "source": [
    "from sklearn.cross_validation import train_test_split\n",
    "train, test = train_test_split(data, random_state=11, train_size=0.4)"
   ]
  },
  {
   "cell_type": "code",
   "execution_count": 22,
   "metadata": {
    "collapsed": false
   },
   "outputs": [
    {
     "data": {
      "text/plain": [
       "{u'CALO': [u'CaloBremMatch',\n",
       "  u'CaloElectronMatch',\n",
       "  u'CaloTrMatch',\n",
       "  u'CaloTrajectoryL',\n",
       "  u'CaloChargedSpd',\n",
       "  u'CaloChargedPrs',\n",
       "  u'CaloChargedEcal',\n",
       "  u'CaloNeutralSpd',\n",
       "  u'CaloNeutralPrs',\n",
       "  u'CaloNeutralEcal',\n",
       "  u'CaloSpdE',\n",
       "  u'CaloPrsE',\n",
       "  u'CaloEcalE',\n",
       "  u'CaloHcalE',\n",
       "  u'EcalPIDmu',\n",
       "  u'HcalPIDmu',\n",
       "  u'PrsPIDe',\n",
       "  u'BremPIDe',\n",
       "  u'EcalPIDe',\n",
       "  u'HcalPIDe'],\n",
       " u'DLL': [u'CombDLLmu', u'CombDLLpi', u'CombDLLp', u'CombDLLe', u'CombDLLk'],\n",
       " u'RICH': [u'RichAboveMuThres',\n",
       "  u'RichAboveElThres',\n",
       "  u'RichAbovePiThres',\n",
       "  u'RichAboveKaThres',\n",
       "  u'RichAbovePrThres',\n",
       "  u'RichUsedR1Gas',\n",
       "  u'RichUsedR2Gas',\n",
       "  u'RichDLLbt',\n",
       "  u'RichDLLpi',\n",
       "  u'RichDLLe',\n",
       "  u'RichDLLp',\n",
       "  u'RichDLLmu',\n",
       "  u'RichDLLk'],\n",
       " u'acceptance': [u'InAccSpd',\n",
       "  u'InAccPrs',\n",
       "  u'InAccBrem',\n",
       "  u'InAccEcal',\n",
       "  u'InAccHcal',\n",
       "  u'InAccMuon'],\n",
       " u'muon': [u'MuonNShared',\n",
       "  u'MuonIsLooseMuon',\n",
       "  u'MuonIsMuon',\n",
       "  u'MuonBkgLL',\n",
       "  u'MuonMuLL'],\n",
       " u'track': [u'TrackFitVeloChi2',\n",
       "  u'TrackFitVeloNDoF',\n",
       "  u'TrackFitMatchChi2',\n",
       "  u'TrackGhostProbability',\n",
       "  u'TrackP',\n",
       "  u'TrackChi2PerDof',\n",
       "  u'TrackFitTChi2',\n",
       "  u'TrackPt',\n",
       "  u'TrackNumDof',\n",
       "  u'TrackFitTNDoF',\n",
       "  u'TrackDOCA']}"
      ]
     },
     "execution_count": 22,
     "metadata": {},
     "output_type": "execute_result"
    }
   ],
   "source": [
    "features"
   ]
  },
  {
   "cell_type": "code",
   "execution_count": 29,
   "metadata": {
    "collapsed": true
   },
   "outputs": [],
   "source": [
    "from hep_ml.nnet import MLPMultiClassifier\n",
    "from rep.metaml import FoldingClassifier"
   ]
  },
  {
   "cell_type": "code",
   "execution_count": 30,
   "metadata": {
    "collapsed": false
   },
   "outputs": [
    {
     "name": "stdout",
     "output_type": "stream",
     "text": [
      "CPU times: user 32min 32s, sys: 5min 42s, total: 38min 14s\n",
      "Wall time: 20min 41s\n"
     ]
    }
   ],
   "source": [
    "%%time\n",
    "nn_COMBO = FoldingClassifier(MLPMultiClassifier(layers=(12, 6), scaler='iron', epochs=700),\n",
    "                             features=features['DLL'] + ['TrackGhostProbability'], random_state=11)\n",
    "nn_COMBO.fit(train, train.Signal, train.Weight)"
   ]
  },
  {
   "cell_type": "code",
   "execution_count": 31,
   "metadata": {
    "collapsed": false
   },
   "outputs": [
    {
     "name": "stdout",
     "output_type": "stream",
     "text": [
      "CPU times: user 32min 20s, sys: 6min 1s, total: 38min 21s\n",
      "Wall time: 20min 59s\n"
     ]
    }
   ],
   "source": [
    "%%time\n",
    "nn_RICH = FoldingClassifier(MLPMultiClassifier(layers=(12, 6), scaler='iron', epochs=700),\n",
    "                            features=['RichDLLbt', 'RichDLLpi', 'RichDLLe', 'RichDLLp', 'RichDLLmu', 'RichDLLk'],\n",
    "                            random_state=11)\n",
    "nn_RICH.fit(train, train.Signal, train.Weight)"
   ]
  },
  {
   "cell_type": "code",
   "execution_count": 32,
   "metadata": {
    "collapsed": false
   },
   "outputs": [
    {
     "name": "stdout",
     "output_type": "stream",
     "text": [
      "CPU times: user 32min 59s, sys: 4min 47s, total: 37min 47s\n",
      "Wall time: 19min 53s\n"
     ]
    }
   ],
   "source": [
    "%%time\n",
    "nn_CALO = FoldingClassifier(MLPMultiClassifier(layers=(12, 6), scaler='iron', epochs=700),\n",
    "                            features=['PrsPIDe', 'BremPIDe', 'EcalPIDe', 'HcalPIDe', 'EcalPIDmu', 'HcalPIDmu'],\n",
    "                            random_state=11)\n",
    "nn_CALO.fit(train, train.Signal, train.Weight)"
   ]
  },
  {
   "cell_type": "code",
   "execution_count": 33,
   "metadata": {
    "collapsed": false
   },
   "outputs": [
    {
     "name": "stdout",
     "output_type": "stream",
     "text": [
      "KFold prediction using folds column\n",
      "KFold prediction using folds column\n",
      "KFold prediction using folds column\n"
     ]
    }
   ],
   "source": [
    "new_p = numpy.concatenate([nn_COMBO.predict_proba(train), \n",
    "                           nn_RICH.predict_proba(train), nn_COMBO.predict_proba(train)], axis=1)"
   ]
  },
  {
   "cell_type": "code",
   "execution_count": 34,
   "metadata": {
    "collapsed": false
   },
   "outputs": [
    {
     "name": "stdout",
     "output_type": "stream",
     "text": [
      "CPU times: user 37min 32s, sys: 5min 54s, total: 43min 27s\n",
      "Wall time: 24min 19s\n"
     ]
    }
   ],
   "source": [
    "%%time\n",
    "nn_full = FoldingClassifier(MLPMultiClassifier(layers=(12, 6), scaler='iron', epochs=700),\n",
    "                            random_state=11)\n",
    "nn_full.fit(new_p, train.Signal, train.Weight)"
   ]
  },
  {
   "cell_type": "code",
   "execution_count": 37,
   "metadata": {
    "collapsed": false
   },
   "outputs": [
    {
     "name": "stdout",
     "output_type": "stream",
     "text": [
      "KFold prediction using random classifier (length of data passed not equal to length of train)\n",
      "KFold prediction using random classifier (length of data passed not equal to length of train)\n",
      "KFold prediction using random classifier (length of data passed not equal to length of train)\n",
      "KFold prediction using random classifier (length of data passed not equal to length of train)\n",
      "KFold prediction using random classifier (length of data passed not equal to length of train)\n",
      "KFold prediction using random classifier (length of data passed not equal to length of train)\n",
      "KFold prediction using random classifier (length of data passed not equal to length of train)\n",
      "KFold prediction using random classifier (length of data passed not equal to length of train)\n"
     ]
    }
   ],
   "source": [
    "new_p_test = numpy.concatenate([nn_COMBO.predict_proba(test), \n",
    "                               nn_RICH.predict_proba(test), nn_COMBO.predict_proba(test)], axis=1)\n",
    "new_p_test_full = numpy.concatenate([nn_COMBO.predict_proba(data_test), \n",
    "                                     nn_RICH.predict_proba(data_test), nn_COMBO.predict_proba(data_test)], axis=1)\n",
    "pd_test = pandas.DataFrame(nn_full.predict_proba(new_p_test), columns=['f1', 'f2', 'f3', 'f4', 'f5', 'f6'])\n",
    "pd_test_full = pandas.DataFrame(nn_full.predict_proba(new_p_test_full), columns=['f1', 'f2', 'f3', 'f4', 'f5', 'f6'])"
   ]
  },
  {
   "cell_type": "code",
   "execution_count": 55,
   "metadata": {
    "collapsed": true
   },
   "outputs": [],
   "source": [
    "test.index = range(len(test))\n",
    "test = pandas.concat([test, pd_test], axis=1, )\n",
    "data_test = pandas.concat([data_test, pd_test_full], axis=1)"
   ]
  },
  {
   "cell_type": "code",
   "execution_count": 65,
   "metadata": {
    "collapsed": false
   },
   "outputs": [
    {
     "data": {
      "text/plain": [
       "['Ghost']"
      ]
     },
     "execution_count": 65,
     "metadata": {},
     "output_type": "execute_result"
    }
   ],
   "source": [
    "dt_pv.keys()"
   ]
  },
  {
   "cell_type": "code",
   "execution_count": null,
   "metadata": {
    "collapsed": false
   },
   "outputs": [],
   "source": [
    "dt_DLL = {}\n",
    "for name, label in names_labels_correspondence.items():\n",
    "    dt_DLL[name] = SklearnClassifier(DecisionTrainClassifier(n_threads=6, depth=7, \n",
    "                                    n_estimators=40000, learning_rate=0.1, \n",
    "                                    train_features=list(features_original) + ['f1', 'f2', 'f3', 'f4', 'f5', 'f6']))\n",
    "    dt_DLL[name].fit(test, test.Signal.values == label)\n",
    "    with open('models/dt_DLL.pkl', 'w') as f:\n",
    "        cPickle.dump(dt_DLL, f)"
   ]
  },
  {
   "cell_type": "markdown",
   "metadata": {},
   "source": [
    "# DT with PV features"
   ]
  },
  {
   "cell_type": "code",
   "execution_count": 21,
   "metadata": {
    "collapsed": false
   },
   "outputs": [],
   "source": [
    "from decisiontrain import DecisionTrainClassifier\n",
    "from rep.estimators import SklearnClassifier\n",
    "from utils import ClassifiersFactoryByClass"
   ]
  },
  {
   "cell_type": "code",
   "execution_count": 30,
   "metadata": {
    "collapsed": true
   },
   "outputs": [],
   "source": [
    "from utils import convert_DLL_to_LL, compute_cum_sum"
   ]
  },
  {
   "cell_type": "code",
   "execution_count": 31,
   "metadata": {
    "collapsed": true
   },
   "outputs": [],
   "source": [
    "features_RICH_DLL = ['RichDLLbt', 'RichDLLpi', 'RichDLLe', 'RichDLLp', 'RichDLLmu', 'RichDLLk']"
   ]
  },
  {
   "cell_type": "code",
   "execution_count": 32,
   "metadata": {
    "collapsed": true
   },
   "outputs": [],
   "source": [
    "def add_constructed_features(data):\n",
    "    added_features = []\n",
    "    data_comb = convert_DLL_to_LL(data, features['DLL'])\n",
    "    data_rich = convert_DLL_to_LL(data, list(set(features_RICH_DLL) - {'RichDLLbt'}))\n",
    "    data_acceptance = compute_cum_sum(data, features['acceptance'], prefix_name='acc_cum_sum_')\n",
    "    added_features = list(data_comb.columns) + list(data_rich.columns) + ['acc_cum_sum_3', 'acc_cum_sum_5']\n",
    "    \n",
    "    data = pandas.concat([data, data_rich, data_comb, data_acceptance[added_features[-2:]]], axis=1)\n",
    "    \n",
    "    data['RichAboveSumPiKaElMuTHres'] = data.RichAbovePiThres + data.RichAboveKaThres + \\\n",
    "        data.RichAboveElThres + data.RichAboveMuThres\n",
    "    data['RichAboveSumKaPrTHres'] = data.RichAboveKaThres + data.RichAbovePrThres\n",
    "    data['RichUsedGas'] = data.RichUsedR1Gas + data.RichUsedR2Gas\n",
    "    data['SpdCaloNeutralAcc'] = data.CaloNeutralSpd + data.InAccSpd # for ghost\n",
    "    data['SpdCaloChargedAcc'] = data.CaloChargedSpd + data.InAccSpd # for muon\n",
    "    data['SpdCaloChargedNeutral'] = data.CaloChargedSpd + data.CaloNeutralSpd # for electron\n",
    "    data['CaloSumSpdPrsE'] = data.CaloSpdE + data.CaloPrsE \n",
    "    data['CaloSumPIDmu'] = data.EcalPIDmu + data.HcalPIDmu \n",
    "    added_features = added_features + ['RichAboveSumPiKaElMuTHres', 'RichAboveSumKaPrTHres', 'RichUsedGas', \n",
    "                                       'SpdCaloNeutralAcc', 'SpdCaloChargedAcc', 'SpdCaloChargedNeutral', \n",
    "                                       'CaloSumSpdPrsE', 'CaloSumPIDmu']\n",
    "    return data, added_features"
   ]
  },
  {
   "cell_type": "code",
   "execution_count": 33,
   "metadata": {
    "collapsed": false
   },
   "outputs": [],
   "source": [
    "data_extended, features_constructed = add_constructed_features(data)\n",
    "data_test_extended, _ = add_constructed_features(data_test)"
   ]
  },
  {
   "cell_type": "code",
   "execution_count": null,
   "metadata": {
    "collapsed": false
   },
   "outputs": [],
   "source": [
    "dt_pv_add = {}\n",
    "for name, label in names_labels_correspondence.items():\n",
    "    dt_pv_add[name] = SklearnClassifier(DecisionTrainClassifier(n_threads=14, depth=7, \n",
    "                                                                n_estimators=40000, learning_rate=0.1),\n",
    "                                        features=list(features_original) + features_constructed)\n",
    "    dt_pv_add[name].fit(data_extended, data_extended.Signal.values == label)\n",
    "    with open('models/dt_pv_add.pkl', 'w') as f:\n",
    "        cPickle.dump(dt_pv_add, f)"
   ]
  },
  {
   "cell_type": "code",
   "execution_count": 59,
   "metadata": {
    "collapsed": false
   },
   "outputs": [],
   "source": [
    "preds = {}\n",
    "for label, cl in dt_pv_add.items():\n",
    "    preds[names_labels_correspondence[label]] = cl.predict_proba(data_test_extended)[:, 1]\n",
    "    \n",
    "with open('models/dt_pv_add_probs.pkl', 'w') as f:\n",
    "    cPickle.dump(preds, f)"
   ]
  },
  {
   "cell_type": "code",
   "execution_count": 57,
   "metadata": {
    "collapsed": false
   },
   "outputs": [
    {
     "name": "stdout",
     "output_type": "stream",
     "text": [
      "Ghost\n",
      "                         effect\n",
      "TrackGhostProbability  0.109700\n",
      "TrackPt                0.076400\n",
      "TrackFitMatchChi2      0.060225\n",
      "TrackChi2PerDof        0.056450\n",
      "TrackP                 0.038550\n",
      "piplus_IPCHI2_OWNPV    0.038200\n",
      "TrackFitTNDoF          0.037425\n",
      "TrackFitTChi2          0.032775\n",
      "TrackNumDof            0.032325\n",
      "piplus_IP_OWNPV        0.032175\n",
      "\n",
      "\n",
      "Muon\n",
      "                         effect\n",
      "TrackP                 0.071200\n",
      "TrackFitMatchChi2      0.056575\n",
      "TrackGhostProbability  0.048000\n",
      "TrackPt                0.046950\n",
      "CombDLLmu_LL           0.042000\n",
      "CaloSumPIDmu           0.035600\n",
      "MuonIsMuon             0.032375\n",
      "piplus_IPCHI2_OWNPV    0.031000\n",
      "MuonBkgLL              0.030125\n",
      "TrackNumDof            0.023100\n",
      "\n",
      "\n",
      "Pion\n",
      "                         effect\n",
      "CombDLLpi_LL           0.079475\n",
      "TrackP                 0.061375\n",
      "TrackPt                0.056525\n",
      "TrackGhostProbability  0.054075\n",
      "RichDLLpi_LL           0.042300\n",
      "RichDLLe               0.031100\n",
      "TrackFitMatchChi2      0.027000\n",
      "piplus_IPCHI2_OWNPV    0.025500\n",
      "CombDLLe_LL            0.025000\n",
      "TrackChi2PerDof        0.022975\n",
      "\n",
      "\n",
      "Kaon\n",
      "                         effect\n",
      "RichDLLk_LL            0.055075\n",
      "CombDLLk_LL            0.049400\n",
      "TrackPt                0.048500\n",
      "TrackP                 0.047975\n",
      "TrackGhostProbability  0.038550\n",
      "RichDLLe               0.031500\n",
      "RichDLLp_LL            0.030025\n",
      "CombDLLe               0.029750\n",
      "CombDLLk               0.028500\n",
      "piplus_IPCHI2_OWNPV    0.028300\n",
      "\n",
      "\n",
      "Proton\n",
      "                         effect\n",
      "TrackP                 0.050825\n",
      "RichDLLp_LL            0.050300\n",
      "TrackPt                0.050250\n",
      "TrackGhostProbability  0.040000\n",
      "CombDLLp_LL            0.038100\n",
      "RichDLLk_LL            0.036000\n",
      "RichDLLe               0.031525\n",
      "CombDLLe               0.029275\n",
      "CombDLLk_LL            0.026750\n",
      "piplus_IPCHI2_OWNPV    0.026325\n",
      "\n",
      "\n",
      "Electron\n",
      "                         effect\n",
      "TrackPt                0.082675\n",
      "CombDLLe               0.075325\n",
      "TrackGhostProbability  0.064450\n",
      "CombDLLe_LL            0.046250\n",
      "TrackP                 0.037925\n",
      "RichDLLe_LL            0.037125\n",
      "CaloEcalE              0.036625\n",
      "TrackFitMatchChi2      0.035475\n",
      "piplus_IPCHI2_OWNPV    0.033900\n",
      "TrackChi2PerDof        0.032925\n",
      "\n",
      "\n"
     ]
    }
   ],
   "source": [
    "for label, cl in dt_pv_add.items():\n",
    "    print label\n",
    "    print cl.get_feature_importances().sort_values(by='effect', ascending=False)[:10]\n",
    "    print '\\n'"
   ]
  },
  {
   "cell_type": "code",
   "execution_count": 63,
   "metadata": {
    "collapsed": false
   },
   "outputs": [
    {
     "data": {
      "text/html": [
       "<div>\n",
       "<table border=\"1\" class=\"dataframe\">\n",
       "  <thead>\n",
       "    <tr style=\"text-align: right;\">\n",
       "      <th></th>\n",
       "      <th>PV features</th>\n",
       "    </tr>\n",
       "  </thead>\n",
       "  <tbody>\n",
       "    <tr>\n",
       "      <th>0</th>\n",
       "      <td>piplus_OWNPV_X</td>\n",
       "    </tr>\n",
       "    <tr>\n",
       "      <th>1</th>\n",
       "      <td>piplus_OWNPV_Y</td>\n",
       "    </tr>\n",
       "    <tr>\n",
       "      <th>2</th>\n",
       "      <td>piplus_OWNPV_Z</td>\n",
       "    </tr>\n",
       "    <tr>\n",
       "      <th>3</th>\n",
       "      <td>piplus_OWNPV_XERR</td>\n",
       "    </tr>\n",
       "    <tr>\n",
       "      <th>4</th>\n",
       "      <td>piplus_OWNPV_YERR</td>\n",
       "    </tr>\n",
       "    <tr>\n",
       "      <th>5</th>\n",
       "      <td>piplus_OWNPV_ZERR</td>\n",
       "    </tr>\n",
       "    <tr>\n",
       "      <th>6</th>\n",
       "      <td>piplus_OWNPV_CHI2</td>\n",
       "    </tr>\n",
       "    <tr>\n",
       "      <th>7</th>\n",
       "      <td>piplus_OWNPV_NDOF</td>\n",
       "    </tr>\n",
       "    <tr>\n",
       "      <th>8</th>\n",
       "      <td>piplus_IP_OWNPV</td>\n",
       "    </tr>\n",
       "    <tr>\n",
       "      <th>9</th>\n",
       "      <td>piplus_IPCHI2_OWNPV</td>\n",
       "    </tr>\n",
       "  </tbody>\n",
       "</table>\n",
       "</div>"
      ],
      "text/plain": [
       "           PV features\n",
       "0       piplus_OWNPV_X\n",
       "1       piplus_OWNPV_Y\n",
       "2       piplus_OWNPV_Z\n",
       "3    piplus_OWNPV_XERR\n",
       "4    piplus_OWNPV_YERR\n",
       "5    piplus_OWNPV_ZERR\n",
       "6    piplus_OWNPV_CHI2\n",
       "7    piplus_OWNPV_NDOF\n",
       "8      piplus_IP_OWNPV\n",
       "9  piplus_IPCHI2_OWNPV"
      ]
     },
     "execution_count": 63,
     "metadata": {},
     "output_type": "execute_result"
    }
   ],
   "source": [
    "pandas.DataFrame({'PV features': features['PV']})"
   ]
  },
  {
   "cell_type": "code",
   "execution_count": null,
   "metadata": {
    "collapsed": true
   },
   "outputs": [],
   "source": []
  }
 ],
 "metadata": {
  "kernelspec": {
   "display_name": "Python 2",
   "language": "python",
   "name": "python2"
  },
  "language_info": {
   "codemirror_mode": {
    "name": "ipython",
    "version": 2
   },
   "file_extension": ".py",
   "mimetype": "text/x-python",
   "name": "python",
   "nbconvert_exporter": "python",
   "pygments_lexer": "ipython2",
   "version": "2.7.11"
  }
 },
 "nbformat": 4,
 "nbformat_minor": 0
}
