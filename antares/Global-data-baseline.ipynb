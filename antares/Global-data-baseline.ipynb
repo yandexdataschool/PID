{
 "cells": [
  {
   "cell_type": "code",
   "execution_count": 1,
   "metadata": {
    "collapsed": false
   },
   "outputs": [
    {
     "name": "stdout",
     "output_type": "stream",
     "text": [
      "Populating the interactive namespace from numpy and matplotlib\n"
     ]
    }
   ],
   "source": [
    "%pylab inline"
   ]
  },
  {
   "cell_type": "code",
   "execution_count": 2,
   "metadata": {
    "collapsed": true
   },
   "outputs": [],
   "source": [
    "import pandas\n",
    "import numpy\n",
    "import root_numpy\n",
    "from utils import shrink_floats\n",
    "import os"
   ]
  },
  {
   "cell_type": "markdown",
   "metadata": {},
   "source": [
    "## Read the data"
   ]
  },
  {
   "cell_type": "code",
   "execution_count": 3,
   "metadata": {
    "collapsed": false
   },
   "outputs": [],
   "source": [
    "data = pandas.DataFrame(root_numpy.root2array('../data/global_train.root', 'tree'))\n",
    "shrink_floats(data)"
   ]
  },
  {
   "cell_type": "code",
   "execution_count": 4,
   "metadata": {
    "collapsed": true
   },
   "outputs": [],
   "source": [
    "data_test = pandas.DataFrame(root_numpy.root2array('../data/global_test.root', 'tree'))\n",
    "shrink_floats(data_test)"
   ]
  },
  {
   "cell_type": "code",
   "execution_count": 5,
   "metadata": {
    "collapsed": false
   },
   "outputs": [
    {
     "data": {
      "text/plain": [
       "5999993"
      ]
     },
     "execution_count": 5,
     "metadata": {},
     "output_type": "execute_result"
    }
   ],
   "source": [
    "len(data)"
   ]
  },
  {
   "cell_type": "code",
   "execution_count": 6,
   "metadata": {
    "collapsed": false
   },
   "outputs": [
    {
     "data": {
      "text/html": [
       "<div>\n",
       "<table border=\"1\" class=\"dataframe\">\n",
       "  <thead>\n",
       "    <tr style=\"text-align: right;\">\n",
       "      <th></th>\n",
       "      <th>VeloCharge</th>\n",
       "      <th>BremPIDe</th>\n",
       "      <th>CaloNeutralPrs</th>\n",
       "      <th>CaloNeutralSpd</th>\n",
       "      <th>InAccBrem</th>\n",
       "      <th>InAccSpd</th>\n",
       "      <th>CaloPrsE</th>\n",
       "      <th>InAccPrs</th>\n",
       "      <th>HcalPIDe</th>\n",
       "      <th>CaloHcalE</th>\n",
       "      <th>...</th>\n",
       "      <th>piplus_OWNPV_XERR</th>\n",
       "      <th>piplus_OWNPV_YERR</th>\n",
       "      <th>piplus_OWNPV_ZERR</th>\n",
       "      <th>piplus_OWNPV_CHI2</th>\n",
       "      <th>piplus_OWNPV_NDOF</th>\n",
       "      <th>piplus_IP_OWNPV</th>\n",
       "      <th>piplus_IPCHI2_OWNPV</th>\n",
       "      <th>nCandidate</th>\n",
       "      <th>totCandidates</th>\n",
       "      <th>EventInSequence</th>\n",
       "    </tr>\n",
       "  </thead>\n",
       "  <tbody>\n",
       "    <tr>\n",
       "      <th>0</th>\n",
       "      <td>1.028090</td>\n",
       "      <td>-999</td>\n",
       "      <td>-999</td>\n",
       "      <td>-999</td>\n",
       "      <td>0</td>\n",
       "      <td>0</td>\n",
       "      <td>-999.000000</td>\n",
       "      <td>0</td>\n",
       "      <td>-999.000000</td>\n",
       "      <td>-999.000000</td>\n",
       "      <td>...</td>\n",
       "      <td>0.0096</td>\n",
       "      <td>0.0096</td>\n",
       "      <td>0.0532</td>\n",
       "      <td>33.816654</td>\n",
       "      <td>83</td>\n",
       "      <td>0.111340</td>\n",
       "      <td>15.622943</td>\n",
       "      <td>16</td>\n",
       "      <td>37</td>\n",
       "      <td>9099</td>\n",
       "    </tr>\n",
       "    <tr>\n",
       "      <th>1</th>\n",
       "      <td>1.044008</td>\n",
       "      <td>-999</td>\n",
       "      <td>-999</td>\n",
       "      <td>-999</td>\n",
       "      <td>0</td>\n",
       "      <td>0</td>\n",
       "      <td>-999.000000</td>\n",
       "      <td>0</td>\n",
       "      <td>-999.000000</td>\n",
       "      <td>-999.000000</td>\n",
       "      <td>...</td>\n",
       "      <td>0.0064</td>\n",
       "      <td>0.0063</td>\n",
       "      <td>0.0358</td>\n",
       "      <td>67.432457</td>\n",
       "      <td>187</td>\n",
       "      <td>0.025907</td>\n",
       "      <td>0.510528</td>\n",
       "      <td>38</td>\n",
       "      <td>106</td>\n",
       "      <td>12220</td>\n",
       "    </tr>\n",
       "    <tr>\n",
       "      <th>2</th>\n",
       "      <td>0.853933</td>\n",
       "      <td>-999</td>\n",
       "      <td>-999</td>\n",
       "      <td>-999</td>\n",
       "      <td>0</td>\n",
       "      <td>1</td>\n",
       "      <td>155.237808</td>\n",
       "      <td>1</td>\n",
       "      <td>-1.926180</td>\n",
       "      <td>27002.507812</td>\n",
       "      <td>...</td>\n",
       "      <td>0.0108</td>\n",
       "      <td>0.0108</td>\n",
       "      <td>0.0557</td>\n",
       "      <td>29.747982</td>\n",
       "      <td>67</td>\n",
       "      <td>0.136919</td>\n",
       "      <td>5.520920</td>\n",
       "      <td>14</td>\n",
       "      <td>76</td>\n",
       "      <td>8573</td>\n",
       "    </tr>\n",
       "    <tr>\n",
       "      <th>3</th>\n",
       "      <td>1.306180</td>\n",
       "      <td>-999</td>\n",
       "      <td>-999</td>\n",
       "      <td>-999</td>\n",
       "      <td>0</td>\n",
       "      <td>1</td>\n",
       "      <td>11.793685</td>\n",
       "      <td>1</td>\n",
       "      <td>0.434916</td>\n",
       "      <td>0.000000</td>\n",
       "      <td>...</td>\n",
       "      <td>0.0086</td>\n",
       "      <td>0.0084</td>\n",
       "      <td>0.0453</td>\n",
       "      <td>45.295311</td>\n",
       "      <td>97</td>\n",
       "      <td>0.572526</td>\n",
       "      <td>2.692502</td>\n",
       "      <td>25</td>\n",
       "      <td>50</td>\n",
       "      <td>13449</td>\n",
       "    </tr>\n",
       "    <tr>\n",
       "      <th>4</th>\n",
       "      <td>0.969101</td>\n",
       "      <td>-999</td>\n",
       "      <td>-999</td>\n",
       "      <td>-999</td>\n",
       "      <td>0</td>\n",
       "      <td>1</td>\n",
       "      <td>113.548508</td>\n",
       "      <td>1</td>\n",
       "      <td>1.788384</td>\n",
       "      <td>0.000000</td>\n",
       "      <td>...</td>\n",
       "      <td>0.0115</td>\n",
       "      <td>0.0110</td>\n",
       "      <td>0.0773</td>\n",
       "      <td>33.635342</td>\n",
       "      <td>71</td>\n",
       "      <td>0.101532</td>\n",
       "      <td>4.014179</td>\n",
       "      <td>24</td>\n",
       "      <td>86</td>\n",
       "      <td>1379</td>\n",
       "    </tr>\n",
       "  </tbody>\n",
       "</table>\n",
       "<p>5 rows × 107 columns</p>\n",
       "</div>"
      ],
      "text/plain": [
       "   VeloCharge  BremPIDe  CaloNeutralPrs  CaloNeutralSpd  InAccBrem  InAccSpd  \\\n",
       "0    1.028090      -999            -999            -999          0         0   \n",
       "1    1.044008      -999            -999            -999          0         0   \n",
       "2    0.853933      -999            -999            -999          0         1   \n",
       "3    1.306180      -999            -999            -999          0         1   \n",
       "4    0.969101      -999            -999            -999          0         1   \n",
       "\n",
       "     CaloPrsE  InAccPrs    HcalPIDe     CaloHcalE       ...         \\\n",
       "0 -999.000000         0 -999.000000   -999.000000       ...          \n",
       "1 -999.000000         0 -999.000000   -999.000000       ...          \n",
       "2  155.237808         1   -1.926180  27002.507812       ...          \n",
       "3   11.793685         1    0.434916      0.000000       ...          \n",
       "4  113.548508         1    1.788384      0.000000       ...          \n",
       "\n",
       "   piplus_OWNPV_XERR  piplus_OWNPV_YERR  piplus_OWNPV_ZERR  piplus_OWNPV_CHI2  \\\n",
       "0             0.0096             0.0096             0.0532          33.816654   \n",
       "1             0.0064             0.0063             0.0358          67.432457   \n",
       "2             0.0108             0.0108             0.0557          29.747982   \n",
       "3             0.0086             0.0084             0.0453          45.295311   \n",
       "4             0.0115             0.0110             0.0773          33.635342   \n",
       "\n",
       "   piplus_OWNPV_NDOF  piplus_IP_OWNPV  piplus_IPCHI2_OWNPV  nCandidate  \\\n",
       "0                 83         0.111340            15.622943          16   \n",
       "1                187         0.025907             0.510528          38   \n",
       "2                 67         0.136919             5.520920          14   \n",
       "3                 97         0.572526             2.692502          25   \n",
       "4                 71         0.101532             4.014179          24   \n",
       "\n",
       "   totCandidates  EventInSequence  \n",
       "0             37             9099  \n",
       "1            106            12220  \n",
       "2             76             8573  \n",
       "3             50            13449  \n",
       "4             86             1379  \n",
       "\n",
       "[5 rows x 107 columns]"
      ]
     },
     "execution_count": 6,
     "metadata": {},
     "output_type": "execute_result"
    }
   ],
   "source": [
    "data.head()"
   ]
  },
  {
   "cell_type": "markdown",
   "metadata": {},
   "source": [
    "#### add signal column (from 0 to 5 classes), weights (to balance data), charges (to check assymetry)"
   ]
  },
  {
   "cell_type": "code",
   "execution_count": 7,
   "metadata": {
    "collapsed": false
   },
   "outputs": [],
   "source": [
    "from utils import compute_labels_and_weights, compute_charges, names_labels_correspondence, labels_names_correspondence\n",
    "from utils import roc_auc_score_one_vs_all_for_separate_algorithms"
   ]
  },
  {
   "cell_type": "code",
   "execution_count": 8,
   "metadata": {
    "collapsed": false
   },
   "outputs": [],
   "source": [
    "data['Signal'], data['Weight'] = compute_labels_and_weights(data.MCParticleType.values)\n",
    "data['Charge'] =  compute_charges(data.MCParticleType.values)"
   ]
  },
  {
   "cell_type": "code",
   "execution_count": 9,
   "metadata": {
    "collapsed": true
   },
   "outputs": [],
   "source": [
    "data_test['Signal'], data_test['Weight'] = compute_labels_and_weights(data_test.MCParticleType.values)\n",
    "data_test['Charge'] =  compute_charges(data_test.MCParticleType.values)"
   ]
  },
  {
   "cell_type": "markdown",
   "metadata": {},
   "source": [
    "# Train, test splitting"
   ]
  },
  {
   "cell_type": "code",
   "execution_count": 10,
   "metadata": {
    "collapsed": true
   },
   "outputs": [],
   "source": [
    "from sklearn.cross_validation import train_test_split\n",
    "train, test = train_test_split(data, train_size=600000, random_state=19)"
   ]
  },
  {
   "cell_type": "code",
   "execution_count": 11,
   "metadata": {
    "collapsed": false
   },
   "outputs": [
    {
     "data": {
      "text/plain": [
       "600000"
      ]
     },
     "execution_count": 11,
     "metadata": {},
     "output_type": "execute_result"
    }
   ],
   "source": [
    "len(train)"
   ]
  },
  {
   "cell_type": "markdown",
   "metadata": {},
   "source": [
    "# Define features"
   ]
  },
  {
   "cell_type": "code",
   "execution_count": 12,
   "metadata": {
    "collapsed": true
   },
   "outputs": [],
   "source": [
    "from collections import OrderedDict\n",
    "features = OrderedDict()\n",
    "features['Ghost'] = ['TrackP', 'TrackPt', 'TrackChi2PerDof', 'TrackNumDof', 'TrackGhostProbability',\n",
    "                     'TrackFitMatchChi2', 'TrackFitVeloChi2', 'TrackFitVeloNDoF', 'TrackFitTChi2', 'TrackFitTNDoF',\n",
    "                     'RichUsedR1Gas', 'RichUsedR2Gas', 'RichAboveMuThres', 'RichAboveKaThres', \n",
    "                     'RichDLLe', 'RichDLLmu', 'RichDLLk', 'RichDLLp', 'RichDLLbt', \n",
    "                     'MuonBkgLL', 'MuonMuLL', 'MuonIsMuon', 'MuonNShared', 'InAccMuon', 'MuonIsLooseMuon', \n",
    "                     'EcalPIDe', 'EcalPIDmu', 'HcalPIDe', 'HcalPIDmu', 'PrsPIDe', 'InAccBrem', 'BremPIDe']\n",
    "\n",
    "features['Electron'] = ['TrackP', 'TrackPt', 'TrackChi2PerDof', 'TrackNumDof', 'TrackGhostProbability', \n",
    "                        'TrackFitMatchChi2', 'TrackFitVeloChi2', 'TrackFitVeloNDoF', 'TrackFitTChi2', 'TrackFitTNDoF',\n",
    "                        'RichUsedR1Gas', 'RichUsedR2Gas', 'RichAboveMuThres', 'RichAboveKaThres',\n",
    "                        'RichDLLe', 'RichDLLmu', 'RichDLLk', 'RichDLLp', 'RichDLLbt', \n",
    "                        'MuonBkgLL', 'MuonMuLL', 'MuonIsMuon', 'MuonNShared', 'InAccMuon', 'MuonIsLooseMuon', \n",
    "                        'EcalPIDe', 'EcalPIDmu', 'HcalPIDe', 'HcalPIDmu', 'PrsPIDe', 'InAccBrem', 'BremPIDe']\n",
    "                       \n",
    "features['Muon'] = ['TrackP', 'TrackPt', 'TrackChi2PerDof', 'TrackNumDof', 'TrackGhostProbability',\n",
    "                     'TrackFitMatchChi2', 'TrackFitVeloChi2', 'TrackFitVeloNDoF', 'TrackFitTChi2', 'TrackFitTNDoF',\n",
    "                     'RichUsedR1Gas', 'RichUsedR2Gas', 'RichAboveMuThres', 'RichAboveKaThres', \n",
    "                     'RichDLLe', 'RichDLLmu', 'RichDLLk', 'RichDLLp', 'RichDLLbt', \n",
    "                     'MuonBkgLL', 'MuonMuLL', 'MuonNShared', 'InAccEcal', \n",
    "                     'EcalPIDe', 'EcalPIDmu', 'InAccHcal', 'HcalPIDe', 'HcalPIDmu', 'InAccPrs',\n",
    "                     'PrsPIDe', 'InAccBrem', 'BremPIDe']\n",
    "\n",
    "features['Pion'] = ['TrackP', 'TrackPt', 'TrackChi2PerDof', 'TrackNumDof', 'TrackGhostProbability', \n",
    "                    'TrackFitMatchChi2', 'TrackFitVeloChi2', 'TrackFitVeloNDoF', 'TrackFitTChi2', 'TrackFitTNDoF',\n",
    "                    'RichUsedR1Gas', 'RichUsedR2Gas', 'RichAbovePiThres', 'RichAboveKaThres',\n",
    "                    'RichDLLe', 'RichDLLmu', 'RichDLLk', 'RichDLLp', 'RichDLLbt', \n",
    "                    'MuonBkgLL', 'MuonMuLL', 'MuonIsMuon', 'MuonNShared', 'InAccMuon', 'MuonIsLooseMuon', \n",
    "                    'EcalPIDe', 'EcalPIDmu', 'HcalPIDe', 'HcalPIDmu', 'PrsPIDe', 'InAccBrem', 'BremPIDe']\n",
    "\n",
    "features['Kaon'] = ['TrackP', 'TrackPt', 'TrackChi2PerDof', 'TrackNumDof', 'TrackGhostProbability',\n",
    "                    'TrackFitMatchChi2', 'TrackFitVeloChi2', 'TrackFitVeloNDoF', 'TrackFitTChi2', 'TrackFitTNDoF',\n",
    "                    'RichUsedR1Gas', 'RichUsedR2Gas', 'RichAbovePiThres', 'RichAbovePrThres', 'RichAboveKaThres', \n",
    "                    'RichDLLe', 'RichDLLmu', 'RichDLLk', 'RichDLLp', 'RichDLLbt',\n",
    "                    'MuonBkgLL', 'MuonMuLL', 'MuonIsMuon', 'MuonNShared', 'InAccMuon', \n",
    "                    'MuonIsLooseMuon', 'EcalPIDe', 'EcalPIDmu', 'HcalPIDe', 'HcalPIDmu', 'PrsPIDe', 'InAccBrem', 'BremPIDe']\n",
    "\n",
    "features['Proton'] = ['TrackP', 'TrackPt', 'TrackChi2PerDof', 'TrackNumDof', 'TrackGhostProbability', \n",
    "                      'TrackFitMatchChi2', 'TrackFitVeloChi2', 'TrackFitVeloNDoF', 'TrackFitTChi2', 'TrackFitTNDoF',\n",
    "                      'RichUsedR1Gas', 'RichUsedR2Gas', 'RichAbovePiThres', 'RichAboveKaThres', 'RichAbovePrThres',\n",
    "                      'RichDLLe', 'RichDLLmu', 'RichDLLk', 'RichDLLp', 'RichDLLbt', \n",
    "                      'MuonBkgLL', 'MuonMuLL', 'MuonIsMuon', 'MuonNShared', 'InAccMuon', 'MuonIsLooseMuon', \n",
    "                      'EcalPIDe', 'EcalPIDmu', 'HcalPIDe', 'HcalPIDmu', 'CaloPrsE', 'PrsPIDe', 'InAccBrem', 'BremPIDe']"
   ]
  },
  {
   "cell_type": "markdown",
   "metadata": {},
   "source": [
    "# TMVA training"
   ]
  },
  {
   "cell_type": "code",
   "execution_count": 13,
   "metadata": {
    "collapsed": true
   },
   "outputs": [],
   "source": [
    "from rep.metaml import ClassifiersFactory\n",
    "from rep.estimators import TMVAClassifier"
   ]
  },
  {
   "cell_type": "code",
   "execution_count": 14,
   "metadata": {
    "collapsed": false
   },
   "outputs": [],
   "source": [
    "from rep.metaml.utils import map_on_cluster\n",
    "from rep.metaml.factory import train_estimator\n",
    "import time\n",
    "class ClassifiersFactoryByClass(ClassifiersFactory):\n",
    "    def fit(self, X, y, sample_weight=None, parallel_profile=None, features=None):\n",
    "            \"\"\"\n",
    "            Train all estimators on the same data.\n",
    "            :param X: pandas.DataFrame of shape [n_samples, n_features] with features\n",
    "            :param y: array-like of shape [n_samples] with labels of samples\n",
    "            :param sample_weight: weights of events,\n",
    "                   array-like of shape [n_samples] or None if all weights are equal\n",
    "            :param features: features to train estimators\n",
    "                If None, estimators will be trained on `estimator.features`\n",
    "            :type features: None or list[str]\n",
    "            :param parallel_profile: profile of parallel execution system or None\n",
    "            :type parallel_profile: None or str\n",
    "            :return: self\n",
    "            \"\"\"\n",
    "            if features is not None:\n",
    "                for name, estimator in self.items():\n",
    "                    if estimator.features is not None:\n",
    "                        print('Overwriting features of estimator ' + name)\n",
    "                    self[name].set_params(features=features)\n",
    "\n",
    "            start_time = time.time()\n",
    "            labels = []\n",
    "            for key in self.keys():\n",
    "                labels.append((y == names_labels_correspondence[key]) * 1)\n",
    "            result = map_on_cluster(parallel_profile, train_estimator, list(self.keys()), list(self.values()),\n",
    "                                    [X] * len(self), labels, [sample_weight] * len(self))\n",
    "            for status, data in result:\n",
    "                if status == 'success':\n",
    "                    name, estimator, spent_time = data\n",
    "                    self[name] = estimator\n",
    "                    print('model {:12} was trained in {:.2f} seconds'.format(name, spent_time))\n",
    "                else:\n",
    "                    print('Problem while training on the node, report:\\n', data)\n",
    "\n",
    "            print(\"Totally spent {:.2f} seconds on training\".format(time.time() - start_time))\n",
    "            return self"
   ]
  },
  {
   "cell_type": "code",
   "execution_count": 40,
   "metadata": {
    "collapsed": true
   },
   "outputs": [],
   "source": [
    "factory = ClassifiersFactoryByClass()\n",
    "\n",
    "for name in names_labels_correspondence.keys():\n",
    "    factory[name] = TMVAClassifier(method='kMLP', features=features[name], sigmoid_function='identity',\n",
    "                                   factory_options=\"!V:!Silent:Color:DrawProgressBar:Transformations=I\",\n",
    "                                   H=True,\n",
    "                                   V=True,\n",
    "                                   EpochMonitoring=True,\n",
    "                                   HiddenLayers=int(1.4 * len(features[name])),\n",
    "                                   UseRegulator=True,\n",
    "                                   ConvergenceImprove=1e-16,\n",
    "                                   ConvergenceTests=15,\n",
    "                                   VarTransform=\"Norm\",\n",
    "                                   NCycles=750,\n",
    "                                   NeuronType=\"sigmoid\",\n",
    "                                   TrainingMethod=\"BP\",\n",
    "                                   EstimatorType=\"CE\")"
   ]
  },
  {
   "cell_type": "code",
   "execution_count": null,
   "metadata": {
    "collapsed": false
   },
   "outputs": [],
   "source": [
    "factory.fit(train, train.Signal, parallel_profile='ssh-py2')"
   ]
  },
  {
   "cell_type": "code",
   "execution_count": null,
   "metadata": {
    "collapsed": true
   },
   "outputs": [],
   "source": [
    "# import cPickle\n",
    "# with open('models/baseline.pkl', 'w') as f:\n",
    "#     cPickle.dump(factory, f)"
   ]
  },
  {
   "cell_type": "code",
   "execution_count": null,
   "metadata": {
    "collapsed": true
   },
   "outputs": [],
   "source": [
    "import cPickle\n",
    "with open('models/baseline.pkl', 'r') as f:\n",
    "    factory = cPickle.load(f)"
   ]
  },
  {
   "cell_type": "code",
   "execution_count": null,
   "metadata": {
    "collapsed": false
   },
   "outputs": [],
   "source": [
    "preds = {}\n",
    "for name, cl in factory.items():\n",
    "    preds[names_labels_correspondence[name]] = cl.predict_proba(data_test)[:, 1]"
   ]
  },
  {
   "cell_type": "code",
   "execution_count": 47,
   "metadata": {
    "collapsed": true
   },
   "outputs": [],
   "source": [
    "import cPickle\n",
    "with open('models/baseline_probs.pkl', 'w') as f:\n",
    "    cPickle.dump(preds, f)"
   ]
  },
  {
   "cell_type": "code",
   "execution_count": 21,
   "metadata": {
    "collapsed": false
   },
   "outputs": [
    {
     "data": {
      "text/html": [
       "<div>\n",
       "<table border=\"1\" class=\"dataframe\">\n",
       "  <thead>\n",
       "    <tr style=\"text-align: right;\">\n",
       "      <th></th>\n",
       "      <th>Ghost</th>\n",
       "      <th>Electron</th>\n",
       "      <th>Muon</th>\n",
       "      <th>Pion</th>\n",
       "      <th>Kaon</th>\n",
       "      <th>Proton</th>\n",
       "    </tr>\n",
       "  </thead>\n",
       "  <tbody>\n",
       "    <tr>\n",
       "      <th>0</th>\n",
       "      <td>0.948407</td>\n",
       "      <td>0.985487</td>\n",
       "      <td>0.984409</td>\n",
       "      <td>0.934599</td>\n",
       "      <td>0.914772</td>\n",
       "      <td>0.917803</td>\n",
       "    </tr>\n",
       "  </tbody>\n",
       "</table>\n",
       "</div>"
      ],
      "text/plain": [
       "      Ghost  Electron      Muon      Pion      Kaon    Proton\n",
       "0  0.948407  0.985487  0.984409  0.934599  0.914772  0.917803"
      ]
     },
     "execution_count": 21,
     "metadata": {},
     "output_type": "execute_result"
    },
    {
     "name": "stdout",
     "output_type": "stream",
     "text": [
      "\n"
     ]
    }
   ],
   "source": [
    "roc_auc_score_one_vs_all_for_separate_algorithms(data_test.Signal, preds, None)"
   ]
  },
  {
   "cell_type": "markdown",
   "metadata": {},
   "source": [
    "# Generate plots"
   ]
  },
  {
   "cell_type": "code",
   "execution_count": 22,
   "metadata": {
    "collapsed": false
   },
   "outputs": [],
   "source": [
    "import sys\n",
    "sys.path.append('../python')"
   ]
  },
  {
   "cell_type": "code",
   "execution_count": 23,
   "metadata": {
    "collapsed": false
   },
   "outputs": [],
   "source": [
    "from get_figures import all_figures"
   ]
  },
  {
   "cell_type": "code",
   "execution_count": 26,
   "metadata": {
    "collapsed": false
   },
   "outputs": [
    {
     "name": "stdout",
     "output_type": "stream",
     "text": [
      "Pion\n"
     ]
    }
   ],
   "source": [
    "for label, name in labels_names_correspondence.items():     \n",
    "    probs = numpy.concatenate([1. - preds[label].reshape(-1,1), preds[label].reshape(-1,1)], axis=1)\n",
    "    params = {}\n",
    "    params['PARTICLE'] = name\n",
    "    params['TRACK'] = 'Long'\n",
    "    path = \"img/baseline/\" + name\n",
    "    if not os.path.exists(path):\n",
    "        os.makedirs(path)\n",
    "    all_figures(params, data_test, probs, data_test.Signal.values == label,\n",
    "                features[name], path=path)"
   ]
  }
 ],
 "metadata": {
  "kernelspec": {
   "display_name": "Python 2",
   "language": "python",
   "name": "python2"
  },
  "language_info": {
   "codemirror_mode": {
    "name": "ipython",
    "version": 2
   },
   "file_extension": ".py",
   "mimetype": "text/x-python",
   "name": "python",
   "nbconvert_exporter": "python",
   "pygments_lexer": "ipython2",
   "version": "2.7.11"
  }
 },
 "nbformat": 4,
 "nbformat_minor": 0
}
