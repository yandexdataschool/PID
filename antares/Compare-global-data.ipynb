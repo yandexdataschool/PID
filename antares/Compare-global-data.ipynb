{
 "cells": [
  {
   "cell_type": "code",
   "execution_count": 36,
   "metadata": {
    "collapsed": false
   },
   "outputs": [
    {
     "name": "stdout",
     "output_type": "stream",
     "text": [
      "Populating the interactive namespace from numpy and matplotlib\n"
     ]
    },
    {
     "name": "stderr",
     "output_type": "stream",
     "text": [
      "WARNING: pylab import has clobbered these variables: ['f']\n",
      "`%matplotlib` prevents importing * from pylab and numpy\n"
     ]
    }
   ],
   "source": [
    "%pylab inline"
   ]
  },
  {
   "cell_type": "code",
   "execution_count": 1,
   "metadata": {
    "collapsed": true
   },
   "outputs": [],
   "source": [
    "import root_numpy\n",
    "import pandas\n",
    "from utils import shrink_floats\n",
    "import json"
   ]
  },
  {
   "cell_type": "code",
   "execution_count": 2,
   "metadata": {
    "collapsed": true
   },
   "outputs": [],
   "source": [
    "with open('./features.json', 'r') as f:\n",
    "    features = json.load(f)"
   ]
  },
  {
   "cell_type": "code",
   "execution_count": 3,
   "metadata": {
    "collapsed": false
   },
   "outputs": [
    {
     "data": {
      "text/plain": [
       "{u'CALO': [u'CaloBremMatch',\n",
       "  u'CaloElectronMatch',\n",
       "  u'CaloTrMatch',\n",
       "  u'CaloTrajectoryL',\n",
       "  u'CaloChargedSpd',\n",
       "  u'CaloChargedPrs',\n",
       "  u'CaloChargedEcal',\n",
       "  u'CaloNeutralSpd',\n",
       "  u'CaloNeutralPrs',\n",
       "  u'CaloNeutralEcal',\n",
       "  u'CaloSpdE',\n",
       "  u'CaloPrsE',\n",
       "  u'CaloEcalE',\n",
       "  u'CaloHcalE',\n",
       "  u'EcalPIDmu',\n",
       "  u'HcalPIDmu',\n",
       "  u'PrsPIDe',\n",
       "  u'BremPIDe',\n",
       "  u'EcalPIDe',\n",
       "  u'HcalPIDe'],\n",
       " u'DLL': [u'CombDLLmu', u'CombDLLpi', u'CombDLLp', u'CombDLLe', u'CombDLLk'],\n",
       " u'RICH': [u'RichAboveMuThres',\n",
       "  u'RichAboveElThres',\n",
       "  u'RichAbovePiThres',\n",
       "  u'RichAboveKaThres',\n",
       "  u'RichAbovePrThres',\n",
       "  u'RichUsedR1Gas',\n",
       "  u'RichUsedR2Gas',\n",
       "  u'RichDLLbt',\n",
       "  u'RichDLLpi',\n",
       "  u'RichDLLe',\n",
       "  u'RichDLLp',\n",
       "  u'RichDLLmu',\n",
       "  u'RichDLLk'],\n",
       " u'acceptance': [u'InAccSpd',\n",
       "  u'InAccPrs',\n",
       "  u'InAccBrem',\n",
       "  u'InAccEcal',\n",
       "  u'InAccHcal',\n",
       "  u'InAccMuon'],\n",
       " u'muon': [u'MuonNShared',\n",
       "  u'MuonIsLooseMuon',\n",
       "  u'MuonIsMuon',\n",
       "  u'MuonBkgLL',\n",
       "  u'MuonMuLL'],\n",
       " u'track': [u'TrackFitVeloChi2',\n",
       "  u'TrackFitVeloNDoF',\n",
       "  u'TrackFitMatchChi2',\n",
       "  u'TrackGhostProbability',\n",
       "  u'TrackP',\n",
       "  u'TrackChi2PerDof',\n",
       "  u'TrackFitTChi2',\n",
       "  u'TrackPt',\n",
       "  u'TrackNumDof',\n",
       "  u'TrackFitTNDoF',\n",
       "  u'TrackDOCA']}"
      ]
     },
     "execution_count": 3,
     "metadata": {},
     "output_type": "execute_result"
    }
   ],
   "source": [
    "features"
   ]
  },
  {
   "cell_type": "code",
   "execution_count": 4,
   "metadata": {
    "collapsed": true
   },
   "outputs": [],
   "source": [
    "data = pandas.DataFrame(root_numpy.root2array('../data/global_train.root', 'tree'))\n",
    "shrink_floats(data)"
   ]
  },
  {
   "cell_type": "code",
   "execution_count": 5,
   "metadata": {
    "collapsed": true
   },
   "outputs": [],
   "source": [
    "data_test = pandas.DataFrame(root_numpy.root2array('../data/global_test.root', 'tree'))\n",
    "shrink_floats(data_test)"
   ]
  },
  {
   "cell_type": "code",
   "execution_count": 6,
   "metadata": {
    "collapsed": true
   },
   "outputs": [],
   "source": [
    "from utils import compute_labels_and_weights, labels_names_correspondence"
   ]
  },
  {
   "cell_type": "code",
   "execution_count": 7,
   "metadata": {
    "collapsed": true
   },
   "outputs": [],
   "source": [
    "data['Signal'], _ = compute_labels_and_weights(data.MCParticleType.values)\n",
    "data_test['Signal'], _ = compute_labels_and_weights(data_test.MCParticleType.values)"
   ]
  },
  {
   "cell_type": "code",
   "execution_count": 14,
   "metadata": {
    "collapsed": false,
    "scrolled": false
   },
   "outputs": [
    {
     "name": "stdout",
     "output_type": "stream",
     "text": [
      "muon\n",
      "\tMuonNShared\n",
      "\t\t Ghost      KS: 0.00044\n",
      "\t\t Electron   KS: 0.00064\n",
      "\t\t Muon       KS: 0.00461\n",
      "\t\t Pion       KS: 0.00025\n",
      "\t\t Kaon       KS: 0.00033\n",
      "\t\t Proton     KS: 0.00063\n",
      "\tMuonIsLooseMuon\n",
      "\t\t Ghost      KS: 0.00019\n",
      "\t\t Electron   KS: 0.00064\n",
      "\t\t Muon       KS: 0.00461\n",
      "\t\t Pion       KS: 0.00025\n",
      "\t\t Kaon       KS: 0.00033\n",
      "\t\t Proton     KS: 0.00063\n",
      "\tMuonIsMuon\n",
      "\t\t Ghost      KS: 0.00053\n",
      "\t\t Electron   KS: 0.00001\n",
      "\t\t Muon       KS: 0.00463\n",
      "\t\t Pion       KS: 0.00000\n",
      "\t\t Kaon       KS: 0.00055\n",
      "\t\t Proton     KS: 0.00045\n",
      "\tMuonBkgLL\n",
      "\t\t Ghost      KS: 0.00036\n",
      "\t\t Electron   KS: 0.00079\n",
      "\t\t Muon       KS: 0.00507\n",
      "\t\t Pion       KS: 0.00050\n",
      "\t\t Kaon       KS: 0.00045\n",
      "\t\t Proton     KS: 0.00064\n",
      "\tMuonMuLL\n",
      "\t\t Ghost      KS: 0.00031\n",
      "\t\t Electron   KS: 0.00072\n",
      "\t\t Muon       KS: 0.00477\n",
      "\t\t Pion       KS: 0.00046\n",
      "\t\t Kaon       KS: 0.00045\n",
      "\t\t Proton     KS: 0.00069\n",
      "track\n",
      "\tTrackFitVeloChi2\n",
      "\t\t Ghost      KS: 0.00244\n",
      "\t\t Electron   KS: 0.00198\n",
      "\t\t Muon       KS: 0.00245\n",
      "\t\t Pion       KS: 0.00298\n",
      "\t\t Kaon       KS: 0.00243\n",
      "\t\t Proton     KS: 0.00183\n",
      "\tTrackFitVeloNDoF\n",
      "\t\t Ghost      KS: 0.00155\n",
      "\t\t Electron   KS: 0.00273\n",
      "\t\t Muon       KS: 0.00244\n",
      "\t\t Pion       KS: 0.00334\n",
      "\t\t Kaon       KS: 0.00194\n",
      "\t\t Proton     KS: 0.00135\n",
      "\tTrackFitMatchChi2\n",
      "\t\t Ghost      KS: 0.00103\n",
      "\t\t Electron   KS: 0.00074\n",
      "\t\t Muon       KS: 0.00552\n",
      "\t\t Pion       KS: 0.00147\n",
      "\t\t Kaon       KS: 0.00094\n",
      "\t\t Proton     KS: 0.00184\n",
      "\tTrackGhostProbability\n",
      "\t\t Ghost      KS: 0.00066\n",
      "\t\t Electron   KS: 0.00104\n",
      "\t\t Muon       KS: 0.00715\n",
      "\t\t Pion       KS: 0.00215\n",
      "\t\t Kaon       KS: 0.00144\n",
      "\t\t Proton     KS: 0.00127\n",
      "\tTrackP\n",
      "\t\t Ghost      KS: 0.00114\n",
      "\t\t Electron   KS: 0.00144\n",
      "\t\t Muon       KS: 0.01115\n",
      "\t\t Pion       KS: 0.00151\n",
      "\t\t Kaon       KS: 0.00301\n",
      "\t\t Proton     KS: 0.00124\n",
      "\tTrackChi2PerDof\n",
      "\t\t Ghost      KS: 0.00104\n",
      "\t\t Electron   KS: 0.00114\n",
      "\t\t Muon       KS: 0.00464\n",
      "\t\t Pion       KS: 0.00122\n",
      "\t\t Kaon       KS: 0.00134\n",
      "\t\t Proton     KS: 0.00248\n",
      "\tTrackFitTChi2\n",
      "\t\t Ghost      KS: 0.00140\n",
      "\t\t Electron   KS: 0.00138\n",
      "\t\t Muon       KS: 0.00182\n",
      "\t\t Pion       KS: 0.00153\n",
      "\t\t Kaon       KS: 0.00142\n",
      "\t\t Proton     KS: 0.00224\n",
      "\tTrackPt\n",
      "\t\t Ghost      KS: 0.00178\n",
      "\t\t Electron   KS: 0.00087\n",
      "\t\t Muon       KS: 0.01252\n",
      "\t\t Pion       KS: 0.00159\n",
      "\t\t Kaon       KS: 0.00267\n",
      "\t\t Proton     KS: 0.00133\n",
      "\tTrackNumDof\n",
      "\t\t Ghost      KS: 0.00066\n",
      "\t\t Electron   KS: 0.00199\n",
      "\t\t Muon       KS: 0.00208\n",
      "\t\t Pion       KS: 0.00240\n",
      "\t\t Kaon       KS: 0.00180\n",
      "\t\t Proton     KS: 0.00115\n",
      "\tTrackFitTNDoF\n",
      "\t\t Ghost      KS: 0.00105\n",
      "\t\t Electron   KS: 0.00076\n",
      "\t\t Muon       KS: 0.00092\n",
      "\t\t Pion       KS: 0.00105\n",
      "\t\t Kaon       KS: 0.00048\n",
      "\t\t Proton     KS: 0.00078\n",
      "\tTrackDOCA\n",
      "\t\t Ghost      KS: 0.00149\n",
      "\t\t Electron   KS: 0.00096\n",
      "\t\t Muon       KS: 0.00395\n",
      "\t\t Pion       KS: 0.00193\n",
      "\t\t Kaon       KS: 0.00116\n",
      "\t\t Proton     KS: 0.00148\n",
      "acceptance\n",
      "\tInAccSpd\n",
      "\t\t Ghost      KS: 0.00007\n",
      "\t\t Electron   KS: 0.00036\n",
      "\t\t Muon       KS: 0.00179\n",
      "\t\t Pion       KS: 0.00006\n",
      "\t\t Kaon       KS: 0.00065\n",
      "\t\t Proton     KS: 0.00009\n",
      "\tInAccPrs\n",
      "\t\t Ghost      KS: 0.00011\n",
      "\t\t Electron   KS: 0.00032\n",
      "\t\t Muon       KS: 0.00153\n",
      "\t\t Pion       KS: 0.00013\n",
      "\t\t Kaon       KS: 0.00078\n",
      "\t\t Proton     KS: 0.00021\n",
      "\tInAccBrem\n",
      "\t\t Ghost      KS: 0.00002\n",
      "\t\t Electron   KS: 0.00021\n",
      "\t\t Muon       KS: 0.00035\n",
      "\t\t Pion       KS: 0.00119\n",
      "\t\t Kaon       KS: 0.00051\n",
      "\t\t Proton     KS: 0.00004\n",
      "\tInAccEcal\n",
      "\t\t Ghost      KS: 0.00011\n",
      "\t\t Electron   KS: 0.00073\n",
      "\t\t Muon       KS: 0.00144\n",
      "\t\t Pion       KS: 0.00002\n",
      "\t\t Kaon       KS: 0.00054\n",
      "\t\t Proton     KS: 0.00027\n",
      "\tInAccHcal\n",
      "\t\t Ghost      KS: 0.00017\n",
      "\t\t Electron   KS: 0.00045\n",
      "\t\t Muon       KS: 0.00146\n",
      "\t\t Pion       KS: 0.00034\n",
      "\t\t Kaon       KS: 0.00017\n",
      "\t\t Proton     KS: 0.00028\n",
      "\tInAccMuon\n",
      "\t\t Ghost      KS: 0.00032\n",
      "\t\t Electron   KS: 0.00022\n",
      "\t\t Muon       KS: 0.00295\n",
      "\t\t Pion       KS: 0.00017\n",
      "\t\t Kaon       KS: 0.00090\n",
      "\t\t Proton     KS: 0.00015\n",
      "DLL\n",
      "\tCombDLLmu\n",
      "\t\t Ghost      KS: 0.00151\n",
      "\t\t Electron   KS: 0.00182\n",
      "\t\t Muon       KS: 0.00537\n",
      "\t\t Pion       KS: 0.00115\n",
      "\t\t Kaon       KS: 0.00101\n",
      "\t\t Proton     KS: 0.00094\n",
      "\tCombDLLpi\n",
      "\t\t Ghost      KS: 0.00030\n",
      "\t\t Electron   KS: 0.00016\n",
      "\t\t Muon       KS: 0.00003\n",
      "\t\t Pion       KS: 0.00007\n",
      "\t\t Kaon       KS: 0.00004\n",
      "\t\t Proton     KS: 0.00002\n",
      "\tCombDLLp\n",
      "\t\t Ghost      KS: 0.00143\n",
      "\t\t Electron   KS: 0.00111\n",
      "\t\t Muon       KS: 0.00694\n",
      "\t\t Pion       KS: 0.00121\n",
      "\t\t Kaon       KS: 0.00212\n",
      "\t\t Proton     KS: 0.00216\n",
      "\tCombDLLe\n",
      "\t\t Ghost      KS: 0.00180\n",
      "\t\t Electron   KS: 0.00181\n",
      "\t\t Muon       KS: 0.00405\n",
      "\t\t Pion       KS: 0.00103\n",
      "\t\t Kaon       KS: 0.00074\n",
      "\t\t Proton     KS: 0.00124\n",
      "\tCombDLLk\n",
      "\t\t Ghost      KS: 0.00106\n",
      "\t\t Electron   KS: 0.00121\n",
      "\t\t Muon       KS: 0.00439\n",
      "\t\t Pion       KS: 0.00129\n",
      "\t\t Kaon       KS: 0.00080\n",
      "\t\t Proton     KS: 0.00093\n",
      "RICH\n",
      "\tRichAboveMuThres\n",
      "\t\t Ghost      KS: 0.00116\n",
      "\t\t Electron   KS: 0.00033\n",
      "\t\t Muon       KS: 0.00121\n",
      "\t\t Pion       KS: 0.00081\n",
      "\t\t Kaon       KS: 0.00000\n",
      "\t\t Proton     KS: 0.00033\n",
      "\tRichAboveElThres\n",
      "\t\t Ghost      KS: 0.00131\n",
      "\t\t Electron   KS: 0.00024\n",
      "\t\t Muon       KS: 0.00041\n",
      "\t\t Pion       KS: 0.00055\n",
      "\t\t Kaon       KS: 0.00008\n",
      "\t\t Proton     KS: 0.00009\n",
      "\tRichAbovePiThres\n",
      "\t\t Ghost      KS: 0.00112\n",
      "\t\t Electron   KS: 0.00074\n",
      "\t\t Muon       KS: 0.00267\n",
      "\t\t Pion       KS: 0.00139\n",
      "\t\t Kaon       KS: 0.00020\n",
      "\t\t Proton     KS: 0.00063\n",
      "\tRichAboveKaThres\n",
      "\t\t Ghost      KS: 0.00061\n",
      "\t\t Electron   KS: 0.00030\n",
      "\t\t Muon       KS: 0.01082\n",
      "\t\t Pion       KS: 0.00111\n",
      "\t\t Kaon       KS: 0.00206\n",
      "\t\t Proton     KS: 0.00003\n",
      "\tRichAbovePrThres\n",
      "\t\t Ghost      KS: 0.00015\n",
      "\t\t Electron   KS: 0.00037\n",
      "\t\t Muon       KS: 0.01068\n",
      "\t\t Pion       KS: 0.00118\n",
      "\t\t Kaon       KS: 0.00276\n",
      "\t\t Proton     KS: 0.00037\n",
      "\tRichUsedR1Gas\n",
      "\t\t Ghost      KS: 0.00049\n",
      "\t\t Electron   KS: 0.00024\n",
      "\t\t Muon       KS: 0.00052\n",
      "\t\t Pion       KS: 0.00129\n",
      "\t\t Kaon       KS: 0.00048\n",
      "\t\t Proton     KS: 0.00020\n",
      "\tRichUsedR2Gas\n",
      "\t\t Ghost      KS: 0.00048\n",
      "\t\t Electron   KS: 0.00041\n",
      "\t\t Muon       KS: 0.00666\n",
      "\t\t Pion       KS: 0.00098\n",
      "\t\t Kaon       KS: 0.00116\n",
      "\t\t Proton     KS: 0.00010\n",
      "\tRichDLLbt\n",
      "\t\t Ghost      KS: 0.00171\n",
      "\t\t Electron   KS: 0.00115\n",
      "\t\t Muon       KS: 0.00791\n",
      "\t\t Pion       KS: 0.00103\n",
      "\t\t Kaon       KS: 0.00194\n",
      "\t\t Proton     KS: 0.00184\n",
      "\tRichDLLpi\n",
      "\t\t Ghost      KS: 0.00131\n",
      "\t\t Electron   KS: 0.00024\n",
      "\t\t Muon       KS: 0.00041\n",
      "\t\t Pion       KS: 0.00055\n",
      "\t\t Kaon       KS: 0.00008\n",
      "\t\t Proton     KS: 0.00009\n",
      "\tRichDLLe\n",
      "\t\t Ghost      KS: 0.00189\n",
      "\t\t Electron   KS: 0.00261\n",
      "\t\t Muon       KS: 0.00862\n",
      "\t\t Pion       KS: 0.00192\n",
      "\t\t Kaon       KS: 0.00218\n",
      "\t\t Proton     KS: 0.00102\n",
      "\tRichDLLp\n",
      "\t\t Ghost      KS: 0.00170\n",
      "\t\t Electron   KS: 0.00119\n",
      "\t\t Muon       KS: 0.00649\n",
      "\t\t Pion       KS: 0.00097\n",
      "\t\t Kaon       KS: 0.00212\n",
      "\t\t Proton     KS: 0.00216\n",
      "\tRichDLLmu\n",
      "\t\t Ghost      KS: 0.00192\n",
      "\t\t Electron   KS: 0.00162\n",
      "\t\t Muon       KS: 0.00466\n",
      "\t\t Pion       KS: 0.00175\n",
      "\t\t Kaon       KS: 0.00127\n",
      "\t\t Proton     KS: 0.00126\n",
      "\tRichDLLk\n",
      "\t\t Ghost      KS: 0.00168\n",
      "\t\t Electron   KS: 0.00129\n",
      "\t\t Muon       KS: 0.00395\n",
      "\t\t Pion       KS: 0.00108\n",
      "\t\t Kaon       KS: 0.00080\n",
      "\t\t Proton     KS: 0.00093\n",
      "CALO\n",
      "\tCaloBremMatch\n",
      "\t\t Ghost      KS: 0.00092\n",
      "\t\t Electron   KS: 0.00080\n",
      "\t\t Muon       KS: 0.00196\n",
      "\t\t Pion       KS: 0.00170\n",
      "\t\t Kaon       KS: 0.00150\n",
      "\t\t Proton     KS: 0.00153\n",
      "\tCaloElectronMatch\n",
      "\t\t Ghost      KS: 0.00118\n",
      "\t\t Electron   KS: 0.00190\n",
      "\t\t Muon       KS: 0.00500\n",
      "\t\t Pion       KS: 0.00099\n",
      "\t\t Kaon       KS: 0.00105\n",
      "\t\t Proton     KS: 0.00228\n",
      "\tCaloTrMatch\n",
      "\t\t Ghost      KS: 0.00150\n",
      "\t\t Electron   KS: 0.00184\n",
      "\t\t Muon       KS: 0.00166\n",
      "\t\t Pion       KS: 0.00098\n",
      "\t\t Kaon       KS: 0.00112\n",
      "\t\t Proton     KS: 0.00079\n",
      "\tCaloTrajectoryL\n",
      "\t\t Ghost      KS: 0.00159\n",
      "\t\t Electron   KS: 0.00203\n",
      "\t\t Muon       KS: 0.00417\n",
      "\t\t Pion       KS: 0.00086\n",
      "\t\t Kaon       KS: 0.00115\n",
      "\t\t Proton     KS: 0.00107\n",
      "\tCaloChargedSpd\n",
      "\t\t Ghost      KS: 0.00031\n",
      "\t\t Electron   KS: 0.00057\n",
      "\t\t Muon       KS: 0.00499\n",
      "\t\t Pion       KS: 0.00016\n",
      "\t\t Kaon       KS: 0.00079\n",
      "\t\t Proton     KS: 0.00000\n",
      "\tCaloChargedPrs\n",
      "\t\t Ghost      KS: 0.00071\n",
      "\t\t Electron   KS: 0.00193\n",
      "\t\t Muon       KS: 0.00540\n",
      "\t\t Pion       KS: 0.00103\n",
      "\t\t Kaon       KS: 0.00110\n",
      "\t\t Proton     KS: 0.00127\n",
      "\tCaloChargedEcal\n",
      "\t\t Ghost      KS: 0.00064\n",
      "\t\t Electron   KS: 0.00135\n",
      "\t\t Muon       KS: 0.00505\n",
      "\t\t Pion       KS: 0.00094\n",
      "\t\t Kaon       KS: 0.00184\n",
      "\t\t Proton     KS: 0.00090\n",
      "\tCaloNeutralSpd\n",
      "\t\t Ghost      KS: 0.00041\n",
      "\t\t Electron   KS: 0.00053\n",
      "\t\t Muon       KS: 0.00030\n",
      "\t\t Pion       KS: 0.00115\n",
      "\t\t Kaon       KS: 0.00099\n",
      "\t\t Proton     KS: 0.00008\n",
      "\tCaloNeutralPrs\n",
      "\t\t Ghost      KS: 0.00117\n",
      "\t\t Electron   KS: 0.00116\n",
      "\t\t Muon       KS: 0.00178\n",
      "\t\t Pion       KS: 0.00115\n",
      "\t\t Kaon       KS: 0.00153\n",
      "\t\t Proton     KS: 0.00130\n",
      "\tCaloNeutralEcal\n",
      "\t\t Ghost      KS: 0.00144\n",
      "\t\t Electron   KS: 0.00069\n",
      "\t\t Muon       KS: 0.00173\n",
      "\t\t Pion       KS: 0.00177\n",
      "\t\t Kaon       KS: 0.00066\n",
      "\t\t Proton     KS: 0.00106\n",
      "\tCaloSpdE\n",
      "\t\t Ghost      KS: 0.00039\n",
      "\t\t Electron   KS: 0.00061\n",
      "\t\t Muon       KS: 0.00264\n",
      "\t\t Pion       KS: 0.00043\n",
      "\t\t Kaon       KS: 0.00065\n",
      "\t\t Proton     KS: 0.00032\n",
      "\tCaloPrsE\n",
      "\t\t Ghost      KS: 0.00144\n",
      "\t\t Electron   KS: 0.00081\n",
      "\t\t Muon       KS: 0.00277\n",
      "\t\t Pion       KS: 0.00142\n",
      "\t\t Kaon       KS: 0.00090\n",
      "\t\t Proton     KS: 0.00165\n",
      "\tCaloEcalE\n",
      "\t\t Ghost      KS: 0.00150\n",
      "\t\t Electron   KS: 0.00143\n",
      "\t\t Muon       KS: 0.00151\n",
      "\t\t Pion       KS: 0.00114\n",
      "\t\t Kaon       KS: 0.00151\n",
      "\t\t Proton     KS: 0.00090\n",
      "\tCaloHcalE\n",
      "\t\t Ghost      KS: 0.00092\n",
      "\t\t Electron   KS: 0.00087\n",
      "\t\t Muon       KS: 0.00267\n",
      "\t\t Pion       KS: 0.00088\n",
      "\t\t Kaon       KS: 0.00213\n",
      "\t\t Proton     KS: 0.00093\n",
      "\tEcalPIDmu\n",
      "\t\t Ghost      KS: 0.00133\n",
      "\t\t Electron   KS: 0.00134\n",
      "\t\t Muon       KS: 0.00588\n",
      "\t\t Pion       KS: 0.00118\n",
      "\t\t Kaon       KS: 0.00110\n",
      "\t\t Proton     KS: 0.00109\n",
      "\tHcalPIDmu\n",
      "\t\t Ghost      KS: 0.00049\n",
      "\t\t Electron   KS: 0.00065\n",
      "\t\t Muon       KS: 0.00404\n",
      "\t\t Pion       KS: 0.00133\n",
      "\t\t Kaon       KS: 0.00113\n",
      "\t\t Proton     KS: 0.00114\n",
      "\tPrsPIDe\n",
      "\t\t Ghost      KS: 0.00145\n",
      "\t\t Electron   KS: 0.00138\n",
      "\t\t Muon       KS: 0.00451\n",
      "\t\t Pion       KS: 0.00173\n",
      "\t\t Kaon       KS: 0.00140\n",
      "\t\t Proton     KS: 0.00152\n",
      "\tBremPIDe\n",
      "\t\t Ghost      KS: 0.00083\n",
      "\t\t Electron   KS: 0.00078\n",
      "\t\t Muon       KS: 0.00232\n",
      "\t\t Pion       KS: 0.00147\n",
      "\t\t Kaon       KS: 0.00091\n",
      "\t\t Proton     KS: 0.00121\n",
      "\tEcalPIDe\n",
      "\t\t Ghost      KS: 0.00149\n",
      "\t\t Electron   KS: 0.00073\n",
      "\t\t Muon       KS: 0.00380\n",
      "\t\t Pion       KS: 0.00071\n",
      "\t\t Kaon       KS: 0.00074\n",
      "\t\t Proton     KS: 0.00218\n",
      "\tHcalPIDe\n",
      "\t\t Ghost      KS: 0.00108\n",
      "\t\t Electron   KS: 0.00060\n",
      "\t\t Muon       KS: 0.00677\n",
      "\t\t Pion       KS: 0.00098\n",
      "\t\t Kaon       KS: 0.00153\n",
      "\t\t Proton     KS: 0.00097\n"
     ]
    }
   ],
   "source": [
    "from scipy.stats import ks_2samp\n",
    "for key, f_array in features.items():\n",
    "    print key\n",
    "    for value in f_array:\n",
    "        print '\\t', value\n",
    "        for label, name in labels_names_correspondence.items():\n",
    "            print \"\\t\\t {name:10} KS: {ks:1.5f}\".format(name=name, \n",
    "                                                        ks=ks_2samp(data.loc[data.Signal == label, value], \n",
    "                                                                    data_test.loc[data_test.Signal == label, value])[0])"
   ]
  },
  {
   "cell_type": "code",
   "execution_count": 18,
   "metadata": {
    "collapsed": true
   },
   "outputs": [],
   "source": [
    "from sklearn.cross_validation import train_test_split"
   ]
  },
  {
   "cell_type": "code",
   "execution_count": 19,
   "metadata": {
    "collapsed": true
   },
   "outputs": [],
   "source": [
    "data1, data1_test = train_test_split(data, train_size=0.51, random_state=19)\n",
    "data2, data2_test = train_test_split(data_test, train_size=0.51, random_state=19)"
   ]
  },
  {
   "cell_type": "code",
   "execution_count": 22,
   "metadata": {
    "collapsed": false
   },
   "outputs": [],
   "source": [
    "import numpy\n",
    "features_origin = numpy.concatenate(features.values())"
   ]
  },
  {
   "cell_type": "code",
   "execution_count": 24,
   "metadata": {
    "collapsed": false
   },
   "outputs": [
    {
     "data": {
      "text/plain": [
       "60"
      ]
     },
     "execution_count": 24,
     "metadata": {},
     "output_type": "execute_result"
    }
   ],
   "source": [
    "len(features_origin)"
   ]
  },
  {
   "cell_type": "code",
   "execution_count": 43,
   "metadata": {
    "collapsed": true
   },
   "outputs": [],
   "source": [
    "from decisiontrain import DecisionTrainClassifier\n",
    "from rep.estimators import SklearnClassifier"
   ]
  },
  {
   "cell_type": "code",
   "execution_count": 45,
   "metadata": {
    "collapsed": false
   },
   "outputs": [
    {
     "name": "stdout",
     "output_type": "stream",
     "text": [
      "CPU times: user 16min 32s, sys: 6.49 s, total: 16min 39s\n",
      "Wall time: 3min 26s\n"
     ]
    }
   ],
   "source": [
    "%%time\n",
    "d_train = pandas.concat([data1, data2])\n",
    "d_train_label = numpy.array([0] * len(data1) + [1] * len(data2))\n",
    "dt_particles = {}\n",
    "for label, name in labels_names_correspondence.items():\n",
    "    dt = SklearnClassifier(DecisionTrainClassifier(n_estimators=1000, learning_rate=0.05, n_threads=8),\n",
    "                           features=features_origin)\n",
    "    mask = d_train.Signal.values == label\n",
    "    dt.fit(d_train[mask], d_train_label[mask])\n",
    "    dt_particles[label] = dt"
   ]
  },
  {
   "cell_type": "code",
   "execution_count": 46,
   "metadata": {
    "collapsed": true
   },
   "outputs": [],
   "source": [
    "d_test = pandas.concat([data1_test, data2_test])\n",
    "d_test_label = numpy.array([0] * len(data1_test) + [1] * len(data2_test))"
   ]
  },
  {
   "cell_type": "code",
   "execution_count": 48,
   "metadata": {
    "collapsed": false
   },
   "outputs": [],
   "source": [
    "reports = {}\n",
    "from sklearn.metrics import roc_auc_score\n",
    "for label, name in labels_names_correspondence.items():\n",
    "    mask = d_test.Signal.values == label\n",
    "    reports[label] = dt_particles[label].test_on(d_test[mask], d_test_label[mask])"
   ]
  },
  {
   "cell_type": "code",
   "execution_count": 52,
   "metadata": {
    "collapsed": false
   },
   "outputs": [
    {
     "data": {
      "image/png": "[encoded data removed]",
      "text/plain": [
       "<matplotlib.figure.Figure at 0x7f01a8ec5890>"
      ]
     },
     "metadata": {},
     "output_type": "display_data"
    }
   ],
   "source": [
    "from rep.report.metrics import RocAuc\n",
    "figure(figsize=(22, 3))\n",
    "for label, name in labels_names_correspondence.items(): \n",
    "    subplot(1, 6, label + 1)\n",
    "    lc = reports[label].learning_curve(RocAuc(), steps=1)\n",
    "    lc.plot()\n",
    "    legend([name])"
   ]
  }
 ],
 "metadata": {
  "kernelspec": {
   "display_name": "Python 2",
   "language": "python",
   "name": "python2"
  },
  "language_info": {
   "codemirror_mode": {
    "name": "ipython",
    "version": 2
   },
   "file_extension": ".py",
   "mimetype": "text/x-python",
   "name": "python",
   "nbconvert_exporter": "python",
   "pygments_lexer": "ipython2",
   "version": "2.7.11"
  }
 },
 "nbformat": 4,
 "nbformat_minor": 0
}
