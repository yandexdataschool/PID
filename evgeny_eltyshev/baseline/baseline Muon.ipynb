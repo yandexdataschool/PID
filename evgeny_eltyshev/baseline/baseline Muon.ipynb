{
 "cells": [
  {
   "cell_type": "code",
   "execution_count": 1,
   "metadata": {
    "collapsed": false
   },
   "outputs": [],
   "source": [
    "import numpy as np\n",
    "import pandas as pd\n",
    "import matplotlib.pyplot as plt\n",
    "import xgboost as xgb\n",
    "import os\n",
    "%matplotlib inline"
   ]
  },
  {
   "cell_type": "code",
   "execution_count": 2,
   "metadata": {
    "collapsed": false
   },
   "outputs": [
    {
     "name": "stdout",
     "output_type": "stream",
     "text": [
      "(120000, 77)\n",
      "(100000, 77)\n"
     ]
    }
   ],
   "source": [
    "train = pd.read_csv('/notebooks/data/samples_for_comparison/sample_train.csv')\n",
    "eval = pd.read_csv('/notebooks/data/samples_for_comparison/sample_test.csv')\n",
    "\n",
    "part_codes = {'Ghost':0, 'Electron':11, 'Muon':13, 'Pion':211, 'Kaon':321, 'Proton':2212}\n",
    "\n",
    "train_types = np.abs(train['MCParticleType'])\n",
    "eval_types = np.abs(eval['MCParticleType'])\n",
    "\n",
    "mc_features = ['Unnamed: 0', 'HasMC', 'MCParticleType', 'MCParticleP', 'MCParticlePt', 'MCVirtualMass', \n",
    "               'MCFromB', 'MCFromD', 'MCVertexType', 'MCVertexX', 'MCVertexY', 'MCVertexZ', \n",
    "               'piplus_OWNPV_X', 'piplus_OWNPV_Y', 'piplus_OWNPV_Z', 'piplus_OWNPV_XERR', \n",
    "               'piplus_OWNPV_YERR', 'piplus_OWNPV_ZERR', 'piplus_OWNPV_CHI2', 'piplus_OWNPV_NDOF', \n",
    "               'piplus_IP_OWNPV', 'piplus_IPCHI2_OWNPV', 'nCandidate', 'totCandidates', 'EventInSequence', \n",
    "               'TrackHistory', 'TrackType', 'RecoPIDcode']\n",
    "\n",
    "constant_features = ['TrackMatchChi2', 'TrackCloneDist', 'RichUsedAero']\n",
    "\n",
    "train.drop(mc_features + constant_features, axis=1, inplace=1)\n",
    "train.drop('Unnamed: 0.1', axis=1, inplace=1)\n",
    "eval.drop(mc_features + constant_features, axis=1, inplace=1)\n",
    "print train.shape\n",
    "print eval.shape"
   ]
  },
  {
   "cell_type": "code",
   "execution_count": 3,
   "metadata": {
    "collapsed": false
   },
   "outputs": [],
   "source": [
    "config_path = '/notebooks/data/configs/networks/TMVA-Run2-NoTkLikCDVelodEdx/'\n",
    "def get_features_for(part_type):\n",
    "    config_file_name = 'GlobalPID_{0}_Long_ANN.txt'.format(part_type)\n",
    "    config = np.loadtxt(os.path.join(config_path, config_file_name), dtype='S', comments='#')\n",
    "    return config[5:]"
   ]
  },
  {
   "cell_type": "code",
   "execution_count": 4,
   "metadata": {
    "collapsed": false
   },
   "outputs": [],
   "source": [
    "import cPickle as pickle\n",
    "from rep.estimators.tmva import TMVAClassifier\n",
    "\n",
    "main_class = 'Muon'\n",
    "labels = (train_types == part_codes[main_class]).astype(int)\n",
    "features = get_features_for(main_class)\n",
    "\n",
    "tmva_kmlp = TMVAClassifier(method='kMLP',\n",
    "                       factory_options=\"V:!Silent:!Color:!DrawProgressBar\",\n",
    "                       features=features,\n",
    "                       H='true',\n",
    "                       V='true',\n",
    "                       EpochMonitoring='true',\n",
    "                       HiddenLayers=int(1.2*len(features)),                       \n",
    "                       UseRegulator='true',\n",
    "                       ConvergenceImprove = \"1e-16\",\n",
    "                       ConvergenceTests = \"15\",\n",
    "                       VarTransform = \"Norm\",\n",
    "                       NCycles = 50,\n",
    "                       NeuronType = \"sigmoid\",\n",
    "                       TrainingMethod = \"BP\",\n",
    "                       EstimatorType = \"CE\")\n",
    "# tmva_kmlp.fit(train, labels)\n",
    "\n",
    "# with open('models/{0}-{1}.pkl'.format('kMLP', main_class), 'wb') as out:\n",
    "#     pickle.dump(tmva_kmlp, out, 2)"
   ]
  },
  {
   "cell_type": "code",
   "execution_count": 6,
   "metadata": {
    "collapsed": false
   },
   "outputs": [],
   "source": [
    "labels = (train_types == part_codes[main_class]).astype(int)\n",
    "tmva_kbdt = TMVAClassifier(method='kBDT', \n",
    "    factory_options=\"V:!Silent:!Color:!DrawProgressBar\",\n",
    "    features=features, \n",
    "    H='false', \n",
    "    V='true', \n",
    "    NTrees=50, \n",
    "    VarTransform = \"Norm\", \n",
    "    BoostType = \"AdaBoost\", \n",
    "    PruneMethod = \"CostComplexity\", \n",
    "    PruneStrength = -1, \n",
    "    MaxDepth = 3, \n",
    "    PruningValFraction = 0.3)\n",
    "tmva_kbdt.fit(train, labels)\n",
    "\n",
    "with open('models/{0}-{1}.pkl'.format('kBDT', main_class), 'wb') as out:\n",
    "    pickle.dump(tmva_kbdt, out, 2)"
   ]
  },
  {
   "cell_type": "code",
   "execution_count": null,
   "metadata": {
    "collapsed": true
   },
   "outputs": [],
   "source": []
  }
 ],
 "metadata": {
  "kernelspec": {
   "display_name": "Python 2",
   "language": "python",
   "name": "python2"
  },
  "language_info": {
   "codemirror_mode": {
    "name": "ipython",
    "version": 2
   },
   "file_extension": ".py",
   "mimetype": "text/x-python",
   "name": "python",
   "nbconvert_exporter": "python",
   "pygments_lexer": "ipython2",
   "version": "2.7.10"
  }
 },
 "nbformat": 4,
 "nbformat_minor": 0
}
