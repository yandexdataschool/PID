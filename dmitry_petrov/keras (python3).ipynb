{
 "cells": [
  {
   "cell_type": "code",
   "execution_count": 1,
   "metadata": {
    "collapsed": false
   },
   "outputs": [
    {
     "name": "stderr",
     "output_type": "stream",
     "text": [
      "Using gpu device 0: GeForce GTX 860M (CNMeM is enabled)\n"
     ]
    }
   ],
   "source": [
    "import numpy as np\n",
    "import matplotlib.pyplot as plt\n",
    "%matplotlib inline\n",
    "import pandas as pd\n",
    "#from rep.estimators import TMVAClassifier\n",
    "from sklearn.calibration import CalibratedClassifierCV\n",
    "from sklearn.cross_validation import train_test_split\n",
    "from sklearn.ensemble import AdaBoostClassifier, BaggingClassifier, RandomForestClassifier\n",
    "from sklearn.feature_selection import VarianceThreshold\n",
    "from sklearn.grid_search import GridSearchCV\n",
    "from sklearn.metrics import roc_curve, roc_auc_score\n",
    "#from sklearn.neural_network import MLPClassifier\n",
    "from sklearn.pipeline import Pipeline\n",
    "from xgboost import XGBClassifier\n",
    "import theano"
   ]
  },
  {
   "cell_type": "code",
   "execution_count": 2,
   "metadata": {
    "collapsed": true
   },
   "outputs": [],
   "source": [
    "def compare_rocs(clf_dict, data_dict, \n",
    "                 loc_title = 'ROC comparison for electron data', \n",
    "                 color_dict=None,\n",
    "                 size = (8,8)):\n",
    "    keys = list(clf_dict.keys())\n",
    "    results_dict = {}\n",
    "    \n",
    "    if not color_dict:\n",
    "        colors = plt.cm.rainbow(np.linspace(0,1,len(keys)))\n",
    "        color_dict = {}\n",
    "        for key, color in zip(keys, colors):\n",
    "            color_dict[key] = color \n",
    "            \n",
    "    plt.figure(figsize=size)\n",
    "    for key in keys:\n",
    "        cur_results = dict.fromkeys(['ROC_curve', 'ROC_AUC'])\n",
    "        cur_clf = clf_dict[key]\n",
    "        print('Fitting {0:}.'.format(key))\n",
    "        cur_clf.fit(data_dict['train'][features], data_dict['train_labels'])\n",
    "        cur_probs = cur_clf.predict_proba(data_dict['test'][features])\n",
    "        cur_auc = roc_auc_score(data_dict['test_labels'], cur_probs[:, 1])\n",
    "        cur_results['ROC_AUC'] = cur_auc\n",
    "        fpr, tpr, _ = roc_curve(data_dict['test_labels'], cur_probs[:, 1])\n",
    "        cur_results['ROC_curve'] = fpr, tpr\n",
    "        results_dict[key] = cur_results\n",
    "\n",
    "        plt.plot(fpr, tpr, color=color_dict[key], label = key + \" AUC = %.3f\" % cur_results['ROC_AUC'])\n",
    "    \n",
    "    \n",
    "    plt.title(loc_title)\n",
    "    plt.xlabel(\"FPR\")\n",
    "    plt.ylabel(\"TPR\")\n",
    "    plt.legend(loc=4)\n",
    "    plt.show()\n",
    "    \n",
    "    return results_dict"
   ]
  },
  {
   "cell_type": "code",
   "execution_count": 3,
   "metadata": {
    "collapsed": true
   },
   "outputs": [],
   "source": [
    "data_folder = 'data/MC12/TrainMixture/' + \\\n",
    "'TrainAllTks-EvalAllTks-NoReweight/GhostAccFrac1.0/TMVA-NoPreSels-NoGECs/Electron/Upstream/'\n",
    "\n",
    "data_folder = 'data/MC12/TrainMixture/' + \\\n",
    "'test/GhostAccFrac1.0/TMVA-NoPreSels-NoGECs/Electron/Upstream/'\n",
    "\n",
    "signal_file = 'data_train_signal.csv'\n",
    "background_file = 'data_train_bkg.csv'\n",
    "data_signal = pd.read_csv(data_folder + signal_file, index_col=0)\n",
    "data_bkg = pd.read_csv(data_folder + background_file, index_col=0)\n",
    "features = np.genfromtxt(data_folder + 'train_features.txt', dtype='str')"
   ]
  },
  {
   "cell_type": "code",
   "execution_count": 4,
   "metadata": {
    "collapsed": true
   },
   "outputs": [],
   "source": [
    "data_train_signal, data_test_signal = train_test_split(data_signal, test_size=0.3, random_state=42)\n",
    "data_train_bkg, data_test_bkg = train_test_split(data_bkg, test_size=0.3, random_state=42)\n",
    "\n",
    "\n",
    "train_data = pd.concat([data_train_signal, data_train_bkg], axis=0)\n",
    "train_labels = np.concatenate((np.ones(len(data_train_signal)), np.zeros(len(data_train_bkg))), axis=0)\n",
    "\n",
    "test_data = pd.concat([data_test_signal, data_test_bkg], axis=0)\n",
    "test_labels = np.concatenate((np.ones(len(data_test_signal)), np.zeros(len(data_test_bkg))), axis=0)\n",
    "\n",
    "sample_weight = np.concatenate((np.ones(len(data_train_signal)),\n",
    "                                   1 * np.ones(len(data_train_bkg))), axis=0)"
   ]
  },
  {
   "cell_type": "code",
   "execution_count": 5,
   "metadata": {
    "collapsed": true
   },
   "outputs": [],
   "source": [
    "features = train_data[features].columns[(train_data[features].var(skipna=False) != 0)]"
   ]
  },
  {
   "cell_type": "code",
   "execution_count": 6,
   "metadata": {
    "collapsed": true
   },
   "outputs": [],
   "source": [
    "my_clfs = {}\n",
    "\n",
    "xgb_params = {'base_score': 0.5,\n",
    " 'colsample_bytree': 0.6,\n",
    " 'gamma': 0,\n",
    " 'learning_rate': 0.03,\n",
    " 'max_depth': 3,\n",
    " 'n_estimators': 800,\n",
    " 'nthread': 8,\n",
    " 'objective': 'binary:logistic',\n",
    " 'seed': 0,\n",
    " 'silent': True,\n",
    " 'subsample': 0.5}\n",
    "\n",
    "my_clfs['XGB'] = XGBClassifier(**xgb_params )\n",
    "\n",
    "ada_params = {'algorithm': 'SAMME.R',\n",
    " 'base_estimator': None,\n",
    " 'learning_rate': 0.3,\n",
    " 'n_estimators': 800,\n",
    " 'random_state': 0}\n",
    "\n",
    "my_clfs['AdaBoost'] = AdaBoostClassifier(**ada_params)\n",
    "\n",
    "rf_params = {'class_weight': None,\n",
    " 'criterion': 'gini',\n",
    " 'max_depth': 15,\n",
    " 'max_features': 0.5,\n",
    " 'min_samples_leaf': 1,\n",
    " 'min_samples_split': 2,\n",
    " 'min_weight_fraction_leaf': 0.0,\n",
    " 'n_estimators': 800,\n",
    " 'n_jobs': 8,\n",
    " 'random_state': 0}\n",
    "\n",
    "my_clfs['RF'] = RandomForestClassifier(**rf_params)\n",
    "#my_clfs['Bagged XGB'] = BaggingClassifier(base_estimator=my_clfs['XGB'])\n",
    "\n",
    "data_el = {}\n",
    "data_el['train'] = train_data\n",
    "data_el['train_labels'] = train_labels\n",
    "data_el['test'] = test_data\n",
    "data_el['test_labels'] = test_labels\n",
    "data_el['features'] = features"
   ]
  },
  {
   "cell_type": "code",
   "execution_count": 7,
   "metadata": {
    "collapsed": false
   },
   "outputs": [
    {
     "name": "stdout",
     "output_type": "stream",
     "text": [
      "Fitting XGB.\n",
      "Fitting RF.\n",
      "Fitting AdaBoost.\n"
     ]
    },
    {
     "data": {
      "image/png": "[encoded data removed]",
      "text/plain": [
       "<matplotlib.figure.Figure at 0x7f2d62406400>"
      ]
     },
     "metadata": {},
     "output_type": "display_data"
    }
   ],
   "source": [
    "a = compare_rocs(my_clfs, data_el, size=(10,10))"
   ]
  },
  {
   "cell_type": "code",
   "execution_count": 74,
   "metadata": {
    "collapsed": false
   },
   "outputs": [
    {
     "name": "stdout",
     "output_type": "stream",
     "text": [
      "Train on 11199 samples, validate on 2800 samples\n",
      "Epoch 1/100\n",
      "Epoch 2/100\n",
      "Epoch 3/100\n",
      "Epoch 4/100\n",
      "Epoch 5/100\n",
      "Epoch 6/100\n",
      "Epoch 7/100\n",
      "Epoch 8/100\n",
      "Epoch 9/100\n",
      "Epoch 10/100\n",
      "Epoch 11/100\n",
      "Epoch 12/100\n",
      "Epoch 13/100\n",
      "Epoch 14/100\n",
      "Epoch 15/100\n",
      "Epoch 16/100\n",
      "Epoch 17/100\n",
      "Epoch 18/100\n",
      "Epoch 19/100\n",
      "Epoch 20/100\n",
      "Epoch 21/100\n",
      "Epoch 22/100\n",
      "Epoch 23/100\n",
      "Epoch 24/100\n",
      "Epoch 25/100\n",
      "Epoch 26/100\n",
      "Epoch 27/100\n",
      "Epoch 28/100\n",
      "Epoch 29/100\n",
      "Epoch 30/100\n",
      "Epoch 31/100\n",
      "Epoch 32/100\n",
      "Epoch 33/100\n",
      "Epoch 34/100\n",
      "Epoch 35/100\n",
      "Epoch 36/100\n",
      "Epoch 37/100\n",
      "Epoch 38/100\n",
      "Epoch 39/100\n",
      "Epoch 40/100\n",
      "Epoch 41/100\n",
      "Epoch 42/100\n",
      "Epoch 43/100\n",
      "Epoch 44/100\n",
      "Epoch 45/100\n",
      "Epoch 46/100\n",
      "Epoch 47/100\n",
      "Epoch 48/100\n",
      "Epoch 49/100\n",
      "Epoch 50/100\n",
      "Epoch 51/100\n",
      "Epoch 52/100\n",
      "Epoch 53/100\n",
      "Epoch 54/100\n",
      "Epoch 55/100\n",
      "Epoch 56/100\n",
      "Epoch 57/100\n",
      "Epoch 58/100\n",
      "Epoch 59/100\n",
      "Epoch 60/100\n",
      "Epoch 61/100\n",
      "Epoch 62/100\n",
      "Epoch 63/100\n",
      "Epoch 64/100\n",
      "Epoch 65/100\n",
      "Epoch 66/100\n",
      "Epoch 67/100\n",
      "Epoch 68/100\n",
      "Epoch 69/100\n",
      "Epoch 70/100\n",
      "Epoch 71/100\n",
      "Epoch 72/100\n",
      "Epoch 73/100\n",
      "Epoch 74/100\n",
      "Epoch 75/100\n",
      "Epoch 76/100\n",
      "Epoch 77/100\n",
      "Epoch 78/100\n",
      "Epoch 79/100\n",
      "Epoch 80/100\n",
      "Epoch 81/100\n",
      "Epoch 82/100\n",
      "Epoch 83/100\n",
      "Epoch 84/100\n",
      "Epoch 85/100\n",
      "Epoch 86/100\n",
      "Epoch 87/100\n",
      "Epoch 88/100\n",
      "Epoch 89/100\n",
      "Epoch 90/100\n",
      "Epoch 91/100\n",
      "Epoch 92/100\n",
      "Epoch 93/100\n",
      "Epoch 94/100\n",
      "Epoch 95/100\n",
      "Epoch 96/100\n",
      "Epoch 97/100\n",
      "Epoch 98/100\n",
      "Epoch 99/100\n",
      "Epoch 100/100\n"
     ]
    },
    {
     "data": {
      "text/plain": [
       "<keras.callbacks.History at 0x7f2d073b42b0>"
      ]
     },
     "execution_count": 74,
     "metadata": {},
     "output_type": "execute_result"
    }
   ],
   "source": [
    "np.random.seed(1337)  # for reproducibility\n",
    "\n",
    "from keras.models import Sequential\n",
    "from keras.layers.core import Dense, Dropout, Activation\n",
    "from keras.optimizers import SGD, Adam, RMSprop\n",
    "from keras.utils import np_utils\n",
    "from sklearn.preprocessing import MinMaxScaler\n",
    "\n",
    "batch_size = 64\n",
    "nb_classes = 2\n",
    "nb_epoch = 100\n",
    "feats = data_el['features']\n",
    "input_0 = len(feats)\n",
    "units = 50\n",
    "drop = 0.05\n",
    "thres = 10000\n",
    "\n",
    "MMS = MinMaxScaler()\n",
    "\n",
    "# the data, shuffled and split between tran and test sets\n",
    "\n",
    "X_train, y_train = MMS.fit_transform(data_el['train'][feats]), data_el['train_labels']\n",
    "X_test, y_test = MMS.fit_transform(data_el['test'][feats]), data_el['test_labels'] \n",
    "data_el['features'] = features\n",
    "\n",
    "# convert class vectors to binary class matrices\n",
    "Y_train = np_utils.to_categorical(y_train, nb_classes)\n",
    "Y_test = np_utils.to_categorical(y_test, nb_classes)\n",
    "\n",
    "model = Sequential()\n",
    "model.add(Dense(units, input_shape=(input_0,)))\n",
    "model.add(Activation('relu'))\n",
    "model.add(Dropout(drop))\n",
    "model.add(Dense(units))\n",
    "model.add(Activation('relu'))\n",
    "model.add(Dropout(drop))\n",
    "model.add(Dense(units, init='he_normal', activation='tanh'))\n",
    "#model.add(Activation('relu'))\n",
    "model.add(Dropout(drop))\n",
    "model.add(Dense(units))\n",
    "model.add(Activation('relu'))\n",
    "model.add(Dropout(drop))\n",
    "model.add(Dense(nb_classes))\n",
    "model.add(Activation('softmax'))\n",
    "\n",
    "rms = RMSprop()\n",
    "model.compile(loss='categorical_crossentropy', optimizer=rms)\n",
    "\n",
    "model.fit(X_train, Y_train,\n",
    "          batch_size=batch_size, nb_epoch=nb_epoch, shuffle = True,\n",
    "          show_accuracy=True, verbose=4, validation_split = 0.20)\n",
    "          #validation_data=(X_train[thres:], Y_train[thres:]))\n",
    "#score = model.evaluate(X_test, Y_test,\n",
    "#                       show_accuracy=True, verbose=0)\n",
    "#print 'Test score:', score[0]\n",
    "#print 'Test accuracy:', score[1]"
   ]
  },
  {
   "cell_type": "code",
   "execution_count": 76,
   "metadata": {
    "collapsed": false
   },
   "outputs": [
    {
     "name": "stdout",
     "output_type": "stream",
     "text": [
      "6001/6001 [==============================] - 0s     \n"
     ]
    },
    {
     "data": {
      "image/png": "[encoded data removed]",
      "text/plain": [
       "<matplotlib.figure.Figure at 0x7f2d06c46f28>"
      ]
     },
     "metadata": {},
     "output_type": "display_data"
    }
   ],
   "source": [
    "prob_bdt = model.predict_proba(X_test)\n",
    "\n",
    "roc_auc = roc_auc_score(test_labels, prob_bdt[:, 1])\n",
    "fpr, tpr, _ = roc_curve(test_labels, prob_bdt[:, 1])\n",
    "\n",
    "plt.plot(fpr, tpr)\n",
    "plt.title(\"ROC AUC = %.2f\" % roc_auc)\n",
    "plt.xlabel(\"FPR\")\n",
    "plt.ylabel(\"TPR\")\n",
    "plt.show()"
   ]
  },
  {
   "cell_type": "code",
   "execution_count": null,
   "metadata": {
    "collapsed": false
   },
   "outputs": [],
   "source": []
  },
  {
   "cell_type": "code",
   "execution_count": null,
   "metadata": {
    "collapsed": true
   },
   "outputs": [],
   "source": []
  }
 ],
 "metadata": {
  "kernelspec": {
   "display_name": "Python 3",
   "language": "python",
   "name": "python3"
  },
  "language_info": {
   "codemirror_mode": {
    "name": "ipython",
    "version": 3
   },
   "file_extension": ".py",
   "mimetype": "text/x-python",
   "name": "python",
   "nbconvert_exporter": "python",
   "pygments_lexer": "ipython3",
   "version": "3.5.1"
  }
 },
 "nbformat": 4,
 "nbformat_minor": 0
}
